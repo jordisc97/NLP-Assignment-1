{
 "cells": [
  {
   "cell_type": "code",
   "execution_count": 41,
   "metadata": {},
   "outputs": [],
   "source": [
    "import pandas as pd\n",
    "import scipy\n",
    "from sklearn import *\n",
    "from matplotlib import pyplot as plt\n",
    "from SimpleCountVectorizer import *\n",
    "from sklearn.metrics import log_loss"
   ]
  },
  {
   "cell_type": "markdown",
   "metadata": {},
   "source": [
    "# Count Vectorizer"
   ]
  },
  {
   "cell_type": "code",
   "execution_count": 42,
   "metadata": {},
   "outputs": [],
   "source": [
    "train_df = pd.read_csv(\"C:/Users/toti/OneDrive/Jordi/.Master - Data Science UB/2nd SEMESTER/Natural Language Processing/course2020-master/quora-question-pairs/input/train.csv\")\n",
    "\n",
    "train_df, test_df = sklearn.model_selection.train_test_split(train_df, test_size=0.1, random_state=123)"
   ]
  },
  {
   "cell_type": "code",
   "execution_count": 43,
   "metadata": {},
   "outputs": [
    {
     "data": {
      "text/plain": [
       "((363861, 6), (40429, 6))"
      ]
     },
     "execution_count": 43,
     "metadata": {},
     "output_type": "execute_result"
    }
   ],
   "source": [
    "train_df.shape, test_df.shape"
   ]
  },
  {
   "cell_type": "code",
   "execution_count": 44,
   "metadata": {},
   "outputs": [],
   "source": [
    "def cast_list_as_strings(mylist):\n",
    "    \"\"\"\n",
    "    return a list of strings\n",
    "    \"\"\"\n",
    "    assert isinstance(mylist, list), f\"the input mylist should be a list it is {type(mylist)}\"\n",
    "    \n",
    "    # return list(map(lambda x: str(x), all_questions)) # Slower\n",
    "    return [str(s) for s in mylist]"
   ]
  },
  {
   "cell_type": "code",
   "execution_count": 45,
   "metadata": {},
   "outputs": [
    {
     "name": "stdout",
     "output_type": "stream",
     "text": [
      "{'str'}\n"
     ]
    }
   ],
   "source": [
    "all_questions = cast_list_as_strings(list(train_df.loc[:, 'question1'])+list(train_df.loc[:, 'question2']))\n",
    "print(set(type(x).__name__ for x in all_questions))"
   ]
  },
  {
   "cell_type": "code",
   "execution_count": 46,
   "metadata": {},
   "outputs": [
    {
     "data": {
      "application/vnd.jupyter.widget-view+json": {
       "model_id": "f838854866d64eee92ff7eefe7adda56",
       "version_major": 2,
       "version_minor": 0
      },
      "text/plain": [
       "HBox(children=(IntProgress(value=0, max=727722), HTML(value='')))"
      ]
     },
     "metadata": {},
     "output_type": "display_data"
    },
    {
     "name": "stdout",
     "output_type": "stream",
     "text": [
      "\n"
     ]
    },
    {
     "data": {
      "text/plain": [
       "SimpleCountVectorizer(doc_cleaner_func=None, doc_cleaner_pattern='[^a-zA-Z]',\n",
       "           dtype=<class 'numpy.float32'>, min_word_counts=1,\n",
       "           token_pattern='(?u)\\\\b\\\\w\\\\w+\\\\b', tokenizer_func=None,\n",
       "           word_transformer_func=None)"
      ]
     },
     "execution_count": 46,
     "metadata": {},
     "output_type": "execute_result"
    }
   ],
   "source": [
    "count_vect = SimpleCountVectorizer()\n",
    "count_vect.fit(all_questions)"
   ]
  },
  {
   "cell_type": "code",
   "execution_count": 47,
   "metadata": {},
   "outputs": [],
   "source": [
    "def get_features_from_df(df, count_vectorizer):\n",
    "    \"\"\"\n",
    "    returns a sparse matrix containing the features build by the count vectorizer.\n",
    "    Each row should contain features from question1 and question2.\n",
    "    \"\"\"\n",
    "    q1_casted =  cast_list_as_strings(list(df[\"question1\"]))\n",
    "    q2_casted =  cast_list_as_strings(list(df[\"question2\"]))\n",
    "        \n",
    "    q1 = count_vectorizer.transform(q1_casted)\n",
    "    q2 = count_vectorizer.transform(q2_casted)\n",
    "    \n",
    "    X_q1q2 = scipy.sparse.hstack((q1,q2))\n",
    "        \n",
    "    return X_q1q2"
   ]
  },
  {
   "cell_type": "code",
   "execution_count": 48,
   "metadata": {},
   "outputs": [
    {
     "data": {
      "text/plain": [
       "((363861, 151608), (363861, 6), (40429, 6), (40429, 151608))"
      ]
     },
     "execution_count": 48,
     "metadata": {},
     "output_type": "execute_result"
    }
   ],
   "source": [
    "X_tr_q1q2 = get_features_from_df(train_df,count_vect)\n",
    "X_te_q1q2  = get_features_from_df(test_df, count_vect)\n",
    "\n",
    "X_tr_q1q2.shape, train_df.shape, test_df.shape, X_te_q1q2.shape"
   ]
  },
  {
   "cell_type": "code",
   "execution_count": 49,
   "metadata": {},
   "outputs": [
    {
     "data": {
      "text/plain": [
       "363861"
      ]
     },
     "execution_count": 49,
     "metadata": {},
     "output_type": "execute_result"
    }
   ],
   "source": [
    "y_train = train_df[\"is_duplicate\"].values\n",
    "y_test = test_df[\"is_duplicate\"].values\n",
    "len(y_train)"
   ]
  },
  {
   "cell_type": "code",
   "execution_count": 50,
   "metadata": {},
   "outputs": [],
   "source": [
    "def get_mistakes(clf, df, X_q1q2, y):\n",
    "\n",
    "    predictions = clf.predict(X_q1q2)    \n",
    "    incorrect_predictions = predictions!=y\n",
    "    incorrect_indices = np.where(incorrect_predictions)[0]\n",
    "    \n",
    "    if np.sum(incorrect_predictions)==0:\n",
    "        print(\"no mistakes in this df\")\n",
    "    else:\n",
    "        return incorrect_indices, predictions\n",
    "    \n",
    "def print_mistake_k(k, mistake_indices, predictions):\n",
    "    print(train_df.iloc[mistake_indices[k]].question1)\n",
    "    print(train_df.iloc[mistake_indices[k]].question2)\n",
    "    print(\"true class:\", train_df.iloc[mistake_indices[k]].is_duplicate)\n",
    "    print(\"prediction:\", predictions[mistake_indices[k]])\n",
    "    \n",
    "def print_mistake_k_and_tokens(k, mistake_indices, predictions,\n",
    "                               X_q1q2, count_vect, clf):\n",
    "    q1 = train_df.iloc[mistake_indices[k]].question1\n",
    "    q2 = train_df.iloc[mistake_indices[k]].question2\n",
    "    \n",
    "    print(q1)\n",
    "    print(sorted(count_vect.tokenize(q1)))\n",
    "    print(\"\")\n",
    "    print(q2)\n",
    "    print(sorted(count_vect.tokenize(q2)))\n",
    "    print(\"\")\n",
    "    print(\"true class:\", train_df.iloc[mistake_indices[k]].is_duplicate)\n",
    "    print(\"prediction:\", predictions[mistake_indices[k]])\n",
    "    print(\"\")\n",
    "    print(\"Probability vector: [P(0|x), P(1|x)]:\")\n",
    "    print(clf.predict_proba(X_q1q2)[mistake_indices[k],:])\n"
   ]
  },
  {
   "cell_type": "markdown",
   "metadata": {},
   "source": [
    "### Xgboost"
   ]
  },
  {
   "cell_type": "code",
   "execution_count": 75,
   "metadata": {},
   "outputs": [],
   "source": [
    "import xgboost as xgb\n",
    "from sklearn.model_selection import GridSearchCV\n",
    "from sklearn.metrics import accuracy_score\n",
    "\n",
    "\n",
    "def xgboost(X_train,y_train,X_test,y_test, estimations = 200):\n",
    "    param_grid = {}\n",
    "    param_grid['objective'] = 'binary:logistic'\n",
    "    param_grid['eval_metric'] = ['auc', 'logloss']   #error: (wrong cases)/#(all cases)\n",
    "    param_grid['eta'] = 0.02\n",
    "    param_grid['max_depth'] = 4\n",
    "    param_grid['n_estimators'] = estimations\n",
    "\n",
    "    d_train = xgb.DMatrix(X_train, label=y_train)  # For sparse matrices\n",
    "    d_valid = xgb.DMatrix(X_test, label=y_test)\n",
    "\n",
    "    watchlist = [(d_train, 'train'), (d_valid, 'valid')]\n",
    "\n",
    "    bst = xgb.train(param_grid, d_train, estimations, watchlist, early_stopping_rounds=50, verbose_eval=10)\n"
   ]
  },
  {
   "cell_type": "code",
   "execution_count": 76,
   "metadata": {},
   "outputs": [
    {
     "name": "stdout",
     "output_type": "stream",
     "text": [
      "[0]\ttrain-auc:0.55805\ttrain-logloss:0.691318\tvalid-auc:0.55655\tvalid-logloss:0.691109\n",
      "Multiple eval metrics have been passed: 'valid-logloss' will be used for early stopping.\n",
      "\n",
      "Will train until valid-logloss hasn't improved in 50 rounds.\n",
      "[10]\ttrain-auc:0.598556\ttrain-logloss:0.674358\tvalid-auc:0.595084\tvalid-logloss:0.67481\n",
      "[20]\ttrain-auc:0.626518\ttrain-logloss:0.662253\tvalid-auc:0.624797\tvalid-logloss:0.663211\n",
      "[30]\ttrain-auc:0.650257\ttrain-logloss:0.65358\tvalid-auc:0.647793\tvalid-logloss:0.654325\n",
      "[40]\ttrain-auc:0.667297\ttrain-logloss:0.646349\tvalid-auc:0.664155\tvalid-logloss:0.647338\n",
      "[50]\ttrain-auc:0.675683\ttrain-logloss:0.640345\tvalid-auc:0.672579\tvalid-logloss:0.641705\n",
      "[60]\ttrain-auc:0.68092\ttrain-logloss:0.635421\tvalid-auc:0.678256\tvalid-logloss:0.636863\n",
      "[70]\ttrain-auc:0.68846\ttrain-logloss:0.631581\tvalid-auc:0.686049\tvalid-logloss:0.633213\n",
      "[80]\ttrain-auc:0.693108\ttrain-logloss:0.628203\tvalid-auc:0.690821\tvalid-logloss:0.629853\n",
      "[90]\ttrain-auc:0.698018\ttrain-logloss:0.625086\tvalid-auc:0.695625\tvalid-logloss:0.626913\n",
      "[100]\ttrain-auc:0.703128\ttrain-logloss:0.622544\tvalid-auc:0.700702\tvalid-logloss:0.624467\n",
      "[110]\ttrain-auc:0.70631\ttrain-logloss:0.620278\tvalid-auc:0.703966\tvalid-logloss:0.622234\n",
      "[120]\ttrain-auc:0.709542\ttrain-logloss:0.618181\tvalid-auc:0.707289\tvalid-logloss:0.620116\n",
      "[130]\ttrain-auc:0.712069\ttrain-logloss:0.616117\tvalid-auc:0.709856\tvalid-logloss:0.61809\n",
      "[140]\ttrain-auc:0.714258\ttrain-logloss:0.614018\tvalid-auc:0.712023\tvalid-logloss:0.616044\n",
      "[150]\ttrain-auc:0.717005\ttrain-logloss:0.612251\tvalid-auc:0.714742\tvalid-logloss:0.614278\n",
      "[160]\ttrain-auc:0.718977\ttrain-logloss:0.610382\tvalid-auc:0.716706\tvalid-logloss:0.61241\n",
      "[170]\ttrain-auc:0.721376\ttrain-logloss:0.608744\tvalid-auc:0.718946\tvalid-logloss:0.610845\n",
      "[180]\ttrain-auc:0.723292\ttrain-logloss:0.607152\tvalid-auc:0.720969\tvalid-logloss:0.609275\n",
      "[190]\ttrain-auc:0.726026\ttrain-logloss:0.605673\tvalid-auc:0.72382\tvalid-logloss:0.607835\n",
      "[199]\ttrain-auc:0.727105\ttrain-logloss:0.604347\tvalid-auc:0.724838\tvalid-logloss:0.60647\n"
     ]
    }
   ],
   "source": [
    "xgboost(X_tr_q1q2,y_train,X_te_q1q2,y_test)"
   ]
  },
  {
   "cell_type": "code",
   "execution_count": null,
   "metadata": {},
   "outputs": [],
   "source": [
    "# mistake_indices, predictions = get_mistakes(xgb,train_df, X_tr_q1q2, y_train)"
   ]
  },
  {
   "cell_type": "markdown",
   "metadata": {},
   "source": [
    "### Logistic"
   ]
  },
  {
   "cell_type": "code",
   "execution_count": 25,
   "metadata": {},
   "outputs": [],
   "source": [
    "logistic = sklearn.linear_model.LogisticRegression(solver=\"liblinear\")\n",
    "logistic.fit(X_tr_q1q2, y_train)"
   ]
  },
  {
   "cell_type": "code",
   "execution_count": 40,
   "metadata": {},
   "outputs": [
    {
     "name": "stdout",
     "output_type": "stream",
     "text": [
      "Valid-logloss: 8.573087287445738\n"
     ]
    }
   ],
   "source": [
    "pred_X_te_q1q2 = logistic.predict(X_te_q1q2)\n",
    "logloss = log_loss(pred_X_te_q1q2, y_test)\n",
    "print('Valid-logloss:', logloss)"
   ]
  },
  {
   "cell_type": "code",
   "execution_count": 28,
   "metadata": {},
   "outputs": [],
   "source": [
    "mistake_indices, predictions = get_mistakes(logistic,train_df, X_tr_q1q2, y_train)"
   ]
  },
  {
   "cell_type": "code",
   "execution_count": 13,
   "metadata": {},
   "outputs": [
    {
     "name": "stdout",
     "output_type": "stream",
     "text": [
      "What are the best places to visit in or near Juneau, Alaska?\n",
      "What are the best places to visit in Alaska and why?\n",
      "true class: 0\n",
      "prediction: 1\n"
     ]
    }
   ],
   "source": [
    "print_mistake_k(0, mistake_indices, predictions)"
   ]
  },
  {
   "cell_type": "code",
   "execution_count": 14,
   "metadata": {},
   "outputs": [
    {
     "name": "stdout",
     "output_type": "stream",
     "text": [
      "Why do men like women's feet?\n",
      "['do', 'feet', 'like', 'men', 'why', 'women']\n",
      "\n",
      "Why do men like womens feet?\n",
      "['do', 'feet', 'like', 'men', 'why', 'womens']\n",
      "\n",
      "true class: 1\n",
      "prediction: 0\n",
      "\n",
      "Probability vector: [P(0|x), P(1|x)]:\n",
      "[0.55506132 0.44493868]\n"
     ]
    }
   ],
   "source": [
    "print_mistake_k_and_tokens(10, mistake_indices, predictions,\n",
    "                           X_tr_q1q2, count_vect, logistic)"
   ]
  },
  {
   "cell_type": "markdown",
   "metadata": {},
   "source": [
    "# TFIDF"
   ]
  },
  {
   "cell_type": "code",
   "execution_count": null,
   "metadata": {},
   "outputs": [],
   "source": []
  }
 ],
 "metadata": {
  "kernelspec": {
   "display_name": "Python 3",
   "language": "python",
   "name": "python3"
  },
  "language_info": {
   "codemirror_mode": {
    "name": "ipython",
    "version": 3
   },
   "file_extension": ".py",
   "mimetype": "text/x-python",
   "name": "python",
   "nbconvert_exporter": "python",
   "pygments_lexer": "ipython3",
   "version": "3.7.2"
  },
  "toc": {
   "base_numbering": 1,
   "nav_menu": {},
   "number_sections": true,
   "sideBar": true,
   "skip_h1_title": false,
   "title_cell": "Table of Contents",
   "title_sidebar": "Contents",
   "toc_cell": false,
   "toc_position": {},
   "toc_section_display": true,
   "toc_window_display": false
  }
 },
 "nbformat": 4,
 "nbformat_minor": 2
}
