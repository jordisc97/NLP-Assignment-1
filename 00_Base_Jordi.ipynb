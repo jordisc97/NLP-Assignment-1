{
 "cells": [
  {
   "cell_type": "code",
   "execution_count": 3,
   "metadata": {},
   "outputs": [],
   "source": [
    "import pandas as pd\n",
    "import scipy\n",
    "from sklearn import *\n",
    "from matplotlib import pyplot as plt\n",
    "from SimpleCountVectorizer import *\n",
    "from sklearn.metrics import log_loss"
   ]
  },
  {
   "cell_type": "markdown",
   "metadata": {},
   "source": [
    "# Count Vectorizer"
   ]
  },
  {
   "cell_type": "code",
   "execution_count": 4,
   "metadata": {},
   "outputs": [],
   "source": [
    "train_df = pd.read_csv(\"./data/quora_train_data.csv\")\n",
    "test_df = pd.read_csv('./data/quora_test_data.csv')\n",
    "\n",
    "train_df, test_df = sklearn.model_selection.train_test_split(train_df, test_size=0.1, random_state=123)"
   ]
  },
  {
   "cell_type": "code",
   "execution_count": 5,
   "metadata": {},
   "outputs": [
    {
     "data": {
      "text/plain": [
       "((291088, 6), (32344, 6))"
      ]
     },
     "execution_count": 5,
     "metadata": {},
     "output_type": "execute_result"
    }
   ],
   "source": [
    "train_df.shape, test_df.shape"
   ]
  },
  {
   "cell_type": "code",
   "execution_count": 6,
   "metadata": {},
   "outputs": [],
   "source": [
    "train_df['question1'] = train_df['question1'].str.lower()\n",
    "train_df['question2'] = train_df['question2'].str.lower()"
   ]
  },
  {
   "cell_type": "code",
   "execution_count": 7,
   "metadata": {},
   "outputs": [],
   "source": [
    "def cast_list_as_strings(mylist):\n",
    "    \"\"\"\n",
    "    return a list of strings\n",
    "    \"\"\"\n",
    "    assert isinstance(mylist, list), f\"the input mylist should be a list it is {type(mylist)}\"\n",
    "    \n",
    "    # return list(map(lambda x: str(x), all_questions)) # Slower\n",
    "    return [str(s) for s in mylist]"
   ]
  },
  {
   "cell_type": "code",
   "execution_count": 8,
   "metadata": {},
   "outputs": [
    {
     "name": "stdout",
     "output_type": "stream",
     "text": [
      "{'str'}\n"
     ]
    }
   ],
   "source": [
    "all_questions = cast_list_as_strings(list(train_df.loc[:, 'question1'])+list(train_df.loc[:, 'question2']))\n",
    "print(set(type(x).__name__ for x in all_questions))"
   ]
  },
  {
   "cell_type": "code",
   "execution_count": 9,
   "metadata": {},
   "outputs": [
    {
     "data": {
      "application/vnd.jupyter.widget-view+json": {
       "model_id": "7dd38932ee0449c9b67cd54cdab13253",
       "version_major": 2,
       "version_minor": 0
      },
      "text/plain": [
       "HBox(children=(IntProgress(value=0, max=582176), HTML(value='')))"
      ]
     },
     "metadata": {},
     "output_type": "display_data"
    },
    {
     "name": "stdout",
     "output_type": "stream",
     "text": [
      "\n"
     ]
    },
    {
     "data": {
      "text/plain": [
       "SimpleCountVectorizer(doc_cleaner_func=None, doc_cleaner_pattern='[^a-zA-Z]',\n",
       "           dtype=<class 'numpy.float32'>, min_word_counts=1,\n",
       "           token_pattern='(?u)\\\\b\\\\w\\\\w+\\\\b', tokenizer_func=None,\n",
       "           word_transformer_func=None)"
      ]
     },
     "execution_count": 9,
     "metadata": {},
     "output_type": "execute_result"
    }
   ],
   "source": [
    "count_vect = SimpleCountVectorizer()\n",
    "count_vect.fit(all_questions)"
   ]
  },
  {
   "cell_type": "code",
   "execution_count": 10,
   "metadata": {},
   "outputs": [],
   "source": [
    "def get_features_from_df(df, count_vectorizer):\n",
    "    \"\"\"\n",
    "    returns a sparse matrix containing the features build by the count vectorizer.\n",
    "    Each row should contain features from question1 and question2.\n",
    "    \"\"\"\n",
    "    q1_casted =  cast_list_as_strings(list(df[\"question1\"]))\n",
    "    q2_casted =  cast_list_as_strings(list(df[\"question2\"]))\n",
    "        \n",
    "    q1 = count_vectorizer.transform(q1_casted)\n",
    "    q2 = count_vectorizer.transform(q2_casted)\n",
    "    \n",
    "    X_q1q2 = scipy.sparse.hstack((q1,q2))\n",
    "        \n",
    "    return X_q1q2"
   ]
  },
  {
   "cell_type": "code",
   "execution_count": 11,
   "metadata": {},
   "outputs": [
    {
     "data": {
      "text/plain": [
       "((291088, 137980), (291088, 6), (32344, 6), (32344, 137980))"
      ]
     },
     "execution_count": 11,
     "metadata": {},
     "output_type": "execute_result"
    }
   ],
   "source": [
    "X_tr_q1q2 = get_features_from_df(train_df,count_vect)\n",
    "X_te_q1q2  = get_features_from_df(test_df, count_vect)\n",
    "\n",
    "X_tr_q1q2.shape, train_df.shape, test_df.shape, X_te_q1q2.shape"
   ]
  },
  {
   "cell_type": "code",
   "execution_count": 12,
   "metadata": {},
   "outputs": [
    {
     "data": {
      "text/plain": [
       "291088"
      ]
     },
     "execution_count": 12,
     "metadata": {},
     "output_type": "execute_result"
    }
   ],
   "source": [
    "y_train = train_df[\"is_duplicate\"].values\n",
    "y_test = test_df[\"is_duplicate\"].values\n",
    "len(y_train)"
   ]
  },
  {
   "cell_type": "code",
   "execution_count": 16,
   "metadata": {},
   "outputs": [],
   "source": [
    "def get_mistakes(clf, df, X_q1q2, y):\n",
    "\n",
    "    predictions = clf.predict(X_q1q2) \n",
    "    predictions = np.where(predictions > 0.5, 1, 0)\n",
    "    incorrect_predictions = predictions!=y\n",
    "    incorrect_indices = np.where(incorrect_predictions)[0]\n",
    "    \n",
    "    if np.sum(incorrect_predictions)==0:\n",
    "        print(\"no mistakes in this df\")\n",
    "    else:\n",
    "        return incorrect_indices, predictions\n",
    "    \n",
    "def print_mistake_k(k, mistake_indices, predictions):\n",
    "    print(train_df.iloc[mistake_indices[k]].question1)\n",
    "    print(train_df.iloc[mistake_indices[k]].question2)\n",
    "    print(\"true class:\", train_df.iloc[mistake_indices[k]].is_duplicate)\n",
    "    print(\"prediction:\", predictions[mistake_indices[k]])\n",
    "    \n",
    "def print_mistake_k_and_tokens(k, mistake_indices, predictions,\n",
    "                               X_q1q2, count_vect, clf):\n",
    "    q1 = train_df.iloc[mistake_indices[k]].question1\n",
    "    q2 = train_df.iloc[mistake_indices[k]].question2\n",
    "    \n",
    "    print(q1)\n",
    "    print(sorted(count_vect.tokenize(q1)))\n",
    "    print(\"\")\n",
    "    print(q2)\n",
    "    print(sorted(count_vect.tokenize(q2)))\n",
    "    print(\"\")\n",
    "    print(\"true class:\", train_df.iloc[mistake_indices[k]].is_duplicate)\n",
    "    print(\"prediction:\", predictions[mistake_indices[k]])\n",
    "    print(\"\")\n",
    "    print(\"Probability vector: [P(0|x), P(1|x)]:\")\n",
    "    print(clf.predict_proba(X_q1q2)[mistake_indices[k],:])\n"
   ]
  },
  {
   "cell_type": "markdown",
   "metadata": {},
   "source": [
    "### Xgboost"
   ]
  },
  {
   "cell_type": "code",
   "execution_count": 14,
   "metadata": {},
   "outputs": [
    {
     "name": "stdout",
     "output_type": "stream",
     "text": [
      "[0]\ttrain-auc:0.657194\ttrain-logloss:0.690061\tvalid-auc:0.655265\tvalid-logloss:0.689945\n",
      "Multiple eval metrics have been passed: 'valid-logloss' will be used for early stopping.\n",
      "\n",
      "Will train until valid-logloss hasn't improved in 50 rounds.\n",
      "[10]\ttrain-auc:0.694794\ttrain-logloss:0.662862\tvalid-auc:0.691599\tvalid-logloss:0.663203\n",
      "[20]\ttrain-auc:0.704856\ttrain-logloss:0.643386\tvalid-auc:0.700445\tvalid-logloss:0.644192\n",
      "[30]\ttrain-auc:0.719499\ttrain-logloss:0.629066\tvalid-auc:0.714197\tvalid-logloss:0.630226\n",
      "[40]\ttrain-auc:0.732403\ttrain-logloss:0.617887\tvalid-auc:0.726269\tvalid-logloss:0.619557\n",
      "[50]\ttrain-auc:0.741775\ttrain-logloss:0.608835\tvalid-auc:0.734113\tvalid-logloss:0.611128\n",
      "[60]\ttrain-auc:0.747557\ttrain-logloss:0.601413\tvalid-auc:0.738342\tvalid-logloss:0.604305\n",
      "[70]\ttrain-auc:0.756862\ttrain-logloss:0.59459\tvalid-auc:0.746733\tvalid-logloss:0.598045\n",
      "[80]\ttrain-auc:0.762882\ttrain-logloss:0.588814\tvalid-auc:0.752278\tvalid-logloss:0.592735\n",
      "[90]\ttrain-auc:0.767703\ttrain-logloss:0.58338\tvalid-auc:0.756764\tvalid-logloss:0.587752\n",
      "[100]\ttrain-auc:0.772393\ttrain-logloss:0.578186\tvalid-auc:0.760752\tvalid-logloss:0.583033\n",
      "[110]\ttrain-auc:0.77671\ttrain-logloss:0.573953\tvalid-auc:0.764657\tvalid-logloss:0.579153\n",
      "[120]\ttrain-auc:0.779966\ttrain-logloss:0.570023\tvalid-auc:0.767491\tvalid-logloss:0.575629\n",
      "[130]\ttrain-auc:0.784025\ttrain-logloss:0.566081\tvalid-auc:0.771067\tvalid-logloss:0.572042\n",
      "[140]\ttrain-auc:0.787587\ttrain-logloss:0.562658\tvalid-auc:0.774371\tvalid-logloss:0.568955\n",
      "[150]\ttrain-auc:0.790791\ttrain-logloss:0.559518\tvalid-auc:0.777192\tvalid-logloss:0.56613\n",
      "[160]\ttrain-auc:0.79378\ttrain-logloss:0.556609\tvalid-auc:0.779851\tvalid-logloss:0.563527\n",
      "[170]\ttrain-auc:0.796498\ttrain-logloss:0.553482\tvalid-auc:0.782059\tvalid-logloss:0.560792\n",
      "[180]\ttrain-auc:0.798883\ttrain-logloss:0.550914\tvalid-auc:0.784122\tvalid-logloss:0.558483\n",
      "[190]\ttrain-auc:0.800757\ttrain-logloss:0.548594\tvalid-auc:0.785761\tvalid-logloss:0.556432\n",
      "[199]\ttrain-auc:0.802859\ttrain-logloss:0.546541\tvalid-auc:0.787583\tvalid-logloss:0.554585\n"
     ]
    }
   ],
   "source": [
    "import xgboost as xgb\n",
    "from sklearn.model_selection import GridSearchCV\n",
    "from sklearn.metrics import accuracy_score\n",
    "\n",
    "param_grid = {}\n",
    "param_grid['objective'] = 'binary:logistic'\n",
    "param_grid['eval_metric'] = ['auc', 'logloss']   #error: (wrong cases)/#(all cases)\n",
    "param_grid['eta'] = 0.02\n",
    "param_grid['max_depth'] = 10\n",
    "param_grid['n_estimators'] = 200\n",
    "\n",
    "d_train = xgb.DMatrix(X_tr_q1q2, label=y_train)  # For sparse matrices\n",
    "d_valid = xgb.DMatrix(X_te_q1q2, label=y_test)\n",
    "\n",
    "watchlist = [(d_train, 'train'), (d_valid, 'valid')]\n",
    "\n",
    "bst = xgb.train(param_grid, d_train, 200, watchlist, early_stopping_rounds=50, verbose_eval=10, )\n",
    "#200 # train-auc:0.725745\ttrain-logloss:0.604877\tvalid-auc:0.722053\tvalid-logloss:0.605704"
   ]
  },
  {
   "cell_type": "code",
   "execution_count": 17,
   "metadata": {
    "scrolled": true
   },
   "outputs": [
    {
     "name": "stdout",
     "output_type": "stream",
     "text": [
      "what are the main problems of india?\n",
      "what is the main problem faced by india?\n",
      "true class: 1\n",
      "prediction: 0\n"
     ]
    }
   ],
   "source": [
    "mistake_indices, predictions = get_mistakes(bst, train_df, d_train, y_train)\n",
    "print_mistake_k(1, mistake_indices, predictions)"
   ]
  },
  {
   "cell_type": "code",
   "execution_count": 19,
   "metadata": {},
   "outputs": [
    {
     "name": "stdout",
     "output_type": "stream",
     "text": [
      "what is your favorite halloween costume for 2015?\n",
      "['costume', 'favorite', 'for', 'halloween', 'is', 'what', 'your']\n",
      "\n",
      "what was your favorite halloween costume, and why?\n",
      "['and', 'costume', 'favorite', 'halloween', 'was', 'what', 'why', 'your']\n",
      "\n",
      "true class: 0\n",
      "prediction: 1\n",
      "\n",
      "Probability vector: [P(0|x), P(1|x)]:\n"
     ]
    },
    {
     "ename": "AttributeError",
     "evalue": "'Booster' object has no attribute 'predict_proba'",
     "output_type": "error",
     "traceback": [
      "\u001b[1;31m---------------------------------------------------------------------------\u001b[0m",
      "\u001b[1;31mAttributeError\u001b[0m                            Traceback (most recent call last)",
      "\u001b[1;32m<ipython-input-19-bbf05ee4395d>\u001b[0m in \u001b[0;36m<module>\u001b[1;34m\u001b[0m\n\u001b[0;32m      1\u001b[0m print_mistake_k_and_tokens(10, mistake_indices, predictions,\n\u001b[1;32m----> 2\u001b[1;33m                            X_tr_q1q2, count_vect, bst)\n\u001b[0m",
      "\u001b[1;32m<ipython-input-16-ff2fc8b1751a>\u001b[0m in \u001b[0;36mprint_mistake_k_and_tokens\u001b[1;34m(k, mistake_indices, predictions, X_q1q2, count_vect, clf)\u001b[0m\n\u001b[0;32m     32\u001b[0m     \u001b[0mprint\u001b[0m\u001b[1;33m(\u001b[0m\u001b[1;34m\"\"\u001b[0m\u001b[1;33m)\u001b[0m\u001b[1;33m\u001b[0m\u001b[1;33m\u001b[0m\u001b[0m\n\u001b[0;32m     33\u001b[0m     \u001b[0mprint\u001b[0m\u001b[1;33m(\u001b[0m\u001b[1;34m\"Probability vector: [P(0|x), P(1|x)]:\"\u001b[0m\u001b[1;33m)\u001b[0m\u001b[1;33m\u001b[0m\u001b[1;33m\u001b[0m\u001b[0m\n\u001b[1;32m---> 34\u001b[1;33m     \u001b[0mprint\u001b[0m\u001b[1;33m(\u001b[0m\u001b[0mclf\u001b[0m\u001b[1;33m.\u001b[0m\u001b[0mpredict_proba\u001b[0m\u001b[1;33m(\u001b[0m\u001b[0mX_q1q2\u001b[0m\u001b[1;33m)\u001b[0m\u001b[1;33m[\u001b[0m\u001b[0mmistake_indices\u001b[0m\u001b[1;33m[\u001b[0m\u001b[0mk\u001b[0m\u001b[1;33m]\u001b[0m\u001b[1;33m,\u001b[0m\u001b[1;33m:\u001b[0m\u001b[1;33m]\u001b[0m\u001b[1;33m)\u001b[0m\u001b[1;33m\u001b[0m\u001b[1;33m\u001b[0m\u001b[0m\n\u001b[0m",
      "\u001b[1;31mAttributeError\u001b[0m: 'Booster' object has no attribute 'predict_proba'"
     ]
    }
   ],
   "source": [
    "print_mistake_k_and_tokens(10, mistake_indices, predictions,\n",
    "                           X_tr_q1q2, count_vect, bst)"
   ]
  },
  {
   "cell_type": "markdown",
   "metadata": {},
   "source": [
    "### GradientBoostingClassifier\n",
    "+ No funciona con matrices sparse. Warning, peta el ordenador."
   ]
  },
  {
   "cell_type": "code",
   "execution_count": null,
   "metadata": {},
   "outputs": [],
   "source": [
    "# from sklearn.ensemble import GradientBoostingClassifier\n",
    "\n",
    "# parameters = {\n",
    "#     \"loss\":[\"deviance\"],\n",
    "#     'n_estimators':[32, 100],\n",
    "#     \"learning_rate\": [0.010, 0.05, 0.1],\n",
    "# #     \"max_depth\":[8,10,12, 15, 18, 20, 25],\n",
    "# #     \"max_features\":[8, 12, 14, 15, 18, 20, 25, 30, 35],\n",
    "# #     \"criterion\": [\"friedman_mse\",  \"mae\"],\n",
    "# #     \"subsample\":[0.5, 0.618, 0.8, 0.85, 0.9, 0.95, 1.0],\n",
    "#     }\n",
    "\n",
    "# clf_gradboost2 = GridSearchCV(GradientBoostingClassifier(), parameters, cv=5, n_jobs=-1, verbose=1, scoring='accuracy')\n",
    "# clf_gradboost2.fit(X_tr_q1q2, y_train)\n",
    "\n",
    "# print(\"Best parameters found: \",clf_gradboost2.best_params_)\n",
    "# print(\"Accuracy score (training): {0:.3f}\".format(clf_gradboost2.score(X_tr_q1q2, y_train)))\n",
    "# print(\"Accuracy score (validation): {0:.3f}\".format(clf_gradboost2.score(X_te_q1q2,y_test)))"
   ]
  },
  {
   "cell_type": "markdown",
   "metadata": {},
   "source": [
    "### Logistic"
   ]
  },
  {
   "cell_type": "code",
   "execution_count": 48,
   "metadata": {},
   "outputs": [
    {
     "data": {
      "text/plain": [
       "LogisticRegression(C=1.0, class_weight=None, dual=False, fit_intercept=True,\n",
       "          intercept_scaling=1, max_iter=100, multi_class='warn',\n",
       "          n_jobs=None, penalty='l2', random_state=None, solver='liblinear',\n",
       "          tol=0.0001, verbose=0, warm_start=False)"
      ]
     },
     "execution_count": 48,
     "metadata": {},
     "output_type": "execute_result"
    }
   ],
   "source": [
    "logistic = sklearn.linear_model.LogisticRegression(solver=\"liblinear\")\n",
    "logistic.fit(X_tr_q1q2, y_train)"
   ]
  },
  {
   "cell_type": "code",
   "execution_count": 49,
   "metadata": {},
   "outputs": [
    {
     "name": "stdout",
     "output_type": "stream",
     "text": [
      "Valid-logloss: 8.501325433826551\n"
     ]
    }
   ],
   "source": [
    "pred_X_te_q1q2 = logistic.predict(X_te_q1q2)\n",
    "logloss = log_loss(pred_X_te_q1q2, y_test)\n",
    "print('Valid-logloss:', logloss)\n",
    "# Valid-logloss: 8.501325433826551"
   ]
  },
  {
   "cell_type": "code",
   "execution_count": 50,
   "metadata": {},
   "outputs": [],
   "source": [
    "mistake_indices, predictions = get_mistakes(logistic,train_df, X_tr_q1q2, y_train)"
   ]
  },
  {
   "cell_type": "code",
   "execution_count": 51,
   "metadata": {},
   "outputs": [
    {
     "name": "stdout",
     "output_type": "stream",
     "text": [
      "is an all-out nuclear war survivable?\n",
      "would all out nuclear war destroy all life on earth?\n",
      "true class: 1\n",
      "prediction: 0\n"
     ]
    }
   ],
   "source": [
    "print_mistake_k(1, mistake_indices, predictions)"
   ]
  },
  {
   "cell_type": "code",
   "execution_count": 52,
   "metadata": {},
   "outputs": [
    {
     "name": "stdout",
     "output_type": "stream",
     "text": [
      "can i hack any phone by just having his phone number?\n",
      "['any', 'by', 'can', 'hack', 'having', 'his', 'just', 'number', 'phone', 'phone']\n",
      "\n",
      "can someone hack into your iphone just by knowing your phone number?\n",
      "['by', 'can', 'hack', 'into', 'iphone', 'just', 'knowing', 'number', 'phone', 'someone', 'your', 'your']\n",
      "\n",
      "true class: 1\n",
      "prediction: 0\n",
      "\n",
      "Probability vector: [P(0|x), P(1|x)]:\n",
      "[0.29346835 0.70653165]\n"
     ]
    }
   ],
   "source": [
    "print_mistake_k_and_tokens(10, mistake_indices, predictions,\n",
    "                           X_tr_q1q2, count_vect, logistic)"
   ]
  },
  {
   "cell_type": "markdown",
   "metadata": {},
   "source": [
    "# TFIDF"
   ]
  },
  {
   "cell_type": "code",
   "execution_count": null,
   "metadata": {},
   "outputs": [],
   "source": []
  }
 ],
 "metadata": {
  "kernelspec": {
   "display_name": "Python 3",
   "language": "python",
   "name": "python3"
  },
  "language_info": {
   "codemirror_mode": {
    "name": "ipython",
    "version": 3
   },
   "file_extension": ".py",
   "mimetype": "text/x-python",
   "name": "python",
   "nbconvert_exporter": "python",
   "pygments_lexer": "ipython3",
   "version": "3.7.2"
  },
  "toc": {
   "base_numbering": 1,
   "nav_menu": {},
   "number_sections": true,
   "sideBar": true,
   "skip_h1_title": false,
   "title_cell": "Table of Contents",
   "title_sidebar": "Contents",
   "toc_cell": false,
   "toc_position": {},
   "toc_section_display": true,
   "toc_window_display": false
  }
 },
 "nbformat": 4,
 "nbformat_minor": 2
}
