{
 "cells": [
  {
   "cell_type": "code",
   "execution_count": 1,
   "metadata": {},
   "outputs": [],
   "source": [
    "import pandas as pd\n",
    "import scipy\n",
    "from sklearn import *\n",
    "import re\n",
    "from SimpleCountVectorizer import *\n",
    "\n",
    "from nltk.stem import WordNetLemmatizer, SnowballStemmer"
   ]
  },
  {
   "cell_type": "code",
   "execution_count": 2,
   "metadata": {},
   "outputs": [
    {
     "name": "stderr",
     "output_type": "stream",
     "text": [
      "[nltk_data] Downloading package stopwords to\n",
      "[nltk_data]     C:\\Users\\perec\\AppData\\Roaming\\nltk_data...\n",
      "[nltk_data]   Package stopwords is already up-to-date!\n"
     ]
    }
   ],
   "source": [
    "import nltk\n",
    "nltk.download('stopwords')\n",
    "\n",
    "from nltk.corpus import stopwords"
   ]
  },
  {
   "cell_type": "code",
   "execution_count": 3,
   "metadata": {},
   "outputs": [],
   "source": [
    "\"\"\"Given an int32 number, print it in English.\"\"\"\n",
    "def int_to_en(num):\n",
    "    d = { 0 : 'zero', 1 : 'one', 2 : 'two', 3 : 'three', 4 : 'four', 5 : 'five',\n",
    "          6 : 'six', 7 : 'seven', 8 : 'eight', 9 : 'nine', 10 : 'ten',\n",
    "          11 : 'eleven', 12 : 'twelve', 13 : 'thirteen', 14 : 'fourteen',\n",
    "          15 : 'fifteen', 16 : 'sixteen', 17 : 'seventeen', 18 : 'eighteen',\n",
    "          19 : 'nineteen', 20 : 'twenty',\n",
    "          30 : 'thirty', 40 : 'forty', 50 : 'fifty', 60 : 'sixty',\n",
    "          70 : 'seventy', 80 : 'eighty', 90 : 'ninety' }\n",
    "    k = 1000\n",
    "    m = k * 1000\n",
    "    b = m * 1000\n",
    "    t = b * 1000\n",
    "\n",
    "    assert(0 <= num)\n",
    "\n",
    "    if (num < 20):\n",
    "        return d[num]\n",
    "\n",
    "    if (num < 100):\n",
    "        if num % 10 == 0: return d[num]\n",
    "        else: return d[num // 10 * 10] + '-' + d[num % 10]\n",
    "\n",
    "    if (num < k):\n",
    "        if num % 100 == 0: return d[num // 100] + ' hundred'\n",
    "        else: return d[num // 100] + ' hundred and ' + int_to_en(num % 100)\n",
    "\n",
    "    if (num < m):\n",
    "        if num % k == 0: return int_to_en(num // k) + ' thousand'\n",
    "        else: return int_to_en(num // k) + ' thousand, ' + int_to_en(num % k)\n",
    "\n",
    "    if (num < b):\n",
    "        if (num % m) == 0: return int_to_en(num // m) + ' million'\n",
    "        else: return int_to_en(num // m) + ' million, ' + int_to_en(num % m)\n",
    "\n",
    "    if (num < t):\n",
    "        if (num % b) == 0: return int_to_en(num // b) + ' billion'\n",
    "        else: return int_to_en(num // b) + ' billion, ' + int_to_en(num % b)\n",
    "\n",
    "    if (num % t == 0): return int_to_en(num // t) + ' trillion'\n",
    "    else: return int_to_en(num // t) + ' trillion, ' + int_to_en(num % t)\n",
    "\n",
    "    raise AssertionError('num is too large: %s' % str(num))"
   ]
  },
  {
   "cell_type": "markdown",
   "metadata": {},
   "source": [
    "# Count Vectorizer"
   ]
  },
  {
   "cell_type": "code",
   "execution_count": 4,
   "metadata": {},
   "outputs": [],
   "source": [
    "train_df = pd.read_csv(\"../course2020/data/quora_train_data.csv\")\n",
    "\n",
    "train_df, test_df = sklearn.model_selection.train_test_split(train_df, test_size=0.1, random_state=123)"
   ]
  },
  {
   "cell_type": "code",
   "execution_count": 5,
   "metadata": {},
   "outputs": [
    {
     "data": {
      "text/plain": [
       "((291088, 6), (32344, 6))"
      ]
     },
     "execution_count": 5,
     "metadata": {},
     "output_type": "execute_result"
    }
   ],
   "source": [
    "train_df.shape, test_df.shape"
   ]
  },
  {
   "cell_type": "code",
   "execution_count": 6,
   "metadata": {},
   "outputs": [
    {
     "data": {
      "text/html": [
       "<div>\n",
       "<style scoped>\n",
       "    .dataframe tbody tr th:only-of-type {\n",
       "        vertical-align: middle;\n",
       "    }\n",
       "\n",
       "    .dataframe tbody tr th {\n",
       "        vertical-align: top;\n",
       "    }\n",
       "\n",
       "    .dataframe thead th {\n",
       "        text-align: right;\n",
       "    }\n",
       "</style>\n",
       "<table border=\"1\" class=\"dataframe\">\n",
       "  <thead>\n",
       "    <tr style=\"text-align: right;\">\n",
       "      <th></th>\n",
       "      <th>id</th>\n",
       "      <th>qid1</th>\n",
       "      <th>qid2</th>\n",
       "      <th>question1</th>\n",
       "      <th>question2</th>\n",
       "      <th>is_duplicate</th>\n",
       "    </tr>\n",
       "  </thead>\n",
       "  <tbody>\n",
       "    <tr>\n",
       "      <td>311380</td>\n",
       "      <td>370141</td>\n",
       "      <td>108248</td>\n",
       "      <td>500659</td>\n",
       "      <td>How do I get home tutors?</td>\n",
       "      <td>How can I trust a home tutor?</td>\n",
       "      <td>0</td>\n",
       "    </tr>\n",
       "    <tr>\n",
       "      <td>62646</td>\n",
       "      <td>400219</td>\n",
       "      <td>349589</td>\n",
       "      <td>66001</td>\n",
       "      <td>What is the difference between 'had been', 'ha...</td>\n",
       "      <td>When should I use \"has been\", \"have been\" and ...</td>\n",
       "      <td>0</td>\n",
       "    </tr>\n",
       "    <tr>\n",
       "      <td>98055</td>\n",
       "      <td>15247</td>\n",
       "      <td>29146</td>\n",
       "      <td>29147</td>\n",
       "      <td>If my ATM card is blocked for online transacti...</td>\n",
       "      <td>My credit card was used for fraud transactions...</td>\n",
       "      <td>0</td>\n",
       "    </tr>\n",
       "    <tr>\n",
       "      <td>127437</td>\n",
       "      <td>124101</td>\n",
       "      <td>200474</td>\n",
       "      <td>42953</td>\n",
       "      <td>How do I add USB 3.0 port in a laptop without ...</td>\n",
       "      <td>Can I use a USB 3.0 device in a USB 2.0 port?</td>\n",
       "      <td>0</td>\n",
       "    </tr>\n",
       "    <tr>\n",
       "      <td>111569</td>\n",
       "      <td>1333</td>\n",
       "      <td>2657</td>\n",
       "      <td>2658</td>\n",
       "      <td>What is the best Advantage of using Quora?</td>\n",
       "      <td>What is the benefit to Quora?</td>\n",
       "      <td>1</td>\n",
       "    </tr>\n",
       "  </tbody>\n",
       "</table>\n",
       "</div>"
      ],
      "text/plain": [
       "            id    qid1    qid2  \\\n",
       "311380  370141  108248  500659   \n",
       "62646   400219  349589   66001   \n",
       "98055    15247   29146   29147   \n",
       "127437  124101  200474   42953   \n",
       "111569    1333    2657    2658   \n",
       "\n",
       "                                                question1  \\\n",
       "311380                          How do I get home tutors?   \n",
       "62646   What is the difference between 'had been', 'ha...   \n",
       "98055   If my ATM card is blocked for online transacti...   \n",
       "127437  How do I add USB 3.0 port in a laptop without ...   \n",
       "111569         What is the best Advantage of using Quora?   \n",
       "\n",
       "                                                question2  is_duplicate  \n",
       "311380                      How can I trust a home tutor?             0  \n",
       "62646   When should I use \"has been\", \"have been\" and ...             0  \n",
       "98055   My credit card was used for fraud transactions...             0  \n",
       "127437      Can I use a USB 3.0 device in a USB 2.0 port?             0  \n",
       "111569                      What is the benefit to Quora?             1  "
      ]
     },
     "execution_count": 6,
     "metadata": {},
     "output_type": "execute_result"
    }
   ],
   "source": [
    "train_df.head()"
   ]
  },
  {
   "cell_type": "code",
   "execution_count": 7,
   "metadata": {},
   "outputs": [],
   "source": [
    "def cast_list_as_strings(mylist):\n",
    "    \"\"\"\n",
    "    return a list of strings\n",
    "    \"\"\"\n",
    "    assert isinstance(mylist, list), f\"the input mylist should be a list it is {type(mylist)}\"\n",
    "    \n",
    "    # return list(map(lambda x: str(x), all_questions)) # Slower\n",
    "    return [str(s) for s in mylist]"
   ]
  },
  {
   "cell_type": "code",
   "execution_count": 8,
   "metadata": {},
   "outputs": [
    {
     "name": "stdout",
     "output_type": "stream",
     "text": [
      "{'str'}\n"
     ]
    }
   ],
   "source": [
    "all_questions = cast_list_as_strings(list(train_df.loc[:, 'question1'])+list(train_df.loc[:, 'question2']))\n",
    "print(set(type(x).__name__ for x in all_questions))"
   ]
  },
  {
   "cell_type": "code",
   "execution_count": 9,
   "metadata": {},
   "outputs": [],
   "source": [
    "# doc_cleaner_pattern=r\"[^a-zA-Z]\"\n",
    "# clean_doc_pattern = re.compile(doc_cleaner_pattern)"
   ]
  },
  {
   "cell_type": "code",
   "execution_count": 10,
   "metadata": {},
   "outputs": [],
   "source": [
    "def num_conv(s):\n",
    "    try:\n",
    "        return int_to_en(int(s)).replace(\",\",\"\").replace(\" \",\"_\")\n",
    "    except:\n",
    "        return s\n",
    "\n",
    "\n",
    "def my_doc_cleaner(doc,\n",
    "                  pat=r\"[^a-zA-Z0-9]\"):\n",
    "    # Allow alphanumeric characters\n",
    "    doc_cleaner_pattern=pat\n",
    "    clean_doc_pattern = re.compile(doc_cleaner_pattern)\n",
    "    doc_clean = clean_doc_pattern.sub(\" \", doc)\n",
    "    return doc.lower()\n",
    "\n",
    "\n",
    "# stpw = set(stopwords.words(\"english\"))\n",
    "stpw = []\n",
    "\n",
    "stemmer =  SnowballStemmer(language='english')\n",
    "lemmatizer = WordNetLemmatizer()\n",
    "\n",
    "def my_tokenizer_func(doc, \n",
    "                      ngrams=(1,3), \n",
    "                      numbers_to_words=True,\n",
    "                      stop_words=stpw,\n",
    "                      pat=r\"(?u)\\b\\w\\S*\\w*\\b\",\n",
    "                      lem=True,\n",
    "                      stem=True):\n",
    "    \n",
    "    # Split using a patterm\n",
    "#     pat=r\"(?u)\\b\\w\\w+\\b\"\n",
    "#     pat=r\"(?u)\\b\\w\\S*\\w*\\b\"\n",
    "    token_pattern = re.compile(pat)\n",
    "    lst = token_pattern.findall(doc)\n",
    "    \n",
    "    # Transform numbers into words\n",
    "    if numbers_to_words:\n",
    "        lst = list(map(lambda x: num_conv(x), lst))\n",
    "        \n",
    "    # Drop stopwords \n",
    "    lst = list(filter(lambda x : x not in stop_words, lst))\n",
    "    \n",
    "    #Stemmer\n",
    "    if stem:\n",
    "        lst = list(map(lambda x: stemmer.stem(x), lst))\n",
    "    \n",
    "    #Lemmatizer \n",
    "    if lem:\n",
    "        lst = list(map(lambda x: lemmatizer.lemmatize(x), lst))\n",
    "        \n",
    "    if ngrams==(1,1):\n",
    "        return lst\n",
    "    \n",
    "    # Generate ngrams\n",
    "    lstRet = []\n",
    "    for a in range(ngrams[0], ngrams[1]+1):\n",
    "        if a!=1:\n",
    "            lstRet+=list(zip(*[lst[i:] for i in range(a)]))\n",
    "    return lstRet if ngrams[0]!=1 else lst+lstRet"
   ]
  },
  {
   "cell_type": "code",
   "execution_count": 11,
   "metadata": {},
   "outputs": [
    {
     "data": {
      "application/vnd.jupyter.widget-view+json": {
       "model_id": "7fd8dd9828b54aac8dc69a53c0316a08",
       "version_major": 2,
       "version_minor": 0
      },
      "text/plain": [
       "HBox(children=(FloatProgress(value=0.0, max=582176.0), HTML(value='')))"
      ]
     },
     "metadata": {},
     "output_type": "display_data"
    },
    {
     "name": "stdout",
     "output_type": "stream",
     "text": [
      "\n"
     ]
    },
    {
     "data": {
      "text/plain": [
       "SimpleCountVectorizer(doc_cleaner_func=<function my_doc_cleaner at 0x000001BD02529828>,\n",
       "                      doc_cleaner_pattern='[^a-zA-Z]',\n",
       "                      dtype=<class 'numpy.float32'>, min_word_counts=1,\n",
       "                      token_pattern='(?u)\\\\b\\\\w\\\\w+\\\\b',\n",
       "                      tokenizer_func=<function my_tokenizer_func at 0x000001BD025F45E8>,\n",
       "                      word_transformer_func=None)"
      ]
     },
     "execution_count": 11,
     "metadata": {},
     "output_type": "execute_result"
    }
   ],
   "source": [
    "count_vect = SimpleCountVectorizer(\n",
    "    doc_cleaner_func=my_doc_cleaner,\n",
    "    tokenizer_func=my_tokenizer_func\n",
    ")\n",
    "count_vect.fit(all_questions)"
   ]
  },
  {
   "cell_type": "code",
   "execution_count": 12,
   "metadata": {},
   "outputs": [],
   "source": [
    "def get_features_from_df(df, count_vectorizer):\n",
    "    \"\"\"\n",
    "    returns a sparse matrix containing the features build by the count vectorizer.\n",
    "    Each row should contain features from question1 and question2.\n",
    "    \"\"\"\n",
    "    q1_casted =  cast_list_as_strings(list(df[\"question1\"]))\n",
    "    q2_casted =  cast_list_as_strings(list(df[\"question2\"]))\n",
    "        \n",
    "    q1 = count_vectorizer.transform(q1_casted)\n",
    "    q2 = count_vectorizer.transform(q2_casted)\n",
    "    \n",
    "    X_q1q2 = scipy.sparse.hstack((q1,q2))\n",
    "        \n",
    "    return X_q1q2"
   ]
  },
  {
   "cell_type": "code",
   "execution_count": 13,
   "metadata": {},
   "outputs": [
    {
     "data": {
      "text/plain": [
       "((291088, 5726648), (291088, 6), (32344, 6), (32344, 5726648))"
      ]
     },
     "execution_count": 13,
     "metadata": {},
     "output_type": "execute_result"
    }
   ],
   "source": [
    "X_tr_q1q2 = get_features_from_df(train_df,count_vect)\n",
    "X_te_q1q2  = get_features_from_df(test_df, count_vect)\n",
    "\n",
    "X_tr_q1q2.shape, train_df.shape, test_df.shape, X_te_q1q2.shape"
   ]
  },
  {
   "cell_type": "code",
   "execution_count": 14,
   "metadata": {},
   "outputs": [],
   "source": [
    "y_train = train_df[\"is_duplicate\"].values"
   ]
  },
  {
   "cell_type": "code",
   "execution_count": 15,
   "metadata": {},
   "outputs": [
    {
     "name": "stdout",
     "output_type": "stream",
     "text": [
      "[LibLinear]Wall time: 3min 3s\n"
     ]
    },
    {
     "data": {
      "text/plain": [
       "LogisticRegression(C=1.0, class_weight=None, dual=False, fit_intercept=True,\n",
       "                   intercept_scaling=1, l1_ratio=None, max_iter=100,\n",
       "                   multi_class='auto', n_jobs=None, penalty='l2',\n",
       "                   random_state=None, solver='liblinear', tol=0.0001, verbose=1,\n",
       "                   warm_start=False)"
      ]
     },
     "execution_count": 15,
     "metadata": {},
     "output_type": "execute_result"
    }
   ],
   "source": [
    "logistic = sklearn.linear_model.LogisticRegression(solver=\"liblinear\", verbose=1, max_iter=100)\n",
    "%time logistic.fit(X_tr_q1q2, y_train)"
   ]
  },
  {
   "cell_type": "code",
   "execution_count": 16,
   "metadata": {},
   "outputs": [],
   "source": [
    "def get_mistakes(clf, df, X_q1q2, y):\n",
    "\n",
    "    predictions = clf.predict(X_q1q2)    \n",
    "    incorrect_predictions = predictions!=y\n",
    "\n",
    "    incorrect_indices = np.where(incorrect_predictions)[0]\n",
    "    \n",
    "    if np.sum(incorrect_predictions)==0:\n",
    "        print(\"no mistakes in this df\")\n",
    "    else:\n",
    "        return incorrect_indices, predictions\n",
    "    \n",
    "def print_mistake_k(k, mistake_indices, predictions):\n",
    "    print(train_df.iloc[mistake_indices[k]].question1)\n",
    "    print(train_df.iloc[mistake_indices[k]].question2)\n",
    "    print(\"true class:\", train_df.iloc[mistake_indices[k]].is_duplicate)\n",
    "    print(\"prediction:\", predictions[mistake_indices[k]])\n",
    "    \n",
    "def print_mistake_k_and_tokens(k, mistake_indices, predictions,\n",
    "                               X_q1q2, count_vect, clf):\n",
    "    q1 = train_df.iloc[mistake_indices[k]].question1\n",
    "    q2 = train_df.iloc[mistake_indices[k]].question2\n",
    "    \n",
    "    print(q1)\n",
    "    print(count_vect.tokenize(q1))\n",
    "    print()\n",
    "    print(q2)\n",
    "    print(count_vect.tokenize(q2))\n",
    "    print()\n",
    "    print(\"true class:\", train_df.iloc[mistake_indices[k]].is_duplicate)\n",
    "    print(\"prediction:\", predictions[mistake_indices[k]])\n",
    "    print()\n",
    "    print(\"Probability vector: [P(0|x), P(1|x)]:\")\n",
    "    print(clf.predict_proba(X_q1q2)[mistake_indices[k],:])\n",
    "    \n",
    "    \n",
    "def hist_errors(mistake_indices, predictions,\n",
    "                               X_q1q2, count_vect, clf):\n",
    "    qs = train_df.iloc[mistake_indices][['question1', 'question2']]\n",
    "    qs['true_class']=train_df.iloc[mistake_indices].is_duplicate\n",
    "    qs['prediction']=predictions[mistake_indices]\n",
    "    qs['P(1|x)']=clf.predict_proba(X_q1q2)[mistake_indices,:][:,1]\n",
    "    qs = qs.reset_index(drop=True)\n",
    "    return qs\n"
   ]
  },
  {
   "cell_type": "code",
   "execution_count": 17,
   "metadata": {},
   "outputs": [],
   "source": [
    "mistake_indices, predictions = get_mistakes(logistic,train_df, X_tr_q1q2, y_train)"
   ]
  },
  {
   "cell_type": "code",
   "execution_count": 18,
   "metadata": {},
   "outputs": [
    {
     "data": {
      "text/plain": [
       "'There are 944/291088 (0.324%) mistakes'"
      ]
     },
     "execution_count": 18,
     "metadata": {},
     "output_type": "execute_result"
    }
   ],
   "source": [
    "\"There are {:d}/{:d} ({:5.3f}%) mistakes\".format(len(mistake_indices),len(train_df),100*len(mistake_indices)/len(train_df))"
   ]
  },
  {
   "cell_type": "code",
   "execution_count": 19,
   "metadata": {},
   "outputs": [
    {
     "name": "stdout",
     "output_type": "stream",
     "text": [
      "What is the best website to learn coding?\n",
      "Which is the best website to learn coding in java?\n",
      "true class: 0\n",
      "prediction: 1\n"
     ]
    }
   ],
   "source": [
    "print_mistake_k(0, mistake_indices, predictions)"
   ]
  },
  {
   "cell_type": "code",
   "execution_count": 20,
   "metadata": {},
   "outputs": [
    {
     "name": "stdout",
     "output_type": "stream",
     "text": [
      "What is the best website to learn coding?\n",
      "['what', 'is', 'the', 'best', 'websit', 'to', 'learn', 'code', ('what', 'is'), ('is', 'the'), ('the', 'best'), ('best', 'websit'), ('websit', 'to'), ('to', 'learn'), ('learn', 'code'), ('what', 'is', 'the'), ('is', 'the', 'best'), ('the', 'best', 'websit'), ('best', 'websit', 'to'), ('websit', 'to', 'learn'), ('to', 'learn', 'code')]\n",
      "\n",
      "Which is the best website to learn coding in java?\n",
      "['which', 'is', 'the', 'best', 'websit', 'to', 'learn', 'code', 'in', 'java', ('which', 'is'), ('is', 'the'), ('the', 'best'), ('best', 'websit'), ('websit', 'to'), ('to', 'learn'), ('learn', 'code'), ('code', 'in'), ('in', 'java'), ('which', 'is', 'the'), ('is', 'the', 'best'), ('the', 'best', 'websit'), ('best', 'websit', 'to'), ('websit', 'to', 'learn'), ('to', 'learn', 'code'), ('learn', 'code', 'in'), ('code', 'in', 'java')]\n",
      "\n",
      "true class: 0\n",
      "prediction: 1\n",
      "\n",
      "Probability vector: [P(0|x), P(1|x)]:\n",
      "[0.42311168 0.57688832]\n"
     ]
    }
   ],
   "source": [
    "print_mistake_k_and_tokens(0, mistake_indices, predictions,\n",
    "                           X_tr_q1q2, count_vect, logistic)"
   ]
  },
  {
   "cell_type": "code",
   "execution_count": 21,
   "metadata": {},
   "outputs": [
    {
     "data": {
      "text/html": [
       "<div>\n",
       "<style scoped>\n",
       "    .dataframe tbody tr th:only-of-type {\n",
       "        vertical-align: middle;\n",
       "    }\n",
       "\n",
       "    .dataframe tbody tr th {\n",
       "        vertical-align: top;\n",
       "    }\n",
       "\n",
       "    .dataframe thead th {\n",
       "        text-align: right;\n",
       "    }\n",
       "</style>\n",
       "<table border=\"1\" class=\"dataframe\">\n",
       "  <thead>\n",
       "    <tr style=\"text-align: right;\">\n",
       "      <th></th>\n",
       "      <th>question1</th>\n",
       "      <th>question2</th>\n",
       "      <th>true_class</th>\n",
       "      <th>prediction</th>\n",
       "      <th>P(1|x)</th>\n",
       "    </tr>\n",
       "  </thead>\n",
       "  <tbody>\n",
       "    <tr>\n",
       "      <td>309</td>\n",
       "      <td>What are the best ways to lose weight?</td>\n",
       "      <td>How can you lose 5 pounds in 2 weeks safely?</td>\n",
       "      <td>0</td>\n",
       "      <td>1</td>\n",
       "      <td>0.938105</td>\n",
       "    </tr>\n",
       "    <tr>\n",
       "      <td>169</td>\n",
       "      <td>How do I see who viewed my instagram videos?</td>\n",
       "      <td>Can you see who views your Instagram?</td>\n",
       "      <td>0</td>\n",
       "      <td>1</td>\n",
       "      <td>0.927462</td>\n",
       "    </tr>\n",
       "    <tr>\n",
       "      <td>783</td>\n",
       "      <td>Where and how can I find best hotel in Bhopal?</td>\n",
       "      <td>Where can I find best hotel in Bhopal?</td>\n",
       "      <td>0</td>\n",
       "      <td>1</td>\n",
       "      <td>0.899584</td>\n",
       "    </tr>\n",
       "    <tr>\n",
       "      <td>219</td>\n",
       "      <td>How do I find a good programmer?</td>\n",
       "      <td>How can I be a good programmer?</td>\n",
       "      <td>0</td>\n",
       "      <td>1</td>\n",
       "      <td>0.883261</td>\n",
       "    </tr>\n",
       "    <tr>\n",
       "      <td>636</td>\n",
       "      <td>How can I gain weight in a healthy way?</td>\n",
       "      <td>What are the best way to gain weight?</td>\n",
       "      <td>0</td>\n",
       "      <td>1</td>\n",
       "      <td>0.881951</td>\n",
       "    </tr>\n",
       "    <tr>\n",
       "      <td>...</td>\n",
       "      <td>...</td>\n",
       "      <td>...</td>\n",
       "      <td>...</td>\n",
       "      <td>...</td>\n",
       "      <td>...</td>\n",
       "    </tr>\n",
       "    <tr>\n",
       "      <td>336</td>\n",
       "      <td>Which are the best and worst Bollywood movies ...</td>\n",
       "      <td>Which is the best and worst Bollywood movie of...</td>\n",
       "      <td>1</td>\n",
       "      <td>0</td>\n",
       "      <td>0.216166</td>\n",
       "    </tr>\n",
       "    <tr>\n",
       "      <td>295</td>\n",
       "      <td>Why did you become a data scientist?</td>\n",
       "      <td>How did you become a Data Scientist?</td>\n",
       "      <td>1</td>\n",
       "      <td>0</td>\n",
       "      <td>0.201066</td>\n",
       "    </tr>\n",
       "    <tr>\n",
       "      <td>178</td>\n",
       "      <td>Should I become a graphic designer?</td>\n",
       "      <td>Should I be a graphic designer?</td>\n",
       "      <td>1</td>\n",
       "      <td>0</td>\n",
       "      <td>0.194377</td>\n",
       "    </tr>\n",
       "    <tr>\n",
       "      <td>349</td>\n",
       "      <td>Why should I not vote for Donald Trump?</td>\n",
       "      <td>Why shouldn't I vote for Donald Trump?</td>\n",
       "      <td>1</td>\n",
       "      <td>0</td>\n",
       "      <td>0.187295</td>\n",
       "    </tr>\n",
       "    <tr>\n",
       "      <td>931</td>\n",
       "      <td>What does * mean?</td>\n",
       "      <td>What does: * mean?</td>\n",
       "      <td>1</td>\n",
       "      <td>0</td>\n",
       "      <td>0.098675</td>\n",
       "    </tr>\n",
       "  </tbody>\n",
       "</table>\n",
       "<p>944 rows × 5 columns</p>\n",
       "</div>"
      ],
      "text/plain": [
       "                                             question1  \\\n",
       "309             What are the best ways to lose weight?   \n",
       "169       How do I see who viewed my instagram videos?   \n",
       "783     Where and how can I find best hotel in Bhopal?   \n",
       "219                   How do I find a good programmer?   \n",
       "636            How can I gain weight in a healthy way?   \n",
       "..                                                 ...   \n",
       "336  Which are the best and worst Bollywood movies ...   \n",
       "295               Why did you become a data scientist?   \n",
       "178                Should I become a graphic designer?   \n",
       "349            Why should I not vote for Donald Trump?   \n",
       "931                                  What does * mean?   \n",
       "\n",
       "                                             question2  true_class  \\\n",
       "309       How can you lose 5 pounds in 2 weeks safely?           0   \n",
       "169              Can you see who views your Instagram?           0   \n",
       "783             Where can I find best hotel in Bhopal?           0   \n",
       "219                    How can I be a good programmer?           0   \n",
       "636              What are the best way to gain weight?           0   \n",
       "..                                                 ...         ...   \n",
       "336  Which is the best and worst Bollywood movie of...           1   \n",
       "295               How did you become a Data Scientist?           1   \n",
       "178                    Should I be a graphic designer?           1   \n",
       "349             Why shouldn't I vote for Donald Trump?           1   \n",
       "931                                 What does: * mean?           1   \n",
       "\n",
       "     prediction    P(1|x)  \n",
       "309           1  0.938105  \n",
       "169           1  0.927462  \n",
       "783           1  0.899584  \n",
       "219           1  0.883261  \n",
       "636           1  0.881951  \n",
       "..          ...       ...  \n",
       "336           0  0.216166  \n",
       "295           0  0.201066  \n",
       "178           0  0.194377  \n",
       "349           0  0.187295  \n",
       "931           0  0.098675  \n",
       "\n",
       "[944 rows x 5 columns]"
      ]
     },
     "execution_count": 21,
     "metadata": {},
     "output_type": "execute_result"
    }
   ],
   "source": [
    "qs = hist_errors(mistake_indices, predictions,\n",
    "                           X_tr_q1q2, count_vect, logistic)\n",
    "qs.sort_values(by='P(1|x)', ascending=False)"
   ]
  },
  {
   "cell_type": "code",
   "execution_count": null,
   "metadata": {},
   "outputs": [],
   "source": []
  },
  {
   "cell_type": "code",
   "execution_count": 24,
   "metadata": {},
   "outputs": [],
   "source": [
    "y_test = test_df[\"is_duplicate\"].values"
   ]
  },
  {
   "cell_type": "code",
   "execution_count": 25,
   "metadata": {},
   "outputs": [],
   "source": [
    "mistake_indices, predictions = get_mistakes(logistic,test_df, X_te_q1q2, y_test)"
   ]
  },
  {
   "cell_type": "code",
   "execution_count": 26,
   "metadata": {},
   "outputs": [
    {
     "data": {
      "text/plain": [
       "'There are 6166/291088 (2.118%) mistakes'"
      ]
     },
     "execution_count": 26,
     "metadata": {},
     "output_type": "execute_result"
    }
   ],
   "source": [
    "\"There are {:d}/{:d} ({:5.3f}%) mistakes\".format(len(mistake_indices),len(train_df),100*len(mistake_indices)/len(train_df))"
   ]
  },
  {
   "cell_type": "code",
   "execution_count": null,
   "metadata": {},
   "outputs": [],
   "source": []
  },
  {
   "cell_type": "code",
   "execution_count": 192,
   "metadata": {},
   "outputs": [
    {
     "data": {
      "image/png": "[encoded data removed]",
      "text/plain": [
       "<Figure size 1080x288 with 2 Axes>"
      ]
     },
     "metadata": {
      "needs_background": "light"
     },
     "output_type": "display_data"
    }
   ],
   "source": [
    "from matplotlib import pyplot as plt\n",
    "%matplotlib inline\n",
    "\n",
    "fig = plt.figure(figsize=(15,4))\n",
    "ax = fig.add_subplot(121)\n",
    "\n",
    "filt = qs.loc[qs['prediction']==0,'P(1|x)']\n",
    "ax.hist(1-filt, label='1-P(1|x)')\n",
    "ax.set_title(\"Prediction=0, True Class=1\\n{:d} Mistakes\".format(len(filt)))\n",
    "ax.set_xlabel(\"1-P(1|x)\")\n",
    "ax.set_ylabel(\"# Errors\")\n",
    "ax.legend()\n",
    "\n",
    "ax = fig.add_subplot(122)\n",
    "ax.hist(qs.loc[qs['prediction']==1,'P(1|x)'], label='P(1|x)')\n",
    "ax.set_title(\"Prediction=1, True Class=0\\n{:d} Mistakes\".format(len(qs)-len(filt)))\n",
    "ax.set_xlabel(\"P(1|x)\")\n",
    "ax.set_ylabel(\"# Errors\")\n",
    "ax.legend()\n",
    "\n",
    "plt.tight_layout()\n",
    "plt.show()"
   ]
  },
  {
   "cell_type": "markdown",
   "metadata": {},
   "source": [
    "# TFIDF"
   ]
  }
 ],
 "metadata": {
  "kernelspec": {
   "display_name": "Python 3",
   "language": "python",
   "name": "python3"
  },
  "toc": {
   "base_numbering": 1,
   "nav_menu": {},
   "number_sections": true,
   "sideBar": true,
   "skip_h1_title": false,
   "title_cell": "Table of Contents",
   "title_sidebar": "Contents",
   "toc_cell": false,
   "toc_position": {},
   "toc_section_display": true,
   "toc_window_display": false
  }
 },
 "nbformat": 4,
 "nbformat_minor": 2
}
