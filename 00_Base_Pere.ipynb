{
 "cells": [
  {
   "cell_type": "code",
   "execution_count": 1,
   "metadata": {},
   "outputs": [],
   "source": [
    "import pandas as pd\n",
    "import scipy\n",
    "from sklearn import *\n",
    "import re\n",
    "from SimpleCountVectorizer import *"
   ]
  },
  {
   "cell_type": "code",
   "execution_count": 139,
   "metadata": {},
   "outputs": [
    {
     "name": "stderr",
     "output_type": "stream",
     "text": [
      "[nltk_data] Downloading package stopwords to\n",
      "[nltk_data]     C:\\Users\\perec\\AppData\\Roaming\\nltk_data...\n",
      "[nltk_data]   Package stopwords is already up-to-date!\n"
     ]
    }
   ],
   "source": [
    "import nltk\n",
    "nltk.download('stopwords')\n",
    "\n",
    "from nltk.corpus import stopwords"
   ]
  },
  {
   "cell_type": "markdown",
   "metadata": {},
   "source": [
    "# Count Vectorizer"
   ]
  },
  {
   "cell_type": "code",
   "execution_count": 140,
   "metadata": {},
   "outputs": [],
   "source": [
    "train_df = pd.read_csv(\"../course2020/data/quora_train_data.csv\")\n",
    "\n",
    "train_df, test_df = sklearn.model_selection.train_test_split(train_df, test_size=0.1, random_state=123)"
   ]
  },
  {
   "cell_type": "code",
   "execution_count": 141,
   "metadata": {},
   "outputs": [
    {
     "data": {
      "text/plain": [
       "((291088, 6), (32344, 6))"
      ]
     },
     "execution_count": 141,
     "metadata": {},
     "output_type": "execute_result"
    }
   ],
   "source": [
    "train_df.shape, test_df.shape"
   ]
  },
  {
   "cell_type": "code",
   "execution_count": 142,
   "metadata": {},
   "outputs": [
    {
     "data": {
      "text/html": [
       "<div>\n",
       "<style scoped>\n",
       "    .dataframe tbody tr th:only-of-type {\n",
       "        vertical-align: middle;\n",
       "    }\n",
       "\n",
       "    .dataframe tbody tr th {\n",
       "        vertical-align: top;\n",
       "    }\n",
       "\n",
       "    .dataframe thead th {\n",
       "        text-align: right;\n",
       "    }\n",
       "</style>\n",
       "<table border=\"1\" class=\"dataframe\">\n",
       "  <thead>\n",
       "    <tr style=\"text-align: right;\">\n",
       "      <th></th>\n",
       "      <th>id</th>\n",
       "      <th>qid1</th>\n",
       "      <th>qid2</th>\n",
       "      <th>question1</th>\n",
       "      <th>question2</th>\n",
       "      <th>is_duplicate</th>\n",
       "    </tr>\n",
       "  </thead>\n",
       "  <tbody>\n",
       "    <tr>\n",
       "      <td>311380</td>\n",
       "      <td>370141</td>\n",
       "      <td>108248</td>\n",
       "      <td>500659</td>\n",
       "      <td>How do I get home tutors?</td>\n",
       "      <td>How can I trust a home tutor?</td>\n",
       "      <td>0</td>\n",
       "    </tr>\n",
       "    <tr>\n",
       "      <td>62646</td>\n",
       "      <td>400219</td>\n",
       "      <td>349589</td>\n",
       "      <td>66001</td>\n",
       "      <td>What is the difference between 'had been', 'ha...</td>\n",
       "      <td>When should I use \"has been\", \"have been\" and ...</td>\n",
       "      <td>0</td>\n",
       "    </tr>\n",
       "    <tr>\n",
       "      <td>98055</td>\n",
       "      <td>15247</td>\n",
       "      <td>29146</td>\n",
       "      <td>29147</td>\n",
       "      <td>If my ATM card is blocked for online transacti...</td>\n",
       "      <td>My credit card was used for fraud transactions...</td>\n",
       "      <td>0</td>\n",
       "    </tr>\n",
       "    <tr>\n",
       "      <td>127437</td>\n",
       "      <td>124101</td>\n",
       "      <td>200474</td>\n",
       "      <td>42953</td>\n",
       "      <td>How do I add USB 3.0 port in a laptop without ...</td>\n",
       "      <td>Can I use a USB 3.0 device in a USB 2.0 port?</td>\n",
       "      <td>0</td>\n",
       "    </tr>\n",
       "    <tr>\n",
       "      <td>111569</td>\n",
       "      <td>1333</td>\n",
       "      <td>2657</td>\n",
       "      <td>2658</td>\n",
       "      <td>What is the best Advantage of using Quora?</td>\n",
       "      <td>What is the benefit to Quora?</td>\n",
       "      <td>1</td>\n",
       "    </tr>\n",
       "  </tbody>\n",
       "</table>\n",
       "</div>"
      ],
      "text/plain": [
       "            id    qid1    qid2  \\\n",
       "311380  370141  108248  500659   \n",
       "62646   400219  349589   66001   \n",
       "98055    15247   29146   29147   \n",
       "127437  124101  200474   42953   \n",
       "111569    1333    2657    2658   \n",
       "\n",
       "                                                question1  \\\n",
       "311380                          How do I get home tutors?   \n",
       "62646   What is the difference between 'had been', 'ha...   \n",
       "98055   If my ATM card is blocked for online transacti...   \n",
       "127437  How do I add USB 3.0 port in a laptop without ...   \n",
       "111569         What is the best Advantage of using Quora?   \n",
       "\n",
       "                                                question2  is_duplicate  \n",
       "311380                      How can I trust a home tutor?             0  \n",
       "62646   When should I use \"has been\", \"have been\" and ...             0  \n",
       "98055   My credit card was used for fraud transactions...             0  \n",
       "127437      Can I use a USB 3.0 device in a USB 2.0 port?             0  \n",
       "111569                      What is the benefit to Quora?             1  "
      ]
     },
     "execution_count": 142,
     "metadata": {},
     "output_type": "execute_result"
    }
   ],
   "source": [
    "train_df.head()"
   ]
  },
  {
   "cell_type": "code",
   "execution_count": 143,
   "metadata": {},
   "outputs": [],
   "source": [
    "def cast_list_as_strings(mylist):\n",
    "    \"\"\"\n",
    "    return a list of strings\n",
    "    \"\"\"\n",
    "    assert isinstance(mylist, list), f\"the input mylist should be a list it is {type(mylist)}\"\n",
    "    \n",
    "    # return list(map(lambda x: str(x), all_questions)) # Slower\n",
    "    return [str(s) for s in mylist]"
   ]
  },
  {
   "cell_type": "code",
   "execution_count": 144,
   "metadata": {},
   "outputs": [
    {
     "name": "stdout",
     "output_type": "stream",
     "text": [
      "{'str'}\n"
     ]
    }
   ],
   "source": [
    "all_questions = cast_list_as_strings(list(train_df.loc[:, 'question1'])+list(train_df.loc[:, 'question2']))\n",
    "print(set(type(x).__name__ for x in all_questions))"
   ]
  },
  {
   "cell_type": "code",
   "execution_count": 145,
   "metadata": {},
   "outputs": [],
   "source": [
    "# doc_cleaner_pattern=r\"[^a-zA-Z]\"\n",
    "# clean_doc_pattern = re.compile(doc_cleaner_pattern)"
   ]
  },
  {
   "cell_type": "code",
   "execution_count": 159,
   "metadata": {},
   "outputs": [],
   "source": [
    "# def my_doc_cleaner(doc, lower=True):\n",
    "    \n",
    "#     doc_cleaner_pattern=r\"[^a-zA-Z]\"\n",
    "#     clean_doc_pattern = re.compile(doc_cleaner_pattern)\n",
    "#     doc_clean = clean_doc_pattern.sub(\" \", doc)\n",
    "#     if not lower:\n",
    "#         return doc_clean\n",
    "#     return doc_clean.lower()\n",
    "\n",
    "stop_words = set(stopwords.words(\"english\"))\n",
    "def my_tokenizer_func(doc, \n",
    "                      use_ngrams=True, ngrams=2, \n",
    "                      drop_final_s=True,\n",
    "                      remove_stopwords=True):\n",
    "    \n",
    "    # Split using a patterm\n",
    "    token_pattern=r\"(?u)\\b\\w\\w+\\b\"\n",
    "    token_pattern = re.compile(token_pattern)\n",
    "    lst = token_pattern.findall(doc)\n",
    "    \n",
    "    if remove_stopwords:\n",
    "        lst = list(filter(lambda x : x not in stop_words, lst))\n",
    "        \n",
    "    if drop_final_s:\n",
    "        lst = [w[:-1] if w[-1].lower()=='s' else w for w in lst]\n",
    "        \n",
    "    if not use_ngrams:\n",
    "        return lst\n",
    "    \n",
    "#     return list(zip(lst,*[['#']*len(lst) for _ in range(ngrams-1)]))+list(zip(*[lst[i:] for i in range(ngrams)]))\n",
    "    return lst+list(zip(*[lst[i:] for i in range(ngrams)]))"
   ]
  },
  {
   "cell_type": "code",
   "execution_count": 160,
   "metadata": {},
   "outputs": [
    {
     "data": {
      "application/vnd.jupyter.widget-view+json": {
       "model_id": "939150feea0a416da977fd8c60f77006",
       "version_major": 2,
       "version_minor": 0
      },
      "text/plain": [
       "HBox(children=(FloatProgress(value=0.0, max=582176.0), HTML(value='')))"
      ]
     },
     "metadata": {},
     "output_type": "display_data"
    },
    {
     "name": "stdout",
     "output_type": "stream",
     "text": [
      "\n"
     ]
    },
    {
     "data": {
      "text/plain": [
       "SimpleCountVectorizer(doc_cleaner_func=None, doc_cleaner_pattern='[^a-zA-Z]',\n",
       "                      dtype=<class 'numpy.float32'>, min_word_counts=1,\n",
       "                      token_pattern='(?u)\\\\b\\\\w\\\\w+\\\\b',\n",
       "                      tokenizer_func=<function my_tokenizer_func at 0x000001FAC7059948>,\n",
       "                      word_transformer_func=None)"
      ]
     },
     "execution_count": 160,
     "metadata": {},
     "output_type": "execute_result"
    }
   ],
   "source": [
    "count_vect = SimpleCountVectorizer(\n",
    "#     doc_cleaner_func=my_doc_cleaner,\n",
    "    tokenizer_func=my_tokenizer_func\n",
    ")\n",
    "count_vect.fit(all_questions)"
   ]
  },
  {
   "cell_type": "code",
   "execution_count": 161,
   "metadata": {},
   "outputs": [],
   "source": [
    "def get_features_from_df(df, count_vectorizer):\n",
    "    \"\"\"\n",
    "    returns a sparse matrix containing the features build by the count vectorizer.\n",
    "    Each row should contain features from question1 and question2.\n",
    "    \"\"\"\n",
    "    q1_casted =  cast_list_as_strings(list(df[\"question1\"]))\n",
    "    q2_casted =  cast_list_as_strings(list(df[\"question2\"]))\n",
    "        \n",
    "    q1 = count_vectorizer.transform(q1_casted)\n",
    "    q2 = count_vectorizer.transform(q2_casted)\n",
    "    \n",
    "    X_q1q2 = scipy.sparse.hstack((q1,q2))\n",
    "        \n",
    "    return X_q1q2"
   ]
  },
  {
   "cell_type": "code",
   "execution_count": 162,
   "metadata": {},
   "outputs": [
    {
     "data": {
      "text/plain": [
       "((291088, 1946656), (291088, 6), (32344, 6), (32344, 1946656))"
      ]
     },
     "execution_count": 162,
     "metadata": {},
     "output_type": "execute_result"
    }
   ],
   "source": [
    "X_tr_q1q2 = get_features_from_df(train_df,count_vect)\n",
    "X_te_q1q2  = get_features_from_df(test_df, count_vect)\n",
    "\n",
    "X_tr_q1q2.shape, train_df.shape, test_df.shape, X_te_q1q2.shape"
   ]
  },
  {
   "cell_type": "code",
   "execution_count": 163,
   "metadata": {},
   "outputs": [],
   "source": [
    "y_train = train_df[\"is_duplicate\"].values"
   ]
  },
  {
   "cell_type": "code",
   "execution_count": 175,
   "metadata": {},
   "outputs": [
    {
     "name": "stdout",
     "output_type": "stream",
     "text": [
      "[LibLinear]Wall time: 1min 21s\n"
     ]
    },
    {
     "data": {
      "text/plain": [
       "LogisticRegression(C=1.0, class_weight=None, dual=False, fit_intercept=True,\n",
       "                   intercept_scaling=1, l1_ratio=None, max_iter=100,\n",
       "                   multi_class='warn', n_jobs=None, penalty='l2',\n",
       "                   random_state=None, solver='liblinear', tol=0.0001, verbose=1,\n",
       "                   warm_start=False)"
      ]
     },
     "execution_count": 175,
     "metadata": {},
     "output_type": "execute_result"
    }
   ],
   "source": [
    "logistic = sklearn.linear_model.LogisticRegression(solver=\"liblinear\", verbose=1, max_iter=100)\n",
    "%time logistic.fit(X_tr_q1q2, y_train)"
   ]
  },
  {
   "cell_type": "code",
   "execution_count": 215,
   "metadata": {},
   "outputs": [],
   "source": [
    "def get_mistakes(clf, df, X_q1q2, y):\n",
    "\n",
    "    predictions = clf.predict(X_q1q2)    \n",
    "    incorrect_predictions = predictions!=y\n",
    "\n",
    "    incorrect_indices = np.where(incorrect_predictions)[0]\n",
    "    \n",
    "    if np.sum(incorrect_predictions)==0:\n",
    "        print(\"no mistakes in this df\")\n",
    "    else:\n",
    "        return incorrect_indices, predictions\n",
    "    \n",
    "def print_mistake_k(k, mistake_indices, predictions):\n",
    "    print(train_df.iloc[mistake_indices[k]].question1)\n",
    "    print(train_df.iloc[mistake_indices[k]].question2)\n",
    "    print(\"true class:\", train_df.iloc[mistake_indices[k]].is_duplicate)\n",
    "    print(\"prediction:\", predictions[mistake_indices[k]])\n",
    "    \n",
    "def print_mistake_k_and_tokens(k, mistake_indices, predictions,\n",
    "                               X_q1q2, count_vect, clf):\n",
    "    q1 = train_df.iloc[mistake_indices[k]].question1\n",
    "    q2 = train_df.iloc[mistake_indices[k]].question2\n",
    "    \n",
    "    print(q1)\n",
    "    print(count_vect.tokenize(q1))\n",
    "    print()\n",
    "    print(q2)\n",
    "    print(count_vect.tokenize(q2))\n",
    "    print()\n",
    "    print(\"true class:\", train_df.iloc[mistake_indices[k]].is_duplicate)\n",
    "    print(\"prediction:\", predictions[mistake_indices[k]])\n",
    "    print()\n",
    "    print(\"Probability vector: [P(0|x), P(1|x)]:\")\n",
    "    print(clf.predict_proba(X_q1q2)[mistake_indices[k],:])\n",
    "    \n",
    "    \n",
    "def hist_errors(mistake_indices, predictions,\n",
    "                               X_q1q2, count_vect, clf):\n",
    "    qs = train_df.iloc[mistake_indices][['question1', 'question2']]\n",
    "    qs['true_class']=train_df.iloc[mistake_indices].is_duplicate\n",
    "    qs['prediction']=predictions[mistake_indices]\n",
    "    qs['P(1|x)']=clf.predict_proba(X_q1q2)[mistake_indices,:][:,1]\n",
    "    qs = qs.reset_index(drop=True)\n",
    "    return qs\n"
   ]
  },
  {
   "cell_type": "code",
   "execution_count": 216,
   "metadata": {},
   "outputs": [],
   "source": [
    "mistake_indices, predictions = get_mistakes(logistic,train_df, X_tr_q1q2, y_train)"
   ]
  },
  {
   "cell_type": "code",
   "execution_count": 217,
   "metadata": {},
   "outputs": [
    {
     "data": {
      "text/plain": [
       "'There are 9116/291088 (3.132%) mistakes'"
      ]
     },
     "execution_count": 217,
     "metadata": {},
     "output_type": "execute_result"
    }
   ],
   "source": [
    "\"There are {:d}/{:d} ({:5.3f}%) mistakes\".format(len(mistake_indices),len(train_df),100*len(mistake_indices)/len(train_df))"
   ]
  },
  {
   "cell_type": "code",
   "execution_count": 218,
   "metadata": {},
   "outputs": [
    {
     "name": "stdout",
     "output_type": "stream",
     "text": [
      "What is the strangest thing that ever happened to you?\n",
      "What is the strangest thing that has ever happened to you?\n",
      "true class: 1\n",
      "prediction: 0\n"
     ]
    }
   ],
   "source": [
    "print_mistake_k(0, mistake_indices, predictions)"
   ]
  },
  {
   "cell_type": "code",
   "execution_count": 219,
   "metadata": {},
   "outputs": [
    {
     "name": "stdout",
     "output_type": "stream",
     "text": [
      "How does love make you happy?\n",
      "['love', 'make', 'happy', ('love', 'make'), ('make', 'happy')]\n",
      "\n",
      "Why does being in love make one happy?\n",
      "['love', 'make', 'one', 'happy', ('love', 'make'), ('make', 'one'), ('one', 'happy')]\n",
      "\n",
      "true class: 1\n",
      "prediction: 0\n",
      "\n",
      "Probability vector: [P(0|x), P(1|x)]:\n",
      "[0.55626783 0.44373217]\n"
     ]
    }
   ],
   "source": [
    "print_mistake_k_and_tokens(7051, mistake_indices, predictions,\n",
    "                           X_tr_q1q2, count_vect, logistic)"
   ]
  },
  {
   "cell_type": "code",
   "execution_count": 220,
   "metadata": {},
   "outputs": [
    {
     "data": {
      "text/html": [
       "<div>\n",
       "<style scoped>\n",
       "    .dataframe tbody tr th:only-of-type {\n",
       "        vertical-align: middle;\n",
       "    }\n",
       "\n",
       "    .dataframe tbody tr th {\n",
       "        vertical-align: top;\n",
       "    }\n",
       "\n",
       "    .dataframe thead th {\n",
       "        text-align: right;\n",
       "    }\n",
       "</style>\n",
       "<table border=\"1\" class=\"dataframe\">\n",
       "  <thead>\n",
       "    <tr style=\"text-align: right;\">\n",
       "      <th></th>\n",
       "      <th>question1</th>\n",
       "      <th>question2</th>\n",
       "      <th>true_class</th>\n",
       "      <th>prediction</th>\n",
       "      <th>P(1|x)</th>\n",
       "    </tr>\n",
       "  </thead>\n",
       "  <tbody>\n",
       "    <tr>\n",
       "      <td>748</td>\n",
       "      <td>How can I control my emotion?</td>\n",
       "      <td>How can I control emotions?</td>\n",
       "      <td>0</td>\n",
       "      <td>1</td>\n",
       "      <td>0.978531</td>\n",
       "    </tr>\n",
       "    <tr>\n",
       "      <td>2629</td>\n",
       "      <td>Which is the best laptop to buy under 40000 INR?</td>\n",
       "      <td>Which is the best laptop under INR 60k?</td>\n",
       "      <td>0</td>\n",
       "      <td>1</td>\n",
       "      <td>0.962356</td>\n",
       "    </tr>\n",
       "    <tr>\n",
       "      <td>254</td>\n",
       "      <td>What is the purpose of life if there is death?</td>\n",
       "      <td>What is the purpose of life?</td>\n",
       "      <td>0</td>\n",
       "      <td>1</td>\n",
       "      <td>0.959988</td>\n",
       "    </tr>\n",
       "    <tr>\n",
       "      <td>624</td>\n",
       "      <td>Should people over 92 not be allowed to vote?</td>\n",
       "      <td>Should old people be allowed to vote?</td>\n",
       "      <td>0</td>\n",
       "      <td>1</td>\n",
       "      <td>0.958749</td>\n",
       "    </tr>\n",
       "    <tr>\n",
       "      <td>8403</td>\n",
       "      <td>If Trump wins the election, what will you do?</td>\n",
       "      <td>What will happen if Donald Trump wins the elec...</td>\n",
       "      <td>0</td>\n",
       "      <td>1</td>\n",
       "      <td>0.958280</td>\n",
       "    </tr>\n",
       "    <tr>\n",
       "      <td>...</td>\n",
       "      <td>...</td>\n",
       "      <td>...</td>\n",
       "      <td>...</td>\n",
       "      <td>...</td>\n",
       "      <td>...</td>\n",
       "    </tr>\n",
       "    <tr>\n",
       "      <td>6294</td>\n",
       "      <td>What can I do after completing B.com?</td>\n",
       "      <td>What should I do after completing B.Com?</td>\n",
       "      <td>1</td>\n",
       "      <td>0</td>\n",
       "      <td>0.105350</td>\n",
       "    </tr>\n",
       "    <tr>\n",
       "      <td>7195</td>\n",
       "      <td>What is the salary range for classification le...</td>\n",
       "      <td>What is the salary range for classification le...</td>\n",
       "      <td>1</td>\n",
       "      <td>0</td>\n",
       "      <td>0.104903</td>\n",
       "    </tr>\n",
       "    <tr>\n",
       "      <td>4282</td>\n",
       "      <td>How do I message someone on Facebook who is no...</td>\n",
       "      <td>How can you message someone who is not your fr...</td>\n",
       "      <td>1</td>\n",
       "      <td>0</td>\n",
       "      <td>0.087931</td>\n",
       "    </tr>\n",
       "    <tr>\n",
       "      <td>8970</td>\n",
       "      <td>What is the remainder when 2^33 is divided by 27?</td>\n",
       "      <td>What is the remainder when 2^33is divided by 27?</td>\n",
       "      <td>1</td>\n",
       "      <td>0</td>\n",
       "      <td>0.079105</td>\n",
       "    </tr>\n",
       "    <tr>\n",
       "      <td>7125</td>\n",
       "      <td>What is the difference between \"at\" and \"on\" i...</td>\n",
       "      <td>What is the difference between the following s...</td>\n",
       "      <td>1</td>\n",
       "      <td>0</td>\n",
       "      <td>0.053346</td>\n",
       "    </tr>\n",
       "  </tbody>\n",
       "</table>\n",
       "<p>9116 rows × 5 columns</p>\n",
       "</div>"
      ],
      "text/plain": [
       "                                              question1  \\\n",
       "748                       How can I control my emotion?   \n",
       "2629   Which is the best laptop to buy under 40000 INR?   \n",
       "254      What is the purpose of life if there is death?   \n",
       "624       Should people over 92 not be allowed to vote?   \n",
       "8403      If Trump wins the election, what will you do?   \n",
       "...                                                 ...   \n",
       "6294              What can I do after completing B.com?   \n",
       "7195  What is the salary range for classification le...   \n",
       "4282  How do I message someone on Facebook who is no...   \n",
       "8970  What is the remainder when 2^33 is divided by 27?   \n",
       "7125  What is the difference between \"at\" and \"on\" i...   \n",
       "\n",
       "                                              question2  true_class  \\\n",
       "748                         How can I control emotions?           0   \n",
       "2629            Which is the best laptop under INR 60k?           0   \n",
       "254                        What is the purpose of life?           0   \n",
       "624               Should old people be allowed to vote?           0   \n",
       "8403  What will happen if Donald Trump wins the elec...           0   \n",
       "...                                                 ...         ...   \n",
       "6294           What should I do after completing B.Com?           1   \n",
       "7195  What is the salary range for classification le...           1   \n",
       "4282  How can you message someone who is not your fr...           1   \n",
       "8970   What is the remainder when 2^33is divided by 27?           1   \n",
       "7125  What is the difference between the following s...           1   \n",
       "\n",
       "      prediction    P(1|x)  \n",
       "748            1  0.978531  \n",
       "2629           1  0.962356  \n",
       "254            1  0.959988  \n",
       "624            1  0.958749  \n",
       "8403           1  0.958280  \n",
       "...          ...       ...  \n",
       "6294           0  0.105350  \n",
       "7195           0  0.104903  \n",
       "4282           0  0.087931  \n",
       "8970           0  0.079105  \n",
       "7125           0  0.053346  \n",
       "\n",
       "[9116 rows x 5 columns]"
      ]
     },
     "execution_count": 220,
     "metadata": {},
     "output_type": "execute_result"
    }
   ],
   "source": [
    "qs = hist_errors(mistake_indices, predictions,\n",
    "                           X_tr_q1q2, count_vect, logistic)\n",
    "qs.sort_values(by='P(1|x)', ascending=False)"
   ]
  },
  {
   "cell_type": "code",
   "execution_count": 221,
   "metadata": {},
   "outputs": [
    {
     "name": "stdout",
     "output_type": "stream",
     "text": [
      "What is the difference between \"at\" and \"on\" in the following sentences?\n",
      "['difference', 'following', 'sentence', ('difference', 'following'), ('following', 'sentence')]\n",
      "\n",
      "What is the difference between the following sentences with \"to\" and \"for\"?\n",
      "['difference', 'following', 'sentence', ('difference', 'following'), ('following', 'sentence')]\n",
      "\n",
      "true class: 1\n",
      "prediction: 0\n",
      "\n",
      "Probability vector: [P(0|x), P(1|x)]:\n",
      "[0.94665385 0.05334615]\n"
     ]
    }
   ],
   "source": [
    "print_mistake_k_and_tokens(7125, mistake_indices, predictions,\n",
    "                           X_tr_q1q2, count_vect, logistic)"
   ]
  },
  {
   "cell_type": "code",
   "execution_count": 183,
   "metadata": {},
   "outputs": [
    {
     "data": {
      "image/png": "[encoded data removed]",
      "text/plain": [
       "<Figure size 1080x288 with 2 Axes>"
      ]
     },
     "metadata": {
      "needs_background": "light"
     },
     "output_type": "display_data"
    }
   ],
   "source": [
    "from matplotlib import pyplot as plt\n",
    "%matplotlib inline\n",
    "\n",
    "fig = plt.figure(figsize=(15,4))\n",
    "ax = fig.add_subplot(121)\n",
    "\n",
    "filt = qs.loc[qs['prediction']==0,'P(1|x)']\n",
    "ax.hist(1-filt, label='1-P(1|x)')\n",
    "ax.set_title(\"Prediction=0, True Class=1\\n{:d} Mistakes\".format(len(filt)))\n",
    "ax.set_xlabel(\"1-P(1|x)\")\n",
    "ax.set_ylabel(\"# Errors\")\n",
    "ax.legend()\n",
    "\n",
    "ax = fig.add_subplot(122)\n",
    "ax.hist(qs.loc[qs['prediction']==1,'P(1|x)'], label='P(1|x)')\n",
    "ax.set_title(\"Prediction=1, True Class=0\\n{:d} Mistakes\".format(len(qs)-len(filt)))\n",
    "ax.set_xlabel(\"P(1|x)\")\n",
    "ax.set_ylabel(\"# Errors\")\n",
    "ax.legend()\n",
    "\n",
    "plt.tight_layout()\n",
    "plt.show()"
   ]
  },
  {
   "cell_type": "markdown",
   "metadata": {},
   "source": [
    "# TFIDF"
   ]
  }
 ],
 "metadata": {
  "kernelspec": {
   "display_name": "Python 3",
   "language": "python",
   "name": "python3"
  },
  "language_info": {
   "codemirror_mode": {
    "name": "ipython",
    "version": 3
   },
   "file_extension": ".py",
   "mimetype": "text/x-python",
   "name": "python",
   "nbconvert_exporter": "python",
   "pygments_lexer": "ipython3",
   "version": "3.7.5"
  },
  "notify_time": "5",
  "toc": {
   "base_numbering": 1,
   "nav_menu": {},
   "number_sections": true,
   "sideBar": true,
   "skip_h1_title": false,
   "title_cell": "Table of Contents",
   "title_sidebar": "Contents",
   "toc_cell": false,
   "toc_position": {},
   "toc_section_display": true,
   "toc_window_display": false
  }
 },
 "nbformat": 4,
 "nbformat_minor": 2
}
