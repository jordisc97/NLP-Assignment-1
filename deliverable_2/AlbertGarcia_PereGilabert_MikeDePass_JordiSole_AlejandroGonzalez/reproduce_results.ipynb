{
 "cells": [
  {
   "cell_type": "markdown",
   "metadata": {},
   "source": [
    "# Reproduce Results notebook\n",
    "+ Here the results have to be shown without David having to wait 1h 30mins til the model trains."
   ]
  },
  {
   "cell_type": "markdown",
   "metadata": {},
   "source": [
    "# To Do:\n",
    "+ Pickle of the HMM model (Done - Jordi)\n",
    "+ Fix the HiddenMarkovModel.py so the HMM code called from there\n",
    "+ Implement the Edit_dist for the closes word to work in the test\n",
    "+ Check the results for the extended_feature\n",
    "+ Pickle of BERT"
   ]
  },
  {
   "cell_type": "markdown",
   "metadata": {},
   "source": [
    "# Sctructure:\n",
    "+ Read data\n",
    "+ Spell checker\n",
    "+ HMM\n",
    "+ Id fetures\n",
    "+ Structured Perceptron (Notebook: Structured_Perceptron_Validation)\n",
    "+ BERT"
   ]
  },
  {
   "cell_type": "code",
   "execution_count": 1,
   "metadata": {},
   "outputs": [],
   "source": [
    "# !pip3 install editdistance\n",
    "# !pip3 install nltk"
   ]
  },
  {
   "cell_type": "code",
   "execution_count": 2,
   "metadata": {
    "ExecuteTime": {
     "end_time": "2020-05-05T15:43:11.016579Z",
     "start_time": "2020-05-05T15:43:11.012243Z"
    }
   },
   "outputs": [],
   "source": [
    "%load_ext autoreload\n",
    "%autoreload 2\n",
    "\n",
    "import pandas as pd\n",
    "import numpy as np\n",
    "%matplotlib inline\n",
    "\n",
    "import matplotlib\n",
    "import numpy as np\n",
    "import matplotlib.pyplot as plt\n",
    "from tqdm.notebook import tqdm, trange\n",
    "\n",
    "import editdistance\n",
    "import itertools\n",
    "import seaborn as sn\n",
    "\n",
    "from HiddenMarkovModel import *"
   ]
  },
  {
   "cell_type": "code",
   "execution_count": 3,
   "metadata": {},
   "outputs": [
    {
     "data": {
      "text/html": [
       "<style>.container { width:100% !important; }</style>"
      ],
      "text/plain": [
       "<IPython.core.display.HTML object>"
      ]
     },
     "metadata": {},
     "output_type": "display_data"
    }
   ],
   "source": [
    "from IPython.core.display import display, HTML\n",
    "display(HTML(\"<style>.container { width:100% !important; }</style>\"))\n",
    "\n",
    "pd.set_option('display.max_rows', 25)\n",
    "pd.set_option('display.max_columns', 500)\n",
    "pd.set_option('display.max_colwidth', 50)"
   ]
  },
  {
   "cell_type": "code",
   "execution_count": 4,
   "metadata": {
    "ExecuteTime": {
     "end_time": "2020-05-05T15:43:22.865464Z",
     "start_time": "2020-05-05T15:43:22.482990Z"
    }
   },
   "outputs": [],
   "source": [
    "# Using ffill we optimize the code. It will fill all missing values with the previous non-nan value\n",
    "data = pd.read_csv(\"../data/kaggle_ner/ner_dataset.csv\",\n",
    "                   encoding=\"latin1\").fillna(method=\"ffill\")"
   ]
  },
  {
   "cell_type": "code",
   "execution_count": 5,
   "metadata": {
    "ExecuteTime": {
     "end_time": "2020-05-05T15:43:50.431431Z",
     "start_time": "2020-05-05T15:43:50.418337Z"
    }
   },
   "outputs": [
    {
     "data": {
      "text/html": [
       "<div>\n",
       "<style scoped>\n",
       "    .dataframe tbody tr th:only-of-type {\n",
       "        vertical-align: middle;\n",
       "    }\n",
       "\n",
       "    .dataframe tbody tr th {\n",
       "        vertical-align: top;\n",
       "    }\n",
       "\n",
       "    .dataframe thead th {\n",
       "        text-align: right;\n",
       "    }\n",
       "</style>\n",
       "<table border=\"1\" class=\"dataframe\">\n",
       "  <thead>\n",
       "    <tr style=\"text-align: right;\">\n",
       "      <th></th>\n",
       "      <th>Sentence #</th>\n",
       "      <th>Word</th>\n",
       "      <th>POS</th>\n",
       "      <th>Tag</th>\n",
       "    </tr>\n",
       "  </thead>\n",
       "  <tbody>\n",
       "    <tr>\n",
       "      <td>0</td>\n",
       "      <td>Sentence: 1</td>\n",
       "      <td>Thousands</td>\n",
       "      <td>NNS</td>\n",
       "      <td>O</td>\n",
       "    </tr>\n",
       "    <tr>\n",
       "      <td>1</td>\n",
       "      <td>Sentence: 1</td>\n",
       "      <td>of</td>\n",
       "      <td>IN</td>\n",
       "      <td>O</td>\n",
       "    </tr>\n",
       "    <tr>\n",
       "      <td>2</td>\n",
       "      <td>Sentence: 1</td>\n",
       "      <td>demonstrators</td>\n",
       "      <td>NNS</td>\n",
       "      <td>O</td>\n",
       "    </tr>\n",
       "    <tr>\n",
       "      <td>3</td>\n",
       "      <td>Sentence: 1</td>\n",
       "      <td>have</td>\n",
       "      <td>VBP</td>\n",
       "      <td>O</td>\n",
       "    </tr>\n",
       "    <tr>\n",
       "      <td>4</td>\n",
       "      <td>Sentence: 1</td>\n",
       "      <td>marched</td>\n",
       "      <td>VBN</td>\n",
       "      <td>O</td>\n",
       "    </tr>\n",
       "  </tbody>\n",
       "</table>\n",
       "</div>"
      ],
      "text/plain": [
       "    Sentence #           Word  POS Tag\n",
       "0  Sentence: 1      Thousands  NNS   O\n",
       "1  Sentence: 1             of   IN   O\n",
       "2  Sentence: 1  demonstrators  NNS   O\n",
       "3  Sentence: 1           have  VBP   O\n",
       "4  Sentence: 1        marched  VBN   O"
      ]
     },
     "execution_count": 5,
     "metadata": {},
     "output_type": "execute_result"
    }
   ],
   "source": [
    "data.head()"
   ]
  },
  {
   "cell_type": "code",
   "execution_count": 6,
   "metadata": {
    "ExecuteTime": {
     "end_time": "2020-05-05T14:07:25.213336Z",
     "start_time": "2020-05-05T14:07:25.153708Z"
    }
   },
   "outputs": [
    {
     "name": "stdout",
     "output_type": "stream",
     "text": [
      "Available TAGS:\n",
      "{'I-tim', 'I-eve', 'I-gpe', 'I-geo', 'O', 'B-org', 'I-org', 'B-gpe', 'B-tim', 'I-art', 'I-per', 'B-eve', 'I-nat', 'B-geo', 'B-nat', 'B-per', 'B-art'}\n"
     ]
    }
   ],
   "source": [
    "print(\"Available TAGS:\")\n",
    "print(set(data[\"Tag\"]))"
   ]
  },
  {
   "cell_type": "code",
   "execution_count": 7,
   "metadata": {
    "ExecuteTime": {
     "end_time": "2020-05-05T14:07:26.407180Z",
     "start_time": "2020-05-05T14:07:25.694653Z"
    }
   },
   "outputs": [
    {
     "name": "stdout",
     "output_type": "stream",
     "text": [
      "TAG        | Examples            \n",
      "------------------------------------------------------------\n",
      "I-tim      | 8                    1                    2                   \n",
      "I-eve      | Summer               Olympics             Olympic             \n",
      "I-gpe      | States               Korea                Binh                \n",
      "I-geo      | Park                 State                State               \n",
      "O          | Thousands            of                   demonstrators       \n",
      "B-org      | Labor                International        IAEA                \n",
      "I-org      | Party                Atomic               Energy              \n",
      "B-gpe      | British              English              Britain             \n",
      "B-tim      | Wednesday            Wednesday            Tuesday             \n",
      "I-art      | Non-Proliferation    V-6                  Simple              \n",
      "I-per      | Mahmoud              Ahmadinejad          Horbach             \n",
      "B-eve      | 2012                 Games                Games               \n",
      "I-nat      | Jing                 Jing                 Acute               \n",
      "B-geo      | London               Iraq                 Hyde                \n",
      "B-nat      | H5N1                 H5N1                 Jing                \n",
      "B-per      | Bush                 President            Thomas              \n",
      "B-art      | Nuclear              Saltillo             Pentastar           \n"
     ]
    }
   ],
   "source": [
    "print(\"{:10s} | {:20s}\".format(\"TAG\", \"Examples\"))\n",
    "print(\"-\"*60)\n",
    "for tag in set(data[\"Tag\"]):\n",
    "    print(\"{:10s} | {:20s} {:20s} {:20s}\".format(tag, *data[data[\"Tag\"] == tag][\"Word\"][0:3].values))"
   ]
  },
  {
   "cell_type": "markdown",
   "metadata": {},
   "source": [
    "#### Using groupby and apply rather than a for loop the computation is reduced from +2h to 4s"
   ]
  },
  {
   "cell_type": "code",
   "execution_count": 8,
   "metadata": {},
   "outputs": [
    {
     "name": "stdout",
     "output_type": "stream",
     "text": [
      "CPU times: user 3.96 s, sys: 4 ms, total: 3.96 s\n",
      "Wall time: 3.95 s\n",
      "CPU times: user 4.16 s, sys: 4 ms, total: 4.17 s\n",
      "Wall time: 4.15 s\n"
     ]
    }
   ],
   "source": [
    "%time X_txt = list(data.groupby(\"Sentence #\")['Word'].apply(list))\n",
    "%time Y_txt = list(data.groupby(\"Sentence #\")['Tag'].apply(list))"
   ]
  },
  {
   "cell_type": "code",
   "execution_count": 9,
   "metadata": {
    "ExecuteTime": {
     "end_time": "2020-05-05T14:08:15.567398Z",
     "start_time": "2020-05-05T14:08:15.563916Z"
    }
   },
   "outputs": [
    {
     "data": {
      "text/plain": [
       "'Thousands/O of/O demonstrators/O have/O marched/O through/O London/B-geo to/O protest/O the/O war/O in/O Iraq/B-geo and/O demand/O the/O withdrawal/O of/O British/B-gpe troops/O from/O that/O country/O ./O'"
      ]
     },
     "execution_count": 9,
     "metadata": {},
     "output_type": "execute_result"
    }
   ],
   "source": [
    "i = 0\n",
    "xy = [\"{}/{}\".format(x,y) for x,y in zip(X_txt[i],Y_txt[i])]\n",
    "\" \".join(xy)"
   ]
  },
  {
   "cell_type": "code",
   "execution_count": 10,
   "metadata": {},
   "outputs": [
    {
     "name": "stdout",
     "output_type": "stream",
     "text": [
      "There are 35178 words in the dictionary.\n",
      "And 47959 unique sentences.\n"
     ]
    }
   ],
   "source": [
    "print(\"There are\", len(data[\"Word\"].unique()), \"words in the dictionary.\")\n",
    "print(\"And\", len(data['Sentence #'].unique()), \"unique sentences.\")"
   ]
  },
  {
   "cell_type": "markdown",
   "metadata": {},
   "source": [
    "## Word to pos and tag to pos"
   ]
  },
  {
   "cell_type": "code",
   "execution_count": 11,
   "metadata": {
    "ExecuteTime": {
     "end_time": "2020-05-05T14:08:15.573987Z",
     "start_time": "2020-05-05T14:08:15.569071Z"
    }
   },
   "outputs": [],
   "source": [
    "def build_word_to_pos(X):\n",
    "    word_to_pos = {k: i for i, k in enumerate(X['Word'].unique())}               \n",
    "    pos_to_word = {v: k for k, v in word_to_pos.items()}\n",
    "    return word_to_pos, pos_to_word\n",
    "            \n",
    "def build_tag_to_pos(Y):\n",
    "    tag_to_pos = {k: i for i, k in enumerate(Y['Tag'].unique())} \n",
    "    pos_to_tag = {v: k for k, v in tag_to_pos.items()}\n",
    "\n",
    "    return tag_to_pos, pos_to_tag"
   ]
  },
  {
   "cell_type": "code",
   "execution_count": 12,
   "metadata": {
    "ExecuteTime": {
     "end_time": "2020-05-05T14:08:15.584465Z",
     "start_time": "2020-05-05T14:08:15.575588Z"
    }
   },
   "outputs": [
    {
     "data": {
      "text/plain": [
       "(35178, 17)"
      ]
     },
     "execution_count": 12,
     "metadata": {},
     "output_type": "execute_result"
    }
   ],
   "source": [
    "word_to_pos, pos_to_word = build_word_to_pos(data)\n",
    "tag_to_pos, pos_to_tag  = build_tag_to_pos(data)\n",
    "\n",
    "len(word_to_pos), len(tag_to_pos)"
   ]
  },
  {
   "cell_type": "code",
   "execution_count": 13,
   "metadata": {
    "ExecuteTime": {
     "end_time": "2020-05-05T14:08:15.603562Z",
     "start_time": "2020-05-05T14:08:15.592209Z"
    }
   },
   "outputs": [],
   "source": [
    "X = [[word_to_pos[w] for w in s] for s in X_txt]\n",
    "Y = [[tag_to_pos[t] for t in s] for s in Y_txt]"
   ]
  },
  {
   "cell_type": "markdown",
   "metadata": {},
   "source": [
    "# Preparing the dataset"
   ]
  },
  {
   "cell_type": "code",
   "execution_count": 14,
   "metadata": {},
   "outputs": [],
   "source": [
    "import scipy\n",
    "import numpy as np\n",
    "import os,sys,inspect\n",
    "import skseq"
   ]
  },
  {
   "cell_type": "code",
   "execution_count": 15,
   "metadata": {},
   "outputs": [],
   "source": [
    "import skseq.sequences\n",
    "import skseq.readers\n",
    "\n",
    "from skseq.sequences import sequence\n",
    "from skseq.sequences import sequence_list\n",
    "from skseq.sequences import label_dictionary"
   ]
  },
  {
   "cell_type": "code",
   "execution_count": 16,
   "metadata": {},
   "outputs": [],
   "source": [
    "n_split = 35971\n",
    "X_train_txt, X_test_txt, Y_train_txt, Y_test_txt = X_txt[:n_split], X_txt[n_split:], Y_txt[:n_split], Y_txt[n_split:]"
   ]
  },
  {
   "cell_type": "code",
   "execution_count": 17,
   "metadata": {},
   "outputs": [],
   "source": [
    "TEST_SENTENCES = [\"The programmers from Barcelona might write a sentence without a spell checker.\",\n",
    "\"The programmers from Barchelona cannot write a sentence without a spell checker.\",\n",
    "\"Jack London went to Parrris.\",\n",
    "\"Jack London went to Paris.\",\n",
    "\"We never though Microsoft would become such a big company.\",\n",
    "\"We never though Microsof would become such a big company.\",\n",
    "\"The president of U.S.A though they could win the war\",\n",
    "\"The president of the United States of America though they could win the war\",\n",
    "\"The king of Saudi Arabia wanted total control.\",\n",
    "\"Robin does not want to go to Saudi Arabia.\",\n",
    "\"Apple is a great company.\",\n",
    "\"I really love apples and oranges.\"]"
   ]
  },
  {
   "cell_type": "markdown",
   "metadata": {},
   "source": [
    "# HMM"
   ]
  },
  {
   "cell_type": "code",
   "execution_count": 23,
   "metadata": {},
   "outputs": [],
   "source": [
    "import pickle\n",
    "hmm = pickle.load(open(\"HMM.pkl\", \"rb\" ))"
   ]
  },
  {
   "cell_type": "code",
   "execution_count": 24,
   "metadata": {
    "scrolled": true
   },
   "outputs": [],
   "source": [
    "def evaluate_hmm(dataset_X, dataset_Y, tags):\n",
    "    tot = 0\n",
    "    err = 0\n",
    "    matrix = np.zeros((len(tags), len(tags)))\n",
    "\n",
    "    mstks = []\n",
    "    correct = []\n",
    "\n",
    "    tbar = tqdm(dataset_X)\n",
    "    for i, xtest in enumerate(tbar):\n",
    "        pred = hmm.predict_labels(xtest) # With posterior decoding\n",
    "        yral = dataset_Y[i]\n",
    "        \n",
    "        for pred_tag, yral_tag in zip(pred, yral):\n",
    "            row, col = np.where(tags == pred_tag)[0][0], np.where(tags == yral_tag)[0][0]\n",
    "            matrix[row, col] += 1\n",
    "\n",
    "        s = sum(v1!=v2 for v1,v2 in list(zip(pred, yral)))\n",
    "        err+= s\n",
    "        tot+=len(yral)\n",
    "\n",
    "        toappend = mstks if s!=0 else correct\n",
    "        toappend.append(pd.DataFrame([xtest, pred, yral]))\n",
    "        if i%100==0:\n",
    "            tbar.set_description(\"Accuracy: {:6.4f}\".format(1-err/tot))\n",
    "    return correct, mstks, matrix"
   ]
  },
  {
   "cell_type": "code",
   "execution_count": 25,
   "metadata": {},
   "outputs": [
    {
     "data": {
      "application/vnd.jupyter.widget-view+json": {
       "model_id": "642bf3a9e8f942508d1dc728efb5919b",
       "version_major": 2,
       "version_minor": 0
      },
      "text/plain": [
       "HBox(children=(FloatProgress(value=0.0, max=500.0), HTML(value='')))"
      ]
     },
     "metadata": {},
     "output_type": "display_data"
    },
    {
     "name": "stdout",
     "output_type": "stream",
     "text": [
      "\n"
     ]
    },
    {
     "data": {
      "application/vnd.jupyter.widget-view+json": {
       "model_id": "25602eefb96141b89064848d6293c6e3",
       "version_major": 2,
       "version_minor": 0
      },
      "text/plain": [
       "HBox(children=(FloatProgress(value=0.0, max=500.0), HTML(value='')))"
      ]
     },
     "metadata": {},
     "output_type": "display_data"
    },
    {
     "name": "stderr",
     "output_type": "stream",
     "text": [
      "/notebooks/NameEntityRecognition/gitproject/deliverable_2/AlbertGarcia_PereGilabert_MikeDePass_JordiSole_AlejandroGonzalez/HiddenMarkovModel.py:234: RuntimeWarning: invalid value encountered in subtract\n",
      "  state_posteriors[:, pos] = log_f_x[:, pos] + log_b_x[:, pos] - log_likelihood\n"
     ]
    },
    {
     "name": "stdout",
     "output_type": "stream",
     "text": [
      "\n"
     ]
    }
   ],
   "source": [
    "to_evaluate = 500 # 0 for all\n",
    "\n",
    "X_tr_ev, X_te_ev = (X_train_txt[:to_evaluate], X_test_txt[:to_evaluate]) if to_evaluate > 0 else (X_train_txt, X_test_txt)\n",
    "\n",
    "tags = data[\"Tag\"].unique()\n",
    "train_correct, train_mstks, train_conf = evaluate_hmm(X_tr_ev, Y_train_txt, tags)\n",
    "test_correct, test_mstks, test_conf = evaluate_hmm(X_te_ev, Y_test_txt, tags)"
   ]
  },
  {
   "cell_type": "code",
   "execution_count": 27,
   "metadata": {},
   "outputs": [
    {
     "name": "stdout",
     "output_type": "stream",
     "text": [
      "Number of correct sequences from both train and test: 579\n"
     ]
    }
   ],
   "source": [
    "print('Number of correct sequences from both train and test:', len(train_correct)+len(test_correct))"
   ]
  },
  {
   "cell_type": "markdown",
   "metadata": {},
   "source": [
    "#### Train accuracy of 97.24%\n",
    "#### Test accuracy of 92.49%\n",
    "#### Total correctly predicted sequences 30,424"
   ]
  },
  {
   "cell_type": "code",
   "execution_count": 28,
   "metadata": {},
   "outputs": [
    {
     "data": {
      "image/png": "[encoded data removed]",
      "text/plain": [
       "<Figure size 640x480 with 2 Axes>"
      ]
     },
     "metadata": {},
     "output_type": "display_data"
    },
    {
     "name": "stderr",
     "output_type": "stream",
     "text": [
      "/root/.local/lib/python3.7/site-packages/ipykernel_launcher.py:8: RuntimeWarning: invalid value encountered in true_divide\n",
      "  \n"
     ]
    },
    {
     "data": {
      "image/png": "[encoded data removed]",
      "text/plain": [
       "<Figure size 640x480 with 2 Axes>"
      ]
     },
     "metadata": {},
     "output_type": "display_data"
    }
   ],
   "source": [
    "from matplotlib.pyplot import figure\n",
    "\n",
    "normalized_train_conf = train_conf / np.sum(train_conf, axis=0)\n",
    "figure(num=None, figsize=(8, 6), dpi=80, facecolor='w', edgecolor='k')\n",
    "sn.heatmap(normalized_train_conf, annot=False, xticklabels=tags, yticklabels=tags).set_title(\"Train confusion matrix (normalized column-wise)\")\n",
    "plt.show()\n",
    "\n",
    "normalized_test_conf = test_conf / np.sum(test_conf, axis=0)\n",
    "figure(num=None, figsize=(8, 6), dpi=80, facecolor='w', edgecolor='k')\n",
    "sn.heatmap(normalized_test_conf, annot=False, xticklabels=tags, yticklabels=tags).set_title(\"Test confusion matrix (normalized column-wise)\")\n",
    "plt.show()"
   ]
  },
  {
   "cell_type": "markdown",
   "metadata": {},
   "source": [
    "The columns correspond to ground truth tags and the rows to the predicted tags. Both confusion matrices have been normalized column-wise (with respect ot the ground truth of the dataset) since there are several outliers when not normalizing the values (plotting with the count values). Notice how in the test set a lot of tags have been incorrectly predicted as 'O'. From this we can say that HMM tends to predict 'O' in cases it should not. This could be done due to the way HMM is trained and due to the huge imbalanced tags (the number of words with tag 'O' is way larger than any other tag)."
   ]
  },
  {
   "cell_type": "code",
   "execution_count": 29,
   "metadata": {},
   "outputs": [],
   "source": [
    "# test_mstks[0]"
   ]
  },
  {
   "cell_type": "markdown",
   "metadata": {},
   "source": [
    "Row 1 is the predicted sequence while row 2 is the ground truth sequence. By looking at a misclassified sample we can also see how there have been lots of 'O' predictions that should not have been predicted as such."
   ]
  },
  {
   "cell_type": "code",
   "execution_count": 49,
   "metadata": {},
   "outputs": [
    {
     "name": "stderr",
     "output_type": "stream",
     "text": [
      "/notebooks/NameEntityRecognition/gitproject/deliverable_2/AlbertGarcia_PereGilabert_MikeDePass_JordiSole_AlejandroGonzalez/HiddenMarkovModel.py:244: RuntimeWarning: invalid value encountered in subtract\n",
      "  for pos in range(len(x)):\n"
     ]
    },
    {
     "data": {
      "text/html": [
       "<style  type=\"text/css\" >\n",
       "</style><table id=\"T_aef8df84_b39a_11ea_a013_0242ac160003\" ><thead>    <tr>        <th class=\"blank level0\" ></th>        <th class=\"col_heading level0 col0\" >0</th>        <th class=\"col_heading level0 col1\" >1</th>        <th class=\"col_heading level0 col2\" >2</th>        <th class=\"col_heading level0 col3\" >3</th>        <th class=\"col_heading level0 col4\" >4</th>        <th class=\"col_heading level0 col5\" >5</th>        <th class=\"col_heading level0 col6\" >6</th>        <th class=\"col_heading level0 col7\" >7</th>        <th class=\"col_heading level0 col8\" >8</th>        <th class=\"col_heading level0 col9\" >9</th>        <th class=\"col_heading level0 col10\" >10</th>        <th class=\"col_heading level0 col11\" >11</th>    </tr></thead><tbody>\n",
       "                <tr>\n",
       "                        <th id=\"T_aef8df84_b39a_11ea_a013_0242ac160003level0_row0\" class=\"row_heading level0 row0\" >0</th>\n",
       "                        <td id=\"T_aef8df84_b39a_11ea_a013_0242ac160003row0_col0\" class=\"data row0 col0\" >The</td>\n",
       "                        <td id=\"T_aef8df84_b39a_11ea_a013_0242ac160003row0_col1\" class=\"data row0 col1\" >programmers</td>\n",
       "                        <td id=\"T_aef8df84_b39a_11ea_a013_0242ac160003row0_col2\" class=\"data row0 col2\" >from</td>\n",
       "                        <td id=\"T_aef8df84_b39a_11ea_a013_0242ac160003row0_col3\" class=\"data row0 col3\" >Barcelona</td>\n",
       "                        <td id=\"T_aef8df84_b39a_11ea_a013_0242ac160003row0_col4\" class=\"data row0 col4\" >might</td>\n",
       "                        <td id=\"T_aef8df84_b39a_11ea_a013_0242ac160003row0_col5\" class=\"data row0 col5\" >write</td>\n",
       "                        <td id=\"T_aef8df84_b39a_11ea_a013_0242ac160003row0_col6\" class=\"data row0 col6\" >a</td>\n",
       "                        <td id=\"T_aef8df84_b39a_11ea_a013_0242ac160003row0_col7\" class=\"data row0 col7\" >sentence</td>\n",
       "                        <td id=\"T_aef8df84_b39a_11ea_a013_0242ac160003row0_col8\" class=\"data row0 col8\" >without</td>\n",
       "                        <td id=\"T_aef8df84_b39a_11ea_a013_0242ac160003row0_col9\" class=\"data row0 col9\" >a</td>\n",
       "                        <td id=\"T_aef8df84_b39a_11ea_a013_0242ac160003row0_col10\" class=\"data row0 col10\" >spell</td>\n",
       "                        <td id=\"T_aef8df84_b39a_11ea_a013_0242ac160003row0_col11\" class=\"data row0 col11\" >checker.</td>\n",
       "            </tr>\n",
       "            <tr>\n",
       "                        <th id=\"T_aef8df84_b39a_11ea_a013_0242ac160003level0_row1\" class=\"row_heading level0 row1\" >1</th>\n",
       "                        <td id=\"T_aef8df84_b39a_11ea_a013_0242ac160003row1_col0\" class=\"data row1 col0\" >O</td>\n",
       "                        <td id=\"T_aef8df84_b39a_11ea_a013_0242ac160003row1_col1\" class=\"data row1 col1\" >O</td>\n",
       "                        <td id=\"T_aef8df84_b39a_11ea_a013_0242ac160003row1_col2\" class=\"data row1 col2\" >O</td>\n",
       "                        <td id=\"T_aef8df84_b39a_11ea_a013_0242ac160003row1_col3\" class=\"data row1 col3\" >O</td>\n",
       "                        <td id=\"T_aef8df84_b39a_11ea_a013_0242ac160003row1_col4\" class=\"data row1 col4\" >O</td>\n",
       "                        <td id=\"T_aef8df84_b39a_11ea_a013_0242ac160003row1_col5\" class=\"data row1 col5\" >O</td>\n",
       "                        <td id=\"T_aef8df84_b39a_11ea_a013_0242ac160003row1_col6\" class=\"data row1 col6\" >O</td>\n",
       "                        <td id=\"T_aef8df84_b39a_11ea_a013_0242ac160003row1_col7\" class=\"data row1 col7\" >O</td>\n",
       "                        <td id=\"T_aef8df84_b39a_11ea_a013_0242ac160003row1_col8\" class=\"data row1 col8\" >O</td>\n",
       "                        <td id=\"T_aef8df84_b39a_11ea_a013_0242ac160003row1_col9\" class=\"data row1 col9\" >O</td>\n",
       "                        <td id=\"T_aef8df84_b39a_11ea_a013_0242ac160003row1_col10\" class=\"data row1 col10\" >O</td>\n",
       "                        <td id=\"T_aef8df84_b39a_11ea_a013_0242ac160003row1_col11\" class=\"data row1 col11\" >O</td>\n",
       "            </tr>\n",
       "    </tbody></table>"
      ],
      "text/plain": [
       "<pandas.io.formats.style.Styler at 0x7f53ad53e490>"
      ]
     },
     "metadata": {},
     "output_type": "display_data"
    },
    {
     "data": {
      "text/html": [
       "<style  type=\"text/css\" >\n",
       "</style><table id=\"T_aefaa198_b39a_11ea_a013_0242ac160003\" ><thead>    <tr>        <th class=\"blank level0\" ></th>        <th class=\"col_heading level0 col0\" >0</th>        <th class=\"col_heading level0 col1\" >1</th>        <th class=\"col_heading level0 col2\" >2</th>        <th class=\"col_heading level0 col3\" >3</th>        <th class=\"col_heading level0 col4\" >4</th>        <th class=\"col_heading level0 col5\" >5</th>        <th class=\"col_heading level0 col6\" >6</th>        <th class=\"col_heading level0 col7\" >7</th>        <th class=\"col_heading level0 col8\" >8</th>        <th class=\"col_heading level0 col9\" >9</th>        <th class=\"col_heading level0 col10\" >10</th>        <th class=\"col_heading level0 col11\" >11</th>    </tr></thead><tbody>\n",
       "                <tr>\n",
       "                        <th id=\"T_aefaa198_b39a_11ea_a013_0242ac160003level0_row0\" class=\"row_heading level0 row0\" >0</th>\n",
       "                        <td id=\"T_aefaa198_b39a_11ea_a013_0242ac160003row0_col0\" class=\"data row0 col0\" >The</td>\n",
       "                        <td id=\"T_aefaa198_b39a_11ea_a013_0242ac160003row0_col1\" class=\"data row0 col1\" >programmers</td>\n",
       "                        <td id=\"T_aefaa198_b39a_11ea_a013_0242ac160003row0_col2\" class=\"data row0 col2\" >from</td>\n",
       "                        <td id=\"T_aefaa198_b39a_11ea_a013_0242ac160003row0_col3\" class=\"data row0 col3\" >Barchelona</td>\n",
       "                        <td id=\"T_aefaa198_b39a_11ea_a013_0242ac160003row0_col4\" class=\"data row0 col4\" >cannot</td>\n",
       "                        <td id=\"T_aefaa198_b39a_11ea_a013_0242ac160003row0_col5\" class=\"data row0 col5\" >write</td>\n",
       "                        <td id=\"T_aefaa198_b39a_11ea_a013_0242ac160003row0_col6\" class=\"data row0 col6\" >a</td>\n",
       "                        <td id=\"T_aefaa198_b39a_11ea_a013_0242ac160003row0_col7\" class=\"data row0 col7\" >sentence</td>\n",
       "                        <td id=\"T_aefaa198_b39a_11ea_a013_0242ac160003row0_col8\" class=\"data row0 col8\" >without</td>\n",
       "                        <td id=\"T_aefaa198_b39a_11ea_a013_0242ac160003row0_col9\" class=\"data row0 col9\" >a</td>\n",
       "                        <td id=\"T_aefaa198_b39a_11ea_a013_0242ac160003row0_col10\" class=\"data row0 col10\" >spell</td>\n",
       "                        <td id=\"T_aefaa198_b39a_11ea_a013_0242ac160003row0_col11\" class=\"data row0 col11\" >checker.</td>\n",
       "            </tr>\n",
       "            <tr>\n",
       "                        <th id=\"T_aefaa198_b39a_11ea_a013_0242ac160003level0_row1\" class=\"row_heading level0 row1\" >1</th>\n",
       "                        <td id=\"T_aefaa198_b39a_11ea_a013_0242ac160003row1_col0\" class=\"data row1 col0\" >O</td>\n",
       "                        <td id=\"T_aefaa198_b39a_11ea_a013_0242ac160003row1_col1\" class=\"data row1 col1\" >O</td>\n",
       "                        <td id=\"T_aefaa198_b39a_11ea_a013_0242ac160003row1_col2\" class=\"data row1 col2\" >O</td>\n",
       "                        <td id=\"T_aefaa198_b39a_11ea_a013_0242ac160003row1_col3\" class=\"data row1 col3\" >O</td>\n",
       "                        <td id=\"T_aefaa198_b39a_11ea_a013_0242ac160003row1_col4\" class=\"data row1 col4\" >O</td>\n",
       "                        <td id=\"T_aefaa198_b39a_11ea_a013_0242ac160003row1_col5\" class=\"data row1 col5\" >O</td>\n",
       "                        <td id=\"T_aefaa198_b39a_11ea_a013_0242ac160003row1_col6\" class=\"data row1 col6\" >O</td>\n",
       "                        <td id=\"T_aefaa198_b39a_11ea_a013_0242ac160003row1_col7\" class=\"data row1 col7\" >O</td>\n",
       "                        <td id=\"T_aefaa198_b39a_11ea_a013_0242ac160003row1_col8\" class=\"data row1 col8\" >O</td>\n",
       "                        <td id=\"T_aefaa198_b39a_11ea_a013_0242ac160003row1_col9\" class=\"data row1 col9\" >O</td>\n",
       "                        <td id=\"T_aefaa198_b39a_11ea_a013_0242ac160003row1_col10\" class=\"data row1 col10\" >O</td>\n",
       "                        <td id=\"T_aefaa198_b39a_11ea_a013_0242ac160003row1_col11\" class=\"data row1 col11\" >O</td>\n",
       "            </tr>\n",
       "    </tbody></table>"
      ],
      "text/plain": [
       "<pandas.io.formats.style.Styler at 0x7f53ad56b8d0>"
      ]
     },
     "metadata": {},
     "output_type": "display_data"
    },
    {
     "data": {
      "text/html": [
       "<style  type=\"text/css\" >\n",
       "</style><table id=\"T_aefbd018_b39a_11ea_a013_0242ac160003\" ><thead>    <tr>        <th class=\"blank level0\" ></th>        <th class=\"col_heading level0 col0\" >0</th>        <th class=\"col_heading level0 col1\" >1</th>        <th class=\"col_heading level0 col2\" >2</th>        <th class=\"col_heading level0 col3\" >3</th>        <th class=\"col_heading level0 col4\" >4</th>    </tr></thead><tbody>\n",
       "                <tr>\n",
       "                        <th id=\"T_aefbd018_b39a_11ea_a013_0242ac160003level0_row0\" class=\"row_heading level0 row0\" >0</th>\n",
       "                        <td id=\"T_aefbd018_b39a_11ea_a013_0242ac160003row0_col0\" class=\"data row0 col0\" >Jack</td>\n",
       "                        <td id=\"T_aefbd018_b39a_11ea_a013_0242ac160003row0_col1\" class=\"data row0 col1\" >London</td>\n",
       "                        <td id=\"T_aefbd018_b39a_11ea_a013_0242ac160003row0_col2\" class=\"data row0 col2\" >went</td>\n",
       "                        <td id=\"T_aefbd018_b39a_11ea_a013_0242ac160003row0_col3\" class=\"data row0 col3\" >to</td>\n",
       "                        <td id=\"T_aefbd018_b39a_11ea_a013_0242ac160003row0_col4\" class=\"data row0 col4\" >Parrris.</td>\n",
       "            </tr>\n",
       "            <tr>\n",
       "                        <th id=\"T_aefbd018_b39a_11ea_a013_0242ac160003level0_row1\" class=\"row_heading level0 row1\" >1</th>\n",
       "                        <td id=\"T_aefbd018_b39a_11ea_a013_0242ac160003row1_col0\" class=\"data row1 col0\" >O</td>\n",
       "                        <td id=\"T_aefbd018_b39a_11ea_a013_0242ac160003row1_col1\" class=\"data row1 col1\" >O</td>\n",
       "                        <td id=\"T_aefbd018_b39a_11ea_a013_0242ac160003row1_col2\" class=\"data row1 col2\" >O</td>\n",
       "                        <td id=\"T_aefbd018_b39a_11ea_a013_0242ac160003row1_col3\" class=\"data row1 col3\" >O</td>\n",
       "                        <td id=\"T_aefbd018_b39a_11ea_a013_0242ac160003row1_col4\" class=\"data row1 col4\" >O</td>\n",
       "            </tr>\n",
       "    </tbody></table>"
      ],
      "text/plain": [
       "<pandas.io.formats.style.Styler at 0x7f53ad560990>"
      ]
     },
     "metadata": {},
     "output_type": "display_data"
    },
    {
     "data": {
      "text/html": [
       "<style  type=\"text/css\" >\n",
       "</style><table id=\"T_aefccc0c_b39a_11ea_a013_0242ac160003\" ><thead>    <tr>        <th class=\"blank level0\" ></th>        <th class=\"col_heading level0 col0\" >0</th>        <th class=\"col_heading level0 col1\" >1</th>        <th class=\"col_heading level0 col2\" >2</th>        <th class=\"col_heading level0 col3\" >3</th>        <th class=\"col_heading level0 col4\" >4</th>    </tr></thead><tbody>\n",
       "                <tr>\n",
       "                        <th id=\"T_aefccc0c_b39a_11ea_a013_0242ac160003level0_row0\" class=\"row_heading level0 row0\" >0</th>\n",
       "                        <td id=\"T_aefccc0c_b39a_11ea_a013_0242ac160003row0_col0\" class=\"data row0 col0\" >Jack</td>\n",
       "                        <td id=\"T_aefccc0c_b39a_11ea_a013_0242ac160003row0_col1\" class=\"data row0 col1\" >London</td>\n",
       "                        <td id=\"T_aefccc0c_b39a_11ea_a013_0242ac160003row0_col2\" class=\"data row0 col2\" >went</td>\n",
       "                        <td id=\"T_aefccc0c_b39a_11ea_a013_0242ac160003row0_col3\" class=\"data row0 col3\" >to</td>\n",
       "                        <td id=\"T_aefccc0c_b39a_11ea_a013_0242ac160003row0_col4\" class=\"data row0 col4\" >Paris.</td>\n",
       "            </tr>\n",
       "            <tr>\n",
       "                        <th id=\"T_aefccc0c_b39a_11ea_a013_0242ac160003level0_row1\" class=\"row_heading level0 row1\" >1</th>\n",
       "                        <td id=\"T_aefccc0c_b39a_11ea_a013_0242ac160003row1_col0\" class=\"data row1 col0\" >O</td>\n",
       "                        <td id=\"T_aefccc0c_b39a_11ea_a013_0242ac160003row1_col1\" class=\"data row1 col1\" >O</td>\n",
       "                        <td id=\"T_aefccc0c_b39a_11ea_a013_0242ac160003row1_col2\" class=\"data row1 col2\" >O</td>\n",
       "                        <td id=\"T_aefccc0c_b39a_11ea_a013_0242ac160003row1_col3\" class=\"data row1 col3\" >O</td>\n",
       "                        <td id=\"T_aefccc0c_b39a_11ea_a013_0242ac160003row1_col4\" class=\"data row1 col4\" >O</td>\n",
       "            </tr>\n",
       "    </tbody></table>"
      ],
      "text/plain": [
       "<pandas.io.formats.style.Styler at 0x7f53579b9c50>"
      ]
     },
     "metadata": {},
     "output_type": "display_data"
    },
    {
     "data": {
      "text/html": [
       "<style  type=\"text/css\" >\n",
       "</style><table id=\"T_aefe9da2_b39a_11ea_a013_0242ac160003\" ><thead>    <tr>        <th class=\"blank level0\" ></th>        <th class=\"col_heading level0 col0\" >0</th>        <th class=\"col_heading level0 col1\" >1</th>        <th class=\"col_heading level0 col2\" >2</th>        <th class=\"col_heading level0 col3\" >3</th>        <th class=\"col_heading level0 col4\" >4</th>        <th class=\"col_heading level0 col5\" >5</th>        <th class=\"col_heading level0 col6\" >6</th>        <th class=\"col_heading level0 col7\" >7</th>        <th class=\"col_heading level0 col8\" >8</th>        <th class=\"col_heading level0 col9\" >9</th>    </tr></thead><tbody>\n",
       "                <tr>\n",
       "                        <th id=\"T_aefe9da2_b39a_11ea_a013_0242ac160003level0_row0\" class=\"row_heading level0 row0\" >0</th>\n",
       "                        <td id=\"T_aefe9da2_b39a_11ea_a013_0242ac160003row0_col0\" class=\"data row0 col0\" >We</td>\n",
       "                        <td id=\"T_aefe9da2_b39a_11ea_a013_0242ac160003row0_col1\" class=\"data row0 col1\" >never</td>\n",
       "                        <td id=\"T_aefe9da2_b39a_11ea_a013_0242ac160003row0_col2\" class=\"data row0 col2\" >though</td>\n",
       "                        <td id=\"T_aefe9da2_b39a_11ea_a013_0242ac160003row0_col3\" class=\"data row0 col3\" >Microsoft</td>\n",
       "                        <td id=\"T_aefe9da2_b39a_11ea_a013_0242ac160003row0_col4\" class=\"data row0 col4\" >would</td>\n",
       "                        <td id=\"T_aefe9da2_b39a_11ea_a013_0242ac160003row0_col5\" class=\"data row0 col5\" >become</td>\n",
       "                        <td id=\"T_aefe9da2_b39a_11ea_a013_0242ac160003row0_col6\" class=\"data row0 col6\" >such</td>\n",
       "                        <td id=\"T_aefe9da2_b39a_11ea_a013_0242ac160003row0_col7\" class=\"data row0 col7\" >a</td>\n",
       "                        <td id=\"T_aefe9da2_b39a_11ea_a013_0242ac160003row0_col8\" class=\"data row0 col8\" >big</td>\n",
       "                        <td id=\"T_aefe9da2_b39a_11ea_a013_0242ac160003row0_col9\" class=\"data row0 col9\" >company.</td>\n",
       "            </tr>\n",
       "            <tr>\n",
       "                        <th id=\"T_aefe9da2_b39a_11ea_a013_0242ac160003level0_row1\" class=\"row_heading level0 row1\" >1</th>\n",
       "                        <td id=\"T_aefe9da2_b39a_11ea_a013_0242ac160003row1_col0\" class=\"data row1 col0\" >O</td>\n",
       "                        <td id=\"T_aefe9da2_b39a_11ea_a013_0242ac160003row1_col1\" class=\"data row1 col1\" >O</td>\n",
       "                        <td id=\"T_aefe9da2_b39a_11ea_a013_0242ac160003row1_col2\" class=\"data row1 col2\" >O</td>\n",
       "                        <td id=\"T_aefe9da2_b39a_11ea_a013_0242ac160003row1_col3\" class=\"data row1 col3\" >O</td>\n",
       "                        <td id=\"T_aefe9da2_b39a_11ea_a013_0242ac160003row1_col4\" class=\"data row1 col4\" >O</td>\n",
       "                        <td id=\"T_aefe9da2_b39a_11ea_a013_0242ac160003row1_col5\" class=\"data row1 col5\" >O</td>\n",
       "                        <td id=\"T_aefe9da2_b39a_11ea_a013_0242ac160003row1_col6\" class=\"data row1 col6\" >O</td>\n",
       "                        <td id=\"T_aefe9da2_b39a_11ea_a013_0242ac160003row1_col7\" class=\"data row1 col7\" >O</td>\n",
       "                        <td id=\"T_aefe9da2_b39a_11ea_a013_0242ac160003row1_col8\" class=\"data row1 col8\" >O</td>\n",
       "                        <td id=\"T_aefe9da2_b39a_11ea_a013_0242ac160003row1_col9\" class=\"data row1 col9\" >O</td>\n",
       "            </tr>\n",
       "    </tbody></table>"
      ],
      "text/plain": [
       "<pandas.io.formats.style.Styler at 0x7f53579b9790>"
      ]
     },
     "metadata": {},
     "output_type": "display_data"
    },
    {
     "data": {
      "text/html": [
       "<style  type=\"text/css\" >\n",
       "</style><table id=\"T_aefffd1e_b39a_11ea_a013_0242ac160003\" ><thead>    <tr>        <th class=\"blank level0\" ></th>        <th class=\"col_heading level0 col0\" >0</th>        <th class=\"col_heading level0 col1\" >1</th>        <th class=\"col_heading level0 col2\" >2</th>        <th class=\"col_heading level0 col3\" >3</th>        <th class=\"col_heading level0 col4\" >4</th>        <th class=\"col_heading level0 col5\" >5</th>        <th class=\"col_heading level0 col6\" >6</th>        <th class=\"col_heading level0 col7\" >7</th>        <th class=\"col_heading level0 col8\" >8</th>        <th class=\"col_heading level0 col9\" >9</th>    </tr></thead><tbody>\n",
       "                <tr>\n",
       "                        <th id=\"T_aefffd1e_b39a_11ea_a013_0242ac160003level0_row0\" class=\"row_heading level0 row0\" >0</th>\n",
       "                        <td id=\"T_aefffd1e_b39a_11ea_a013_0242ac160003row0_col0\" class=\"data row0 col0\" >We</td>\n",
       "                        <td id=\"T_aefffd1e_b39a_11ea_a013_0242ac160003row0_col1\" class=\"data row0 col1\" >never</td>\n",
       "                        <td id=\"T_aefffd1e_b39a_11ea_a013_0242ac160003row0_col2\" class=\"data row0 col2\" >though</td>\n",
       "                        <td id=\"T_aefffd1e_b39a_11ea_a013_0242ac160003row0_col3\" class=\"data row0 col3\" >Microsof</td>\n",
       "                        <td id=\"T_aefffd1e_b39a_11ea_a013_0242ac160003row0_col4\" class=\"data row0 col4\" >would</td>\n",
       "                        <td id=\"T_aefffd1e_b39a_11ea_a013_0242ac160003row0_col5\" class=\"data row0 col5\" >become</td>\n",
       "                        <td id=\"T_aefffd1e_b39a_11ea_a013_0242ac160003row0_col6\" class=\"data row0 col6\" >such</td>\n",
       "                        <td id=\"T_aefffd1e_b39a_11ea_a013_0242ac160003row0_col7\" class=\"data row0 col7\" >a</td>\n",
       "                        <td id=\"T_aefffd1e_b39a_11ea_a013_0242ac160003row0_col8\" class=\"data row0 col8\" >big</td>\n",
       "                        <td id=\"T_aefffd1e_b39a_11ea_a013_0242ac160003row0_col9\" class=\"data row0 col9\" >company.</td>\n",
       "            </tr>\n",
       "            <tr>\n",
       "                        <th id=\"T_aefffd1e_b39a_11ea_a013_0242ac160003level0_row1\" class=\"row_heading level0 row1\" >1</th>\n",
       "                        <td id=\"T_aefffd1e_b39a_11ea_a013_0242ac160003row1_col0\" class=\"data row1 col0\" >O</td>\n",
       "                        <td id=\"T_aefffd1e_b39a_11ea_a013_0242ac160003row1_col1\" class=\"data row1 col1\" >O</td>\n",
       "                        <td id=\"T_aefffd1e_b39a_11ea_a013_0242ac160003row1_col2\" class=\"data row1 col2\" >O</td>\n",
       "                        <td id=\"T_aefffd1e_b39a_11ea_a013_0242ac160003row1_col3\" class=\"data row1 col3\" >O</td>\n",
       "                        <td id=\"T_aefffd1e_b39a_11ea_a013_0242ac160003row1_col4\" class=\"data row1 col4\" >O</td>\n",
       "                        <td id=\"T_aefffd1e_b39a_11ea_a013_0242ac160003row1_col5\" class=\"data row1 col5\" >O</td>\n",
       "                        <td id=\"T_aefffd1e_b39a_11ea_a013_0242ac160003row1_col6\" class=\"data row1 col6\" >O</td>\n",
       "                        <td id=\"T_aefffd1e_b39a_11ea_a013_0242ac160003row1_col7\" class=\"data row1 col7\" >O</td>\n",
       "                        <td id=\"T_aefffd1e_b39a_11ea_a013_0242ac160003row1_col8\" class=\"data row1 col8\" >O</td>\n",
       "                        <td id=\"T_aefffd1e_b39a_11ea_a013_0242ac160003row1_col9\" class=\"data row1 col9\" >O</td>\n",
       "            </tr>\n",
       "    </tbody></table>"
      ],
      "text/plain": [
       "<pandas.io.formats.style.Styler at 0x7f535441e890>"
      ]
     },
     "metadata": {},
     "output_type": "display_data"
    },
    {
     "data": {
      "text/html": [
       "<style  type=\"text/css\" >\n",
       "</style><table id=\"T_af032f16_b39a_11ea_a013_0242ac160003\" ><thead>    <tr>        <th class=\"blank level0\" ></th>        <th class=\"col_heading level0 col0\" >0</th>        <th class=\"col_heading level0 col1\" >1</th>        <th class=\"col_heading level0 col2\" >2</th>        <th class=\"col_heading level0 col3\" >3</th>        <th class=\"col_heading level0 col4\" >4</th>        <th class=\"col_heading level0 col5\" >5</th>        <th class=\"col_heading level0 col6\" >6</th>        <th class=\"col_heading level0 col7\" >7</th>        <th class=\"col_heading level0 col8\" >8</th>        <th class=\"col_heading level0 col9\" >9</th>    </tr></thead><tbody>\n",
       "                <tr>\n",
       "                        <th id=\"T_af032f16_b39a_11ea_a013_0242ac160003level0_row0\" class=\"row_heading level0 row0\" >0</th>\n",
       "                        <td id=\"T_af032f16_b39a_11ea_a013_0242ac160003row0_col0\" class=\"data row0 col0\" >The</td>\n",
       "                        <td id=\"T_af032f16_b39a_11ea_a013_0242ac160003row0_col1\" class=\"data row0 col1\" >president</td>\n",
       "                        <td id=\"T_af032f16_b39a_11ea_a013_0242ac160003row0_col2\" class=\"data row0 col2\" >of</td>\n",
       "                        <td id=\"T_af032f16_b39a_11ea_a013_0242ac160003row0_col3\" class=\"data row0 col3\" >U.S.A</td>\n",
       "                        <td id=\"T_af032f16_b39a_11ea_a013_0242ac160003row0_col4\" class=\"data row0 col4\" >though</td>\n",
       "                        <td id=\"T_af032f16_b39a_11ea_a013_0242ac160003row0_col5\" class=\"data row0 col5\" >they</td>\n",
       "                        <td id=\"T_af032f16_b39a_11ea_a013_0242ac160003row0_col6\" class=\"data row0 col6\" >could</td>\n",
       "                        <td id=\"T_af032f16_b39a_11ea_a013_0242ac160003row0_col7\" class=\"data row0 col7\" >win</td>\n",
       "                        <td id=\"T_af032f16_b39a_11ea_a013_0242ac160003row0_col8\" class=\"data row0 col8\" >the</td>\n",
       "                        <td id=\"T_af032f16_b39a_11ea_a013_0242ac160003row0_col9\" class=\"data row0 col9\" >war</td>\n",
       "            </tr>\n",
       "            <tr>\n",
       "                        <th id=\"T_af032f16_b39a_11ea_a013_0242ac160003level0_row1\" class=\"row_heading level0 row1\" >1</th>\n",
       "                        <td id=\"T_af032f16_b39a_11ea_a013_0242ac160003row1_col0\" class=\"data row1 col0\" >O</td>\n",
       "                        <td id=\"T_af032f16_b39a_11ea_a013_0242ac160003row1_col1\" class=\"data row1 col1\" >O</td>\n",
       "                        <td id=\"T_af032f16_b39a_11ea_a013_0242ac160003row1_col2\" class=\"data row1 col2\" >O</td>\n",
       "                        <td id=\"T_af032f16_b39a_11ea_a013_0242ac160003row1_col3\" class=\"data row1 col3\" >B-org</td>\n",
       "                        <td id=\"T_af032f16_b39a_11ea_a013_0242ac160003row1_col4\" class=\"data row1 col4\" >O</td>\n",
       "                        <td id=\"T_af032f16_b39a_11ea_a013_0242ac160003row1_col5\" class=\"data row1 col5\" >O</td>\n",
       "                        <td id=\"T_af032f16_b39a_11ea_a013_0242ac160003row1_col6\" class=\"data row1 col6\" >O</td>\n",
       "                        <td id=\"T_af032f16_b39a_11ea_a013_0242ac160003row1_col7\" class=\"data row1 col7\" >O</td>\n",
       "                        <td id=\"T_af032f16_b39a_11ea_a013_0242ac160003row1_col8\" class=\"data row1 col8\" >O</td>\n",
       "                        <td id=\"T_af032f16_b39a_11ea_a013_0242ac160003row1_col9\" class=\"data row1 col9\" >O</td>\n",
       "            </tr>\n",
       "    </tbody></table>"
      ],
      "text/plain": [
       "<pandas.io.formats.style.Styler at 0x7f53544282d0>"
      ]
     },
     "metadata": {},
     "output_type": "display_data"
    },
    {
     "data": {
      "text/html": [
       "<style  type=\"text/css\" >\n",
       "</style><table id=\"T_af07aa78_b39a_11ea_a013_0242ac160003\" ><thead>    <tr>        <th class=\"blank level0\" ></th>        <th class=\"col_heading level0 col0\" >0</th>        <th class=\"col_heading level0 col1\" >1</th>        <th class=\"col_heading level0 col2\" >2</th>        <th class=\"col_heading level0 col3\" >3</th>        <th class=\"col_heading level0 col4\" >4</th>        <th class=\"col_heading level0 col5\" >5</th>        <th class=\"col_heading level0 col6\" >6</th>        <th class=\"col_heading level0 col7\" >7</th>        <th class=\"col_heading level0 col8\" >8</th>        <th class=\"col_heading level0 col9\" >9</th>        <th class=\"col_heading level0 col10\" >10</th>        <th class=\"col_heading level0 col11\" >11</th>        <th class=\"col_heading level0 col12\" >12</th>        <th class=\"col_heading level0 col13\" >13</th>    </tr></thead><tbody>\n",
       "                <tr>\n",
       "                        <th id=\"T_af07aa78_b39a_11ea_a013_0242ac160003level0_row0\" class=\"row_heading level0 row0\" >0</th>\n",
       "                        <td id=\"T_af07aa78_b39a_11ea_a013_0242ac160003row0_col0\" class=\"data row0 col0\" >The</td>\n",
       "                        <td id=\"T_af07aa78_b39a_11ea_a013_0242ac160003row0_col1\" class=\"data row0 col1\" >president</td>\n",
       "                        <td id=\"T_af07aa78_b39a_11ea_a013_0242ac160003row0_col2\" class=\"data row0 col2\" >of</td>\n",
       "                        <td id=\"T_af07aa78_b39a_11ea_a013_0242ac160003row0_col3\" class=\"data row0 col3\" >the</td>\n",
       "                        <td id=\"T_af07aa78_b39a_11ea_a013_0242ac160003row0_col4\" class=\"data row0 col4\" >United</td>\n",
       "                        <td id=\"T_af07aa78_b39a_11ea_a013_0242ac160003row0_col5\" class=\"data row0 col5\" >States</td>\n",
       "                        <td id=\"T_af07aa78_b39a_11ea_a013_0242ac160003row0_col6\" class=\"data row0 col6\" >of</td>\n",
       "                        <td id=\"T_af07aa78_b39a_11ea_a013_0242ac160003row0_col7\" class=\"data row0 col7\" >America</td>\n",
       "                        <td id=\"T_af07aa78_b39a_11ea_a013_0242ac160003row0_col8\" class=\"data row0 col8\" >though</td>\n",
       "                        <td id=\"T_af07aa78_b39a_11ea_a013_0242ac160003row0_col9\" class=\"data row0 col9\" >they</td>\n",
       "                        <td id=\"T_af07aa78_b39a_11ea_a013_0242ac160003row0_col10\" class=\"data row0 col10\" >could</td>\n",
       "                        <td id=\"T_af07aa78_b39a_11ea_a013_0242ac160003row0_col11\" class=\"data row0 col11\" >win</td>\n",
       "                        <td id=\"T_af07aa78_b39a_11ea_a013_0242ac160003row0_col12\" class=\"data row0 col12\" >the</td>\n",
       "                        <td id=\"T_af07aa78_b39a_11ea_a013_0242ac160003row0_col13\" class=\"data row0 col13\" >war</td>\n",
       "            </tr>\n",
       "            <tr>\n",
       "                        <th id=\"T_af07aa78_b39a_11ea_a013_0242ac160003level0_row1\" class=\"row_heading level0 row1\" >1</th>\n",
       "                        <td id=\"T_af07aa78_b39a_11ea_a013_0242ac160003row1_col0\" class=\"data row1 col0\" >O</td>\n",
       "                        <td id=\"T_af07aa78_b39a_11ea_a013_0242ac160003row1_col1\" class=\"data row1 col1\" >O</td>\n",
       "                        <td id=\"T_af07aa78_b39a_11ea_a013_0242ac160003row1_col2\" class=\"data row1 col2\" >O</td>\n",
       "                        <td id=\"T_af07aa78_b39a_11ea_a013_0242ac160003row1_col3\" class=\"data row1 col3\" >O</td>\n",
       "                        <td id=\"T_af07aa78_b39a_11ea_a013_0242ac160003row1_col4\" class=\"data row1 col4\" >B-geo</td>\n",
       "                        <td id=\"T_af07aa78_b39a_11ea_a013_0242ac160003row1_col5\" class=\"data row1 col5\" >I-geo</td>\n",
       "                        <td id=\"T_af07aa78_b39a_11ea_a013_0242ac160003row1_col6\" class=\"data row1 col6\" >I-geo</td>\n",
       "                        <td id=\"T_af07aa78_b39a_11ea_a013_0242ac160003row1_col7\" class=\"data row1 col7\" >I-geo</td>\n",
       "                        <td id=\"T_af07aa78_b39a_11ea_a013_0242ac160003row1_col8\" class=\"data row1 col8\" >O</td>\n",
       "                        <td id=\"T_af07aa78_b39a_11ea_a013_0242ac160003row1_col9\" class=\"data row1 col9\" >O</td>\n",
       "                        <td id=\"T_af07aa78_b39a_11ea_a013_0242ac160003row1_col10\" class=\"data row1 col10\" >O</td>\n",
       "                        <td id=\"T_af07aa78_b39a_11ea_a013_0242ac160003row1_col11\" class=\"data row1 col11\" >O</td>\n",
       "                        <td id=\"T_af07aa78_b39a_11ea_a013_0242ac160003row1_col12\" class=\"data row1 col12\" >O</td>\n",
       "                        <td id=\"T_af07aa78_b39a_11ea_a013_0242ac160003row1_col13\" class=\"data row1 col13\" >O</td>\n",
       "            </tr>\n",
       "    </tbody></table>"
      ],
      "text/plain": [
       "<pandas.io.formats.style.Styler at 0x7f535f302490>"
      ]
     },
     "metadata": {},
     "output_type": "display_data"
    },
    {
     "data": {
      "text/html": [
       "<style  type=\"text/css\" >\n",
       "</style><table id=\"T_af094860_b39a_11ea_a013_0242ac160003\" ><thead>    <tr>        <th class=\"blank level0\" ></th>        <th class=\"col_heading level0 col0\" >0</th>        <th class=\"col_heading level0 col1\" >1</th>        <th class=\"col_heading level0 col2\" >2</th>        <th class=\"col_heading level0 col3\" >3</th>        <th class=\"col_heading level0 col4\" >4</th>        <th class=\"col_heading level0 col5\" >5</th>        <th class=\"col_heading level0 col6\" >6</th>        <th class=\"col_heading level0 col7\" >7</th>    </tr></thead><tbody>\n",
       "                <tr>\n",
       "                        <th id=\"T_af094860_b39a_11ea_a013_0242ac160003level0_row0\" class=\"row_heading level0 row0\" >0</th>\n",
       "                        <td id=\"T_af094860_b39a_11ea_a013_0242ac160003row0_col0\" class=\"data row0 col0\" >The</td>\n",
       "                        <td id=\"T_af094860_b39a_11ea_a013_0242ac160003row0_col1\" class=\"data row0 col1\" >king</td>\n",
       "                        <td id=\"T_af094860_b39a_11ea_a013_0242ac160003row0_col2\" class=\"data row0 col2\" >of</td>\n",
       "                        <td id=\"T_af094860_b39a_11ea_a013_0242ac160003row0_col3\" class=\"data row0 col3\" >Saudi</td>\n",
       "                        <td id=\"T_af094860_b39a_11ea_a013_0242ac160003row0_col4\" class=\"data row0 col4\" >Arabia</td>\n",
       "                        <td id=\"T_af094860_b39a_11ea_a013_0242ac160003row0_col5\" class=\"data row0 col5\" >wanted</td>\n",
       "                        <td id=\"T_af094860_b39a_11ea_a013_0242ac160003row0_col6\" class=\"data row0 col6\" >total</td>\n",
       "                        <td id=\"T_af094860_b39a_11ea_a013_0242ac160003row0_col7\" class=\"data row0 col7\" >control.</td>\n",
       "            </tr>\n",
       "            <tr>\n",
       "                        <th id=\"T_af094860_b39a_11ea_a013_0242ac160003level0_row1\" class=\"row_heading level0 row1\" >1</th>\n",
       "                        <td id=\"T_af094860_b39a_11ea_a013_0242ac160003row1_col0\" class=\"data row1 col0\" >O</td>\n",
       "                        <td id=\"T_af094860_b39a_11ea_a013_0242ac160003row1_col1\" class=\"data row1 col1\" >O</td>\n",
       "                        <td id=\"T_af094860_b39a_11ea_a013_0242ac160003row1_col2\" class=\"data row1 col2\" >O</td>\n",
       "                        <td id=\"T_af094860_b39a_11ea_a013_0242ac160003row1_col3\" class=\"data row1 col3\" >O</td>\n",
       "                        <td id=\"T_af094860_b39a_11ea_a013_0242ac160003row1_col4\" class=\"data row1 col4\" >O</td>\n",
       "                        <td id=\"T_af094860_b39a_11ea_a013_0242ac160003row1_col5\" class=\"data row1 col5\" >O</td>\n",
       "                        <td id=\"T_af094860_b39a_11ea_a013_0242ac160003row1_col6\" class=\"data row1 col6\" >O</td>\n",
       "                        <td id=\"T_af094860_b39a_11ea_a013_0242ac160003row1_col7\" class=\"data row1 col7\" >O</td>\n",
       "            </tr>\n",
       "    </tbody></table>"
      ],
      "text/plain": [
       "<pandas.io.formats.style.Styler at 0x7f53ad560ed0>"
      ]
     },
     "metadata": {},
     "output_type": "display_data"
    },
    {
     "data": {
      "text/html": [
       "<style  type=\"text/css\" >\n",
       "</style><table id=\"T_af0a532c_b39a_11ea_a013_0242ac160003\" ><thead>    <tr>        <th class=\"blank level0\" ></th>        <th class=\"col_heading level0 col0\" >0</th>        <th class=\"col_heading level0 col1\" >1</th>        <th class=\"col_heading level0 col2\" >2</th>        <th class=\"col_heading level0 col3\" >3</th>        <th class=\"col_heading level0 col4\" >4</th>        <th class=\"col_heading level0 col5\" >5</th>        <th class=\"col_heading level0 col6\" >6</th>        <th class=\"col_heading level0 col7\" >7</th>        <th class=\"col_heading level0 col8\" >8</th>    </tr></thead><tbody>\n",
       "                <tr>\n",
       "                        <th id=\"T_af0a532c_b39a_11ea_a013_0242ac160003level0_row0\" class=\"row_heading level0 row0\" >0</th>\n",
       "                        <td id=\"T_af0a532c_b39a_11ea_a013_0242ac160003row0_col0\" class=\"data row0 col0\" >Robin</td>\n",
       "                        <td id=\"T_af0a532c_b39a_11ea_a013_0242ac160003row0_col1\" class=\"data row0 col1\" >does</td>\n",
       "                        <td id=\"T_af0a532c_b39a_11ea_a013_0242ac160003row0_col2\" class=\"data row0 col2\" >not</td>\n",
       "                        <td id=\"T_af0a532c_b39a_11ea_a013_0242ac160003row0_col3\" class=\"data row0 col3\" >want</td>\n",
       "                        <td id=\"T_af0a532c_b39a_11ea_a013_0242ac160003row0_col4\" class=\"data row0 col4\" >to</td>\n",
       "                        <td id=\"T_af0a532c_b39a_11ea_a013_0242ac160003row0_col5\" class=\"data row0 col5\" >go</td>\n",
       "                        <td id=\"T_af0a532c_b39a_11ea_a013_0242ac160003row0_col6\" class=\"data row0 col6\" >to</td>\n",
       "                        <td id=\"T_af0a532c_b39a_11ea_a013_0242ac160003row0_col7\" class=\"data row0 col7\" >Saudi</td>\n",
       "                        <td id=\"T_af0a532c_b39a_11ea_a013_0242ac160003row0_col8\" class=\"data row0 col8\" >Arabia.</td>\n",
       "            </tr>\n",
       "            <tr>\n",
       "                        <th id=\"T_af0a532c_b39a_11ea_a013_0242ac160003level0_row1\" class=\"row_heading level0 row1\" >1</th>\n",
       "                        <td id=\"T_af0a532c_b39a_11ea_a013_0242ac160003row1_col0\" class=\"data row1 col0\" >O</td>\n",
       "                        <td id=\"T_af0a532c_b39a_11ea_a013_0242ac160003row1_col1\" class=\"data row1 col1\" >O</td>\n",
       "                        <td id=\"T_af0a532c_b39a_11ea_a013_0242ac160003row1_col2\" class=\"data row1 col2\" >O</td>\n",
       "                        <td id=\"T_af0a532c_b39a_11ea_a013_0242ac160003row1_col3\" class=\"data row1 col3\" >O</td>\n",
       "                        <td id=\"T_af0a532c_b39a_11ea_a013_0242ac160003row1_col4\" class=\"data row1 col4\" >O</td>\n",
       "                        <td id=\"T_af0a532c_b39a_11ea_a013_0242ac160003row1_col5\" class=\"data row1 col5\" >O</td>\n",
       "                        <td id=\"T_af0a532c_b39a_11ea_a013_0242ac160003row1_col6\" class=\"data row1 col6\" >O</td>\n",
       "                        <td id=\"T_af0a532c_b39a_11ea_a013_0242ac160003row1_col7\" class=\"data row1 col7\" >O</td>\n",
       "                        <td id=\"T_af0a532c_b39a_11ea_a013_0242ac160003row1_col8\" class=\"data row1 col8\" >O</td>\n",
       "            </tr>\n",
       "    </tbody></table>"
      ],
      "text/plain": [
       "<pandas.io.formats.style.Styler at 0x7f53ad56bc90>"
      ]
     },
     "metadata": {},
     "output_type": "display_data"
    },
    {
     "data": {
      "text/html": [
       "<style  type=\"text/css\" >\n",
       "</style><table id=\"T_af0b55ce_b39a_11ea_a013_0242ac160003\" ><thead>    <tr>        <th class=\"blank level0\" ></th>        <th class=\"col_heading level0 col0\" >0</th>        <th class=\"col_heading level0 col1\" >1</th>        <th class=\"col_heading level0 col2\" >2</th>        <th class=\"col_heading level0 col3\" >3</th>        <th class=\"col_heading level0 col4\" >4</th>    </tr></thead><tbody>\n",
       "                <tr>\n",
       "                        <th id=\"T_af0b55ce_b39a_11ea_a013_0242ac160003level0_row0\" class=\"row_heading level0 row0\" >0</th>\n",
       "                        <td id=\"T_af0b55ce_b39a_11ea_a013_0242ac160003row0_col0\" class=\"data row0 col0\" >Apple</td>\n",
       "                        <td id=\"T_af0b55ce_b39a_11ea_a013_0242ac160003row0_col1\" class=\"data row0 col1\" >is</td>\n",
       "                        <td id=\"T_af0b55ce_b39a_11ea_a013_0242ac160003row0_col2\" class=\"data row0 col2\" >a</td>\n",
       "                        <td id=\"T_af0b55ce_b39a_11ea_a013_0242ac160003row0_col3\" class=\"data row0 col3\" >great</td>\n",
       "                        <td id=\"T_af0b55ce_b39a_11ea_a013_0242ac160003row0_col4\" class=\"data row0 col4\" >company.</td>\n",
       "            </tr>\n",
       "            <tr>\n",
       "                        <th id=\"T_af0b55ce_b39a_11ea_a013_0242ac160003level0_row1\" class=\"row_heading level0 row1\" >1</th>\n",
       "                        <td id=\"T_af0b55ce_b39a_11ea_a013_0242ac160003row1_col0\" class=\"data row1 col0\" >O</td>\n",
       "                        <td id=\"T_af0b55ce_b39a_11ea_a013_0242ac160003row1_col1\" class=\"data row1 col1\" >O</td>\n",
       "                        <td id=\"T_af0b55ce_b39a_11ea_a013_0242ac160003row1_col2\" class=\"data row1 col2\" >O</td>\n",
       "                        <td id=\"T_af0b55ce_b39a_11ea_a013_0242ac160003row1_col3\" class=\"data row1 col3\" >O</td>\n",
       "                        <td id=\"T_af0b55ce_b39a_11ea_a013_0242ac160003row1_col4\" class=\"data row1 col4\" >O</td>\n",
       "            </tr>\n",
       "    </tbody></table>"
      ],
      "text/plain": [
       "<pandas.io.formats.style.Styler at 0x7f5357f24450>"
      ]
     },
     "metadata": {},
     "output_type": "display_data"
    },
    {
     "data": {
      "text/html": [
       "<style  type=\"text/css\" >\n",
       "</style><table id=\"T_af0c8336_b39a_11ea_a013_0242ac160003\" ><thead>    <tr>        <th class=\"blank level0\" ></th>        <th class=\"col_heading level0 col0\" >0</th>        <th class=\"col_heading level0 col1\" >1</th>        <th class=\"col_heading level0 col2\" >2</th>        <th class=\"col_heading level0 col3\" >3</th>        <th class=\"col_heading level0 col4\" >4</th>        <th class=\"col_heading level0 col5\" >5</th>    </tr></thead><tbody>\n",
       "                <tr>\n",
       "                        <th id=\"T_af0c8336_b39a_11ea_a013_0242ac160003level0_row0\" class=\"row_heading level0 row0\" >0</th>\n",
       "                        <td id=\"T_af0c8336_b39a_11ea_a013_0242ac160003row0_col0\" class=\"data row0 col0\" >I</td>\n",
       "                        <td id=\"T_af0c8336_b39a_11ea_a013_0242ac160003row0_col1\" class=\"data row0 col1\" >really</td>\n",
       "                        <td id=\"T_af0c8336_b39a_11ea_a013_0242ac160003row0_col2\" class=\"data row0 col2\" >love</td>\n",
       "                        <td id=\"T_af0c8336_b39a_11ea_a013_0242ac160003row0_col3\" class=\"data row0 col3\" >apples</td>\n",
       "                        <td id=\"T_af0c8336_b39a_11ea_a013_0242ac160003row0_col4\" class=\"data row0 col4\" >and</td>\n",
       "                        <td id=\"T_af0c8336_b39a_11ea_a013_0242ac160003row0_col5\" class=\"data row0 col5\" >oranges.</td>\n",
       "            </tr>\n",
       "            <tr>\n",
       "                        <th id=\"T_af0c8336_b39a_11ea_a013_0242ac160003level0_row1\" class=\"row_heading level0 row1\" >1</th>\n",
       "                        <td id=\"T_af0c8336_b39a_11ea_a013_0242ac160003row1_col0\" class=\"data row1 col0\" >O</td>\n",
       "                        <td id=\"T_af0c8336_b39a_11ea_a013_0242ac160003row1_col1\" class=\"data row1 col1\" >O</td>\n",
       "                        <td id=\"T_af0c8336_b39a_11ea_a013_0242ac160003row1_col2\" class=\"data row1 col2\" >O</td>\n",
       "                        <td id=\"T_af0c8336_b39a_11ea_a013_0242ac160003row1_col3\" class=\"data row1 col3\" >O</td>\n",
       "                        <td id=\"T_af0c8336_b39a_11ea_a013_0242ac160003row1_col4\" class=\"data row1 col4\" >O</td>\n",
       "                        <td id=\"T_af0c8336_b39a_11ea_a013_0242ac160003row1_col5\" class=\"data row1 col5\" >O</td>\n",
       "            </tr>\n",
       "    </tbody></table>"
      ],
      "text/plain": [
       "<pandas.io.formats.style.Styler at 0x7f53ad560190>"
      ]
     },
     "metadata": {},
     "output_type": "display_data"
    }
   ],
   "source": [
    "for sentence in TEST_SENTENCES:\n",
    "    splited = sentence.split()\n",
    "    splited = splited[:-1] + [splited[-1]] if splited[-1]=='.' else splited\n",
    "    pred = hmm.predict_labels(splited)\n",
    "    df = pd.DataFrame([splited, pred])\n",
    "    display(df.style)"
   ]
  },
  {
   "cell_type": "markdown",
   "metadata": {},
   "source": [
    "# Structured perceptron"
   ]
  },
  {
   "cell_type": "code",
   "execution_count": 19,
   "metadata": {},
   "outputs": [],
   "source": [
    "from skseq.sequences.sequence_list import SequenceList\n",
    "from skseq.sequences.sequence import Sequence\n",
    "from skseq.sequences.label_dictionary import LabelDictionary\n",
    "\n",
    "x_dict = LabelDictionary(label_names=data['Word'].unique())\n",
    "y_dict = LabelDictionary(label_names=data['Tag'].unique())\n",
    "\n",
    "train_seq_list = SequenceList(x_dict, y_dict)\n",
    "for x,y in zip(X_train_txt, Y_train_txt):\n",
    "    train_seq_list.add_sequence(x, y, x_dict, y_dict)\n",
    "\n",
    "test_seq_list = SequenceList(x_dict, y_dict)\n",
    "for x,y in zip(X_test_txt, Y_test_txt):\n",
    "    test_seq_list.add_sequence(x, y, x_dict, y_dict)"
   ]
  },
  {
   "cell_type": "code",
   "execution_count": 20,
   "metadata": {},
   "outputs": [],
   "source": [
    "class BK_Tree():    \n",
    "    def __init__(self, documents):\n",
    "        self.root = Node(documents[0][0])\n",
    "        for seq in documents:\n",
    "            for word in seq:\n",
    "                self.root.append(word)\n",
    "        \n",
    "    def append(self, word):\n",
    "        self.root.append(word)\n",
    "        \n",
    "    def is_in_corpus(self, new_word):\n",
    "        return self.root.is_in_corpus(new_word)\n",
    "        \n",
    "        \n",
    "class Node():    \n",
    "    def __init__(self, word):\n",
    "        self.word = word\n",
    "        self.dict_dist = {}\n",
    "    \n",
    "    def is_in_corpus(self, new_word):\n",
    "        if self.word == new_word:\n",
    "            return True\n",
    "        dist = editdistance.eval(self.word, new_word)\n",
    "        if dist not in self.dict_dist:\n",
    "            return False\n",
    "        return self.dict_dist[dist].is_in_corpus(new_word)\n",
    "    \n",
    "    def append(self, new_word):\n",
    "        dist = editdistance.eval(self.word, new_word)\n",
    "        if dist not in self.dict_dist:\n",
    "            if self.word!=new_word:\n",
    "                self.dict_dist[dist] = Node(new_word)\n",
    "        else:\n",
    "            self.dict_dist[dist].append(new_word)    \n",
    "            \n",
    "            \n",
    "def edit_ditance_word(mistake, X_train_txt):\n",
    "    # mistake = \"Barchelona\" \n",
    "    corpus = [w for seq in X_train_txt for w in seq]\n",
    "    distances = [editdistance.eval(mistake, word) for word in corpus]\n",
    "    return corpus[np.argmin(distances)], min(distances)"
   ]
  },
  {
   "cell_type": "code",
   "execution_count": 21,
   "metadata": {},
   "outputs": [],
   "source": [
    "# You can improve the results adding more features\n",
    "\n",
    "# from skseq.sequences import extended_feature\n",
    "# feature_mapper = skseq.sequences.extended_feature.ExtendedFeatures(train_seq_list)"
   ]
  },
  {
   "cell_type": "code",
   "execution_count": 22,
   "metadata": {},
   "outputs": [
    {
     "name": "stdout",
     "output_type": "stream",
     "text": [
      "Feature dict length: 38298\n",
      "Feature list length: 35971\n"
     ]
    }
   ],
   "source": [
    "feature_mapper = skseq.sequences.id_feature.IDFeatures(train_seq_list)\n",
    "feature_mapper.build_features()\n",
    "\n",
    "print('Feature dict length:', len(feature_mapper.feature_dict))\n",
    "print('Feature list length:', len(feature_mapper.feature_list))\n",
    "\n",
    "import skseq.sequences.structured_perceptron_validation as spc\n",
    "# sp = spc.StructuredPerceptron(corpus.word_dict, corpus.tag_dict, feature_mapper)\n",
    "sp = spc.StructuredPerceptronValidation(x_dict, y_dict, feature_mapper, averaged=False)\n",
    "\n",
    "\n",
    "def train_perceptron(load_no_fit = True, num_epochs = 50, epochs_before_stopping = 5, dir_to_params = './'):\n",
    "    if not load_no_fit:\n",
    "        print('Training for %i epochs with early stopping after %i epochs of no improvement' % (num_epochs, epochs_before_stopping))\n",
    "#         %time sp.fit(dummy_seq_list, val_seq_list, num_epochs, epochs_before_stopping, dir_to_params)\n",
    "        %time sp.fit(train_seq_list, test_seq_list, num_epochs, epochs_before_stopping, dir_to_params)\n",
    "    else:\n",
    "        sp.load_model(dir_to_params)\n",
    "        \n",
    "        \n",
    "import pandas as pd\n",
    "from IPython.core import display as ICD\n"
   ]
  },
  {
   "cell_type": "code",
   "execution_count": 23,
   "metadata": {},
   "outputs": [],
   "source": [
    "def evaluate_corpus(sequences, sequences_predictions):\n",
    "    total = 0.0\n",
    "    correct = 0.0\n",
    "    num_correct_sequences = 0\n",
    "    for i, sequence in enumerate(sequences):\n",
    "        pred = sequences_predictions[i]\n",
    "        whole_prediction_correct = True\n",
    "        for j, y_hat in enumerate(pred.y):\n",
    "            if sequence.y[j] == y_hat:\n",
    "                correct += 1\n",
    "            else:\n",
    "                whole_prediction_correct = False\n",
    "            total += 1\n",
    "        if whole_prediction_correct: num_correct_sequences += 1\n",
    "    return correct / total, num_correct_sequences\n",
    "\n",
    "def evaluate_perceptron():\n",
    "    # Make predictions for the various sequences using the trained model.\n",
    "    pred_train = sp.viterbi_decode_corpus(train_seq_list)\n",
    "    pred_test  = sp.viterbi_decode_corpus(test_seq_list)\n",
    "\n",
    "    # Evaluate and print accuracies\n",
    "    eval_train, num_correct_train = evaluate_corpus(train_seq_list.seq_list, pred_train)\n",
    "    eval_test, num_correct_test = evaluate_corpus(test_seq_list.seq_list, pred_test)\n",
    "\n",
    "    print(\"SP -  Accuracy Train: %.3f Test: %.3f\"%(eval_train, eval_test))\n",
    "    \n",
    "    print('Correctly predicted sequences in Train:', num_correct_train)\n",
    "    print('Correctly predicted sequences in Test:', num_correct_test)\n",
    "    print('Total correctly predicted sequences:', num_correct_train+num_correct_test)\n",
    "    \n",
    "    return pred_train, pred_test\n",
    "    \n",
    "def predict_text_tags(seq, nice_format=False, change_word=False, sensibility=2):\n",
    "    assert isinstance(seq, str) or isinstance(seq, list), \"The input must be a sentence (string format or a list of words)\"\n",
    "    corpus = list(itertools.chain(*X_train_txt)) ###\n",
    "    \n",
    "    if isinstance(seq, str):\n",
    "        seq = seq.split()      \n",
    "    \n",
    "    num2lab = {v:k for k,v in sp.state_labels.items()}\n",
    "    if nice_format:\n",
    "        grp = pd.DataFrame([seq, [num2lab[w] for w in sp.predict_tags_given_words(seq)]], \n",
    "                           index=[\"Words\", \"Tags\"], columns=[\"W_{:02d}\".format(i) for i in range(len(seq))])   \n",
    "        grp = grp.style.applymap(lambda x: 'color: blue' if x != 'O' and x in sp.state_labels else 'color: black')\n",
    "        ICD.display(grp)\n",
    "        \n",
    "    else:\n",
    "        res = \"\"\n",
    "        for o, w in zip(seq, sp.predict_tags_given_words(seq)):\n",
    "            if o not in corpus:                                         ###\n",
    "                correct_o, dist = edit_ditance_word(o, X_train_txt)\n",
    "                if dist <= sensibility:\n",
    "                    seq[seq.index(o)] = correct_o\n",
    "                    w = sp.predict_tags_given_words(seq)[seq.index(correct_o)]\n",
    "                    if change_word:\n",
    "                        o = correct_o\n",
    "            ft = \" {}/{}\" if num2lab[w]=='O' else \" {}/\\x1b[34m{}\\x1b[0m\"\n",
    "            res += ft.format(o, num2lab[w]) \n",
    "        print(res)\n",
    "    \n",
    "    \n",
    "def predict_batch_text_tags(batch, nice_format=False, change_word=False, sensibility=2):\n",
    "    all_s = sum(isinstance(seq, str) for seq in batch)\n",
    "    all_l = sum(isinstance(seq, list) for seq in batch)\n",
    "    assert all_s==0 or all_l==0, \"The inputs must be sentences (string format or lists of words)\"\n",
    "\n",
    "    for b in batch:\n",
    "        predict_text_tags(b, nice_format, change_word, sensibility)\n",
    "        \n",
    "        \n",
    "def word_in_corpus(phrase):\n",
    "    corpus = list(itertools.chain(*X_train_txt)) # Use train words\n",
    "    for i in range(len(phrase)):\n",
    "        if phrase[i] not in corpus:\n",
    "            print(phrase[i])\n",
    "            palabra, dist = edit_ditance_word(phrase[i])\n",
    "            if dist==1:\n",
    "                phrase[i] = palabra\n",
    "    return phrase\n",
    "\n",
    "\n",
    "def edit_ditance_word(mistake, X_train_txt):\n",
    "    # mistake = \"Barchelona\" \n",
    "    corpus = [w for seq in X_train_txt for w in seq]\n",
    "    distances = [editdistance.eval(mistake, word) for word in corpus]\n",
    "    return corpus[np.argmin(distances)], min(distances)"
   ]
  },
  {
   "cell_type": "code",
   "execution_count": 24,
   "metadata": {},
   "outputs": [],
   "source": [
    "train_perceptron(load_no_fit=True)"
   ]
  },
  {
   "cell_type": "code",
   "execution_count": 25,
   "metadata": {},
   "outputs": [
    {
     "data": {
      "application/vnd.jupyter.widget-view+json": {
       "model_id": "",
       "version_major": 2,
       "version_minor": 0
      },
      "text/plain": [
       "HBox(children=(FloatProgress(value=0.0, description='Decoding', max=35971.0, style=ProgressStyle(description_w…"
      ]
     },
     "metadata": {},
     "output_type": "display_data"
    },
    {
     "data": {
      "application/vnd.jupyter.widget-view+json": {
       "model_id": "",
       "version_major": 2,
       "version_minor": 0
      },
      "text/plain": [
       "HBox(children=(FloatProgress(value=0.0, description='Decoding', max=11988.0, style=ProgressStyle(description_w…"
      ]
     },
     "metadata": {},
     "output_type": "display_data"
    },
    {
     "name": "stdout",
     "output_type": "stream",
     "text": [
      "SP -  Accuracy Train: 0.969 Test: 0.955\n",
      "Correctly predicted sequences in Train: 23244\n",
      "Correctly predicted sequences in Test: 6602\n",
      "Total correctly predicted sequences: 29846\n"
     ]
    }
   ],
   "source": [
    "pred_train, pred_test = evaluate_perceptron()\n",
    "\n",
    "tags = list(map(lambda x: sp.state_labels[x], data[\"Tag\"].unique()))\n",
    "\n",
    "train_conf = np.zeros((len(tags), len(tags)))\n",
    "for train_pred, train_true in zip(pred_train, train_seq_list.seq_list):\n",
    "    for i in range(len(train_true.y)):\n",
    "        train_conf[train_pred.y[i], train_true.y[i]] += 1\n",
    "\n",
    "test_conf = np.zeros((len(tags), len(tags)))\n",
    "for test_pred, test_true in zip(pred_test, test_seq_list.seq_list):\n",
    "    for i in range(len(test_true.y)):\n",
    "        test_conf[test_pred.y[i], test_true.y[i]] += 1"
   ]
  },
  {
   "cell_type": "markdown",
   "metadata": {},
   "source": [
    "#### Train accuracy of 96.90%\n",
    "#### Test accuracy of 95.50%\n",
    "#### Total correctly predicted sequences: 29,846"
   ]
  },
  {
   "cell_type": "code",
   "execution_count": 53,
   "metadata": {},
   "outputs": [
    {
     "data": {
      "image/png": "[encoded data removed]",
      "text/plain": [
       "<Figure size 640x480 with 2 Axes>"
      ]
     },
     "metadata": {},
     "output_type": "display_data"
    },
    {
     "data": {
      "image/png": "[encoded data removed]",
      "text/plain": [
       "<Figure size 640x480 with 2 Axes>"
      ]
     },
     "metadata": {},
     "output_type": "display_data"
    }
   ],
   "source": [
    "from matplotlib.pyplot import figure\n",
    "num2label = {v:k for k,v in sp.state_labels.items()}\n",
    "\n",
    "normalized_train_conf = train_conf / np.sum(train_conf, axis=0)\n",
    "figure(num=None, figsize=(8, 6), dpi=80, facecolor='w', edgecolor='k')\n",
    "sn.heatmap(normalized_train_conf, annot=False, xticklabels=list(map(lambda x: num2label[x], tags)), yticklabels=list(map(lambda x: num2label[x], tags))).set_title(\"Train confusion matrix (normalized column-wise)\")\n",
    "plt.show()\n",
    "\n",
    "normalized_test_conf = test_conf / np.sum(test_conf, axis=0)\n",
    "figure(num=None, figsize=(8, 6), dpi=80, facecolor='w', edgecolor='k')\n",
    "sn.heatmap(normalized_test_conf, annot=False, xticklabels=list(map(lambda x: num2label[x], tags)), yticklabels=list(map(lambda x: num2label[x], tags))).set_title(\"Test confusion matrix (normalized column-wise)\")\n",
    "plt.show()"
   ]
  },
  {
   "cell_type": "markdown",
   "metadata": {},
   "source": [
    "The columns correspond to ground truth tags and the rows to the predicted tags. Both confusion matrices have been normalized column-wise (with respect ot the ground truth of the dataset) since there are several outliers when not normalizing the values (plotting with the count values). Compared to the HMM model, the test confusion matrix no longer shows a large amount of incorrectly classified 'O' tags. The tags 'I-art' and 'B-art' are still not correctly identified (in both HMM and SP). We can also detect some tags in which there is some confusion with the tag 'O' like the tags 'B-nat' and 'I-nat'. Additionally, the pairs of tags 'I-art'-'I-org' as well as the pair 'I-eve'-'I-org' are confused to some extent."
   ]
  },
  {
   "cell_type": "code",
   "execution_count": 62,
   "metadata": {},
   "outputs": [
    {
     "name": "stdout",
     "output_type": "stream",
     "text": [
      " The/O programmers/O from/O Barcelona/\u001b[34mB-geo\u001b[0m might/O write/O a/O sentence/O without/O a/O spell/O checker/O ./O\n",
      " The/O programmers/O from/O Barchelona/\u001b[34mB-geo\u001b[0m cannot/O write/O a/O sentence/O without/O a/O spell/O checker/O ./O\n",
      " Jack/\u001b[34mB-per\u001b[0m London/\u001b[34mI-per\u001b[0m went/O to/O Parrris/\u001b[34mB-geo\u001b[0m ./O\n",
      " Jack/\u001b[34mB-per\u001b[0m London/\u001b[34mI-per\u001b[0m went/O to/O Paris/\u001b[34mB-geo\u001b[0m ./O\n",
      " We/O never/O though/O Microsoft/\u001b[34mB-org\u001b[0m would/O become/O such/O a/O big/O company/O ./O\n",
      " We/O never/O though/O Microsof/\u001b[34mB-org\u001b[0m would/O become/O such/O a/O big/O company/O ./O\n",
      " The/O president/O of/O U.S.A/\u001b[34mB-org\u001b[0m though/O they/O could/O win/O the/O war/O\n",
      " The/O president/O of/O the/O United/\u001b[34mB-geo\u001b[0m States/\u001b[34mI-geo\u001b[0m of/O America/\u001b[34mB-geo\u001b[0m though/O they/O could/O win/O the/O war/O\n",
      " The/O king/O of/O Saudi/\u001b[34mB-org\u001b[0m Arabia/\u001b[34mI-org\u001b[0m wanted/O total/O control/O ./O\n",
      " Robin/O does/O not/O want/O to/O go/O to/O Saudi/\u001b[34mB-org\u001b[0m Arabia/\u001b[34mI-org\u001b[0m ./O\n",
      " Apple/\u001b[34mB-org\u001b[0m is/O a/O great/O company/O ./O\n",
      " I/O really/O love/O apples/O and/O oranges/O ./O\n"
     ]
    }
   ],
   "source": [
    "predict_batch_text_tags(TEST_SENTENCES, nice_format=False, change_word=False, sensibility=2)"
   ]
  },
  {
   "cell_type": "markdown",
   "metadata": {},
   "source": [
    "Overall the TEST_SENTENCES have been all corectly tagged except for some specific words like the 'Robin' word being tagged as 'O'."
   ]
  },
  {
   "cell_type": "markdown",
   "metadata": {},
   "source": [
    "# BERT\n",
    "+ Bidirectional Encoder Representations from Transformers"
   ]
  },
  {
   "cell_type": "code",
   "execution_count": 291,
   "metadata": {},
   "outputs": [],
   "source": [
    "import pickle\n",
    "tag2idx = pickle.load(open('bert_tag2idx.pkl', 'rb'))"
   ]
  },
  {
   "cell_type": "code",
   "execution_count": 292,
   "metadata": {},
   "outputs": [],
   "source": [
    "import torch\n",
    "from torch.utils.data import TensorDataset, DataLoader, RandomSampler, SequentialSampler\n",
    "from transformers import BertTokenizer, BertConfig\n",
    "\n",
    "from keras.preprocessing.sequence import pad_sequences"
   ]
  },
  {
   "cell_type": "code",
   "execution_count": 293,
   "metadata": {},
   "outputs": [],
   "source": [
    "MAX_LEN = 75\n",
    "bs = 32"
   ]
  },
  {
   "cell_type": "code",
   "execution_count": 322,
   "metadata": {},
   "outputs": [
    {
     "data": {
      "text/plain": [
       "'GeForce RTX 2080 Ti'"
      ]
     },
     "execution_count": 322,
     "metadata": {},
     "output_type": "execute_result"
    }
   ],
   "source": [
    "# GPU \n",
    "gpu_id = 1\n",
    "\n",
    "device = torch.device(\"cuda:{}\".format(gpu_id) if torch.cuda.is_available() else \"cpu\")\n",
    "n_gpu = torch.cuda.device_count()\n",
    "torch.cuda.get_device_name(gpu_id)"
   ]
  },
  {
   "cell_type": "code",
   "execution_count": 323,
   "metadata": {},
   "outputs": [],
   "source": [
    "tokenizer = BertTokenizer.from_pretrained('bert-base-cased', do_lower_case=False)"
   ]
  },
  {
   "cell_type": "code",
   "execution_count": 324,
   "metadata": {},
   "outputs": [],
   "source": [
    "def tokenize_and_preserve_labels(sentence, text_labels):\n",
    "    tokenized_sentence = []\n",
    "    labels = []\n",
    "\n",
    "    for word, label in zip(sentence, text_labels):\n",
    "\n",
    "        # Tokenize the word and count # of subwords the word is broken into\n",
    "        tokenized_word = tokenizer.tokenize(word)\n",
    "        n_subwords = len(tokenized_word)\n",
    "\n",
    "        # Add the tokenized word to the final tokenized word list\n",
    "        tokenized_sentence.extend(tokenized_word)\n",
    "\n",
    "        # Add the same label to the new list of labels `n_subwords` times\n",
    "        labels.extend([label] * n_subwords)\n",
    "\n",
    "    return tokenized_sentence, labels\n"
   ]
  },
  {
   "cell_type": "code",
   "execution_count": 325,
   "metadata": {},
   "outputs": [
    {
     "data": {
      "application/vnd.jupyter.widget-view+json": {
       "model_id": "c6dc16568b8b406aa8c1bdb068152a81",
       "version_major": 2,
       "version_minor": 0
      },
      "text/plain": [
       "HBox(children=(FloatProgress(value=0.0, max=11988.0), HTML(value='')))"
      ]
     },
     "metadata": {},
     "output_type": "display_data"
    },
    {
     "name": "stdout",
     "output_type": "stream",
     "text": [
      "\n"
     ]
    }
   ],
   "source": [
    "tokenized_texts_and_labels = [tokenize_and_preserve_labels(sent, labs) for sent, labs in tqdm(zip(X_test_txt, Y_test_txt), total=len(X_test_txt))]"
   ]
  },
  {
   "cell_type": "code",
   "execution_count": 326,
   "metadata": {},
   "outputs": [],
   "source": [
    "tokenized_texts = [token_label_pair[0] for token_label_pair in tokenized_texts_and_labels]\n",
    "labels = [token_label_pair[1] for token_label_pair in tokenized_texts_and_labels]"
   ]
  },
  {
   "cell_type": "code",
   "execution_count": 327,
   "metadata": {},
   "outputs": [],
   "source": [
    "input_ids = pad_sequences([tokenizer.convert_tokens_to_ids(txt) for txt in tokenized_texts],\n",
    "                          maxlen=MAX_LEN, dtype=\"long\", value=0.0,\n",
    "                          truncating=\"post\", padding=\"post\")\n"
   ]
  },
  {
   "cell_type": "code",
   "execution_count": 328,
   "metadata": {},
   "outputs": [],
   "source": [
    "tags = pad_sequences([[tag2idx.get(l) for l in lab] for lab in labels],\n",
    "                     maxlen=MAX_LEN, value=tag2idx[\"PAD\"], padding=\"post\",\n",
    "                     dtype=\"long\", truncating=\"post\")"
   ]
  },
  {
   "cell_type": "code",
   "execution_count": 329,
   "metadata": {},
   "outputs": [],
   "source": [
    "attention_masks = [[float(i != 0.0) for i in ii] for ii in input_ids]"
   ]
  },
  {
   "cell_type": "code",
   "execution_count": 330,
   "metadata": {},
   "outputs": [],
   "source": [
    "inputs = torch.tensor(input_ids)\n",
    "tags = torch.tensor(tags)\n",
    "masks = torch.tensor(attention_masks)"
   ]
  },
  {
   "cell_type": "code",
   "execution_count": 331,
   "metadata": {},
   "outputs": [],
   "source": [
    "eval_data = TensorDataset(inputs, masks, tags)\n",
    "eval_sampler = RandomSampler(eval_data)\n",
    "eval_dataloader = DataLoader(eval_data, sampler=eval_sampler, batch_size=bs)"
   ]
  },
  {
   "cell_type": "code",
   "execution_count": 332,
   "metadata": {},
   "outputs": [],
   "source": [
    "import transformers\n",
    "from transformers import BertForTokenClassification, AdamW"
   ]
  },
  {
   "cell_type": "code",
   "execution_count": 333,
   "metadata": {},
   "outputs": [],
   "source": [
    "bert_model_to_load = \"BERT_ep_4_acc_0.9611.pt\""
   ]
  },
  {
   "cell_type": "code",
   "execution_count": 334,
   "metadata": {},
   "outputs": [
    {
     "data": {
      "text/plain": [
       "BertForTokenClassification(\n",
       "  (bert): BertModel(\n",
       "    (embeddings): BertEmbeddings(\n",
       "      (word_embeddings): Embedding(28996, 768, padding_idx=0)\n",
       "      (position_embeddings): Embedding(512, 768)\n",
       "      (token_type_embeddings): Embedding(2, 768)\n",
       "      (LayerNorm): LayerNorm((768,), eps=1e-12, elementwise_affine=True)\n",
       "      (dropout): Dropout(p=0.1, inplace=False)\n",
       "    )\n",
       "    (encoder): BertEncoder(\n",
       "      (layer): ModuleList(\n",
       "        (0): BertLayer(\n",
       "          (attention): BertAttention(\n",
       "            (self): BertSelfAttention(\n",
       "              (query): Linear(in_features=768, out_features=768, bias=True)\n",
       "              (key): Linear(in_features=768, out_features=768, bias=True)\n",
       "              (value): Linear(in_features=768, out_features=768, bias=True)\n",
       "              (dropout): Dropout(p=0.1, inplace=False)\n",
       "            )\n",
       "            (output): BertSelfOutput(\n",
       "              (dense): Linear(in_features=768, out_features=768, bias=True)\n",
       "              (LayerNorm): LayerNorm((768,), eps=1e-12, elementwise_affine=True)\n",
       "              (dropout): Dropout(p=0.1, inplace=False)\n",
       "            )\n",
       "          )\n",
       "          (intermediate): BertIntermediate(\n",
       "            (dense): Linear(in_features=768, out_features=3072, bias=True)\n",
       "          )\n",
       "          (output): BertOutput(\n",
       "            (dense): Linear(in_features=3072, out_features=768, bias=True)\n",
       "            (LayerNorm): LayerNorm((768,), eps=1e-12, elementwise_affine=True)\n",
       "            (dropout): Dropout(p=0.1, inplace=False)\n",
       "          )\n",
       "        )\n",
       "        (1): BertLayer(\n",
       "          (attention): BertAttention(\n",
       "            (self): BertSelfAttention(\n",
       "              (query): Linear(in_features=768, out_features=768, bias=True)\n",
       "              (key): Linear(in_features=768, out_features=768, bias=True)\n",
       "              (value): Linear(in_features=768, out_features=768, bias=True)\n",
       "              (dropout): Dropout(p=0.1, inplace=False)\n",
       "            )\n",
       "            (output): BertSelfOutput(\n",
       "              (dense): Linear(in_features=768, out_features=768, bias=True)\n",
       "              (LayerNorm): LayerNorm((768,), eps=1e-12, elementwise_affine=True)\n",
       "              (dropout): Dropout(p=0.1, inplace=False)\n",
       "            )\n",
       "          )\n",
       "          (intermediate): BertIntermediate(\n",
       "            (dense): Linear(in_features=768, out_features=3072, bias=True)\n",
       "          )\n",
       "          (output): BertOutput(\n",
       "            (dense): Linear(in_features=3072, out_features=768, bias=True)\n",
       "            (LayerNorm): LayerNorm((768,), eps=1e-12, elementwise_affine=True)\n",
       "            (dropout): Dropout(p=0.1, inplace=False)\n",
       "          )\n",
       "        )\n",
       "        (2): BertLayer(\n",
       "          (attention): BertAttention(\n",
       "            (self): BertSelfAttention(\n",
       "              (query): Linear(in_features=768, out_features=768, bias=True)\n",
       "              (key): Linear(in_features=768, out_features=768, bias=True)\n",
       "              (value): Linear(in_features=768, out_features=768, bias=True)\n",
       "              (dropout): Dropout(p=0.1, inplace=False)\n",
       "            )\n",
       "            (output): BertSelfOutput(\n",
       "              (dense): Linear(in_features=768, out_features=768, bias=True)\n",
       "              (LayerNorm): LayerNorm((768,), eps=1e-12, elementwise_affine=True)\n",
       "              (dropout): Dropout(p=0.1, inplace=False)\n",
       "            )\n",
       "          )\n",
       "          (intermediate): BertIntermediate(\n",
       "            (dense): Linear(in_features=768, out_features=3072, bias=True)\n",
       "          )\n",
       "          (output): BertOutput(\n",
       "            (dense): Linear(in_features=3072, out_features=768, bias=True)\n",
       "            (LayerNorm): LayerNorm((768,), eps=1e-12, elementwise_affine=True)\n",
       "            (dropout): Dropout(p=0.1, inplace=False)\n",
       "          )\n",
       "        )\n",
       "        (3): BertLayer(\n",
       "          (attention): BertAttention(\n",
       "            (self): BertSelfAttention(\n",
       "              (query): Linear(in_features=768, out_features=768, bias=True)\n",
       "              (key): Linear(in_features=768, out_features=768, bias=True)\n",
       "              (value): Linear(in_features=768, out_features=768, bias=True)\n",
       "              (dropout): Dropout(p=0.1, inplace=False)\n",
       "            )\n",
       "            (output): BertSelfOutput(\n",
       "              (dense): Linear(in_features=768, out_features=768, bias=True)\n",
       "              (LayerNorm): LayerNorm((768,), eps=1e-12, elementwise_affine=True)\n",
       "              (dropout): Dropout(p=0.1, inplace=False)\n",
       "            )\n",
       "          )\n",
       "          (intermediate): BertIntermediate(\n",
       "            (dense): Linear(in_features=768, out_features=3072, bias=True)\n",
       "          )\n",
       "          (output): BertOutput(\n",
       "            (dense): Linear(in_features=3072, out_features=768, bias=True)\n",
       "            (LayerNorm): LayerNorm((768,), eps=1e-12, elementwise_affine=True)\n",
       "            (dropout): Dropout(p=0.1, inplace=False)\n",
       "          )\n",
       "        )\n",
       "        (4): BertLayer(\n",
       "          (attention): BertAttention(\n",
       "            (self): BertSelfAttention(\n",
       "              (query): Linear(in_features=768, out_features=768, bias=True)\n",
       "              (key): Linear(in_features=768, out_features=768, bias=True)\n",
       "              (value): Linear(in_features=768, out_features=768, bias=True)\n",
       "              (dropout): Dropout(p=0.1, inplace=False)\n",
       "            )\n",
       "            (output): BertSelfOutput(\n",
       "              (dense): Linear(in_features=768, out_features=768, bias=True)\n",
       "              (LayerNorm): LayerNorm((768,), eps=1e-12, elementwise_affine=True)\n",
       "              (dropout): Dropout(p=0.1, inplace=False)\n",
       "            )\n",
       "          )\n",
       "          (intermediate): BertIntermediate(\n",
       "            (dense): Linear(in_features=768, out_features=3072, bias=True)\n",
       "          )\n",
       "          (output): BertOutput(\n",
       "            (dense): Linear(in_features=3072, out_features=768, bias=True)\n",
       "            (LayerNorm): LayerNorm((768,), eps=1e-12, elementwise_affine=True)\n",
       "            (dropout): Dropout(p=0.1, inplace=False)\n",
       "          )\n",
       "        )\n",
       "        (5): BertLayer(\n",
       "          (attention): BertAttention(\n",
       "            (self): BertSelfAttention(\n",
       "              (query): Linear(in_features=768, out_features=768, bias=True)\n",
       "              (key): Linear(in_features=768, out_features=768, bias=True)\n",
       "              (value): Linear(in_features=768, out_features=768, bias=True)\n",
       "              (dropout): Dropout(p=0.1, inplace=False)\n",
       "            )\n",
       "            (output): BertSelfOutput(\n",
       "              (dense): Linear(in_features=768, out_features=768, bias=True)\n",
       "              (LayerNorm): LayerNorm((768,), eps=1e-12, elementwise_affine=True)\n",
       "              (dropout): Dropout(p=0.1, inplace=False)\n",
       "            )\n",
       "          )\n",
       "          (intermediate): BertIntermediate(\n",
       "            (dense): Linear(in_features=768, out_features=3072, bias=True)\n",
       "          )\n",
       "          (output): BertOutput(\n",
       "            (dense): Linear(in_features=3072, out_features=768, bias=True)\n",
       "            (LayerNorm): LayerNorm((768,), eps=1e-12, elementwise_affine=True)\n",
       "            (dropout): Dropout(p=0.1, inplace=False)\n",
       "          )\n",
       "        )\n",
       "        (6): BertLayer(\n",
       "          (attention): BertAttention(\n",
       "            (self): BertSelfAttention(\n",
       "              (query): Linear(in_features=768, out_features=768, bias=True)\n",
       "              (key): Linear(in_features=768, out_features=768, bias=True)\n",
       "              (value): Linear(in_features=768, out_features=768, bias=True)\n",
       "              (dropout): Dropout(p=0.1, inplace=False)\n",
       "            )\n",
       "            (output): BertSelfOutput(\n",
       "              (dense): Linear(in_features=768, out_features=768, bias=True)\n",
       "              (LayerNorm): LayerNorm((768,), eps=1e-12, elementwise_affine=True)\n",
       "              (dropout): Dropout(p=0.1, inplace=False)\n",
       "            )\n",
       "          )\n",
       "          (intermediate): BertIntermediate(\n",
       "            (dense): Linear(in_features=768, out_features=3072, bias=True)\n",
       "          )\n",
       "          (output): BertOutput(\n",
       "            (dense): Linear(in_features=3072, out_features=768, bias=True)\n",
       "            (LayerNorm): LayerNorm((768,), eps=1e-12, elementwise_affine=True)\n",
       "            (dropout): Dropout(p=0.1, inplace=False)\n",
       "          )\n",
       "        )\n",
       "        (7): BertLayer(\n",
       "          (attention): BertAttention(\n",
       "            (self): BertSelfAttention(\n",
       "              (query): Linear(in_features=768, out_features=768, bias=True)\n",
       "              (key): Linear(in_features=768, out_features=768, bias=True)\n",
       "              (value): Linear(in_features=768, out_features=768, bias=True)\n",
       "              (dropout): Dropout(p=0.1, inplace=False)\n",
       "            )\n",
       "            (output): BertSelfOutput(\n",
       "              (dense): Linear(in_features=768, out_features=768, bias=True)\n",
       "              (LayerNorm): LayerNorm((768,), eps=1e-12, elementwise_affine=True)\n",
       "              (dropout): Dropout(p=0.1, inplace=False)\n",
       "            )\n",
       "          )\n",
       "          (intermediate): BertIntermediate(\n",
       "            (dense): Linear(in_features=768, out_features=3072, bias=True)\n",
       "          )\n",
       "          (output): BertOutput(\n",
       "            (dense): Linear(in_features=3072, out_features=768, bias=True)\n",
       "            (LayerNorm): LayerNorm((768,), eps=1e-12, elementwise_affine=True)\n",
       "            (dropout): Dropout(p=0.1, inplace=False)\n",
       "          )\n",
       "        )\n",
       "        (8): BertLayer(\n",
       "          (attention): BertAttention(\n",
       "            (self): BertSelfAttention(\n",
       "              (query): Linear(in_features=768, out_features=768, bias=True)\n",
       "              (key): Linear(in_features=768, out_features=768, bias=True)\n",
       "              (value): Linear(in_features=768, out_features=768, bias=True)\n",
       "              (dropout): Dropout(p=0.1, inplace=False)\n",
       "            )\n",
       "            (output): BertSelfOutput(\n",
       "              (dense): Linear(in_features=768, out_features=768, bias=True)\n",
       "              (LayerNorm): LayerNorm((768,), eps=1e-12, elementwise_affine=True)\n",
       "              (dropout): Dropout(p=0.1, inplace=False)\n",
       "            )\n",
       "          )\n",
       "          (intermediate): BertIntermediate(\n",
       "            (dense): Linear(in_features=768, out_features=3072, bias=True)\n",
       "          )\n",
       "          (output): BertOutput(\n",
       "            (dense): Linear(in_features=3072, out_features=768, bias=True)\n",
       "            (LayerNorm): LayerNorm((768,), eps=1e-12, elementwise_affine=True)\n",
       "            (dropout): Dropout(p=0.1, inplace=False)\n",
       "          )\n",
       "        )\n",
       "        (9): BertLayer(\n",
       "          (attention): BertAttention(\n",
       "            (self): BertSelfAttention(\n",
       "              (query): Linear(in_features=768, out_features=768, bias=True)\n",
       "              (key): Linear(in_features=768, out_features=768, bias=True)\n",
       "              (value): Linear(in_features=768, out_features=768, bias=True)\n",
       "              (dropout): Dropout(p=0.1, inplace=False)\n",
       "            )\n",
       "            (output): BertSelfOutput(\n",
       "              (dense): Linear(in_features=768, out_features=768, bias=True)\n",
       "              (LayerNorm): LayerNorm((768,), eps=1e-12, elementwise_affine=True)\n",
       "              (dropout): Dropout(p=0.1, inplace=False)\n",
       "            )\n",
       "          )\n",
       "          (intermediate): BertIntermediate(\n",
       "            (dense): Linear(in_features=768, out_features=3072, bias=True)\n",
       "          )\n",
       "          (output): BertOutput(\n",
       "            (dense): Linear(in_features=3072, out_features=768, bias=True)\n",
       "            (LayerNorm): LayerNorm((768,), eps=1e-12, elementwise_affine=True)\n",
       "            (dropout): Dropout(p=0.1, inplace=False)\n",
       "          )\n",
       "        )\n",
       "        (10): BertLayer(\n",
       "          (attention): BertAttention(\n",
       "            (self): BertSelfAttention(\n",
       "              (query): Linear(in_features=768, out_features=768, bias=True)\n",
       "              (key): Linear(in_features=768, out_features=768, bias=True)\n",
       "              (value): Linear(in_features=768, out_features=768, bias=True)\n",
       "              (dropout): Dropout(p=0.1, inplace=False)\n",
       "            )\n",
       "            (output): BertSelfOutput(\n",
       "              (dense): Linear(in_features=768, out_features=768, bias=True)\n",
       "              (LayerNorm): LayerNorm((768,), eps=1e-12, elementwise_affine=True)\n",
       "              (dropout): Dropout(p=0.1, inplace=False)\n",
       "            )\n",
       "          )\n",
       "          (intermediate): BertIntermediate(\n",
       "            (dense): Linear(in_features=768, out_features=3072, bias=True)\n",
       "          )\n",
       "          (output): BertOutput(\n",
       "            (dense): Linear(in_features=3072, out_features=768, bias=True)\n",
       "            (LayerNorm): LayerNorm((768,), eps=1e-12, elementwise_affine=True)\n",
       "            (dropout): Dropout(p=0.1, inplace=False)\n",
       "          )\n",
       "        )\n",
       "        (11): BertLayer(\n",
       "          (attention): BertAttention(\n",
       "            (self): BertSelfAttention(\n",
       "              (query): Linear(in_features=768, out_features=768, bias=True)\n",
       "              (key): Linear(in_features=768, out_features=768, bias=True)\n",
       "              (value): Linear(in_features=768, out_features=768, bias=True)\n",
       "              (dropout): Dropout(p=0.1, inplace=False)\n",
       "            )\n",
       "            (output): BertSelfOutput(\n",
       "              (dense): Linear(in_features=768, out_features=768, bias=True)\n",
       "              (LayerNorm): LayerNorm((768,), eps=1e-12, elementwise_affine=True)\n",
       "              (dropout): Dropout(p=0.1, inplace=False)\n",
       "            )\n",
       "          )\n",
       "          (intermediate): BertIntermediate(\n",
       "            (dense): Linear(in_features=768, out_features=3072, bias=True)\n",
       "          )\n",
       "          (output): BertOutput(\n",
       "            (dense): Linear(in_features=3072, out_features=768, bias=True)\n",
       "            (LayerNorm): LayerNorm((768,), eps=1e-12, elementwise_affine=True)\n",
       "            (dropout): Dropout(p=0.1, inplace=False)\n",
       "          )\n",
       "        )\n",
       "      )\n",
       "    )\n",
       "    (pooler): BertPooler(\n",
       "      (dense): Linear(in_features=768, out_features=768, bias=True)\n",
       "      (activation): Tanh()\n",
       "    )\n",
       "  )\n",
       "  (dropout): Dropout(p=0.1, inplace=False)\n",
       "  (classifier): Linear(in_features=768, out_features=18, bias=True)\n",
       ")"
      ]
     },
     "execution_count": 334,
     "metadata": {},
     "output_type": "execute_result"
    }
   ],
   "source": [
    "model = BertForTokenClassification.from_pretrained(\n",
    "    \"bert-base-cased\",\n",
    "    num_labels=len(tag2idx),\n",
    "    output_attentions = False,\n",
    "    output_hidden_states = False,\n",
    "    state_dict = torch.load(bert_model_to_load)\n",
    ")\n",
    "model.to(device=device)"
   ]
  },
  {
   "cell_type": "markdown",
   "metadata": {},
   "source": [
    "### Test set"
   ]
  },
  {
   "cell_type": "code",
   "execution_count": 335,
   "metadata": {},
   "outputs": [],
   "source": [
    "from seqeval.metrics import f1_score, accuracy_score"
   ]
  },
  {
   "cell_type": "code",
   "execution_count": 336,
   "metadata": {},
   "outputs": [
    {
     "data": {
      "application/vnd.jupyter.widget-view+json": {
       "model_id": "",
       "version_major": 2,
       "version_minor": 0
      },
      "text/plain": [
       "HBox(children=(FloatProgress(value=0.0, description='Validation', max=375.0, style=ProgressStyle(description_w…"
      ]
     },
     "metadata": {},
     "output_type": "display_data"
    }
   ],
   "source": [
    "eval_loss = 0\n",
    "predictions = []\n",
    "true_labels = []\n",
    "for batch in tqdm(eval_dataloader, desc=\"Validation\", leave=False):\n",
    "    batch = tuple(t.to(device) for t in batch)\n",
    "    b_input_ids, b_input_mask, b_labels = batch\n",
    "\n",
    "    # Telling the model not to compute or store gradients,\n",
    "    # saving memory and speeding up validation\n",
    "    with torch.no_grad():\n",
    "        # Forward pass, calculate logit predictions.\n",
    "        # This will return the logits rather than the loss because we have not provided labels.\n",
    "        outputs = model(b_input_ids, token_type_ids=None,\n",
    "                        attention_mask=b_input_mask, labels=b_labels)\n",
    "    # Move logits and labels to CPU\n",
    "    logits = outputs[1].detach().cpu().numpy()\n",
    "    label_ids = b_labels.to('cpu').numpy()\n",
    "\n",
    "    # Calculate the accuracy for this batch of test sentences.\n",
    "    eval_loss += outputs[0].mean().item()\n",
    "    predictions.extend([list(p) for p in np.argmax(logits, axis=2)])\n",
    "    true_labels.extend(label_ids)"
   ]
  },
  {
   "cell_type": "code",
   "execution_count": 310,
   "metadata": {},
   "outputs": [],
   "source": [
    "idx2tag = {v: k for k,v in tag2idx.items()}"
   ]
  },
  {
   "cell_type": "code",
   "execution_count": 313,
   "metadata": {},
   "outputs": [],
   "source": [
    "pred_tags = [idx2tag[p_i] for p, l in zip(predictions, true_labels)\n",
    "                             for p_i, l_i in zip(p, l) if idx2tag[l_i] != \"PAD\"]\n",
    "valid_tags = [idx2tag[l_i] for l in true_labels\n",
    "                              for l_i in l if idx2tag[l_i] != \"PAD\"]"
   ]
  },
  {
   "cell_type": "code",
   "execution_count": 314,
   "metadata": {},
   "outputs": [
    {
     "name": "stdout",
     "output_type": "stream",
     "text": [
      "Accuracy on test set: 0.96108\n"
     ]
    }
   ],
   "source": [
    "print(\"Accuracy on test set: {:5.5f}\".format(accuracy_score(pred_tags, valid_tags)))"
   ]
  },
  {
   "cell_type": "markdown",
   "metadata": {},
   "source": [
    "### Confusion matrix"
   ]
  },
  {
   "cell_type": "code",
   "execution_count": 315,
   "metadata": {},
   "outputs": [],
   "source": [
    "cnf_matrix = confusion_matrix(valid_tags, pred_tags, labels=list(tag2idx.keys())[:-1], )\n",
    "cnf_matrix_norm = cnf_matrix/np.sum(cnf_matrix, axis=0).astype(np.float32)"
   ]
  },
  {
   "cell_type": "code",
   "execution_count": 337,
   "metadata": {
    "scrolled": false
   },
   "outputs": [
    {
     "data": {
      "image/png": "[encoded data removed]",
      "text/plain": [
       "<Figure size 1440x720 with 2 Axes>"
      ]
     },
     "metadata": {
      "needs_background": "light"
     },
     "output_type": "display_data"
    }
   ],
   "source": [
    "plt.figure(figsize=(20,10))\n",
    "# cnf_matrix = confusion_matrix(valid_tags, pred_tags, labels=list(tag2idx.keys())[:-1], )\n",
    "df_cm = pd.DataFrame(cnf_matrix_norm, columns=list(tag2idx.keys())[:-1], index=list(tag2idx.keys())[:-1])\n",
    "sn.heatmap(df_cm, annot=True, fmt='.3f')\n",
    "b,t = plt.ylim()\n",
    "plt.ylim(b+0.5, t-0.5)\n",
    "plt.title(\"Confusion matrix (normalized)\")\n",
    "plt.xlabel(\"Predicted\")\n",
    "plt.ylabel(\"True Label\")\n",
    "plt.show()"
   ]
  },
  {
   "cell_type": "markdown",
   "metadata": {},
   "source": [
    "### Test sentences"
   ]
  },
  {
   "cell_type": "code",
   "execution_count": 321,
   "metadata": {},
   "outputs": [
    {
     "name": "stdout",
     "output_type": "stream",
     "text": [
      "The\\O programmers\\O from\\O Barcelona\u001b[34m\\B-geo\u001b[0m might\\O write\\O a\\O sentence\\O without\\O a\\O spell\\O checker\\O .\\O \n",
      "The\\O programmers\\O from\\O Barchelona\u001b[34m\\B-geo\u001b[0m cannot\\O write\\O a\\O sentence\\O without\\O a\\O spell\\O checker\\O .\\O \n",
      "Jack\u001b[34m\\B-per\u001b[0m London\u001b[34m\\I-per\u001b[0m went\\O to\\O Parrris\u001b[34m\\B-geo\u001b[0m .\\O \n",
      "Jack\u001b[34m\\B-per\u001b[0m London\u001b[34m\\I-per\u001b[0m went\\O to\\O Paris\u001b[34m\\B-geo\u001b[0m .\\O \n",
      "We\\O never\\O though\\O Microsoft\u001b[34m\\B-org\u001b[0m would\\O become\\O such\\O a\\O big\\O company\\O .\\O \n",
      "We\\O never\\O though\\O Microsof\u001b[34m\\B-org\u001b[0m would\\O become\\O such\\O a\\O big\\O company\\O .\\O \n",
      "The\\O president\\O of\\O U\u001b[34m\\B-org\u001b[0m .\u001b[34m\\B-org\u001b[0m S\u001b[34m\\B-org\u001b[0m .\u001b[34m\\B-org\u001b[0m A\u001b[34m\\B-org\u001b[0m though\\O they\\O could\\O win\\O the\\O war\\O \n",
      "The\\O president\\O of\\O the\\O United\u001b[34m\\B-geo\u001b[0m States\u001b[34m\\I-geo\u001b[0m of\u001b[34m\\I-geo\u001b[0m America\u001b[34m\\I-geo\u001b[0m though\\O they\\O could\\O win\\O the\\O war\\O \n",
      "The\\O king\\O of\\O Saudi\u001b[34m\\B-geo\u001b[0m Arabia\u001b[34m\\I-org\u001b[0m wanted\\O total\\O control\\O .\\O \n",
      "Robin\u001b[34m\\B-per\u001b[0m does\\O not\\O want\\O to\\O go\\O to\\O Saudi\u001b[34m\\B-geo\u001b[0m Arabia\u001b[34m\\I-geo\u001b[0m .\\O \n",
      "Apple\u001b[34m\\B-org\u001b[0m is\\O a\\O great\\O company\\O .\\O \n",
      "I\\O really\\O love\\O apples\\O and\\O oranges\\O .\\O \n"
     ]
    }
   ],
   "source": [
    "for test_sentence in TEST_SENTENCES:\n",
    "    tokenized_sentence = tokenizer.encode(test_sentence)\n",
    "    input_ids = torch.tensor([tokenized_sentence]).to(device=device)\n",
    "\n",
    "    with torch.no_grad():\n",
    "        output = model(input_ids)\n",
    "    \n",
    "    label_indices = np.argmax(output[0].to('cpu').numpy(), axis=2)[0][1:-1]\n",
    "    tokens = tokenizer.convert_ids_to_tokens(input_ids.to('cpu').numpy()[0])[1:-1]\n",
    "    \n",
    "    # Merge tokens starting with ##\n",
    "    new_tokens, new_labels = [], []    \n",
    "    for token, label_idx in zip(tokens, label_indices):\n",
    "        if token.startswith(\"##\"):\n",
    "            new_tokens[-1] = new_tokens[-1] + token[2:]\n",
    "        else:\n",
    "            new_labels.append(idx2tag[label_idx])\n",
    "            new_tokens.append(token)\n",
    "            \n",
    "    for token, label in zip(new_tokens, new_labels):\n",
    "        if label=='O':\n",
    "            print(\"{}\\{}\".format(token, label), end=\" \")\n",
    "        else:\n",
    "            print(\"{}\\x1b[34m\\\\{}\\x1b[0m\".format(token, label), end=\" \")\n",
    "    print()"
   ]
  }
 ],
 "metadata": {
  "kernelspec": {
   "display_name": "Python 3",
   "language": "python",
   "name": "python3"
  },
  "language_info": {
   "codemirror_mode": {
    "name": "ipython",
    "version": 3
   },
   "file_extension": ".py",
   "mimetype": "text/x-python",
   "name": "python",
   "nbconvert_exporter": "python",
   "pygments_lexer": "ipython3",
   "version": "3.7.4"
  },
  "toc": {
   "base_numbering": 1,
   "nav_menu": {},
   "number_sections": true,
   "sideBar": true,
   "skip_h1_title": false,
   "title_cell": "Table of Contents",
   "title_sidebar": "Contents",
   "toc_cell": false,
   "toc_position": {},
   "toc_section_display": true,
   "toc_window_display": false
  }
 },
 "nbformat": 4,
 "nbformat_minor": 4
}
