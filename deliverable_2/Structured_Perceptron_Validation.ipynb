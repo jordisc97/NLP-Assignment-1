{
 "cells": [
  {
   "cell_type": "code",
   "execution_count": 1,
   "metadata": {},
   "outputs": [
    {
     "data": {
      "text/html": [
       "<style>.container { width:100% !important; }</style>"
      ],
      "text/plain": [
       "<IPython.core.display.HTML object>"
      ]
     },
     "metadata": {},
     "output_type": "display_data"
    }
   ],
   "source": [
    "%load_ext autoreload\n",
    "%autoreload 2\n",
    "\n",
    "import pandas as pd\n",
    "import numpy as np\n",
    "%matplotlib inline\n",
    "\n",
    "import matplotlib\n",
    "import numpy as np\n",
    "import matplotlib.pyplot as plt\n",
    "from tqdm.notebook import tqdm, trange\n",
    "\n",
    "from IPython.core.display import display, HTML\n",
    "display(HTML(\"<style>.container { width:100% !important; }</style>\"))\n",
    "\n",
    "pd.set_option('display.max_rows', 25)\n",
    "pd.set_option('display.max_columns', 500)\n",
    "pd.set_option('display.max_colwidth', 50)"
   ]
  },
  {
   "cell_type": "code",
   "execution_count": 2,
   "metadata": {},
   "outputs": [
    {
     "data": {
      "text/html": [
       "<div>\n",
       "<style scoped>\n",
       "    .dataframe tbody tr th:only-of-type {\n",
       "        vertical-align: middle;\n",
       "    }\n",
       "\n",
       "    .dataframe tbody tr th {\n",
       "        vertical-align: top;\n",
       "    }\n",
       "\n",
       "    .dataframe thead th {\n",
       "        text-align: right;\n",
       "    }\n",
       "</style>\n",
       "<table border=\"1\" class=\"dataframe\">\n",
       "  <thead>\n",
       "    <tr style=\"text-align: right;\">\n",
       "      <th></th>\n",
       "      <th>Sentence #</th>\n",
       "      <th>Word</th>\n",
       "      <th>POS</th>\n",
       "      <th>Tag</th>\n",
       "    </tr>\n",
       "  </thead>\n",
       "  <tbody>\n",
       "    <tr>\n",
       "      <td>0</td>\n",
       "      <td>Sentence: 1</td>\n",
       "      <td>Thousands</td>\n",
       "      <td>NNS</td>\n",
       "      <td>O</td>\n",
       "    </tr>\n",
       "    <tr>\n",
       "      <td>1</td>\n",
       "      <td>Sentence: 1</td>\n",
       "      <td>of</td>\n",
       "      <td>IN</td>\n",
       "      <td>O</td>\n",
       "    </tr>\n",
       "    <tr>\n",
       "      <td>2</td>\n",
       "      <td>Sentence: 1</td>\n",
       "      <td>demonstrators</td>\n",
       "      <td>NNS</td>\n",
       "      <td>O</td>\n",
       "    </tr>\n",
       "    <tr>\n",
       "      <td>3</td>\n",
       "      <td>Sentence: 1</td>\n",
       "      <td>have</td>\n",
       "      <td>VBP</td>\n",
       "      <td>O</td>\n",
       "    </tr>\n",
       "    <tr>\n",
       "      <td>4</td>\n",
       "      <td>Sentence: 1</td>\n",
       "      <td>marched</td>\n",
       "      <td>VBN</td>\n",
       "      <td>O</td>\n",
       "    </tr>\n",
       "  </tbody>\n",
       "</table>\n",
       "</div>"
      ],
      "text/plain": [
       "    Sentence #           Word  POS Tag\n",
       "0  Sentence: 1      Thousands  NNS   O\n",
       "1  Sentence: 1             of   IN   O\n",
       "2  Sentence: 1  demonstrators  NNS   O\n",
       "3  Sentence: 1           have  VBP   O\n",
       "4  Sentence: 1        marched  VBN   O"
      ]
     },
     "execution_count": 2,
     "metadata": {},
     "output_type": "execute_result"
    }
   ],
   "source": [
    "# Using ffill we optimize the code. It will fill all missing values with the previous non-nan value\n",
    "data = pd.read_csv(\"data/kaggle_ner/ner_dataset.csv\",\n",
    "                   encoding=\"latin1\").fillna(method=\"ffill\")\n",
    "\n",
    "data.head()"
   ]
  },
  {
   "cell_type": "code",
   "execution_count": 3,
   "metadata": {},
   "outputs": [
    {
     "name": "stdout",
     "output_type": "stream",
     "text": [
      "Available TAGS:\n",
      "{'I-per', 'B-gpe', 'I-tim', 'I-org', 'I-nat', 'I-art', 'B-nat', 'I-eve', 'B-art', 'B-org', 'I-gpe', 'B-per', 'I-geo', 'B-eve', 'O', 'B-geo', 'B-tim'}\n"
     ]
    }
   ],
   "source": [
    "print(\"Available TAGS:\")\n",
    "print(set(data[\"Tag\"]))"
   ]
  },
  {
   "cell_type": "code",
   "execution_count": null,
   "metadata": {},
   "outputs": [],
   "source": []
  },
  {
   "cell_type": "code",
   "execution_count": 50,
   "metadata": {},
   "outputs": [
    {
     "name": "stdout",
     "output_type": "stream",
     "text": [
      "TAG        | Examples            \n",
      "------------------------------------------------------------\n",
      "O          | Thousands            of                   demonstrators       \n",
      "B-geo      | London               Iraq                 Hyde                \n",
      "I-geo      | Park                 State                State               \n",
      "B-nat      | H5N1                 H5N1                 Jing                \n",
      "I-nat      | Jing                 Jing                 Acute               \n",
      "B-art      | Nuclear              Saltillo             Pentastar           \n",
      "I-art      | Non-Proliferation    V-6                  Simple              \n",
      "B-per      | Bush                 President            Thomas              \n",
      "I-per      | Mahmoud              Ahmadinejad          Horbach             \n",
      "B-gpe      | British              English              Britain             \n",
      "I-gpe      | States               Korea                Binh                \n",
      "B-eve      | 2012                 Games                Games               \n",
      "I-eve      | Summer               Olympics             Olympic             \n",
      "B-tim      | Wednesday            Wednesday            Tuesday             \n",
      "I-tim      | 8                    1                    2                   \n",
      "B-org      | Labor                International        IAEA                \n",
      "I-org      | Party                Atomic               Energy              \n"
     ]
    }
   ],
   "source": [
    "def sortbystrng(val):\n",
    "    if len(val)<2:\n",
    "        return 0\n",
    "    v = 2*ord(val[2])*ord(val[3])\n",
    "    return v if val[0]=='B' else v+1\n",
    "\n",
    "print(\"{:10s} | {:20s}\".format(\"TAG\", \"Examples\"))\n",
    "print(\"-\"*60)\n",
    "for tag in sorted(set(data[\"Tag\"]), key=sortbystrng):\n",
    "    print(\"{:10s} | {:20s} {:20s} {:20s}\".format(tag, *data[data[\"Tag\"] == tag][\"Word\"][0:3].values))"
   ]
  },
  {
   "cell_type": "code",
   "execution_count": 5,
   "metadata": {},
   "outputs": [
    {
     "data": {
      "text/plain": [
       "47959"
      ]
     },
     "execution_count": 5,
     "metadata": {},
     "output_type": "execute_result"
    }
   ],
   "source": [
    "n_sentences = len(data['Sentence #'].unique())\n",
    "n_sentences"
   ]
  },
  {
   "cell_type": "code",
   "execution_count": 6,
   "metadata": {},
   "outputs": [
    {
     "name": "stdout",
     "output_type": "stream",
     "text": [
      "Wall time: 3.09 s\n",
      "Wall time: 3.04 s\n"
     ]
    }
   ],
   "source": [
    "# Using groupby and apply rather than a for loop the computation is reduced from +2h to 4s\n",
    "%time X_txt = list(data.groupby(\"Sentence #\")['Word'].apply(list))\n",
    "%time Y_txt = list(data.groupby(\"Sentence #\")['Tag'].apply(list))\n",
    "\n",
    "from skseq.sequences.label_dictionary import LabelDictionary\n",
    "x_dict = LabelDictionary(label_names=data['Word'].unique())\n",
    "y_dict = LabelDictionary(label_names=data['Tag'].unique())"
   ]
  },
  {
   "cell_type": "code",
   "execution_count": 7,
   "metadata": {},
   "outputs": [],
   "source": [
    "import scipy\n",
    "import numpy as np\n",
    "\n",
    "import os,sys,inspect\n",
    "currentdir = os.path.dirname(os.path.abspath(inspect.getfile(inspect.currentframe())))\n",
    "parentdir = os.path.dirname(currentdir)\n",
    "sys.path.insert(0,parentdir) \n",
    "\n",
    "import skseq\n",
    "import skseq.sequences\n",
    "import skseq.readers\n",
    "from skseq.sequences import sequence\n",
    "from skseq.sequences import sequence_list\n",
    "from skseq.sequences import label_dictionary"
   ]
  },
  {
   "cell_type": "code",
   "execution_count": 8,
   "metadata": {},
   "outputs": [],
   "source": [
    "n_split = 35971\n",
    "X_train_txt, X_test_txt, Y_train_txt, Y_test_txt = X_txt[:n_split], X_txt[n_split:], Y_txt[:n_split], Y_txt[n_split:]\n",
    "\n",
    "# val_split = n_split - 100\n",
    "# X_train_txt, X_val_txt, Y_train_txt, Y_val_txt = X_train_txt[:val_split], X_train_txt[val_split:], Y_train_txt[:val_split], Y_train_txt[val_split:]\n",
    "\n",
    "# dummy_split = 100\n",
    "# X_dummy_txt, Y_dummy_txt = X_train_txt[:dummy_split], Y_train_txt[:dummy_split]\n",
    "\n",
    "# len(X_train_txt), len(Y_train_txt), len(X_val_txt), len(Y_val_txt), len(X_test_txt), len(Y_test_txt), len(X_dummy_txt), len(Y_dummy_txt)"
   ]
  },
  {
   "cell_type": "code",
   "execution_count": 9,
   "metadata": {},
   "outputs": [],
   "source": [
    "from skseq.sequences.sequence_list import SequenceList\n",
    "from skseq.sequences.sequence import Sequence\n",
    "\n",
    "# train_sequences = [Sequence(x,y) for x,y in zip(X_train_txt, Y_train_txt)]\n",
    "# test_sequences = [Sequence(x,y) for x,y in zip(X_test_txt, Y_test_txt)]\n",
    "\n",
    "train_seq_list = SequenceList(x_dict, y_dict)\n",
    "for x,y in zip(X_train_txt, Y_train_txt):\n",
    "    train_seq_list.add_sequence(x, y, x_dict, y_dict)\n",
    "    \n",
    "# val_seq_list = SequenceList(x_dict, y_dict)\n",
    "# for x,y in zip(X_val_txt, Y_val_txt):\n",
    "#     val_seq_list.add_sequence(x, y, x_dict, y_dict)\n",
    "\n",
    "test_seq_list = SequenceList(x_dict, y_dict)\n",
    "for x,y in zip(X_test_txt, Y_test_txt):\n",
    "    test_seq_list.add_sequence(x, y, x_dict, y_dict)\n",
    "\n",
    "# dummy_seq_list = SequenceList(x_dict, y_dict)\n",
    "# for x,y in zip(X_dummy_txt, Y_dummy_txt):\n",
    "#     dummy_seq_list.add_sequence(x, y, x_dict, y_dict)"
   ]
  },
  {
   "cell_type": "code",
   "execution_count": 10,
   "metadata": {},
   "outputs": [
    {
     "name": "stdout",
     "output_type": "stream",
     "text": [
      "Feature dict length: 38298\n",
      "Feature list length: 35971\n"
     ]
    }
   ],
   "source": [
    "feature_mapper = skseq.sequences.id_feature.IDFeatures(train_seq_list)\n",
    "feature_mapper.build_features()\n",
    "\n",
    "print('Feature dict length:', len(feature_mapper.feature_dict))\n",
    "print('Feature list length:', len(feature_mapper.feature_list))\n",
    "\n",
    "import skseq.sequences.structured_perceptron_validation as spc\n",
    "# sp = spc.StructuredPerceptron(corpus.word_dict, corpus.tag_dict, feature_mapper)\n",
    "sp = spc.StructuredPerceptronValidation(x_dict, y_dict, feature_mapper, averaged=False)"
   ]
  },
  {
   "cell_type": "code",
   "execution_count": 16,
   "metadata": {
    "code_folding": []
   },
   "outputs": [],
   "source": [
    "def train_perceptron(load_no_fit = True, num_epochs = 50, epochs_before_stopping = 5, dir_to_params = './'):\n",
    "    if not load_no_fit:\n",
    "        print('Training for %i epochs with early stopping after %i epochs of no improvement' % (num_epochs, epochs_before_stopping))\n",
    "#         %time sp.fit(dummy_seq_list, val_seq_list, num_epochs, epochs_before_stopping, dir_to_params)\n",
    "        %time sp.fit(train_seq_list, test_seq_list, num_epochs, epochs_before_stopping, dir_to_params)\n",
    "    else:\n",
    "        sp.load_model(dir_to_params)"
   ]
  },
  {
   "cell_type": "code",
   "execution_count": 17,
   "metadata": {},
   "outputs": [],
   "source": [
    "import pandas as pd\n",
    "from IPython.core import display as ICD"
   ]
  },
  {
   "cell_type": "code",
   "execution_count": 25,
   "metadata": {},
   "outputs": [],
   "source": [
    "def evaluate_perceptron():\n",
    "    # Make predictions for the various sequences using the trained model.\n",
    "    pred_train = sp.viterbi_decode_corpus(train_seq_list)\n",
    "    pred_test  = sp.viterbi_decode_corpus(test_seq_list)\n",
    "\n",
    "    # Evaluate and print accuracies\n",
    "    eval_train = evaluate_corpus(train_seq_list.seq_list, pred_train)\n",
    "    eval_test = evaluate_corpus(test_seq_list.seq_list, pred_test)\n",
    "\n",
    "    print(\"SP -  Accuracy Train: %.3f Test: %.3f\"%(eval_train, eval_test))\n",
    "    \n",
    "def predict_text_tags(seq, nice_format=False):\n",
    "    assert isinstance(seq, str) or isinstance(seq, list), \"The input must be a sentence (string format or a list of words)\"\n",
    "    \n",
    "    if isinstance(seq, str):\n",
    "        seq = seq.split()\n",
    "    \n",
    "    num2lab = {v:k for k,v in sp.state_labels.items()}\n",
    "    if nice_format:\n",
    "        grp = pd.DataFrame([seq, [num2lab[w] for w in sp.predict_tags_given_words(seq)]], \n",
    "                           index=[\"Words\", \"Tags\"], columns=[\"W_{:02d}\".format(i) for i in range(len(seq))])   \n",
    "        grp = grp.style.applymap(lambda x: 'color: blue' if x != 'O' and x in sp.state_labels else 'color: black')\n",
    "        ICD.display(grp)\n",
    "        \n",
    "    else:\n",
    "        res = \"\"\n",
    "        for o, w in zip(seq, sp.predict_tags_given_words(seq)):\n",
    "            ft = \" {}/{}\" if num2lab[w]=='O' else \" {}/\\x1b[34m{}\\x1b[0m\"\n",
    "            res += ft.format(o, num2lab[w]) \n",
    "        print(res)\n",
    "    \n",
    "    \n",
    "def predict_batch_text_tags(batch, nice_format=False):\n",
    "    all_s = sum(isinstance(seq, str) for seq in batch)\n",
    "    all_l = sum(isinstance(seq, list) for seq in batch)\n",
    "    assert all_s==0 or all_l==0, \"The inputs must be sentences (string format or lists of words)\"\n",
    "\n",
    "    for b in batch:\n",
    "        predict_text_tags(b, nice_format)"
   ]
  },
  {
   "cell_type": "code",
   "execution_count": 20,
   "metadata": {
    "scrolled": true
   },
   "outputs": [
    {
     "name": "stdout",
     "output_type": "stream",
     "text": [
      "Training for 100 epochs with early stopping after 5 epochs of no improvement\n"
     ]
    },
    {
     "data": {
      "application/vnd.jupyter.widget-view+json": {
       "model_id": "bb60a7cd9a014b3da8d2be2c0707d626",
       "version_major": 2,
       "version_minor": 0
      },
      "text/plain": [
       "HBox(children=(FloatProgress(value=0.0, description='Fitting', style=ProgressStyle(description_width='initial'…"
      ]
     },
     "metadata": {},
     "output_type": "display_data"
    },
    {
     "data": {
      "application/vnd.jupyter.widget-view+json": {
       "model_id": "",
       "version_major": 2,
       "version_minor": 0
      },
      "text/plain": [
       "HBox(children=(FloatProgress(value=0.0, description='Epoch', max=35971.0, style=ProgressStyle(description_widt…"
      ]
     },
     "metadata": {},
     "output_type": "display_data"
    },
    {
     "data": {
      "application/vnd.jupyter.widget-view+json": {
       "model_id": "",
       "version_major": 2,
       "version_minor": 0
      },
      "text/plain": [
       "HBox(children=(FloatProgress(value=0.0, description='Decoding', max=11988.0, style=ProgressStyle(description_w…"
      ]
     },
     "metadata": {},
     "output_type": "display_data"
    },
    {
     "name": "stdout",
     "output_type": "stream",
     "text": [
      "Epoch: 0 Train Accuracy: 0.907593 Validation Accuracy: 0.922106 (new best)\n",
      "Model saved\n"
     ]
    },
    {
     "data": {
      "application/vnd.jupyter.widget-view+json": {
       "model_id": "",
       "version_major": 2,
       "version_minor": 0
      },
      "text/plain": [
       "HBox(children=(FloatProgress(value=0.0, description='Epoch', max=35971.0, style=ProgressStyle(description_widt…"
      ]
     },
     "metadata": {},
     "output_type": "display_data"
    },
    {
     "data": {
      "application/vnd.jupyter.widget-view+json": {
       "model_id": "",
       "version_major": 2,
       "version_minor": 0
      },
      "text/plain": [
       "HBox(children=(FloatProgress(value=0.0, description='Decoding', max=11988.0, style=ProgressStyle(description_w…"
      ]
     },
     "metadata": {},
     "output_type": "display_data"
    },
    {
     "name": "stdout",
     "output_type": "stream",
     "text": [
      "Epoch: 1 Train Accuracy: 0.933843 Validation Accuracy: 0.953355 (new best)\n",
      "Model saved\n"
     ]
    },
    {
     "data": {
      "application/vnd.jupyter.widget-view+json": {
       "model_id": "",
       "version_major": 2,
       "version_minor": 0
      },
      "text/plain": [
       "HBox(children=(FloatProgress(value=0.0, description='Epoch', max=35971.0, style=ProgressStyle(description_widt…"
      ]
     },
     "metadata": {},
     "output_type": "display_data"
    },
    {
     "data": {
      "application/vnd.jupyter.widget-view+json": {
       "model_id": "",
       "version_major": 2,
       "version_minor": 0
      },
      "text/plain": [
       "HBox(children=(FloatProgress(value=0.0, description='Decoding', max=11988.0, style=ProgressStyle(description_w…"
      ]
     },
     "metadata": {},
     "output_type": "display_data"
    },
    {
     "name": "stdout",
     "output_type": "stream",
     "text": [
      "Epoch: 2 Train Accuracy: 0.942461 Validation Accuracy: 0.953055\n",
      "No increase in validation for 1 consecutive epochs\n"
     ]
    },
    {
     "data": {
      "application/vnd.jupyter.widget-view+json": {
       "model_id": "",
       "version_major": 2,
       "version_minor": 0
      },
      "text/plain": [
       "HBox(children=(FloatProgress(value=0.0, description='Epoch', max=35971.0, style=ProgressStyle(description_widt…"
      ]
     },
     "metadata": {},
     "output_type": "display_data"
    },
    {
     "data": {
      "application/vnd.jupyter.widget-view+json": {
       "model_id": "",
       "version_major": 2,
       "version_minor": 0
      },
      "text/plain": [
       "HBox(children=(FloatProgress(value=0.0, description='Decoding', max=11988.0, style=ProgressStyle(description_w…"
      ]
     },
     "metadata": {},
     "output_type": "display_data"
    },
    {
     "name": "stdout",
     "output_type": "stream",
     "text": [
      "Epoch: 3 Train Accuracy: 0.947719 Validation Accuracy: 0.946627\n",
      "No increase in validation for 2 consecutive epochs\n"
     ]
    },
    {
     "data": {
      "application/vnd.jupyter.widget-view+json": {
       "model_id": "",
       "version_major": 2,
       "version_minor": 0
      },
      "text/plain": [
       "HBox(children=(FloatProgress(value=0.0, description='Epoch', max=35971.0, style=ProgressStyle(description_widt…"
      ]
     },
     "metadata": {},
     "output_type": "display_data"
    },
    {
     "data": {
      "application/vnd.jupyter.widget-view+json": {
       "model_id": "",
       "version_major": 2,
       "version_minor": 0
      },
      "text/plain": [
       "HBox(children=(FloatProgress(value=0.0, description='Decoding', max=11988.0, style=ProgressStyle(description_w…"
      ]
     },
     "metadata": {},
     "output_type": "display_data"
    },
    {
     "name": "stdout",
     "output_type": "stream",
     "text": [
      "Epoch: 4 Train Accuracy: 0.950978 Validation Accuracy: 0.944200\n",
      "No increase in validation for 3 consecutive epochs\n"
     ]
    },
    {
     "data": {
      "application/vnd.jupyter.widget-view+json": {
       "model_id": "",
       "version_major": 2,
       "version_minor": 0
      },
      "text/plain": [
       "HBox(children=(FloatProgress(value=0.0, description='Epoch', max=35971.0, style=ProgressStyle(description_widt…"
      ]
     },
     "metadata": {},
     "output_type": "display_data"
    },
    {
     "data": {
      "application/vnd.jupyter.widget-view+json": {
       "model_id": "",
       "version_major": 2,
       "version_minor": 0
      },
      "text/plain": [
       "HBox(children=(FloatProgress(value=0.0, description='Decoding', max=11988.0, style=ProgressStyle(description_w…"
      ]
     },
     "metadata": {},
     "output_type": "display_data"
    },
    {
     "name": "stdout",
     "output_type": "stream",
     "text": [
      "Epoch: 5 Train Accuracy: 0.953296 Validation Accuracy: 0.954661 (new best)\n",
      "Model saved\n"
     ]
    },
    {
     "data": {
      "application/vnd.jupyter.widget-view+json": {
       "model_id": "",
       "version_major": 2,
       "version_minor": 0
      },
      "text/plain": [
       "HBox(children=(FloatProgress(value=0.0, description='Epoch', max=35971.0, style=ProgressStyle(description_widt…"
      ]
     },
     "metadata": {},
     "output_type": "display_data"
    },
    {
     "data": {
      "application/vnd.jupyter.widget-view+json": {
       "model_id": "",
       "version_major": 2,
       "version_minor": 0
      },
      "text/plain": [
       "HBox(children=(FloatProgress(value=0.0, description='Decoding', max=11988.0, style=ProgressStyle(description_w…"
      ]
     },
     "metadata": {},
     "output_type": "display_data"
    },
    {
     "name": "stdout",
     "output_type": "stream",
     "text": [
      "Epoch: 6 Train Accuracy: 0.955265 Validation Accuracy: 0.946108\n",
      "No increase in validation for 1 consecutive epochs\n"
     ]
    },
    {
     "data": {
      "application/vnd.jupyter.widget-view+json": {
       "model_id": "",
       "version_major": 2,
       "version_minor": 0
      },
      "text/plain": [
       "HBox(children=(FloatProgress(value=0.0, description='Epoch', max=35971.0, style=ProgressStyle(description_widt…"
      ]
     },
     "metadata": {},
     "output_type": "display_data"
    },
    {
     "data": {
      "application/vnd.jupyter.widget-view+json": {
       "model_id": "",
       "version_major": 2,
       "version_minor": 0
      },
      "text/plain": [
       "HBox(children=(FloatProgress(value=0.0, description='Decoding', max=11988.0, style=ProgressStyle(description_w…"
      ]
     },
     "metadata": {},
     "output_type": "display_data"
    },
    {
     "name": "stdout",
     "output_type": "stream",
     "text": [
      "Epoch: 7 Train Accuracy: 0.956558 Validation Accuracy: 0.945643\n",
      "No increase in validation for 2 consecutive epochs\n"
     ]
    },
    {
     "data": {
      "application/vnd.jupyter.widget-view+json": {
       "model_id": "",
       "version_major": 2,
       "version_minor": 0
      },
      "text/plain": [
       "HBox(children=(FloatProgress(value=0.0, description='Epoch', max=35971.0, style=ProgressStyle(description_widt…"
      ]
     },
     "metadata": {},
     "output_type": "display_data"
    },
    {
     "data": {
      "application/vnd.jupyter.widget-view+json": {
       "model_id": "",
       "version_major": 2,
       "version_minor": 0
      },
      "text/plain": [
       "HBox(children=(FloatProgress(value=0.0, description='Decoding', max=11988.0, style=ProgressStyle(description_w…"
      ]
     },
     "metadata": {},
     "output_type": "display_data"
    },
    {
     "name": "stdout",
     "output_type": "stream",
     "text": [
      "Epoch: 8 Train Accuracy: 0.958187 Validation Accuracy: 0.914571\n",
      "No increase in validation for 3 consecutive epochs\n"
     ]
    },
    {
     "data": {
      "application/vnd.jupyter.widget-view+json": {
       "model_id": "",
       "version_major": 2,
       "version_minor": 0
      },
      "text/plain": [
       "HBox(children=(FloatProgress(value=0.0, description='Epoch', max=35971.0, style=ProgressStyle(description_widt…"
      ]
     },
     "metadata": {},
     "output_type": "display_data"
    },
    {
     "data": {
      "application/vnd.jupyter.widget-view+json": {
       "model_id": "",
       "version_major": 2,
       "version_minor": 0
      },
      "text/plain": [
       "HBox(children=(FloatProgress(value=0.0, description='Decoding', max=11988.0, style=ProgressStyle(description_w…"
      ]
     },
     "metadata": {},
     "output_type": "display_data"
    },
    {
     "name": "stdout",
     "output_type": "stream",
     "text": [
      "Epoch: 9 Train Accuracy: 0.959286 Validation Accuracy: 0.955129 (new best)\n",
      "Model saved\n"
     ]
    },
    {
     "data": {
      "application/vnd.jupyter.widget-view+json": {
       "model_id": "",
       "version_major": 2,
       "version_minor": 0
      },
      "text/plain": [
       "HBox(children=(FloatProgress(value=0.0, description='Epoch', max=35971.0, style=ProgressStyle(description_widt…"
      ]
     },
     "metadata": {},
     "output_type": "display_data"
    },
    {
     "data": {
      "application/vnd.jupyter.widget-view+json": {
       "model_id": "",
       "version_major": 2,
       "version_minor": 0
      },
      "text/plain": [
       "HBox(children=(FloatProgress(value=0.0, description='Decoding', max=11988.0, style=ProgressStyle(description_w…"
      ]
     },
     "metadata": {},
     "output_type": "display_data"
    },
    {
     "name": "stdout",
     "output_type": "stream",
     "text": [
      "Epoch: 10 Train Accuracy: 0.959754 Validation Accuracy: 0.953843\n",
      "No increase in validation for 1 consecutive epochs\n"
     ]
    },
    {
     "data": {
      "application/vnd.jupyter.widget-view+json": {
       "model_id": "",
       "version_major": 2,
       "version_minor": 0
      },
      "text/plain": [
       "HBox(children=(FloatProgress(value=0.0, description='Epoch', max=35971.0, style=ProgressStyle(description_widt…"
      ]
     },
     "metadata": {},
     "output_type": "display_data"
    },
    {
     "data": {
      "application/vnd.jupyter.widget-view+json": {
       "model_id": "",
       "version_major": 2,
       "version_minor": 0
      },
      "text/plain": [
       "HBox(children=(FloatProgress(value=0.0, description='Decoding', max=11988.0, style=ProgressStyle(description_w…"
      ]
     },
     "metadata": {},
     "output_type": "display_data"
    },
    {
     "name": "stdout",
     "output_type": "stream",
     "text": [
      "Epoch: 11 Train Accuracy: 0.960082 Validation Accuracy: 0.951485\n",
      "No increase in validation for 2 consecutive epochs\n"
     ]
    },
    {
     "data": {
      "application/vnd.jupyter.widget-view+json": {
       "model_id": "",
       "version_major": 2,
       "version_minor": 0
      },
      "text/plain": [
       "HBox(children=(FloatProgress(value=0.0, description='Epoch', max=35971.0, style=ProgressStyle(description_widt…"
      ]
     },
     "metadata": {},
     "output_type": "display_data"
    },
    {
     "data": {
      "application/vnd.jupyter.widget-view+json": {
       "model_id": "",
       "version_major": 2,
       "version_minor": 0
      },
      "text/plain": [
       "HBox(children=(FloatProgress(value=0.0, description='Decoding', max=11988.0, style=ProgressStyle(description_w…"
      ]
     },
     "metadata": {},
     "output_type": "display_data"
    },
    {
     "name": "stdout",
     "output_type": "stream",
     "text": [
      "Epoch: 12 Train Accuracy: 0.961041 Validation Accuracy: 0.955210 (new best)\n",
      "Model saved\n"
     ]
    },
    {
     "data": {
      "application/vnd.jupyter.widget-view+json": {
       "model_id": "",
       "version_major": 2,
       "version_minor": 0
      },
      "text/plain": [
       "HBox(children=(FloatProgress(value=0.0, description='Epoch', max=35971.0, style=ProgressStyle(description_widt…"
      ]
     },
     "metadata": {},
     "output_type": "display_data"
    },
    {
     "data": {
      "application/vnd.jupyter.widget-view+json": {
       "model_id": "",
       "version_major": 2,
       "version_minor": 0
      },
      "text/plain": [
       "HBox(children=(FloatProgress(value=0.0, description='Decoding', max=11988.0, style=ProgressStyle(description_w…"
      ]
     },
     "metadata": {},
     "output_type": "display_data"
    },
    {
     "name": "stdout",
     "output_type": "stream",
     "text": [
      "Epoch: 13 Train Accuracy: 0.962554 Validation Accuracy: 0.949257\n",
      "No increase in validation for 1 consecutive epochs\n"
     ]
    },
    {
     "data": {
      "application/vnd.jupyter.widget-view+json": {
       "model_id": "",
       "version_major": 2,
       "version_minor": 0
      },
      "text/plain": [
       "HBox(children=(FloatProgress(value=0.0, description='Epoch', max=35971.0, style=ProgressStyle(description_widt…"
      ]
     },
     "metadata": {},
     "output_type": "display_data"
    },
    {
     "data": {
      "application/vnd.jupyter.widget-view+json": {
       "model_id": "",
       "version_major": 2,
       "version_minor": 0
      },
      "text/plain": [
       "HBox(children=(FloatProgress(value=0.0, description='Decoding', max=11988.0, style=ProgressStyle(description_w…"
      ]
     },
     "metadata": {},
     "output_type": "display_data"
    },
    {
     "name": "stdout",
     "output_type": "stream",
     "text": [
      "Epoch: 14 Train Accuracy: 0.962509 Validation Accuracy: 0.947349\n",
      "No increase in validation for 2 consecutive epochs\n"
     ]
    },
    {
     "data": {
      "application/vnd.jupyter.widget-view+json": {
       "model_id": "",
       "version_major": 2,
       "version_minor": 0
      },
      "text/plain": [
       "HBox(children=(FloatProgress(value=0.0, description='Epoch', max=35971.0, style=ProgressStyle(description_widt…"
      ]
     },
     "metadata": {},
     "output_type": "display_data"
    },
    {
     "data": {
      "application/vnd.jupyter.widget-view+json": {
       "model_id": "",
       "version_major": 2,
       "version_minor": 0
      },
      "text/plain": [
       "HBox(children=(FloatProgress(value=0.0, description='Decoding', max=11988.0, style=ProgressStyle(description_w…"
      ]
     },
     "metadata": {},
     "output_type": "display_data"
    },
    {
     "name": "stdout",
     "output_type": "stream",
     "text": [
      "Epoch: 15 Train Accuracy: 0.963056 Validation Accuracy: 0.954787\n",
      "No increase in validation for 3 consecutive epochs\n"
     ]
    },
    {
     "data": {
      "application/vnd.jupyter.widget-view+json": {
       "model_id": "",
       "version_major": 2,
       "version_minor": 0
      },
      "text/plain": [
       "HBox(children=(FloatProgress(value=0.0, description='Epoch', max=35971.0, style=ProgressStyle(description_widt…"
      ]
     },
     "metadata": {},
     "output_type": "display_data"
    },
    {
     "data": {
      "application/vnd.jupyter.widget-view+json": {
       "model_id": "",
       "version_major": 2,
       "version_minor": 0
      },
      "text/plain": [
       "HBox(children=(FloatProgress(value=0.0, description='Decoding', max=11988.0, style=ProgressStyle(description_w…"
      ]
     },
     "metadata": {},
     "output_type": "display_data"
    },
    {
     "name": "stdout",
     "output_type": "stream",
     "text": [
      "Epoch: 16 Train Accuracy: 0.963280 Validation Accuracy: 0.953432\n",
      "No increase in validation for 4 consecutive epochs\n"
     ]
    },
    {
     "data": {
      "application/vnd.jupyter.widget-view+json": {
       "model_id": "",
       "version_major": 2,
       "version_minor": 0
      },
      "text/plain": [
       "HBox(children=(FloatProgress(value=0.0, description='Epoch', max=35971.0, style=ProgressStyle(description_widt…"
      ]
     },
     "metadata": {},
     "output_type": "display_data"
    },
    {
     "data": {
      "application/vnd.jupyter.widget-view+json": {
       "model_id": "",
       "version_major": 2,
       "version_minor": 0
      },
      "text/plain": [
       "HBox(children=(FloatProgress(value=0.0, description='Decoding', max=11988.0, style=ProgressStyle(description_w…"
      ]
     },
     "metadata": {},
     "output_type": "display_data"
    },
    {
     "name": "stdout",
     "output_type": "stream",
     "text": [
      "Epoch: 17 Train Accuracy: 0.963600 Validation Accuracy: 0.951462\n",
      "No increase in validation for 5 consecutive epochs\n",
      "\n",
      "Early stopping performed at epoch 17, saved model at epoch 12\n",
      "Train Accuracy for saved model: 0.961041\n",
      "Validation Accuracy for saved model: 0.955210\n",
      "\n",
      "Best model successfully loaded\n",
      "Wall time: 1h 46min 45s\n"
     ]
    }
   ],
   "source": [
    "num_epochs = 100\n",
    "epochs_before_stopping = 5\n",
    "train_perceptron(load_no_fit=False, num_epochs = num_epochs, epochs_before_stopping = epochs_before_stopping)\n",
    "\n",
    "# evaluate_perceptron()"
   ]
  },
  {
   "cell_type": "code",
   "execution_count": 23,
   "metadata": {},
   "outputs": [],
   "source": [
    "# val_acc = sp.evaluate_corpus(test_seq_list.seq_list, sp.viterbi_decode_corpus(test_seq_list))\n",
    "# print('Checking same Validation Accuracy: %f' % (val_acc))"
   ]
  },
  {
   "cell_type": "code",
   "execution_count": 26,
   "metadata": {},
   "outputs": [
    {
     "name": "stdout",
     "output_type": "stream",
     "text": [
      " Jack/\u001b[34mB-per\u001b[0m London/\u001b[34mI-per\u001b[0m went/O to/O Paris/\u001b[34mB-geo\u001b[0m\n"
     ]
    },
    {
     "data": {
      "text/html": [
       "<style  type=\"text/css\" >\n",
       "    #T_2504a714_b157_11ea_b47d_00e04c681714row0_col0 {\n",
       "            color:  black;\n",
       "        }    #T_2504a714_b157_11ea_b47d_00e04c681714row0_col1 {\n",
       "            color:  black;\n",
       "        }    #T_2504a714_b157_11ea_b47d_00e04c681714row0_col2 {\n",
       "            color:  black;\n",
       "        }    #T_2504a714_b157_11ea_b47d_00e04c681714row0_col3 {\n",
       "            color:  black;\n",
       "        }    #T_2504a714_b157_11ea_b47d_00e04c681714row0_col4 {\n",
       "            color:  black;\n",
       "        }    #T_2504a714_b157_11ea_b47d_00e04c681714row1_col0 {\n",
       "            color:  blue;\n",
       "        }    #T_2504a714_b157_11ea_b47d_00e04c681714row1_col1 {\n",
       "            color:  blue;\n",
       "        }    #T_2504a714_b157_11ea_b47d_00e04c681714row1_col2 {\n",
       "            color:  black;\n",
       "        }    #T_2504a714_b157_11ea_b47d_00e04c681714row1_col3 {\n",
       "            color:  black;\n",
       "        }    #T_2504a714_b157_11ea_b47d_00e04c681714row1_col4 {\n",
       "            color:  blue;\n",
       "        }</style><table id=\"T_2504a714_b157_11ea_b47d_00e04c681714\" ><thead>    <tr>        <th class=\"blank level0\" ></th>        <th class=\"col_heading level0 col0\" >W_00</th>        <th class=\"col_heading level0 col1\" >W_01</th>        <th class=\"col_heading level0 col2\" >W_02</th>        <th class=\"col_heading level0 col3\" >W_03</th>        <th class=\"col_heading level0 col4\" >W_04</th>    </tr></thead><tbody>\n",
       "                <tr>\n",
       "                        <th id=\"T_2504a714_b157_11ea_b47d_00e04c681714level0_row0\" class=\"row_heading level0 row0\" >Words</th>\n",
       "                        <td id=\"T_2504a714_b157_11ea_b47d_00e04c681714row0_col0\" class=\"data row0 col0\" >Jack</td>\n",
       "                        <td id=\"T_2504a714_b157_11ea_b47d_00e04c681714row0_col1\" class=\"data row0 col1\" >London</td>\n",
       "                        <td id=\"T_2504a714_b157_11ea_b47d_00e04c681714row0_col2\" class=\"data row0 col2\" >went</td>\n",
       "                        <td id=\"T_2504a714_b157_11ea_b47d_00e04c681714row0_col3\" class=\"data row0 col3\" >to</td>\n",
       "                        <td id=\"T_2504a714_b157_11ea_b47d_00e04c681714row0_col4\" class=\"data row0 col4\" >Paris</td>\n",
       "            </tr>\n",
       "            <tr>\n",
       "                        <th id=\"T_2504a714_b157_11ea_b47d_00e04c681714level0_row1\" class=\"row_heading level0 row1\" >Tags</th>\n",
       "                        <td id=\"T_2504a714_b157_11ea_b47d_00e04c681714row1_col0\" class=\"data row1 col0\" >B-per</td>\n",
       "                        <td id=\"T_2504a714_b157_11ea_b47d_00e04c681714row1_col1\" class=\"data row1 col1\" >I-per</td>\n",
       "                        <td id=\"T_2504a714_b157_11ea_b47d_00e04c681714row1_col2\" class=\"data row1 col2\" >O</td>\n",
       "                        <td id=\"T_2504a714_b157_11ea_b47d_00e04c681714row1_col3\" class=\"data row1 col3\" >O</td>\n",
       "                        <td id=\"T_2504a714_b157_11ea_b47d_00e04c681714row1_col4\" class=\"data row1 col4\" >B-geo</td>\n",
       "            </tr>\n",
       "    </tbody></table>"
      ],
      "text/plain": [
       "<pandas.io.formats.style.Styler at 0x1e5d507a208>"
      ]
     },
     "metadata": {},
     "output_type": "display_data"
    }
   ],
   "source": [
    "predict_text_tags(\"Jack London went to Paris\".split())\n",
    "predict_text_tags(\"Jack London went to Paris\".split(), nice_format=True)"
   ]
  },
  {
   "cell_type": "code",
   "execution_count": 52,
   "metadata": {},
   "outputs": [
    {
     "name": "stdout",
     "output_type": "stream",
     "text": [
      " The/O programmers/O from/O Barcelona/\u001b[34mB-geo\u001b[0m might/O write/O a/O sentence/O without/O a/O spell/\u001b[34mB-art\u001b[0m checker./\u001b[34mI-art\u001b[0m\n",
      " The/O programmers/O from/O Barchelona/O cannot/O write/O a/O sentence/O without/O a/O spell/\u001b[34mB-art\u001b[0m checker./\u001b[34mI-art\u001b[0m\n",
      " Jack/\u001b[34mB-per\u001b[0m London/\u001b[34mI-per\u001b[0m went/O to/O Parris./O\n",
      " Jack/\u001b[34mB-per\u001b[0m London/\u001b[34mI-per\u001b[0m went/O to/O Paris./O\n",
      " We/O never/O though/O Microsoft/\u001b[34mB-org\u001b[0m would/O become/O such/O a/O big/O company./O\n",
      " We/O never/O though/O Microsof/O would/O become/O such/O a/O big/O company./O\n",
      " The/O president/O of/O U.S.A/\u001b[34mB-org\u001b[0m though/O they/O could/O win/O the/O war/O\n",
      " The/O president/O of/O the/O United/\u001b[34mB-geo\u001b[0m States/\u001b[34mI-geo\u001b[0m of/O America/\u001b[34mB-geo\u001b[0m though/O they/O could/O win/O the/O war/O\n",
      " The/O king/O of/O Saudi/\u001b[34mB-org\u001b[0m Arabia/\u001b[34mI-org\u001b[0m wanted/O total/O control./O\n",
      " Robin/O does/O not/O want/O to/O go/O to/O Saudi/O Arabia./O\n",
      " Apple/\u001b[34mB-org\u001b[0m is/O a/O great/O company./O\n",
      " I/O really/O love/O apples/O and/O oranges./O\n"
     ]
    }
   ],
   "source": [
    "predict_batch_text_tags([\"The programmers from Barcelona might write a sentence without a spell checker.\",\n",
    "\"The programmers from Barchelona cannot write a sentence without a spell checker.\",\n",
    "\"Jack London went to Parris.\",\n",
    "\"Jack London went to Paris.\",\n",
    "\"We never though Microsoft would become such a big company.\",\n",
    "\"We never though Microsof would become such a big company.\",\n",
    "\"The president of U.S.A though they could win the war\",\n",
    "\"The president of the United States of America though they could win the war\",\n",
    "\"The king of Saudi Arabia wanted total control.\",\n",
    "\"Robin does not want to go to Saudi Arabia.\",\n",
    "\"Apple is a great company.\",\n",
    "\"I really love apples and oranges.\"])"
   ]
  },
  {
   "cell_type": "code",
   "execution_count": 28,
   "metadata": {},
   "outputs": [
    {
     "data": {
      "text/html": [
       "<style  type=\"text/css\" >\n",
       "    #T_2716f8e8_b157_11ea_9760_00e04c681714row0_col0 {\n",
       "            color:  black;\n",
       "        }    #T_2716f8e8_b157_11ea_9760_00e04c681714row0_col1 {\n",
       "            color:  black;\n",
       "        }    #T_2716f8e8_b157_11ea_9760_00e04c681714row0_col2 {\n",
       "            color:  black;\n",
       "        }    #T_2716f8e8_b157_11ea_9760_00e04c681714row0_col3 {\n",
       "            color:  black;\n",
       "        }    #T_2716f8e8_b157_11ea_9760_00e04c681714row0_col4 {\n",
       "            color:  black;\n",
       "        }    #T_2716f8e8_b157_11ea_9760_00e04c681714row0_col5 {\n",
       "            color:  black;\n",
       "        }    #T_2716f8e8_b157_11ea_9760_00e04c681714row0_col6 {\n",
       "            color:  black;\n",
       "        }    #T_2716f8e8_b157_11ea_9760_00e04c681714row0_col7 {\n",
       "            color:  black;\n",
       "        }    #T_2716f8e8_b157_11ea_9760_00e04c681714row0_col8 {\n",
       "            color:  black;\n",
       "        }    #T_2716f8e8_b157_11ea_9760_00e04c681714row0_col9 {\n",
       "            color:  black;\n",
       "        }    #T_2716f8e8_b157_11ea_9760_00e04c681714row0_col10 {\n",
       "            color:  black;\n",
       "        }    #T_2716f8e8_b157_11ea_9760_00e04c681714row0_col11 {\n",
       "            color:  black;\n",
       "        }    #T_2716f8e8_b157_11ea_9760_00e04c681714row1_col0 {\n",
       "            color:  black;\n",
       "        }    #T_2716f8e8_b157_11ea_9760_00e04c681714row1_col1 {\n",
       "            color:  black;\n",
       "        }    #T_2716f8e8_b157_11ea_9760_00e04c681714row1_col2 {\n",
       "            color:  black;\n",
       "        }    #T_2716f8e8_b157_11ea_9760_00e04c681714row1_col3 {\n",
       "            color:  blue;\n",
       "        }    #T_2716f8e8_b157_11ea_9760_00e04c681714row1_col4 {\n",
       "            color:  black;\n",
       "        }    #T_2716f8e8_b157_11ea_9760_00e04c681714row1_col5 {\n",
       "            color:  black;\n",
       "        }    #T_2716f8e8_b157_11ea_9760_00e04c681714row1_col6 {\n",
       "            color:  black;\n",
       "        }    #T_2716f8e8_b157_11ea_9760_00e04c681714row1_col7 {\n",
       "            color:  black;\n",
       "        }    #T_2716f8e8_b157_11ea_9760_00e04c681714row1_col8 {\n",
       "            color:  black;\n",
       "        }    #T_2716f8e8_b157_11ea_9760_00e04c681714row1_col9 {\n",
       "            color:  black;\n",
       "        }    #T_2716f8e8_b157_11ea_9760_00e04c681714row1_col10 {\n",
       "            color:  blue;\n",
       "        }    #T_2716f8e8_b157_11ea_9760_00e04c681714row1_col11 {\n",
       "            color:  blue;\n",
       "        }</style><table id=\"T_2716f8e8_b157_11ea_9760_00e04c681714\" ><thead>    <tr>        <th class=\"blank level0\" ></th>        <th class=\"col_heading level0 col0\" >W_00</th>        <th class=\"col_heading level0 col1\" >W_01</th>        <th class=\"col_heading level0 col2\" >W_02</th>        <th class=\"col_heading level0 col3\" >W_03</th>        <th class=\"col_heading level0 col4\" >W_04</th>        <th class=\"col_heading level0 col5\" >W_05</th>        <th class=\"col_heading level0 col6\" >W_06</th>        <th class=\"col_heading level0 col7\" >W_07</th>        <th class=\"col_heading level0 col8\" >W_08</th>        <th class=\"col_heading level0 col9\" >W_09</th>        <th class=\"col_heading level0 col10\" >W_10</th>        <th class=\"col_heading level0 col11\" >W_11</th>    </tr></thead><tbody>\n",
       "                <tr>\n",
       "                        <th id=\"T_2716f8e8_b157_11ea_9760_00e04c681714level0_row0\" class=\"row_heading level0 row0\" >Words</th>\n",
       "                        <td id=\"T_2716f8e8_b157_11ea_9760_00e04c681714row0_col0\" class=\"data row0 col0\" >The</td>\n",
       "                        <td id=\"T_2716f8e8_b157_11ea_9760_00e04c681714row0_col1\" class=\"data row0 col1\" >programmers</td>\n",
       "                        <td id=\"T_2716f8e8_b157_11ea_9760_00e04c681714row0_col2\" class=\"data row0 col2\" >from</td>\n",
       "                        <td id=\"T_2716f8e8_b157_11ea_9760_00e04c681714row0_col3\" class=\"data row0 col3\" >Barcelona</td>\n",
       "                        <td id=\"T_2716f8e8_b157_11ea_9760_00e04c681714row0_col4\" class=\"data row0 col4\" >might</td>\n",
       "                        <td id=\"T_2716f8e8_b157_11ea_9760_00e04c681714row0_col5\" class=\"data row0 col5\" >write</td>\n",
       "                        <td id=\"T_2716f8e8_b157_11ea_9760_00e04c681714row0_col6\" class=\"data row0 col6\" >a</td>\n",
       "                        <td id=\"T_2716f8e8_b157_11ea_9760_00e04c681714row0_col7\" class=\"data row0 col7\" >sentence</td>\n",
       "                        <td id=\"T_2716f8e8_b157_11ea_9760_00e04c681714row0_col8\" class=\"data row0 col8\" >without</td>\n",
       "                        <td id=\"T_2716f8e8_b157_11ea_9760_00e04c681714row0_col9\" class=\"data row0 col9\" >a</td>\n",
       "                        <td id=\"T_2716f8e8_b157_11ea_9760_00e04c681714row0_col10\" class=\"data row0 col10\" >spell</td>\n",
       "                        <td id=\"T_2716f8e8_b157_11ea_9760_00e04c681714row0_col11\" class=\"data row0 col11\" >checker.</td>\n",
       "            </tr>\n",
       "            <tr>\n",
       "                        <th id=\"T_2716f8e8_b157_11ea_9760_00e04c681714level0_row1\" class=\"row_heading level0 row1\" >Tags</th>\n",
       "                        <td id=\"T_2716f8e8_b157_11ea_9760_00e04c681714row1_col0\" class=\"data row1 col0\" >O</td>\n",
       "                        <td id=\"T_2716f8e8_b157_11ea_9760_00e04c681714row1_col1\" class=\"data row1 col1\" >O</td>\n",
       "                        <td id=\"T_2716f8e8_b157_11ea_9760_00e04c681714row1_col2\" class=\"data row1 col2\" >O</td>\n",
       "                        <td id=\"T_2716f8e8_b157_11ea_9760_00e04c681714row1_col3\" class=\"data row1 col3\" >B-geo</td>\n",
       "                        <td id=\"T_2716f8e8_b157_11ea_9760_00e04c681714row1_col4\" class=\"data row1 col4\" >O</td>\n",
       "                        <td id=\"T_2716f8e8_b157_11ea_9760_00e04c681714row1_col5\" class=\"data row1 col5\" >O</td>\n",
       "                        <td id=\"T_2716f8e8_b157_11ea_9760_00e04c681714row1_col6\" class=\"data row1 col6\" >O</td>\n",
       "                        <td id=\"T_2716f8e8_b157_11ea_9760_00e04c681714row1_col7\" class=\"data row1 col7\" >O</td>\n",
       "                        <td id=\"T_2716f8e8_b157_11ea_9760_00e04c681714row1_col8\" class=\"data row1 col8\" >O</td>\n",
       "                        <td id=\"T_2716f8e8_b157_11ea_9760_00e04c681714row1_col9\" class=\"data row1 col9\" >O</td>\n",
       "                        <td id=\"T_2716f8e8_b157_11ea_9760_00e04c681714row1_col10\" class=\"data row1 col10\" >B-art</td>\n",
       "                        <td id=\"T_2716f8e8_b157_11ea_9760_00e04c681714row1_col11\" class=\"data row1 col11\" >I-art</td>\n",
       "            </tr>\n",
       "    </tbody></table>"
      ],
      "text/plain": [
       "<pandas.io.formats.style.Styler at 0x1e5d500ad88>"
      ]
     },
     "metadata": {},
     "output_type": "display_data"
    },
    {
     "data": {
      "text/html": [
       "<style  type=\"text/css\" >\n",
       "    #T_2718805e_b157_11ea_92e0_00e04c681714row0_col0 {\n",
       "            color:  black;\n",
       "        }    #T_2718805e_b157_11ea_92e0_00e04c681714row0_col1 {\n",
       "            color:  black;\n",
       "        }    #T_2718805e_b157_11ea_92e0_00e04c681714row0_col2 {\n",
       "            color:  black;\n",
       "        }    #T_2718805e_b157_11ea_92e0_00e04c681714row0_col3 {\n",
       "            color:  black;\n",
       "        }    #T_2718805e_b157_11ea_92e0_00e04c681714row0_col4 {\n",
       "            color:  black;\n",
       "        }    #T_2718805e_b157_11ea_92e0_00e04c681714row0_col5 {\n",
       "            color:  black;\n",
       "        }    #T_2718805e_b157_11ea_92e0_00e04c681714row0_col6 {\n",
       "            color:  black;\n",
       "        }    #T_2718805e_b157_11ea_92e0_00e04c681714row0_col7 {\n",
       "            color:  black;\n",
       "        }    #T_2718805e_b157_11ea_92e0_00e04c681714row0_col8 {\n",
       "            color:  black;\n",
       "        }    #T_2718805e_b157_11ea_92e0_00e04c681714row0_col9 {\n",
       "            color:  black;\n",
       "        }    #T_2718805e_b157_11ea_92e0_00e04c681714row0_col10 {\n",
       "            color:  black;\n",
       "        }    #T_2718805e_b157_11ea_92e0_00e04c681714row0_col11 {\n",
       "            color:  black;\n",
       "        }    #T_2718805e_b157_11ea_92e0_00e04c681714row1_col0 {\n",
       "            color:  black;\n",
       "        }    #T_2718805e_b157_11ea_92e0_00e04c681714row1_col1 {\n",
       "            color:  black;\n",
       "        }    #T_2718805e_b157_11ea_92e0_00e04c681714row1_col2 {\n",
       "            color:  black;\n",
       "        }    #T_2718805e_b157_11ea_92e0_00e04c681714row1_col3 {\n",
       "            color:  black;\n",
       "        }    #T_2718805e_b157_11ea_92e0_00e04c681714row1_col4 {\n",
       "            color:  black;\n",
       "        }    #T_2718805e_b157_11ea_92e0_00e04c681714row1_col5 {\n",
       "            color:  black;\n",
       "        }    #T_2718805e_b157_11ea_92e0_00e04c681714row1_col6 {\n",
       "            color:  black;\n",
       "        }    #T_2718805e_b157_11ea_92e0_00e04c681714row1_col7 {\n",
       "            color:  black;\n",
       "        }    #T_2718805e_b157_11ea_92e0_00e04c681714row1_col8 {\n",
       "            color:  black;\n",
       "        }    #T_2718805e_b157_11ea_92e0_00e04c681714row1_col9 {\n",
       "            color:  black;\n",
       "        }    #T_2718805e_b157_11ea_92e0_00e04c681714row1_col10 {\n",
       "            color:  blue;\n",
       "        }    #T_2718805e_b157_11ea_92e0_00e04c681714row1_col11 {\n",
       "            color:  blue;\n",
       "        }</style><table id=\"T_2718805e_b157_11ea_92e0_00e04c681714\" ><thead>    <tr>        <th class=\"blank level0\" ></th>        <th class=\"col_heading level0 col0\" >W_00</th>        <th class=\"col_heading level0 col1\" >W_01</th>        <th class=\"col_heading level0 col2\" >W_02</th>        <th class=\"col_heading level0 col3\" >W_03</th>        <th class=\"col_heading level0 col4\" >W_04</th>        <th class=\"col_heading level0 col5\" >W_05</th>        <th class=\"col_heading level0 col6\" >W_06</th>        <th class=\"col_heading level0 col7\" >W_07</th>        <th class=\"col_heading level0 col8\" >W_08</th>        <th class=\"col_heading level0 col9\" >W_09</th>        <th class=\"col_heading level0 col10\" >W_10</th>        <th class=\"col_heading level0 col11\" >W_11</th>    </tr></thead><tbody>\n",
       "                <tr>\n",
       "                        <th id=\"T_2718805e_b157_11ea_92e0_00e04c681714level0_row0\" class=\"row_heading level0 row0\" >Words</th>\n",
       "                        <td id=\"T_2718805e_b157_11ea_92e0_00e04c681714row0_col0\" class=\"data row0 col0\" >The</td>\n",
       "                        <td id=\"T_2718805e_b157_11ea_92e0_00e04c681714row0_col1\" class=\"data row0 col1\" >programmers</td>\n",
       "                        <td id=\"T_2718805e_b157_11ea_92e0_00e04c681714row0_col2\" class=\"data row0 col2\" >from</td>\n",
       "                        <td id=\"T_2718805e_b157_11ea_92e0_00e04c681714row0_col3\" class=\"data row0 col3\" >Barchelona</td>\n",
       "                        <td id=\"T_2718805e_b157_11ea_92e0_00e04c681714row0_col4\" class=\"data row0 col4\" >cannot</td>\n",
       "                        <td id=\"T_2718805e_b157_11ea_92e0_00e04c681714row0_col5\" class=\"data row0 col5\" >write</td>\n",
       "                        <td id=\"T_2718805e_b157_11ea_92e0_00e04c681714row0_col6\" class=\"data row0 col6\" >a</td>\n",
       "                        <td id=\"T_2718805e_b157_11ea_92e0_00e04c681714row0_col7\" class=\"data row0 col7\" >sentence</td>\n",
       "                        <td id=\"T_2718805e_b157_11ea_92e0_00e04c681714row0_col8\" class=\"data row0 col8\" >without</td>\n",
       "                        <td id=\"T_2718805e_b157_11ea_92e0_00e04c681714row0_col9\" class=\"data row0 col9\" >a</td>\n",
       "                        <td id=\"T_2718805e_b157_11ea_92e0_00e04c681714row0_col10\" class=\"data row0 col10\" >spell</td>\n",
       "                        <td id=\"T_2718805e_b157_11ea_92e0_00e04c681714row0_col11\" class=\"data row0 col11\" >checker.</td>\n",
       "            </tr>\n",
       "            <tr>\n",
       "                        <th id=\"T_2718805e_b157_11ea_92e0_00e04c681714level0_row1\" class=\"row_heading level0 row1\" >Tags</th>\n",
       "                        <td id=\"T_2718805e_b157_11ea_92e0_00e04c681714row1_col0\" class=\"data row1 col0\" >O</td>\n",
       "                        <td id=\"T_2718805e_b157_11ea_92e0_00e04c681714row1_col1\" class=\"data row1 col1\" >O</td>\n",
       "                        <td id=\"T_2718805e_b157_11ea_92e0_00e04c681714row1_col2\" class=\"data row1 col2\" >O</td>\n",
       "                        <td id=\"T_2718805e_b157_11ea_92e0_00e04c681714row1_col3\" class=\"data row1 col3\" >O</td>\n",
       "                        <td id=\"T_2718805e_b157_11ea_92e0_00e04c681714row1_col4\" class=\"data row1 col4\" >O</td>\n",
       "                        <td id=\"T_2718805e_b157_11ea_92e0_00e04c681714row1_col5\" class=\"data row1 col5\" >O</td>\n",
       "                        <td id=\"T_2718805e_b157_11ea_92e0_00e04c681714row1_col6\" class=\"data row1 col6\" >O</td>\n",
       "                        <td id=\"T_2718805e_b157_11ea_92e0_00e04c681714row1_col7\" class=\"data row1 col7\" >O</td>\n",
       "                        <td id=\"T_2718805e_b157_11ea_92e0_00e04c681714row1_col8\" class=\"data row1 col8\" >O</td>\n",
       "                        <td id=\"T_2718805e_b157_11ea_92e0_00e04c681714row1_col9\" class=\"data row1 col9\" >O</td>\n",
       "                        <td id=\"T_2718805e_b157_11ea_92e0_00e04c681714row1_col10\" class=\"data row1 col10\" >B-art</td>\n",
       "                        <td id=\"T_2718805e_b157_11ea_92e0_00e04c681714row1_col11\" class=\"data row1 col11\" >I-art</td>\n",
       "            </tr>\n",
       "    </tbody></table>"
      ],
      "text/plain": [
       "<pandas.io.formats.style.Styler at 0x1e5d504f4c8>"
      ]
     },
     "metadata": {},
     "output_type": "display_data"
    },
    {
     "data": {
      "text/html": [
       "<style  type=\"text/css\" >\n",
       "    #T_2719fc62_b157_11ea_a53a_00e04c681714row0_col0 {\n",
       "            color:  black;\n",
       "        }    #T_2719fc62_b157_11ea_a53a_00e04c681714row0_col1 {\n",
       "            color:  black;\n",
       "        }    #T_2719fc62_b157_11ea_a53a_00e04c681714row0_col2 {\n",
       "            color:  black;\n",
       "        }    #T_2719fc62_b157_11ea_a53a_00e04c681714row0_col3 {\n",
       "            color:  black;\n",
       "        }    #T_2719fc62_b157_11ea_a53a_00e04c681714row0_col4 {\n",
       "            color:  black;\n",
       "        }    #T_2719fc62_b157_11ea_a53a_00e04c681714row1_col0 {\n",
       "            color:  blue;\n",
       "        }    #T_2719fc62_b157_11ea_a53a_00e04c681714row1_col1 {\n",
       "            color:  blue;\n",
       "        }    #T_2719fc62_b157_11ea_a53a_00e04c681714row1_col2 {\n",
       "            color:  black;\n",
       "        }    #T_2719fc62_b157_11ea_a53a_00e04c681714row1_col3 {\n",
       "            color:  black;\n",
       "        }    #T_2719fc62_b157_11ea_a53a_00e04c681714row1_col4 {\n",
       "            color:  black;\n",
       "        }</style><table id=\"T_2719fc62_b157_11ea_a53a_00e04c681714\" ><thead>    <tr>        <th class=\"blank level0\" ></th>        <th class=\"col_heading level0 col0\" >W_00</th>        <th class=\"col_heading level0 col1\" >W_01</th>        <th class=\"col_heading level0 col2\" >W_02</th>        <th class=\"col_heading level0 col3\" >W_03</th>        <th class=\"col_heading level0 col4\" >W_04</th>    </tr></thead><tbody>\n",
       "                <tr>\n",
       "                        <th id=\"T_2719fc62_b157_11ea_a53a_00e04c681714level0_row0\" class=\"row_heading level0 row0\" >Words</th>\n",
       "                        <td id=\"T_2719fc62_b157_11ea_a53a_00e04c681714row0_col0\" class=\"data row0 col0\" >Jack</td>\n",
       "                        <td id=\"T_2719fc62_b157_11ea_a53a_00e04c681714row0_col1\" class=\"data row0 col1\" >London</td>\n",
       "                        <td id=\"T_2719fc62_b157_11ea_a53a_00e04c681714row0_col2\" class=\"data row0 col2\" >went</td>\n",
       "                        <td id=\"T_2719fc62_b157_11ea_a53a_00e04c681714row0_col3\" class=\"data row0 col3\" >to</td>\n",
       "                        <td id=\"T_2719fc62_b157_11ea_a53a_00e04c681714row0_col4\" class=\"data row0 col4\" >Parris.</td>\n",
       "            </tr>\n",
       "            <tr>\n",
       "                        <th id=\"T_2719fc62_b157_11ea_a53a_00e04c681714level0_row1\" class=\"row_heading level0 row1\" >Tags</th>\n",
       "                        <td id=\"T_2719fc62_b157_11ea_a53a_00e04c681714row1_col0\" class=\"data row1 col0\" >B-per</td>\n",
       "                        <td id=\"T_2719fc62_b157_11ea_a53a_00e04c681714row1_col1\" class=\"data row1 col1\" >I-per</td>\n",
       "                        <td id=\"T_2719fc62_b157_11ea_a53a_00e04c681714row1_col2\" class=\"data row1 col2\" >O</td>\n",
       "                        <td id=\"T_2719fc62_b157_11ea_a53a_00e04c681714row1_col3\" class=\"data row1 col3\" >O</td>\n",
       "                        <td id=\"T_2719fc62_b157_11ea_a53a_00e04c681714row1_col4\" class=\"data row1 col4\" >O</td>\n",
       "            </tr>\n",
       "    </tbody></table>"
      ],
      "text/plain": [
       "<pandas.io.formats.style.Styler at 0x1e5d500ae48>"
      ]
     },
     "metadata": {},
     "output_type": "display_data"
    },
    {
     "data": {
      "text/html": [
       "<style  type=\"text/css\" >\n",
       "    #T_271b8d1e_b157_11ea_9c90_00e04c681714row0_col0 {\n",
       "            color:  black;\n",
       "        }    #T_271b8d1e_b157_11ea_9c90_00e04c681714row0_col1 {\n",
       "            color:  black;\n",
       "        }    #T_271b8d1e_b157_11ea_9c90_00e04c681714row0_col2 {\n",
       "            color:  black;\n",
       "        }    #T_271b8d1e_b157_11ea_9c90_00e04c681714row0_col3 {\n",
       "            color:  black;\n",
       "        }    #T_271b8d1e_b157_11ea_9c90_00e04c681714row0_col4 {\n",
       "            color:  black;\n",
       "        }    #T_271b8d1e_b157_11ea_9c90_00e04c681714row1_col0 {\n",
       "            color:  blue;\n",
       "        }    #T_271b8d1e_b157_11ea_9c90_00e04c681714row1_col1 {\n",
       "            color:  blue;\n",
       "        }    #T_271b8d1e_b157_11ea_9c90_00e04c681714row1_col2 {\n",
       "            color:  black;\n",
       "        }    #T_271b8d1e_b157_11ea_9c90_00e04c681714row1_col3 {\n",
       "            color:  black;\n",
       "        }    #T_271b8d1e_b157_11ea_9c90_00e04c681714row1_col4 {\n",
       "            color:  black;\n",
       "        }</style><table id=\"T_271b8d1e_b157_11ea_9c90_00e04c681714\" ><thead>    <tr>        <th class=\"blank level0\" ></th>        <th class=\"col_heading level0 col0\" >W_00</th>        <th class=\"col_heading level0 col1\" >W_01</th>        <th class=\"col_heading level0 col2\" >W_02</th>        <th class=\"col_heading level0 col3\" >W_03</th>        <th class=\"col_heading level0 col4\" >W_04</th>    </tr></thead><tbody>\n",
       "                <tr>\n",
       "                        <th id=\"T_271b8d1e_b157_11ea_9c90_00e04c681714level0_row0\" class=\"row_heading level0 row0\" >Words</th>\n",
       "                        <td id=\"T_271b8d1e_b157_11ea_9c90_00e04c681714row0_col0\" class=\"data row0 col0\" >Jack</td>\n",
       "                        <td id=\"T_271b8d1e_b157_11ea_9c90_00e04c681714row0_col1\" class=\"data row0 col1\" >London</td>\n",
       "                        <td id=\"T_271b8d1e_b157_11ea_9c90_00e04c681714row0_col2\" class=\"data row0 col2\" >went</td>\n",
       "                        <td id=\"T_271b8d1e_b157_11ea_9c90_00e04c681714row0_col3\" class=\"data row0 col3\" >to</td>\n",
       "                        <td id=\"T_271b8d1e_b157_11ea_9c90_00e04c681714row0_col4\" class=\"data row0 col4\" >Paris.</td>\n",
       "            </tr>\n",
       "            <tr>\n",
       "                        <th id=\"T_271b8d1e_b157_11ea_9c90_00e04c681714level0_row1\" class=\"row_heading level0 row1\" >Tags</th>\n",
       "                        <td id=\"T_271b8d1e_b157_11ea_9c90_00e04c681714row1_col0\" class=\"data row1 col0\" >B-per</td>\n",
       "                        <td id=\"T_271b8d1e_b157_11ea_9c90_00e04c681714row1_col1\" class=\"data row1 col1\" >I-per</td>\n",
       "                        <td id=\"T_271b8d1e_b157_11ea_9c90_00e04c681714row1_col2\" class=\"data row1 col2\" >O</td>\n",
       "                        <td id=\"T_271b8d1e_b157_11ea_9c90_00e04c681714row1_col3\" class=\"data row1 col3\" >O</td>\n",
       "                        <td id=\"T_271b8d1e_b157_11ea_9c90_00e04c681714row1_col4\" class=\"data row1 col4\" >O</td>\n",
       "            </tr>\n",
       "    </tbody></table>"
      ],
      "text/plain": [
       "<pandas.io.formats.style.Styler at 0x1e5d4f90908>"
      ]
     },
     "metadata": {},
     "output_type": "display_data"
    },
    {
     "data": {
      "text/html": [
       "<style  type=\"text/css\" >\n",
       "    #T_271dd762_b157_11ea_b751_00e04c681714row0_col0 {\n",
       "            color:  black;\n",
       "        }    #T_271dd762_b157_11ea_b751_00e04c681714row0_col1 {\n",
       "            color:  black;\n",
       "        }    #T_271dd762_b157_11ea_b751_00e04c681714row0_col2 {\n",
       "            color:  black;\n",
       "        }    #T_271dd762_b157_11ea_b751_00e04c681714row0_col3 {\n",
       "            color:  black;\n",
       "        }    #T_271dd762_b157_11ea_b751_00e04c681714row0_col4 {\n",
       "            color:  black;\n",
       "        }    #T_271dd762_b157_11ea_b751_00e04c681714row0_col5 {\n",
       "            color:  black;\n",
       "        }    #T_271dd762_b157_11ea_b751_00e04c681714row0_col6 {\n",
       "            color:  black;\n",
       "        }    #T_271dd762_b157_11ea_b751_00e04c681714row0_col7 {\n",
       "            color:  black;\n",
       "        }    #T_271dd762_b157_11ea_b751_00e04c681714row0_col8 {\n",
       "            color:  black;\n",
       "        }    #T_271dd762_b157_11ea_b751_00e04c681714row0_col9 {\n",
       "            color:  black;\n",
       "        }    #T_271dd762_b157_11ea_b751_00e04c681714row1_col0 {\n",
       "            color:  black;\n",
       "        }    #T_271dd762_b157_11ea_b751_00e04c681714row1_col1 {\n",
       "            color:  black;\n",
       "        }    #T_271dd762_b157_11ea_b751_00e04c681714row1_col2 {\n",
       "            color:  black;\n",
       "        }    #T_271dd762_b157_11ea_b751_00e04c681714row1_col3 {\n",
       "            color:  blue;\n",
       "        }    #T_271dd762_b157_11ea_b751_00e04c681714row1_col4 {\n",
       "            color:  black;\n",
       "        }    #T_271dd762_b157_11ea_b751_00e04c681714row1_col5 {\n",
       "            color:  black;\n",
       "        }    #T_271dd762_b157_11ea_b751_00e04c681714row1_col6 {\n",
       "            color:  black;\n",
       "        }    #T_271dd762_b157_11ea_b751_00e04c681714row1_col7 {\n",
       "            color:  black;\n",
       "        }    #T_271dd762_b157_11ea_b751_00e04c681714row1_col8 {\n",
       "            color:  black;\n",
       "        }    #T_271dd762_b157_11ea_b751_00e04c681714row1_col9 {\n",
       "            color:  black;\n",
       "        }</style><table id=\"T_271dd762_b157_11ea_b751_00e04c681714\" ><thead>    <tr>        <th class=\"blank level0\" ></th>        <th class=\"col_heading level0 col0\" >W_00</th>        <th class=\"col_heading level0 col1\" >W_01</th>        <th class=\"col_heading level0 col2\" >W_02</th>        <th class=\"col_heading level0 col3\" >W_03</th>        <th class=\"col_heading level0 col4\" >W_04</th>        <th class=\"col_heading level0 col5\" >W_05</th>        <th class=\"col_heading level0 col6\" >W_06</th>        <th class=\"col_heading level0 col7\" >W_07</th>        <th class=\"col_heading level0 col8\" >W_08</th>        <th class=\"col_heading level0 col9\" >W_09</th>    </tr></thead><tbody>\n",
       "                <tr>\n",
       "                        <th id=\"T_271dd762_b157_11ea_b751_00e04c681714level0_row0\" class=\"row_heading level0 row0\" >Words</th>\n",
       "                        <td id=\"T_271dd762_b157_11ea_b751_00e04c681714row0_col0\" class=\"data row0 col0\" >We</td>\n",
       "                        <td id=\"T_271dd762_b157_11ea_b751_00e04c681714row0_col1\" class=\"data row0 col1\" >never</td>\n",
       "                        <td id=\"T_271dd762_b157_11ea_b751_00e04c681714row0_col2\" class=\"data row0 col2\" >though</td>\n",
       "                        <td id=\"T_271dd762_b157_11ea_b751_00e04c681714row0_col3\" class=\"data row0 col3\" >Microsoft</td>\n",
       "                        <td id=\"T_271dd762_b157_11ea_b751_00e04c681714row0_col4\" class=\"data row0 col4\" >would</td>\n",
       "                        <td id=\"T_271dd762_b157_11ea_b751_00e04c681714row0_col5\" class=\"data row0 col5\" >become</td>\n",
       "                        <td id=\"T_271dd762_b157_11ea_b751_00e04c681714row0_col6\" class=\"data row0 col6\" >such</td>\n",
       "                        <td id=\"T_271dd762_b157_11ea_b751_00e04c681714row0_col7\" class=\"data row0 col7\" >a</td>\n",
       "                        <td id=\"T_271dd762_b157_11ea_b751_00e04c681714row0_col8\" class=\"data row0 col8\" >big</td>\n",
       "                        <td id=\"T_271dd762_b157_11ea_b751_00e04c681714row0_col9\" class=\"data row0 col9\" >company.</td>\n",
       "            </tr>\n",
       "            <tr>\n",
       "                        <th id=\"T_271dd762_b157_11ea_b751_00e04c681714level0_row1\" class=\"row_heading level0 row1\" >Tags</th>\n",
       "                        <td id=\"T_271dd762_b157_11ea_b751_00e04c681714row1_col0\" class=\"data row1 col0\" >O</td>\n",
       "                        <td id=\"T_271dd762_b157_11ea_b751_00e04c681714row1_col1\" class=\"data row1 col1\" >O</td>\n",
       "                        <td id=\"T_271dd762_b157_11ea_b751_00e04c681714row1_col2\" class=\"data row1 col2\" >O</td>\n",
       "                        <td id=\"T_271dd762_b157_11ea_b751_00e04c681714row1_col3\" class=\"data row1 col3\" >B-org</td>\n",
       "                        <td id=\"T_271dd762_b157_11ea_b751_00e04c681714row1_col4\" class=\"data row1 col4\" >O</td>\n",
       "                        <td id=\"T_271dd762_b157_11ea_b751_00e04c681714row1_col5\" class=\"data row1 col5\" >O</td>\n",
       "                        <td id=\"T_271dd762_b157_11ea_b751_00e04c681714row1_col6\" class=\"data row1 col6\" >O</td>\n",
       "                        <td id=\"T_271dd762_b157_11ea_b751_00e04c681714row1_col7\" class=\"data row1 col7\" >O</td>\n",
       "                        <td id=\"T_271dd762_b157_11ea_b751_00e04c681714row1_col8\" class=\"data row1 col8\" >O</td>\n",
       "                        <td id=\"T_271dd762_b157_11ea_b751_00e04c681714row1_col9\" class=\"data row1 col9\" >O</td>\n",
       "            </tr>\n",
       "    </tbody></table>"
      ],
      "text/plain": [
       "<pandas.io.formats.style.Styler at 0x1e5d5004648>"
      ]
     },
     "metadata": {},
     "output_type": "display_data"
    },
    {
     "data": {
      "text/html": [
       "<style  type=\"text/css\" >\n",
       "    #T_271e8912_b157_11ea_9ce8_00e04c681714row0_col0 {\n",
       "            color:  black;\n",
       "        }    #T_271e8912_b157_11ea_9ce8_00e04c681714row0_col1 {\n",
       "            color:  black;\n",
       "        }    #T_271e8912_b157_11ea_9ce8_00e04c681714row0_col2 {\n",
       "            color:  black;\n",
       "        }    #T_271e8912_b157_11ea_9ce8_00e04c681714row0_col3 {\n",
       "            color:  black;\n",
       "        }    #T_271e8912_b157_11ea_9ce8_00e04c681714row0_col4 {\n",
       "            color:  black;\n",
       "        }    #T_271e8912_b157_11ea_9ce8_00e04c681714row0_col5 {\n",
       "            color:  black;\n",
       "        }    #T_271e8912_b157_11ea_9ce8_00e04c681714row0_col6 {\n",
       "            color:  black;\n",
       "        }    #T_271e8912_b157_11ea_9ce8_00e04c681714row0_col7 {\n",
       "            color:  black;\n",
       "        }    #T_271e8912_b157_11ea_9ce8_00e04c681714row0_col8 {\n",
       "            color:  black;\n",
       "        }    #T_271e8912_b157_11ea_9ce8_00e04c681714row0_col9 {\n",
       "            color:  black;\n",
       "        }    #T_271e8912_b157_11ea_9ce8_00e04c681714row1_col0 {\n",
       "            color:  black;\n",
       "        }    #T_271e8912_b157_11ea_9ce8_00e04c681714row1_col1 {\n",
       "            color:  black;\n",
       "        }    #T_271e8912_b157_11ea_9ce8_00e04c681714row1_col2 {\n",
       "            color:  black;\n",
       "        }    #T_271e8912_b157_11ea_9ce8_00e04c681714row1_col3 {\n",
       "            color:  black;\n",
       "        }    #T_271e8912_b157_11ea_9ce8_00e04c681714row1_col4 {\n",
       "            color:  black;\n",
       "        }    #T_271e8912_b157_11ea_9ce8_00e04c681714row1_col5 {\n",
       "            color:  black;\n",
       "        }    #T_271e8912_b157_11ea_9ce8_00e04c681714row1_col6 {\n",
       "            color:  black;\n",
       "        }    #T_271e8912_b157_11ea_9ce8_00e04c681714row1_col7 {\n",
       "            color:  black;\n",
       "        }    #T_271e8912_b157_11ea_9ce8_00e04c681714row1_col8 {\n",
       "            color:  black;\n",
       "        }    #T_271e8912_b157_11ea_9ce8_00e04c681714row1_col9 {\n",
       "            color:  black;\n",
       "        }</style><table id=\"T_271e8912_b157_11ea_9ce8_00e04c681714\" ><thead>    <tr>        <th class=\"blank level0\" ></th>        <th class=\"col_heading level0 col0\" >W_00</th>        <th class=\"col_heading level0 col1\" >W_01</th>        <th class=\"col_heading level0 col2\" >W_02</th>        <th class=\"col_heading level0 col3\" >W_03</th>        <th class=\"col_heading level0 col4\" >W_04</th>        <th class=\"col_heading level0 col5\" >W_05</th>        <th class=\"col_heading level0 col6\" >W_06</th>        <th class=\"col_heading level0 col7\" >W_07</th>        <th class=\"col_heading level0 col8\" >W_08</th>        <th class=\"col_heading level0 col9\" >W_09</th>    </tr></thead><tbody>\n",
       "                <tr>\n",
       "                        <th id=\"T_271e8912_b157_11ea_9ce8_00e04c681714level0_row0\" class=\"row_heading level0 row0\" >Words</th>\n",
       "                        <td id=\"T_271e8912_b157_11ea_9ce8_00e04c681714row0_col0\" class=\"data row0 col0\" >We</td>\n",
       "                        <td id=\"T_271e8912_b157_11ea_9ce8_00e04c681714row0_col1\" class=\"data row0 col1\" >never</td>\n",
       "                        <td id=\"T_271e8912_b157_11ea_9ce8_00e04c681714row0_col2\" class=\"data row0 col2\" >though</td>\n",
       "                        <td id=\"T_271e8912_b157_11ea_9ce8_00e04c681714row0_col3\" class=\"data row0 col3\" >Microsof</td>\n",
       "                        <td id=\"T_271e8912_b157_11ea_9ce8_00e04c681714row0_col4\" class=\"data row0 col4\" >would</td>\n",
       "                        <td id=\"T_271e8912_b157_11ea_9ce8_00e04c681714row0_col5\" class=\"data row0 col5\" >become</td>\n",
       "                        <td id=\"T_271e8912_b157_11ea_9ce8_00e04c681714row0_col6\" class=\"data row0 col6\" >such</td>\n",
       "                        <td id=\"T_271e8912_b157_11ea_9ce8_00e04c681714row0_col7\" class=\"data row0 col7\" >a</td>\n",
       "                        <td id=\"T_271e8912_b157_11ea_9ce8_00e04c681714row0_col8\" class=\"data row0 col8\" >big</td>\n",
       "                        <td id=\"T_271e8912_b157_11ea_9ce8_00e04c681714row0_col9\" class=\"data row0 col9\" >company.</td>\n",
       "            </tr>\n",
       "            <tr>\n",
       "                        <th id=\"T_271e8912_b157_11ea_9ce8_00e04c681714level0_row1\" class=\"row_heading level0 row1\" >Tags</th>\n",
       "                        <td id=\"T_271e8912_b157_11ea_9ce8_00e04c681714row1_col0\" class=\"data row1 col0\" >O</td>\n",
       "                        <td id=\"T_271e8912_b157_11ea_9ce8_00e04c681714row1_col1\" class=\"data row1 col1\" >O</td>\n",
       "                        <td id=\"T_271e8912_b157_11ea_9ce8_00e04c681714row1_col2\" class=\"data row1 col2\" >O</td>\n",
       "                        <td id=\"T_271e8912_b157_11ea_9ce8_00e04c681714row1_col3\" class=\"data row1 col3\" >O</td>\n",
       "                        <td id=\"T_271e8912_b157_11ea_9ce8_00e04c681714row1_col4\" class=\"data row1 col4\" >O</td>\n",
       "                        <td id=\"T_271e8912_b157_11ea_9ce8_00e04c681714row1_col5\" class=\"data row1 col5\" >O</td>\n",
       "                        <td id=\"T_271e8912_b157_11ea_9ce8_00e04c681714row1_col6\" class=\"data row1 col6\" >O</td>\n",
       "                        <td id=\"T_271e8912_b157_11ea_9ce8_00e04c681714row1_col7\" class=\"data row1 col7\" >O</td>\n",
       "                        <td id=\"T_271e8912_b157_11ea_9ce8_00e04c681714row1_col8\" class=\"data row1 col8\" >O</td>\n",
       "                        <td id=\"T_271e8912_b157_11ea_9ce8_00e04c681714row1_col9\" class=\"data row1 col9\" >O</td>\n",
       "            </tr>\n",
       "    </tbody></table>"
      ],
      "text/plain": [
       "<pandas.io.formats.style.Styler at 0x1e5d4fc9688>"
      ]
     },
     "metadata": {},
     "output_type": "display_data"
    },
    {
     "data": {
      "text/html": [
       "<style  type=\"text/css\" >\n",
       "    #T_272195c6_b157_11ea_b9ec_00e04c681714row0_col0 {\n",
       "            color:  black;\n",
       "        }    #T_272195c6_b157_11ea_b9ec_00e04c681714row0_col1 {\n",
       "            color:  black;\n",
       "        }    #T_272195c6_b157_11ea_b9ec_00e04c681714row0_col2 {\n",
       "            color:  black;\n",
       "        }    #T_272195c6_b157_11ea_b9ec_00e04c681714row0_col3 {\n",
       "            color:  black;\n",
       "        }    #T_272195c6_b157_11ea_b9ec_00e04c681714row0_col4 {\n",
       "            color:  black;\n",
       "        }    #T_272195c6_b157_11ea_b9ec_00e04c681714row0_col5 {\n",
       "            color:  black;\n",
       "        }    #T_272195c6_b157_11ea_b9ec_00e04c681714row0_col6 {\n",
       "            color:  black;\n",
       "        }    #T_272195c6_b157_11ea_b9ec_00e04c681714row0_col7 {\n",
       "            color:  black;\n",
       "        }    #T_272195c6_b157_11ea_b9ec_00e04c681714row0_col8 {\n",
       "            color:  black;\n",
       "        }    #T_272195c6_b157_11ea_b9ec_00e04c681714row0_col9 {\n",
       "            color:  black;\n",
       "        }    #T_272195c6_b157_11ea_b9ec_00e04c681714row1_col0 {\n",
       "            color:  black;\n",
       "        }    #T_272195c6_b157_11ea_b9ec_00e04c681714row1_col1 {\n",
       "            color:  black;\n",
       "        }    #T_272195c6_b157_11ea_b9ec_00e04c681714row1_col2 {\n",
       "            color:  black;\n",
       "        }    #T_272195c6_b157_11ea_b9ec_00e04c681714row1_col3 {\n",
       "            color:  blue;\n",
       "        }    #T_272195c6_b157_11ea_b9ec_00e04c681714row1_col4 {\n",
       "            color:  black;\n",
       "        }    #T_272195c6_b157_11ea_b9ec_00e04c681714row1_col5 {\n",
       "            color:  black;\n",
       "        }    #T_272195c6_b157_11ea_b9ec_00e04c681714row1_col6 {\n",
       "            color:  black;\n",
       "        }    #T_272195c6_b157_11ea_b9ec_00e04c681714row1_col7 {\n",
       "            color:  black;\n",
       "        }    #T_272195c6_b157_11ea_b9ec_00e04c681714row1_col8 {\n",
       "            color:  black;\n",
       "        }    #T_272195c6_b157_11ea_b9ec_00e04c681714row1_col9 {\n",
       "            color:  black;\n",
       "        }</style><table id=\"T_272195c6_b157_11ea_b9ec_00e04c681714\" ><thead>    <tr>        <th class=\"blank level0\" ></th>        <th class=\"col_heading level0 col0\" >W_00</th>        <th class=\"col_heading level0 col1\" >W_01</th>        <th class=\"col_heading level0 col2\" >W_02</th>        <th class=\"col_heading level0 col3\" >W_03</th>        <th class=\"col_heading level0 col4\" >W_04</th>        <th class=\"col_heading level0 col5\" >W_05</th>        <th class=\"col_heading level0 col6\" >W_06</th>        <th class=\"col_heading level0 col7\" >W_07</th>        <th class=\"col_heading level0 col8\" >W_08</th>        <th class=\"col_heading level0 col9\" >W_09</th>    </tr></thead><tbody>\n",
       "                <tr>\n",
       "                        <th id=\"T_272195c6_b157_11ea_b9ec_00e04c681714level0_row0\" class=\"row_heading level0 row0\" >Words</th>\n",
       "                        <td id=\"T_272195c6_b157_11ea_b9ec_00e04c681714row0_col0\" class=\"data row0 col0\" >The</td>\n",
       "                        <td id=\"T_272195c6_b157_11ea_b9ec_00e04c681714row0_col1\" class=\"data row0 col1\" >president</td>\n",
       "                        <td id=\"T_272195c6_b157_11ea_b9ec_00e04c681714row0_col2\" class=\"data row0 col2\" >of</td>\n",
       "                        <td id=\"T_272195c6_b157_11ea_b9ec_00e04c681714row0_col3\" class=\"data row0 col3\" >U.S.A</td>\n",
       "                        <td id=\"T_272195c6_b157_11ea_b9ec_00e04c681714row0_col4\" class=\"data row0 col4\" >though</td>\n",
       "                        <td id=\"T_272195c6_b157_11ea_b9ec_00e04c681714row0_col5\" class=\"data row0 col5\" >they</td>\n",
       "                        <td id=\"T_272195c6_b157_11ea_b9ec_00e04c681714row0_col6\" class=\"data row0 col6\" >could</td>\n",
       "                        <td id=\"T_272195c6_b157_11ea_b9ec_00e04c681714row0_col7\" class=\"data row0 col7\" >win</td>\n",
       "                        <td id=\"T_272195c6_b157_11ea_b9ec_00e04c681714row0_col8\" class=\"data row0 col8\" >the</td>\n",
       "                        <td id=\"T_272195c6_b157_11ea_b9ec_00e04c681714row0_col9\" class=\"data row0 col9\" >war</td>\n",
       "            </tr>\n",
       "            <tr>\n",
       "                        <th id=\"T_272195c6_b157_11ea_b9ec_00e04c681714level0_row1\" class=\"row_heading level0 row1\" >Tags</th>\n",
       "                        <td id=\"T_272195c6_b157_11ea_b9ec_00e04c681714row1_col0\" class=\"data row1 col0\" >O</td>\n",
       "                        <td id=\"T_272195c6_b157_11ea_b9ec_00e04c681714row1_col1\" class=\"data row1 col1\" >O</td>\n",
       "                        <td id=\"T_272195c6_b157_11ea_b9ec_00e04c681714row1_col2\" class=\"data row1 col2\" >O</td>\n",
       "                        <td id=\"T_272195c6_b157_11ea_b9ec_00e04c681714row1_col3\" class=\"data row1 col3\" >B-org</td>\n",
       "                        <td id=\"T_272195c6_b157_11ea_b9ec_00e04c681714row1_col4\" class=\"data row1 col4\" >O</td>\n",
       "                        <td id=\"T_272195c6_b157_11ea_b9ec_00e04c681714row1_col5\" class=\"data row1 col5\" >O</td>\n",
       "                        <td id=\"T_272195c6_b157_11ea_b9ec_00e04c681714row1_col6\" class=\"data row1 col6\" >O</td>\n",
       "                        <td id=\"T_272195c6_b157_11ea_b9ec_00e04c681714row1_col7\" class=\"data row1 col7\" >O</td>\n",
       "                        <td id=\"T_272195c6_b157_11ea_b9ec_00e04c681714row1_col8\" class=\"data row1 col8\" >O</td>\n",
       "                        <td id=\"T_272195c6_b157_11ea_b9ec_00e04c681714row1_col9\" class=\"data row1 col9\" >O</td>\n",
       "            </tr>\n",
       "    </tbody></table>"
      ],
      "text/plain": [
       "<pandas.io.formats.style.Styler at 0x1e5d4fe1a48>"
      ]
     },
     "metadata": {},
     "output_type": "display_data"
    },
    {
     "data": {
      "text/html": [
       "<style  type=\"text/css\" >\n",
       "    #T_27232068_b157_11ea_9581_00e04c681714row0_col0 {\n",
       "            color:  black;\n",
       "        }    #T_27232068_b157_11ea_9581_00e04c681714row0_col1 {\n",
       "            color:  black;\n",
       "        }    #T_27232068_b157_11ea_9581_00e04c681714row0_col2 {\n",
       "            color:  black;\n",
       "        }    #T_27232068_b157_11ea_9581_00e04c681714row0_col3 {\n",
       "            color:  black;\n",
       "        }    #T_27232068_b157_11ea_9581_00e04c681714row0_col4 {\n",
       "            color:  black;\n",
       "        }    #T_27232068_b157_11ea_9581_00e04c681714row0_col5 {\n",
       "            color:  black;\n",
       "        }    #T_27232068_b157_11ea_9581_00e04c681714row0_col6 {\n",
       "            color:  black;\n",
       "        }    #T_27232068_b157_11ea_9581_00e04c681714row0_col7 {\n",
       "            color:  black;\n",
       "        }    #T_27232068_b157_11ea_9581_00e04c681714row0_col8 {\n",
       "            color:  black;\n",
       "        }    #T_27232068_b157_11ea_9581_00e04c681714row0_col9 {\n",
       "            color:  black;\n",
       "        }    #T_27232068_b157_11ea_9581_00e04c681714row0_col10 {\n",
       "            color:  black;\n",
       "        }    #T_27232068_b157_11ea_9581_00e04c681714row0_col11 {\n",
       "            color:  black;\n",
       "        }    #T_27232068_b157_11ea_9581_00e04c681714row0_col12 {\n",
       "            color:  black;\n",
       "        }    #T_27232068_b157_11ea_9581_00e04c681714row0_col13 {\n",
       "            color:  black;\n",
       "        }    #T_27232068_b157_11ea_9581_00e04c681714row1_col0 {\n",
       "            color:  black;\n",
       "        }    #T_27232068_b157_11ea_9581_00e04c681714row1_col1 {\n",
       "            color:  black;\n",
       "        }    #T_27232068_b157_11ea_9581_00e04c681714row1_col2 {\n",
       "            color:  black;\n",
       "        }    #T_27232068_b157_11ea_9581_00e04c681714row1_col3 {\n",
       "            color:  black;\n",
       "        }    #T_27232068_b157_11ea_9581_00e04c681714row1_col4 {\n",
       "            color:  blue;\n",
       "        }    #T_27232068_b157_11ea_9581_00e04c681714row1_col5 {\n",
       "            color:  blue;\n",
       "        }    #T_27232068_b157_11ea_9581_00e04c681714row1_col6 {\n",
       "            color:  black;\n",
       "        }    #T_27232068_b157_11ea_9581_00e04c681714row1_col7 {\n",
       "            color:  blue;\n",
       "        }    #T_27232068_b157_11ea_9581_00e04c681714row1_col8 {\n",
       "            color:  black;\n",
       "        }    #T_27232068_b157_11ea_9581_00e04c681714row1_col9 {\n",
       "            color:  black;\n",
       "        }    #T_27232068_b157_11ea_9581_00e04c681714row1_col10 {\n",
       "            color:  black;\n",
       "        }    #T_27232068_b157_11ea_9581_00e04c681714row1_col11 {\n",
       "            color:  black;\n",
       "        }    #T_27232068_b157_11ea_9581_00e04c681714row1_col12 {\n",
       "            color:  black;\n",
       "        }    #T_27232068_b157_11ea_9581_00e04c681714row1_col13 {\n",
       "            color:  black;\n",
       "        }</style><table id=\"T_27232068_b157_11ea_9581_00e04c681714\" ><thead>    <tr>        <th class=\"blank level0\" ></th>        <th class=\"col_heading level0 col0\" >W_00</th>        <th class=\"col_heading level0 col1\" >W_01</th>        <th class=\"col_heading level0 col2\" >W_02</th>        <th class=\"col_heading level0 col3\" >W_03</th>        <th class=\"col_heading level0 col4\" >W_04</th>        <th class=\"col_heading level0 col5\" >W_05</th>        <th class=\"col_heading level0 col6\" >W_06</th>        <th class=\"col_heading level0 col7\" >W_07</th>        <th class=\"col_heading level0 col8\" >W_08</th>        <th class=\"col_heading level0 col9\" >W_09</th>        <th class=\"col_heading level0 col10\" >W_10</th>        <th class=\"col_heading level0 col11\" >W_11</th>        <th class=\"col_heading level0 col12\" >W_12</th>        <th class=\"col_heading level0 col13\" >W_13</th>    </tr></thead><tbody>\n",
       "                <tr>\n",
       "                        <th id=\"T_27232068_b157_11ea_9581_00e04c681714level0_row0\" class=\"row_heading level0 row0\" >Words</th>\n",
       "                        <td id=\"T_27232068_b157_11ea_9581_00e04c681714row0_col0\" class=\"data row0 col0\" >The</td>\n",
       "                        <td id=\"T_27232068_b157_11ea_9581_00e04c681714row0_col1\" class=\"data row0 col1\" >president</td>\n",
       "                        <td id=\"T_27232068_b157_11ea_9581_00e04c681714row0_col2\" class=\"data row0 col2\" >of</td>\n",
       "                        <td id=\"T_27232068_b157_11ea_9581_00e04c681714row0_col3\" class=\"data row0 col3\" >the</td>\n",
       "                        <td id=\"T_27232068_b157_11ea_9581_00e04c681714row0_col4\" class=\"data row0 col4\" >United</td>\n",
       "                        <td id=\"T_27232068_b157_11ea_9581_00e04c681714row0_col5\" class=\"data row0 col5\" >States</td>\n",
       "                        <td id=\"T_27232068_b157_11ea_9581_00e04c681714row0_col6\" class=\"data row0 col6\" >of</td>\n",
       "                        <td id=\"T_27232068_b157_11ea_9581_00e04c681714row0_col7\" class=\"data row0 col7\" >America</td>\n",
       "                        <td id=\"T_27232068_b157_11ea_9581_00e04c681714row0_col8\" class=\"data row0 col8\" >though</td>\n",
       "                        <td id=\"T_27232068_b157_11ea_9581_00e04c681714row0_col9\" class=\"data row0 col9\" >they</td>\n",
       "                        <td id=\"T_27232068_b157_11ea_9581_00e04c681714row0_col10\" class=\"data row0 col10\" >could</td>\n",
       "                        <td id=\"T_27232068_b157_11ea_9581_00e04c681714row0_col11\" class=\"data row0 col11\" >win</td>\n",
       "                        <td id=\"T_27232068_b157_11ea_9581_00e04c681714row0_col12\" class=\"data row0 col12\" >the</td>\n",
       "                        <td id=\"T_27232068_b157_11ea_9581_00e04c681714row0_col13\" class=\"data row0 col13\" >war</td>\n",
       "            </tr>\n",
       "            <tr>\n",
       "                        <th id=\"T_27232068_b157_11ea_9581_00e04c681714level0_row1\" class=\"row_heading level0 row1\" >Tags</th>\n",
       "                        <td id=\"T_27232068_b157_11ea_9581_00e04c681714row1_col0\" class=\"data row1 col0\" >O</td>\n",
       "                        <td id=\"T_27232068_b157_11ea_9581_00e04c681714row1_col1\" class=\"data row1 col1\" >O</td>\n",
       "                        <td id=\"T_27232068_b157_11ea_9581_00e04c681714row1_col2\" class=\"data row1 col2\" >O</td>\n",
       "                        <td id=\"T_27232068_b157_11ea_9581_00e04c681714row1_col3\" class=\"data row1 col3\" >O</td>\n",
       "                        <td id=\"T_27232068_b157_11ea_9581_00e04c681714row1_col4\" class=\"data row1 col4\" >B-geo</td>\n",
       "                        <td id=\"T_27232068_b157_11ea_9581_00e04c681714row1_col5\" class=\"data row1 col5\" >I-geo</td>\n",
       "                        <td id=\"T_27232068_b157_11ea_9581_00e04c681714row1_col6\" class=\"data row1 col6\" >O</td>\n",
       "                        <td id=\"T_27232068_b157_11ea_9581_00e04c681714row1_col7\" class=\"data row1 col7\" >B-geo</td>\n",
       "                        <td id=\"T_27232068_b157_11ea_9581_00e04c681714row1_col8\" class=\"data row1 col8\" >O</td>\n",
       "                        <td id=\"T_27232068_b157_11ea_9581_00e04c681714row1_col9\" class=\"data row1 col9\" >O</td>\n",
       "                        <td id=\"T_27232068_b157_11ea_9581_00e04c681714row1_col10\" class=\"data row1 col10\" >O</td>\n",
       "                        <td id=\"T_27232068_b157_11ea_9581_00e04c681714row1_col11\" class=\"data row1 col11\" >O</td>\n",
       "                        <td id=\"T_27232068_b157_11ea_9581_00e04c681714row1_col12\" class=\"data row1 col12\" >O</td>\n",
       "                        <td id=\"T_27232068_b157_11ea_9581_00e04c681714row1_col13\" class=\"data row1 col13\" >O</td>\n",
       "            </tr>\n",
       "    </tbody></table>"
      ],
      "text/plain": [
       "<pandas.io.formats.style.Styler at 0x1e5d500a948>"
      ]
     },
     "metadata": {},
     "output_type": "display_data"
    },
    {
     "data": {
      "text/html": [
       "<style  type=\"text/css\" >\n",
       "    #T_2724b264_b157_11ea_bd8d_00e04c681714row0_col0 {\n",
       "            color:  black;\n",
       "        }    #T_2724b264_b157_11ea_bd8d_00e04c681714row0_col1 {\n",
       "            color:  black;\n",
       "        }    #T_2724b264_b157_11ea_bd8d_00e04c681714row0_col2 {\n",
       "            color:  black;\n",
       "        }    #T_2724b264_b157_11ea_bd8d_00e04c681714row0_col3 {\n",
       "            color:  black;\n",
       "        }    #T_2724b264_b157_11ea_bd8d_00e04c681714row0_col4 {\n",
       "            color:  black;\n",
       "        }    #T_2724b264_b157_11ea_bd8d_00e04c681714row0_col5 {\n",
       "            color:  black;\n",
       "        }    #T_2724b264_b157_11ea_bd8d_00e04c681714row0_col6 {\n",
       "            color:  black;\n",
       "        }    #T_2724b264_b157_11ea_bd8d_00e04c681714row0_col7 {\n",
       "            color:  black;\n",
       "        }    #T_2724b264_b157_11ea_bd8d_00e04c681714row1_col0 {\n",
       "            color:  black;\n",
       "        }    #T_2724b264_b157_11ea_bd8d_00e04c681714row1_col1 {\n",
       "            color:  black;\n",
       "        }    #T_2724b264_b157_11ea_bd8d_00e04c681714row1_col2 {\n",
       "            color:  black;\n",
       "        }    #T_2724b264_b157_11ea_bd8d_00e04c681714row1_col3 {\n",
       "            color:  blue;\n",
       "        }    #T_2724b264_b157_11ea_bd8d_00e04c681714row1_col4 {\n",
       "            color:  blue;\n",
       "        }    #T_2724b264_b157_11ea_bd8d_00e04c681714row1_col5 {\n",
       "            color:  black;\n",
       "        }    #T_2724b264_b157_11ea_bd8d_00e04c681714row1_col6 {\n",
       "            color:  black;\n",
       "        }    #T_2724b264_b157_11ea_bd8d_00e04c681714row1_col7 {\n",
       "            color:  black;\n",
       "        }</style><table id=\"T_2724b264_b157_11ea_bd8d_00e04c681714\" ><thead>    <tr>        <th class=\"blank level0\" ></th>        <th class=\"col_heading level0 col0\" >W_00</th>        <th class=\"col_heading level0 col1\" >W_01</th>        <th class=\"col_heading level0 col2\" >W_02</th>        <th class=\"col_heading level0 col3\" >W_03</th>        <th class=\"col_heading level0 col4\" >W_04</th>        <th class=\"col_heading level0 col5\" >W_05</th>        <th class=\"col_heading level0 col6\" >W_06</th>        <th class=\"col_heading level0 col7\" >W_07</th>    </tr></thead><tbody>\n",
       "                <tr>\n",
       "                        <th id=\"T_2724b264_b157_11ea_bd8d_00e04c681714level0_row0\" class=\"row_heading level0 row0\" >Words</th>\n",
       "                        <td id=\"T_2724b264_b157_11ea_bd8d_00e04c681714row0_col0\" class=\"data row0 col0\" >The</td>\n",
       "                        <td id=\"T_2724b264_b157_11ea_bd8d_00e04c681714row0_col1\" class=\"data row0 col1\" >king</td>\n",
       "                        <td id=\"T_2724b264_b157_11ea_bd8d_00e04c681714row0_col2\" class=\"data row0 col2\" >of</td>\n",
       "                        <td id=\"T_2724b264_b157_11ea_bd8d_00e04c681714row0_col3\" class=\"data row0 col3\" >Saudi</td>\n",
       "                        <td id=\"T_2724b264_b157_11ea_bd8d_00e04c681714row0_col4\" class=\"data row0 col4\" >Arabia</td>\n",
       "                        <td id=\"T_2724b264_b157_11ea_bd8d_00e04c681714row0_col5\" class=\"data row0 col5\" >wanted</td>\n",
       "                        <td id=\"T_2724b264_b157_11ea_bd8d_00e04c681714row0_col6\" class=\"data row0 col6\" >total</td>\n",
       "                        <td id=\"T_2724b264_b157_11ea_bd8d_00e04c681714row0_col7\" class=\"data row0 col7\" >control.</td>\n",
       "            </tr>\n",
       "            <tr>\n",
       "                        <th id=\"T_2724b264_b157_11ea_bd8d_00e04c681714level0_row1\" class=\"row_heading level0 row1\" >Tags</th>\n",
       "                        <td id=\"T_2724b264_b157_11ea_bd8d_00e04c681714row1_col0\" class=\"data row1 col0\" >O</td>\n",
       "                        <td id=\"T_2724b264_b157_11ea_bd8d_00e04c681714row1_col1\" class=\"data row1 col1\" >O</td>\n",
       "                        <td id=\"T_2724b264_b157_11ea_bd8d_00e04c681714row1_col2\" class=\"data row1 col2\" >O</td>\n",
       "                        <td id=\"T_2724b264_b157_11ea_bd8d_00e04c681714row1_col3\" class=\"data row1 col3\" >B-org</td>\n",
       "                        <td id=\"T_2724b264_b157_11ea_bd8d_00e04c681714row1_col4\" class=\"data row1 col4\" >I-org</td>\n",
       "                        <td id=\"T_2724b264_b157_11ea_bd8d_00e04c681714row1_col5\" class=\"data row1 col5\" >O</td>\n",
       "                        <td id=\"T_2724b264_b157_11ea_bd8d_00e04c681714row1_col6\" class=\"data row1 col6\" >O</td>\n",
       "                        <td id=\"T_2724b264_b157_11ea_bd8d_00e04c681714row1_col7\" class=\"data row1 col7\" >O</td>\n",
       "            </tr>\n",
       "    </tbody></table>"
      ],
      "text/plain": [
       "<pandas.io.formats.style.Styler at 0x1e5d4ff1388>"
      ]
     },
     "metadata": {},
     "output_type": "display_data"
    },
    {
     "data": {
      "text/html": [
       "<style  type=\"text/css\" >\n",
       "    #T_27263acc_b157_11ea_821e_00e04c681714row0_col0 {\n",
       "            color:  black;\n",
       "        }    #T_27263acc_b157_11ea_821e_00e04c681714row0_col1 {\n",
       "            color:  black;\n",
       "        }    #T_27263acc_b157_11ea_821e_00e04c681714row0_col2 {\n",
       "            color:  black;\n",
       "        }    #T_27263acc_b157_11ea_821e_00e04c681714row0_col3 {\n",
       "            color:  black;\n",
       "        }    #T_27263acc_b157_11ea_821e_00e04c681714row0_col4 {\n",
       "            color:  black;\n",
       "        }    #T_27263acc_b157_11ea_821e_00e04c681714row0_col5 {\n",
       "            color:  black;\n",
       "        }    #T_27263acc_b157_11ea_821e_00e04c681714row0_col6 {\n",
       "            color:  black;\n",
       "        }    #T_27263acc_b157_11ea_821e_00e04c681714row0_col7 {\n",
       "            color:  black;\n",
       "        }    #T_27263acc_b157_11ea_821e_00e04c681714row0_col8 {\n",
       "            color:  black;\n",
       "        }    #T_27263acc_b157_11ea_821e_00e04c681714row1_col0 {\n",
       "            color:  black;\n",
       "        }    #T_27263acc_b157_11ea_821e_00e04c681714row1_col1 {\n",
       "            color:  black;\n",
       "        }    #T_27263acc_b157_11ea_821e_00e04c681714row1_col2 {\n",
       "            color:  black;\n",
       "        }    #T_27263acc_b157_11ea_821e_00e04c681714row1_col3 {\n",
       "            color:  black;\n",
       "        }    #T_27263acc_b157_11ea_821e_00e04c681714row1_col4 {\n",
       "            color:  black;\n",
       "        }    #T_27263acc_b157_11ea_821e_00e04c681714row1_col5 {\n",
       "            color:  black;\n",
       "        }    #T_27263acc_b157_11ea_821e_00e04c681714row1_col6 {\n",
       "            color:  black;\n",
       "        }    #T_27263acc_b157_11ea_821e_00e04c681714row1_col7 {\n",
       "            color:  black;\n",
       "        }    #T_27263acc_b157_11ea_821e_00e04c681714row1_col8 {\n",
       "            color:  black;\n",
       "        }</style><table id=\"T_27263acc_b157_11ea_821e_00e04c681714\" ><thead>    <tr>        <th class=\"blank level0\" ></th>        <th class=\"col_heading level0 col0\" >W_00</th>        <th class=\"col_heading level0 col1\" >W_01</th>        <th class=\"col_heading level0 col2\" >W_02</th>        <th class=\"col_heading level0 col3\" >W_03</th>        <th class=\"col_heading level0 col4\" >W_04</th>        <th class=\"col_heading level0 col5\" >W_05</th>        <th class=\"col_heading level0 col6\" >W_06</th>        <th class=\"col_heading level0 col7\" >W_07</th>        <th class=\"col_heading level0 col8\" >W_08</th>    </tr></thead><tbody>\n",
       "                <tr>\n",
       "                        <th id=\"T_27263acc_b157_11ea_821e_00e04c681714level0_row0\" class=\"row_heading level0 row0\" >Words</th>\n",
       "                        <td id=\"T_27263acc_b157_11ea_821e_00e04c681714row0_col0\" class=\"data row0 col0\" >Robin</td>\n",
       "                        <td id=\"T_27263acc_b157_11ea_821e_00e04c681714row0_col1\" class=\"data row0 col1\" >does</td>\n",
       "                        <td id=\"T_27263acc_b157_11ea_821e_00e04c681714row0_col2\" class=\"data row0 col2\" >not</td>\n",
       "                        <td id=\"T_27263acc_b157_11ea_821e_00e04c681714row0_col3\" class=\"data row0 col3\" >want</td>\n",
       "                        <td id=\"T_27263acc_b157_11ea_821e_00e04c681714row0_col4\" class=\"data row0 col4\" >to</td>\n",
       "                        <td id=\"T_27263acc_b157_11ea_821e_00e04c681714row0_col5\" class=\"data row0 col5\" >go</td>\n",
       "                        <td id=\"T_27263acc_b157_11ea_821e_00e04c681714row0_col6\" class=\"data row0 col6\" >to</td>\n",
       "                        <td id=\"T_27263acc_b157_11ea_821e_00e04c681714row0_col7\" class=\"data row0 col7\" >Saudi</td>\n",
       "                        <td id=\"T_27263acc_b157_11ea_821e_00e04c681714row0_col8\" class=\"data row0 col8\" >Arabia.</td>\n",
       "            </tr>\n",
       "            <tr>\n",
       "                        <th id=\"T_27263acc_b157_11ea_821e_00e04c681714level0_row1\" class=\"row_heading level0 row1\" >Tags</th>\n",
       "                        <td id=\"T_27263acc_b157_11ea_821e_00e04c681714row1_col0\" class=\"data row1 col0\" >O</td>\n",
       "                        <td id=\"T_27263acc_b157_11ea_821e_00e04c681714row1_col1\" class=\"data row1 col1\" >O</td>\n",
       "                        <td id=\"T_27263acc_b157_11ea_821e_00e04c681714row1_col2\" class=\"data row1 col2\" >O</td>\n",
       "                        <td id=\"T_27263acc_b157_11ea_821e_00e04c681714row1_col3\" class=\"data row1 col3\" >O</td>\n",
       "                        <td id=\"T_27263acc_b157_11ea_821e_00e04c681714row1_col4\" class=\"data row1 col4\" >O</td>\n",
       "                        <td id=\"T_27263acc_b157_11ea_821e_00e04c681714row1_col5\" class=\"data row1 col5\" >O</td>\n",
       "                        <td id=\"T_27263acc_b157_11ea_821e_00e04c681714row1_col6\" class=\"data row1 col6\" >O</td>\n",
       "                        <td id=\"T_27263acc_b157_11ea_821e_00e04c681714row1_col7\" class=\"data row1 col7\" >O</td>\n",
       "                        <td id=\"T_27263acc_b157_11ea_821e_00e04c681714row1_col8\" class=\"data row1 col8\" >O</td>\n",
       "            </tr>\n",
       "    </tbody></table>"
      ],
      "text/plain": [
       "<pandas.io.formats.style.Styler at 0x1e5d4fbcd48>"
      ]
     },
     "metadata": {},
     "output_type": "display_data"
    },
    {
     "data": {
      "text/html": [
       "<style  type=\"text/css\" >\n",
       "    #T_2727bdf4_b157_11ea_98c0_00e04c681714row0_col0 {\n",
       "            color:  black;\n",
       "        }    #T_2727bdf4_b157_11ea_98c0_00e04c681714row0_col1 {\n",
       "            color:  black;\n",
       "        }    #T_2727bdf4_b157_11ea_98c0_00e04c681714row0_col2 {\n",
       "            color:  black;\n",
       "        }    #T_2727bdf4_b157_11ea_98c0_00e04c681714row0_col3 {\n",
       "            color:  black;\n",
       "        }    #T_2727bdf4_b157_11ea_98c0_00e04c681714row0_col4 {\n",
       "            color:  black;\n",
       "        }    #T_2727bdf4_b157_11ea_98c0_00e04c681714row1_col0 {\n",
       "            color:  blue;\n",
       "        }    #T_2727bdf4_b157_11ea_98c0_00e04c681714row1_col1 {\n",
       "            color:  black;\n",
       "        }    #T_2727bdf4_b157_11ea_98c0_00e04c681714row1_col2 {\n",
       "            color:  black;\n",
       "        }    #T_2727bdf4_b157_11ea_98c0_00e04c681714row1_col3 {\n",
       "            color:  black;\n",
       "        }    #T_2727bdf4_b157_11ea_98c0_00e04c681714row1_col4 {\n",
       "            color:  black;\n",
       "        }</style><table id=\"T_2727bdf4_b157_11ea_98c0_00e04c681714\" ><thead>    <tr>        <th class=\"blank level0\" ></th>        <th class=\"col_heading level0 col0\" >W_00</th>        <th class=\"col_heading level0 col1\" >W_01</th>        <th class=\"col_heading level0 col2\" >W_02</th>        <th class=\"col_heading level0 col3\" >W_03</th>        <th class=\"col_heading level0 col4\" >W_04</th>    </tr></thead><tbody>\n",
       "                <tr>\n",
       "                        <th id=\"T_2727bdf4_b157_11ea_98c0_00e04c681714level0_row0\" class=\"row_heading level0 row0\" >Words</th>\n",
       "                        <td id=\"T_2727bdf4_b157_11ea_98c0_00e04c681714row0_col0\" class=\"data row0 col0\" >Apple</td>\n",
       "                        <td id=\"T_2727bdf4_b157_11ea_98c0_00e04c681714row0_col1\" class=\"data row0 col1\" >is</td>\n",
       "                        <td id=\"T_2727bdf4_b157_11ea_98c0_00e04c681714row0_col2\" class=\"data row0 col2\" >a</td>\n",
       "                        <td id=\"T_2727bdf4_b157_11ea_98c0_00e04c681714row0_col3\" class=\"data row0 col3\" >great</td>\n",
       "                        <td id=\"T_2727bdf4_b157_11ea_98c0_00e04c681714row0_col4\" class=\"data row0 col4\" >company.</td>\n",
       "            </tr>\n",
       "            <tr>\n",
       "                        <th id=\"T_2727bdf4_b157_11ea_98c0_00e04c681714level0_row1\" class=\"row_heading level0 row1\" >Tags</th>\n",
       "                        <td id=\"T_2727bdf4_b157_11ea_98c0_00e04c681714row1_col0\" class=\"data row1 col0\" >B-org</td>\n",
       "                        <td id=\"T_2727bdf4_b157_11ea_98c0_00e04c681714row1_col1\" class=\"data row1 col1\" >O</td>\n",
       "                        <td id=\"T_2727bdf4_b157_11ea_98c0_00e04c681714row1_col2\" class=\"data row1 col2\" >O</td>\n",
       "                        <td id=\"T_2727bdf4_b157_11ea_98c0_00e04c681714row1_col3\" class=\"data row1 col3\" >O</td>\n",
       "                        <td id=\"T_2727bdf4_b157_11ea_98c0_00e04c681714row1_col4\" class=\"data row1 col4\" >O</td>\n",
       "            </tr>\n",
       "    </tbody></table>"
      ],
      "text/plain": [
       "<pandas.io.formats.style.Styler at 0x1e5d4ee1a88>"
      ]
     },
     "metadata": {},
     "output_type": "display_data"
    },
    {
     "data": {
      "text/html": [
       "<style  type=\"text/css\" >\n",
       "    #T_27294524_b157_11ea_a035_00e04c681714row0_col0 {\n",
       "            color:  black;\n",
       "        }    #T_27294524_b157_11ea_a035_00e04c681714row0_col1 {\n",
       "            color:  black;\n",
       "        }    #T_27294524_b157_11ea_a035_00e04c681714row0_col2 {\n",
       "            color:  black;\n",
       "        }    #T_27294524_b157_11ea_a035_00e04c681714row0_col3 {\n",
       "            color:  black;\n",
       "        }    #T_27294524_b157_11ea_a035_00e04c681714row0_col4 {\n",
       "            color:  black;\n",
       "        }    #T_27294524_b157_11ea_a035_00e04c681714row0_col5 {\n",
       "            color:  black;\n",
       "        }    #T_27294524_b157_11ea_a035_00e04c681714row1_col0 {\n",
       "            color:  black;\n",
       "        }    #T_27294524_b157_11ea_a035_00e04c681714row1_col1 {\n",
       "            color:  black;\n",
       "        }    #T_27294524_b157_11ea_a035_00e04c681714row1_col2 {\n",
       "            color:  black;\n",
       "        }    #T_27294524_b157_11ea_a035_00e04c681714row1_col3 {\n",
       "            color:  black;\n",
       "        }    #T_27294524_b157_11ea_a035_00e04c681714row1_col4 {\n",
       "            color:  black;\n",
       "        }    #T_27294524_b157_11ea_a035_00e04c681714row1_col5 {\n",
       "            color:  black;\n",
       "        }</style><table id=\"T_27294524_b157_11ea_a035_00e04c681714\" ><thead>    <tr>        <th class=\"blank level0\" ></th>        <th class=\"col_heading level0 col0\" >W_00</th>        <th class=\"col_heading level0 col1\" >W_01</th>        <th class=\"col_heading level0 col2\" >W_02</th>        <th class=\"col_heading level0 col3\" >W_03</th>        <th class=\"col_heading level0 col4\" >W_04</th>        <th class=\"col_heading level0 col5\" >W_05</th>    </tr></thead><tbody>\n",
       "                <tr>\n",
       "                        <th id=\"T_27294524_b157_11ea_a035_00e04c681714level0_row0\" class=\"row_heading level0 row0\" >Words</th>\n",
       "                        <td id=\"T_27294524_b157_11ea_a035_00e04c681714row0_col0\" class=\"data row0 col0\" >I</td>\n",
       "                        <td id=\"T_27294524_b157_11ea_a035_00e04c681714row0_col1\" class=\"data row0 col1\" >really</td>\n",
       "                        <td id=\"T_27294524_b157_11ea_a035_00e04c681714row0_col2\" class=\"data row0 col2\" >love</td>\n",
       "                        <td id=\"T_27294524_b157_11ea_a035_00e04c681714row0_col3\" class=\"data row0 col3\" >apples</td>\n",
       "                        <td id=\"T_27294524_b157_11ea_a035_00e04c681714row0_col4\" class=\"data row0 col4\" >and</td>\n",
       "                        <td id=\"T_27294524_b157_11ea_a035_00e04c681714row0_col5\" class=\"data row0 col5\" >oranges.</td>\n",
       "            </tr>\n",
       "            <tr>\n",
       "                        <th id=\"T_27294524_b157_11ea_a035_00e04c681714level0_row1\" class=\"row_heading level0 row1\" >Tags</th>\n",
       "                        <td id=\"T_27294524_b157_11ea_a035_00e04c681714row1_col0\" class=\"data row1 col0\" >O</td>\n",
       "                        <td id=\"T_27294524_b157_11ea_a035_00e04c681714row1_col1\" class=\"data row1 col1\" >O</td>\n",
       "                        <td id=\"T_27294524_b157_11ea_a035_00e04c681714row1_col2\" class=\"data row1 col2\" >O</td>\n",
       "                        <td id=\"T_27294524_b157_11ea_a035_00e04c681714row1_col3\" class=\"data row1 col3\" >O</td>\n",
       "                        <td id=\"T_27294524_b157_11ea_a035_00e04c681714row1_col4\" class=\"data row1 col4\" >O</td>\n",
       "                        <td id=\"T_27294524_b157_11ea_a035_00e04c681714row1_col5\" class=\"data row1 col5\" >O</td>\n",
       "            </tr>\n",
       "    </tbody></table>"
      ],
      "text/plain": [
       "<pandas.io.formats.style.Styler at 0x1e5d4fc3708>"
      ]
     },
     "metadata": {},
     "output_type": "display_data"
    }
   ],
   "source": [
    "predict_batch_text_tags([\"The programmers from Barcelona might write a sentence without a spell checker.\",\n",
    "\"The programmers from Barchelona cannot write a sentence without a spell checker.\",\n",
    "\"Jack London went to Parris.\",\n",
    "\"Jack London went to Paris.\",\n",
    "\"We never though Microsoft would become such a big company.\",\n",
    "\"We never though Microsof would become such a big company.\",\n",
    "\"The president of U.S.A though they could win the war\",\n",
    "\"The president of the United States of America though they could win the war\",\n",
    "\"The king of Saudi Arabia wanted total control.\",\n",
    "\"Robin does not want to go to Saudi Arabia.\",\n",
    "\"Apple is a great company.\",\n",
    "\"I really love apples and oranges.\"], nice_format=True)"
   ]
  },
  {
   "cell_type": "code",
   "execution_count": null,
   "metadata": {},
   "outputs": [],
   "source": []
  }
 ],
 "metadata": {
  "kernelspec": {
   "display_name": "Python 3",
   "language": "python",
   "name": "python3"
  },
  "language_info": {
   "codemirror_mode": {
    "name": "ipython",
    "version": 3
   },
   "file_extension": ".py",
   "mimetype": "text/x-python",
   "name": "python",
   "nbconvert_exporter": "python",
   "pygments_lexer": "ipython3",
   "version": "3.7.5"
  }
 },
 "nbformat": 4,
 "nbformat_minor": 4
}
