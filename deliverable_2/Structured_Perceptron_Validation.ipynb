{
 "cells": [
  {
   "cell_type": "code",
   "execution_count": 2,
   "metadata": {},
   "outputs": [
    {
     "name": "stdout",
     "output_type": "stream",
     "text": [
      "The autoreload extension is already loaded. To reload it, use:\n",
      "  %reload_ext autoreload\n"
     ]
    },
    {
     "data": {
      "text/html": [
       "<style>.container { width:100% !important; }</style>"
      ],
      "text/plain": [
       "<IPython.core.display.HTML object>"
      ]
     },
     "metadata": {},
     "output_type": "display_data"
    }
   ],
   "source": [
    "%load_ext autoreload\n",
    "%autoreload 2\n",
    "\n",
    "import pandas as pd\n",
    "import numpy as np\n",
    "%matplotlib inline\n",
    "\n",
    "import matplotlib\n",
    "import numpy as np\n",
    "import matplotlib.pyplot as plt\n",
    "from tqdm.notebook import tqdm, trange\n",
    "\n",
    "from IPython.core.display import display, HTML\n",
    "display(HTML(\"<style>.container { width:100% !important; }</style>\"))\n",
    "\n",
    "pd.set_option('display.max_rows', 25)\n",
    "pd.set_option('display.max_columns', 500)\n",
    "pd.set_option('display.max_colwidth', 50)"
   ]
  },
  {
   "cell_type": "code",
   "execution_count": 3,
   "metadata": {},
   "outputs": [
    {
     "data": {
      "text/html": [
       "<div>\n",
       "<style scoped>\n",
       "    .dataframe tbody tr th:only-of-type {\n",
       "        vertical-align: middle;\n",
       "    }\n",
       "\n",
       "    .dataframe tbody tr th {\n",
       "        vertical-align: top;\n",
       "    }\n",
       "\n",
       "    .dataframe thead th {\n",
       "        text-align: right;\n",
       "    }\n",
       "</style>\n",
       "<table border=\"1\" class=\"dataframe\">\n",
       "  <thead>\n",
       "    <tr style=\"text-align: right;\">\n",
       "      <th></th>\n",
       "      <th>Sentence #</th>\n",
       "      <th>Word</th>\n",
       "      <th>POS</th>\n",
       "      <th>Tag</th>\n",
       "    </tr>\n",
       "  </thead>\n",
       "  <tbody>\n",
       "    <tr>\n",
       "      <th>0</th>\n",
       "      <td>Sentence: 1</td>\n",
       "      <td>Thousands</td>\n",
       "      <td>NNS</td>\n",
       "      <td>O</td>\n",
       "    </tr>\n",
       "    <tr>\n",
       "      <th>1</th>\n",
       "      <td>Sentence: 1</td>\n",
       "      <td>of</td>\n",
       "      <td>IN</td>\n",
       "      <td>O</td>\n",
       "    </tr>\n",
       "    <tr>\n",
       "      <th>2</th>\n",
       "      <td>Sentence: 1</td>\n",
       "      <td>demonstrators</td>\n",
       "      <td>NNS</td>\n",
       "      <td>O</td>\n",
       "    </tr>\n",
       "    <tr>\n",
       "      <th>3</th>\n",
       "      <td>Sentence: 1</td>\n",
       "      <td>have</td>\n",
       "      <td>VBP</td>\n",
       "      <td>O</td>\n",
       "    </tr>\n",
       "    <tr>\n",
       "      <th>4</th>\n",
       "      <td>Sentence: 1</td>\n",
       "      <td>marched</td>\n",
       "      <td>VBN</td>\n",
       "      <td>O</td>\n",
       "    </tr>\n",
       "  </tbody>\n",
       "</table>\n",
       "</div>"
      ],
      "text/plain": [
       "    Sentence #           Word  POS Tag\n",
       "0  Sentence: 1      Thousands  NNS   O\n",
       "1  Sentence: 1             of   IN   O\n",
       "2  Sentence: 1  demonstrators  NNS   O\n",
       "3  Sentence: 1           have  VBP   O\n",
       "4  Sentence: 1        marched  VBN   O"
      ]
     },
     "execution_count": 3,
     "metadata": {},
     "output_type": "execute_result"
    }
   ],
   "source": [
    "# Using ffill we optimize the code. It will fill all missing values with the previous non-nan value\n",
    "data = pd.read_csv(\"data/kaggle_ner/ner_dataset.csv\",\n",
    "                   encoding=\"latin1\").fillna(method=\"ffill\")\n",
    "\n",
    "data.head()"
   ]
  },
  {
   "cell_type": "code",
   "execution_count": 4,
   "metadata": {},
   "outputs": [
    {
     "name": "stdout",
     "output_type": "stream",
     "text": [
      "Available TAGS:\n",
      "{'B-nat', 'I-per', 'I-tim', 'I-nat', 'B-art', 'B-geo', 'B-org', 'I-org', 'I-art', 'I-geo', 'B-per', 'I-eve', 'B-eve', 'I-gpe', 'O', 'B-gpe', 'B-tim'}\n"
     ]
    }
   ],
   "source": [
    "print(\"Available TAGS:\")\n",
    "print(set(data[\"Tag\"]))"
   ]
  },
  {
   "cell_type": "code",
   "execution_count": 5,
   "metadata": {},
   "outputs": [
    {
     "name": "stdout",
     "output_type": "stream",
     "text": [
      "TAG        | Examples            \n",
      "------------------------------------------------------------\n",
      "B-nat      | H5N1                 H5N1                 Jing                \n",
      "I-per      | Mahmoud              Ahmadinejad          Horbach             \n",
      "I-tim      | 8                    1                    2                   \n",
      "I-nat      | Jing                 Jing                 Acute               \n",
      "B-art      | Nuclear              Saltillo             Pentastar           \n",
      "B-geo      | London               Iraq                 Hyde                \n",
      "B-org      | Labor                International        IAEA                \n",
      "I-org      | Party                Atomic               Energy              \n",
      "I-art      | Non-Proliferation    V-6                  Simple              \n",
      "I-geo      | Park                 State                State               \n",
      "B-per      | Bush                 President            Thomas              \n",
      "I-eve      | Summer               Olympics             Olympic             \n",
      "B-eve      | 2012                 Games                Games               \n",
      "I-gpe      | States               Korea                Binh                \n",
      "O          | Thousands            of                   demonstrators       \n",
      "B-gpe      | British              English              Britain             \n",
      "B-tim      | Wednesday            Wednesday            Tuesday             \n"
     ]
    }
   ],
   "source": [
    "print(\"{:10s} | {:20s}\".format(\"TAG\", \"Examples\"))\n",
    "print(\"-\"*60)\n",
    "for tag in set(data[\"Tag\"]):\n",
    "    print(\"{:10s} | {:20s} {:20s} {:20s}\".format(tag, *data[data[\"Tag\"] == tag][\"Word\"][0:3].values))"
   ]
  },
  {
   "cell_type": "code",
   "execution_count": 6,
   "metadata": {},
   "outputs": [
    {
     "data": {
      "text/plain": [
       "47959"
      ]
     },
     "execution_count": 6,
     "metadata": {},
     "output_type": "execute_result"
    }
   ],
   "source": [
    "n_sentences = len(data['Sentence #'].unique())\n",
    "n_sentences"
   ]
  },
  {
   "cell_type": "code",
   "execution_count": 7,
   "metadata": {},
   "outputs": [
    {
     "name": "stdout",
     "output_type": "stream",
     "text": [
      "Wall time: 4.8 s\n",
      "Wall time: 4.63 s\n"
     ]
    }
   ],
   "source": [
    "# Using groupby and apply rather than a for loop the computation is reduced from +2h to 4s\n",
    "%time X_txt = list(data.groupby(\"Sentence #\")['Word'].apply(list))\n",
    "%time Y_txt = list(data.groupby(\"Sentence #\")['Tag'].apply(list))\n",
    "\n",
    "from skseq.sequences.label_dictionary import LabelDictionary\n",
    "x_dict = LabelDictionary(label_names=data['Word'].unique())\n",
    "y_dict = LabelDictionary(label_names=data['Tag'].unique())"
   ]
  },
  {
   "cell_type": "code",
   "execution_count": 8,
   "metadata": {},
   "outputs": [],
   "source": [
    "import scipy\n",
    "import numpy as np\n",
    "\n",
    "import os,sys,inspect\n",
    "currentdir = os.path.dirname(os.path.abspath(inspect.getfile(inspect.currentframe())))\n",
    "parentdir = os.path.dirname(currentdir)\n",
    "sys.path.insert(0,parentdir) \n",
    "\n",
    "import skseq\n",
    "import skseq.sequences\n",
    "import skseq.readers\n",
    "from skseq.sequences import sequence\n",
    "from skseq.sequences import sequence_list\n",
    "from skseq.sequences import label_dictionary"
   ]
  },
  {
   "cell_type": "code",
   "execution_count": 9,
   "metadata": {},
   "outputs": [
    {
     "data": {
      "text/plain": [
       "(35871, 35871, 100, 100, 11988, 11988, 100, 100)"
      ]
     },
     "execution_count": 9,
     "metadata": {},
     "output_type": "execute_result"
    }
   ],
   "source": [
    "n_split = 35971\n",
    "X_train_txt, X_test_txt, Y_train_txt, Y_test_txt = X_txt[:n_split], X_txt[n_split:], Y_txt[:n_split], Y_txt[n_split:]\n",
    "\n",
    "val_split = n_split - 100\n",
    "X_train_txt, X_val_txt, Y_train_txt, Y_val_txt = X_train_txt[:val_split], X_train_txt[val_split:], Y_train_txt[:val_split], Y_train_txt[val_split:]\n",
    "\n",
    "dummy_split = 100\n",
    "X_dummy_txt, Y_dummy_txt = X_train_txt[:dummy_split], Y_train_txt[:dummy_split]\n",
    "\n",
    "len(X_train_txt), len(Y_train_txt), len(X_val_txt), len(Y_val_txt), len(X_test_txt), len(Y_test_txt), len(X_dummy_txt), len(Y_dummy_txt)"
   ]
  },
  {
   "cell_type": "code",
   "execution_count": 10,
   "metadata": {},
   "outputs": [],
   "source": [
    "from skseq.sequences.sequence_list import SequenceList\n",
    "from skseq.sequences.sequence import Sequence\n",
    "\n",
    "# train_sequences = [Sequence(x,y) for x,y in zip(X_train_txt, Y_train_txt)]\n",
    "# test_sequences = [Sequence(x,y) for x,y in zip(X_test_txt, Y_test_txt)]\n",
    "\n",
    "train_seq_list = SequenceList(x_dict, y_dict)\n",
    "for x,y in zip(X_train_txt, Y_train_txt):\n",
    "    train_seq_list.add_sequence(x, y, x_dict, y_dict)\n",
    "    \n",
    "val_seq_list = SequenceList(x_dict, y_dict)\n",
    "for x,y in zip(X_val_txt, Y_val_txt):\n",
    "    val_seq_list.add_sequence(x, y, x_dict, y_dict)\n",
    "\n",
    "test_seq_list = SequenceList(x_dict, y_dict)\n",
    "for x,y in zip(X_test_txt, Y_test_txt):\n",
    "    test_seq_list.add_sequence(x, y, x_dict, y_dict)\n",
    "\n",
    "dummy_seq_list = SequenceList(x_dict, y_dict)\n",
    "for x,y in zip(X_dummy_txt, Y_dummy_txt):\n",
    "    dummy_seq_list.add_sequence(x, y, x_dict, y_dict)"
   ]
  },
  {
   "cell_type": "code",
   "execution_count": 49,
   "metadata": {},
   "outputs": [
    {
     "name": "stdout",
     "output_type": "stream",
     "text": [
      "Feature dict length: 38250\n",
      "Feature list length: 35871\n"
     ]
    }
   ],
   "source": [
    "feature_mapper = skseq.sequences.id_feature.IDFeatures(train_seq_list)\n",
    "feature_mapper.build_features()\n",
    "\n",
    "print('Feature dict length:', len(feature_mapper.feature_dict))\n",
    "print('Feature list length:', len(feature_mapper.feature_list))\n",
    "\n",
    "import skseq.sequences.structured_perceptron_validation as spc\n",
    "# sp = spc.StructuredPerceptron(corpus.word_dict, corpus.tag_dict, feature_mapper)\n",
    "sp = spc.StructuredPerceptronValidation(x_dict, y_dict, feature_mapper, averaged=False)"
   ]
  },
  {
   "cell_type": "code",
   "execution_count": 50,
   "metadata": {},
   "outputs": [],
   "source": [
    "def train_perceptron(load_no_fit = True, num_epochs = 50, epochs_before_stopping = 5, dir_to_params = './'):\n",
    "    if not load_no_fit:\n",
    "        print('Training for %i epochs with early stopping after %i epochs of no improvement' % (num_epochs, epochs_before_stopping))\n",
    "        %time sp.fit(dummy_seq_list, val_seq_list, num_epochs, epochs_before_stopping, dir_to_params)\n",
    "\n",
    "#         def evaluate_corpus(sequences, sequences_predictions):\n",
    "#             \"\"\"Evaluate classification accuracy at corpus level, comparing with\n",
    "#             gold standard.\"\"\"\n",
    "#             total = 0.0\n",
    "#             correct = 0.0\n",
    "#             for i, sequence in enumerate(tqdm(sequences, leave=False)):\n",
    "#                 pred = sequences_predictions[i]\n",
    "#                 for j, y_hat in enumerate(pred.y):\n",
    "#                     if sequence.y[j] == y_hat:\n",
    "#                         correct += 1\n",
    "#                     total += 1\n",
    "#             return correct / total\n",
    "#         sp.save_model(path_to_model)\n",
    "    else:\n",
    "        sp.load_model(dir_to_params)"
   ]
  },
  {
   "cell_type": "code",
   "execution_count": 51,
   "metadata": {},
   "outputs": [],
   "source": [
    "import pandas as pd\n",
    "from IPython.core import display as ICD"
   ]
  },
  {
   "cell_type": "code",
   "execution_count": 52,
   "metadata": {},
   "outputs": [],
   "source": [
    "def evaluate_perceptron():\n",
    "    # Make predictions for the various sequences using the trained model.\n",
    "    pred_train = sp.viterbi_decode_corpus(train_seq_list)\n",
    "    pred_test  = sp.viterbi_decode_corpus(test_seq_list)\n",
    "\n",
    "    # Evaluate and print accuracies\n",
    "    eval_train = evaluate_corpus(train_seq_list.seq_list, pred_train)\n",
    "    eval_test = evaluate_corpus(test_seq_list.seq_list, pred_test)\n",
    "\n",
    "    print(\"SP -  Accuracy Train: %.3f Test: %.3f\"%(eval_train, eval_test))\n",
    "    \n",
    "def predict_text_tags(seq, nice_format=False):\n",
    "    assert isinstance(seq, str) or isinstance(seq, list), \"The input must be a sentence (string format or a list of words)\"\n",
    "    \n",
    "    if isinstance(seq, str):\n",
    "        seq = seq.split()\n",
    "    \n",
    "    num2lab = {v:k for k,v in sp.state_labels.items()}\n",
    "    if nice_format:\n",
    "        grp = pd.DataFrame([seq, [num2lab[w] for w in sp.predict_tags_given_words(seq)]], \n",
    "                           index=[\"Words\", \"Tags\"], columns=[\"W_{:02d}\".format(i) for i in range(len(seq))])                            \n",
    "        ICD.display(grp.style)\n",
    "    else:\n",
    "        print(\" \".join([\"{}/{}\".format(o, num2lab[w]) for o, w in zip(seq, sp.predict_tags_given_words(seq))]))\n",
    "    \n",
    "    \n",
    "def predict_batch_text_tags(batch, nice_format=False):\n",
    "    all_s = sum(isinstance(seq, str) for seq in batch)\n",
    "    all_l = sum(isinstance(seq, list) for seq in batch)\n",
    "    assert all_s==0 or all_l==0, \"The inputs must be sentences (string format or lists of words)\"\n",
    "\n",
    "    for b in batch:\n",
    "        predict_text_tags(b, nice_format)"
   ]
  },
  {
   "cell_type": "code",
   "execution_count": 53,
   "metadata": {},
   "outputs": [
    {
     "name": "stdout",
     "output_type": "stream",
     "text": [
      "Training for 50 epochs with early stopping after 5 epochs of no improvement\n"
     ]
    },
    {
     "data": {
      "application/vnd.jupyter.widget-view+json": {
       "model_id": "86b42649c3b94b00a6abd57b7710c793",
       "version_major": 2,
       "version_minor": 0
      },
      "text/plain": [
       "HBox(children=(FloatProgress(value=0.0, description='Fitting', max=50.0, style=ProgressStyle(description_width…"
      ]
     },
     "metadata": {},
     "output_type": "display_data"
    },
    {
     "data": {
      "application/vnd.jupyter.widget-view+json": {
       "model_id": "",
       "version_major": 2,
       "version_minor": 0
      },
      "text/plain": [
       "HBox(children=(FloatProgress(value=0.0, description='Epoch', style=ProgressStyle(description_width='initial'))…"
      ]
     },
     "metadata": {},
     "output_type": "display_data"
    },
    {
     "data": {
      "application/vnd.jupyter.widget-view+json": {
       "model_id": "",
       "version_major": 2,
       "version_minor": 0
      },
      "text/plain": [
       "HBox(children=(FloatProgress(value=0.0, description='Decoding', style=ProgressStyle(description_width='initial…"
      ]
     },
     "metadata": {},
     "output_type": "display_data"
    },
    {
     "name": "stdout",
     "output_type": "stream",
     "text": [
      "Epoch: 0 Train Accuracy: 0.768110 Validation Accuracy: 0.836431 (new best)\n",
      "Model saved\n"
     ]
    },
    {
     "data": {
      "application/vnd.jupyter.widget-view+json": {
       "model_id": "",
       "version_major": 2,
       "version_minor": 0
      },
      "text/plain": [
       "HBox(children=(FloatProgress(value=0.0, description='Epoch', style=ProgressStyle(description_width='initial'))…"
      ]
     },
     "metadata": {},
     "output_type": "display_data"
    },
    {
     "data": {
      "application/vnd.jupyter.widget-view+json": {
       "model_id": "",
       "version_major": 2,
       "version_minor": 0
      },
      "text/plain": [
       "HBox(children=(FloatProgress(value=0.0, description='Decoding', style=ProgressStyle(description_width='initial…"
      ]
     },
     "metadata": {},
     "output_type": "display_data"
    },
    {
     "name": "stdout",
     "output_type": "stream",
     "text": [
      "Epoch: 1 Train Accuracy: 0.799912 Validation Accuracy: 0.860130 (new best)\n",
      "Model saved\n"
     ]
    },
    {
     "data": {
      "application/vnd.jupyter.widget-view+json": {
       "model_id": "",
       "version_major": 2,
       "version_minor": 0
      },
      "text/plain": [
       "HBox(children=(FloatProgress(value=0.0, description='Epoch', style=ProgressStyle(description_width='initial'))…"
      ]
     },
     "metadata": {},
     "output_type": "display_data"
    },
    {
     "data": {
      "application/vnd.jupyter.widget-view+json": {
       "model_id": "",
       "version_major": 2,
       "version_minor": 0
      },
      "text/plain": [
       "HBox(children=(FloatProgress(value=0.0, description='Decoding', style=ProgressStyle(description_width='initial…"
      ]
     },
     "metadata": {},
     "output_type": "display_data"
    },
    {
     "name": "stdout",
     "output_type": "stream",
     "text": [
      "Epoch: 2 Train Accuracy: 0.803004 Validation Accuracy: 0.860130\n",
      "No increase in validation for 1 consecutive epochs\n"
     ]
    },
    {
     "data": {
      "application/vnd.jupyter.widget-view+json": {
       "model_id": "",
       "version_major": 2,
       "version_minor": 0
      },
      "text/plain": [
       "HBox(children=(FloatProgress(value=0.0, description='Epoch', style=ProgressStyle(description_width='initial'))…"
      ]
     },
     "metadata": {},
     "output_type": "display_data"
    },
    {
     "data": {
      "application/vnd.jupyter.widget-view+json": {
       "model_id": "",
       "version_major": 2,
       "version_minor": 0
      },
      "text/plain": [
       "HBox(children=(FloatProgress(value=0.0, description='Decoding', style=ProgressStyle(description_width='initial…"
      ]
     },
     "metadata": {},
     "output_type": "display_data"
    },
    {
     "name": "stdout",
     "output_type": "stream",
     "text": [
      "Epoch: 3 Train Accuracy: 0.813604 Validation Accuracy: 0.866636 (new best)\n",
      "Model saved\n"
     ]
    },
    {
     "data": {
      "application/vnd.jupyter.widget-view+json": {
       "model_id": "",
       "version_major": 2,
       "version_minor": 0
      },
      "text/plain": [
       "HBox(children=(FloatProgress(value=0.0, description='Epoch', style=ProgressStyle(description_width='initial'))…"
      ]
     },
     "metadata": {},
     "output_type": "display_data"
    },
    {
     "data": {
      "application/vnd.jupyter.widget-view+json": {
       "model_id": "",
       "version_major": 2,
       "version_minor": 0
      },
      "text/plain": [
       "HBox(children=(FloatProgress(value=0.0, description='Decoding', style=ProgressStyle(description_width='initial…"
      ]
     },
     "metadata": {},
     "output_type": "display_data"
    },
    {
     "name": "stdout",
     "output_type": "stream",
     "text": [
      "Epoch: 4 Train Accuracy: 0.863516 Validation Accuracy: 0.867100 (new best)\n",
      "Model saved\n"
     ]
    },
    {
     "data": {
      "application/vnd.jupyter.widget-view+json": {
       "model_id": "",
       "version_major": 2,
       "version_minor": 0
      },
      "text/plain": [
       "HBox(children=(FloatProgress(value=0.0, description='Epoch', style=ProgressStyle(description_width='initial'))…"
      ]
     },
     "metadata": {},
     "output_type": "display_data"
    },
    {
     "data": {
      "application/vnd.jupyter.widget-view+json": {
       "model_id": "",
       "version_major": 2,
       "version_minor": 0
      },
      "text/plain": [
       "HBox(children=(FloatProgress(value=0.0, description='Decoding', style=ProgressStyle(description_width='initial…"
      ]
     },
     "metadata": {},
     "output_type": "display_data"
    },
    {
     "name": "stdout",
     "output_type": "stream",
     "text": [
      "Epoch: 5 Train Accuracy: 0.853357 Validation Accuracy: 0.868959 (new best)\n",
      "Model saved\n"
     ]
    },
    {
     "data": {
      "application/vnd.jupyter.widget-view+json": {
       "model_id": "",
       "version_major": 2,
       "version_minor": 0
      },
      "text/plain": [
       "HBox(children=(FloatProgress(value=0.0, description='Epoch', style=ProgressStyle(description_width='initial'))…"
      ]
     },
     "metadata": {},
     "output_type": "display_data"
    },
    {
     "data": {
      "application/vnd.jupyter.widget-view+json": {
       "model_id": "",
       "version_major": 2,
       "version_minor": 0
      },
      "text/plain": [
       "HBox(children=(FloatProgress(value=0.0, description='Decoding', style=ProgressStyle(description_width='initial…"
      ]
     },
     "metadata": {},
     "output_type": "display_data"
    },
    {
     "name": "stdout",
     "output_type": "stream",
     "text": [
      "Epoch: 6 Train Accuracy: 0.905477 Validation Accuracy: 0.860130\n",
      "No increase in validation for 1 consecutive epochs\n"
     ]
    },
    {
     "data": {
      "application/vnd.jupyter.widget-view+json": {
       "model_id": "",
       "version_major": 2,
       "version_minor": 0
      },
      "text/plain": [
       "HBox(children=(FloatProgress(value=0.0, description='Epoch', style=ProgressStyle(description_width='initial'))…"
      ]
     },
     "metadata": {},
     "output_type": "display_data"
    },
    {
     "data": {
      "application/vnd.jupyter.widget-view+json": {
       "model_id": "",
       "version_major": 2,
       "version_minor": 0
      },
      "text/plain": [
       "HBox(children=(FloatProgress(value=0.0, description='Decoding', style=ProgressStyle(description_width='initial…"
      ]
     },
     "metadata": {},
     "output_type": "display_data"
    },
    {
     "name": "stdout",
     "output_type": "stream",
     "text": [
      "Epoch: 7 Train Accuracy: 0.887367 Validation Accuracy: 0.872677 (new best)\n",
      "Model saved\n"
     ]
    },
    {
     "data": {
      "application/vnd.jupyter.widget-view+json": {
       "model_id": "",
       "version_major": 2,
       "version_minor": 0
      },
      "text/plain": [
       "HBox(children=(FloatProgress(value=0.0, description='Epoch', style=ProgressStyle(description_width='initial'))…"
      ]
     },
     "metadata": {},
     "output_type": "display_data"
    },
    {
     "data": {
      "application/vnd.jupyter.widget-view+json": {
       "model_id": "",
       "version_major": 2,
       "version_minor": 0
      },
      "text/plain": [
       "HBox(children=(FloatProgress(value=0.0, description='Decoding', style=ProgressStyle(description_width='initial…"
      ]
     },
     "metadata": {},
     "output_type": "display_data"
    },
    {
     "name": "stdout",
     "output_type": "stream",
     "text": [
      "Epoch: 8 Train Accuracy: 0.927120 Validation Accuracy: 0.867565\n",
      "No increase in validation for 1 consecutive epochs\n"
     ]
    },
    {
     "data": {
      "application/vnd.jupyter.widget-view+json": {
       "model_id": "",
       "version_major": 2,
       "version_minor": 0
      },
      "text/plain": [
       "HBox(children=(FloatProgress(value=0.0, description='Epoch', style=ProgressStyle(description_width='initial'))…"
      ]
     },
     "metadata": {},
     "output_type": "display_data"
    },
    {
     "data": {
      "application/vnd.jupyter.widget-view+json": {
       "model_id": "",
       "version_major": 2,
       "version_minor": 0
      },
      "text/plain": [
       "HBox(children=(FloatProgress(value=0.0, description='Decoding', style=ProgressStyle(description_width='initial…"
      ]
     },
     "metadata": {},
     "output_type": "display_data"
    },
    {
     "name": "stdout",
     "output_type": "stream",
     "text": [
      "Epoch: 9 Train Accuracy: 0.938604 Validation Accuracy: 0.868030\n",
      "No increase in validation for 2 consecutive epochs\n"
     ]
    },
    {
     "data": {
      "application/vnd.jupyter.widget-view+json": {
       "model_id": "",
       "version_major": 2,
       "version_minor": 0
      },
      "text/plain": [
       "HBox(children=(FloatProgress(value=0.0, description='Epoch', style=ProgressStyle(description_width='initial'))…"
      ]
     },
     "metadata": {},
     "output_type": "display_data"
    },
    {
     "data": {
      "application/vnd.jupyter.widget-view+json": {
       "model_id": "",
       "version_major": 2,
       "version_minor": 0
      },
      "text/plain": [
       "HBox(children=(FloatProgress(value=0.0, description='Decoding', style=ProgressStyle(description_width='initial…"
      ]
     },
     "metadata": {},
     "output_type": "display_data"
    },
    {
     "name": "stdout",
     "output_type": "stream",
     "text": [
      "Epoch: 10 Train Accuracy: 0.920495 Validation Accuracy: 0.872212\n",
      "No increase in validation for 3 consecutive epochs\n"
     ]
    },
    {
     "data": {
      "application/vnd.jupyter.widget-view+json": {
       "model_id": "",
       "version_major": 2,
       "version_minor": 0
      },
      "text/plain": [
       "HBox(children=(FloatProgress(value=0.0, description='Epoch', style=ProgressStyle(description_width='initial'))…"
      ]
     },
     "metadata": {},
     "output_type": "display_data"
    },
    {
     "data": {
      "application/vnd.jupyter.widget-view+json": {
       "model_id": "",
       "version_major": 2,
       "version_minor": 0
      },
      "text/plain": [
       "HBox(children=(FloatProgress(value=0.0, description='Decoding', style=ProgressStyle(description_width='initial…"
      ]
     },
     "metadata": {},
     "output_type": "display_data"
    },
    {
     "name": "stdout",
     "output_type": "stream",
     "text": [
      "Epoch: 11 Train Accuracy: 0.966431 Validation Accuracy: 0.875929 (new best)\n",
      "Model saved\n"
     ]
    },
    {
     "data": {
      "application/vnd.jupyter.widget-view+json": {
       "model_id": "",
       "version_major": 2,
       "version_minor": 0
      },
      "text/plain": [
       "HBox(children=(FloatProgress(value=0.0, description='Epoch', style=ProgressStyle(description_width='initial'))…"
      ]
     },
     "metadata": {},
     "output_type": "display_data"
    },
    {
     "data": {
      "application/vnd.jupyter.widget-view+json": {
       "model_id": "",
       "version_major": 2,
       "version_minor": 0
      },
      "text/plain": [
       "HBox(children=(FloatProgress(value=0.0, description='Decoding', style=ProgressStyle(description_width='initial…"
      ]
     },
     "metadata": {},
     "output_type": "display_data"
    },
    {
     "name": "stdout",
     "output_type": "stream",
     "text": [
      "Epoch: 12 Train Accuracy: 0.969965 Validation Accuracy: 0.881970 (new best)\n",
      "Model saved\n"
     ]
    },
    {
     "data": {
      "application/vnd.jupyter.widget-view+json": {
       "model_id": "",
       "version_major": 2,
       "version_minor": 0
      },
      "text/plain": [
       "HBox(children=(FloatProgress(value=0.0, description='Epoch', style=ProgressStyle(description_width='initial'))…"
      ]
     },
     "metadata": {},
     "output_type": "display_data"
    },
    {
     "data": {
      "application/vnd.jupyter.widget-view+json": {
       "model_id": "",
       "version_major": 2,
       "version_minor": 0
      },
      "text/plain": [
       "HBox(children=(FloatProgress(value=0.0, description='Decoding', style=ProgressStyle(description_width='initial…"
      ]
     },
     "metadata": {},
     "output_type": "display_data"
    },
    {
     "name": "stdout",
     "output_type": "stream",
     "text": [
      "Epoch: 13 Train Accuracy: 0.987191 Validation Accuracy: 0.747677\n",
      "No increase in validation for 1 consecutive epochs\n"
     ]
    },
    {
     "data": {
      "application/vnd.jupyter.widget-view+json": {
       "model_id": "",
       "version_major": 2,
       "version_minor": 0
      },
      "text/plain": [
       "HBox(children=(FloatProgress(value=0.0, description='Epoch', style=ProgressStyle(description_width='initial'))…"
      ]
     },
     "metadata": {},
     "output_type": "display_data"
    },
    {
     "data": {
      "application/vnd.jupyter.widget-view+json": {
       "model_id": "",
       "version_major": 2,
       "version_minor": 0
      },
      "text/plain": [
       "HBox(children=(FloatProgress(value=0.0, description='Decoding', style=ProgressStyle(description_width='initial…"
      ]
     },
     "metadata": {},
     "output_type": "display_data"
    },
    {
     "name": "stdout",
     "output_type": "stream",
     "text": [
      "Epoch: 14 Train Accuracy: 0.939488 Validation Accuracy: 0.885223 (new best)\n",
      "Model saved\n"
     ]
    },
    {
     "data": {
      "application/vnd.jupyter.widget-view+json": {
       "model_id": "",
       "version_major": 2,
       "version_minor": 0
      },
      "text/plain": [
       "HBox(children=(FloatProgress(value=0.0, description='Epoch', style=ProgressStyle(description_width='initial'))…"
      ]
     },
     "metadata": {},
     "output_type": "display_data"
    },
    {
     "data": {
      "application/vnd.jupyter.widget-view+json": {
       "model_id": "",
       "version_major": 2,
       "version_minor": 0
      },
      "text/plain": [
       "HBox(children=(FloatProgress(value=0.0, description='Decoding', style=ProgressStyle(description_width='initial…"
      ]
     },
     "metadata": {},
     "output_type": "display_data"
    },
    {
     "name": "stdout",
     "output_type": "stream",
     "text": [
      "Epoch: 15 Train Accuracy: 0.984982 Validation Accuracy: 0.882900\n",
      "No increase in validation for 1 consecutive epochs\n"
     ]
    },
    {
     "data": {
      "application/vnd.jupyter.widget-view+json": {
       "model_id": "",
       "version_major": 2,
       "version_minor": 0
      },
      "text/plain": [
       "HBox(children=(FloatProgress(value=0.0, description='Epoch', style=ProgressStyle(description_width='initial'))…"
      ]
     },
     "metadata": {},
     "output_type": "display_data"
    },
    {
     "data": {
      "application/vnd.jupyter.widget-view+json": {
       "model_id": "",
       "version_major": 2,
       "version_minor": 0
      },
      "text/plain": [
       "HBox(children=(FloatProgress(value=0.0, description='Decoding', style=ProgressStyle(description_width='initial…"
      ]
     },
     "metadata": {},
     "output_type": "display_data"
    },
    {
     "name": "stdout",
     "output_type": "stream",
     "text": [
      "Epoch: 16 Train Accuracy: 0.978799 Validation Accuracy: 0.886152 (new best)\n",
      "Model saved\n"
     ]
    },
    {
     "data": {
      "application/vnd.jupyter.widget-view+json": {
       "model_id": "",
       "version_major": 2,
       "version_minor": 0
      },
      "text/plain": [
       "HBox(children=(FloatProgress(value=0.0, description='Epoch', style=ProgressStyle(description_width='initial'))…"
      ]
     },
     "metadata": {},
     "output_type": "display_data"
    },
    {
     "data": {
      "application/vnd.jupyter.widget-view+json": {
       "model_id": "",
       "version_major": 2,
       "version_minor": 0
      },
      "text/plain": [
       "HBox(children=(FloatProgress(value=0.0, description='Decoding', style=ProgressStyle(description_width='initial…"
      ]
     },
     "metadata": {},
     "output_type": "display_data"
    },
    {
     "name": "stdout",
     "output_type": "stream",
     "text": [
      "Epoch: 17 Train Accuracy: 0.968640 Validation Accuracy: 0.888011 (new best)\n",
      "Model saved\n"
     ]
    },
    {
     "data": {
      "application/vnd.jupyter.widget-view+json": {
       "model_id": "",
       "version_major": 2,
       "version_minor": 0
      },
      "text/plain": [
       "HBox(children=(FloatProgress(value=0.0, description='Epoch', style=ProgressStyle(description_width='initial'))…"
      ]
     },
     "metadata": {},
     "output_type": "display_data"
    },
    {
     "data": {
      "application/vnd.jupyter.widget-view+json": {
       "model_id": "",
       "version_major": 2,
       "version_minor": 0
      },
      "text/plain": [
       "HBox(children=(FloatProgress(value=0.0, description='Decoding', style=ProgressStyle(description_width='initial…"
      ]
     },
     "metadata": {},
     "output_type": "display_data"
    },
    {
     "name": "stdout",
     "output_type": "stream",
     "text": [
      "Epoch: 18 Train Accuracy: 0.973498 Validation Accuracy: 0.884758\n",
      "No increase in validation for 1 consecutive epochs\n"
     ]
    },
    {
     "data": {
      "application/vnd.jupyter.widget-view+json": {
       "model_id": "",
       "version_major": 2,
       "version_minor": 0
      },
      "text/plain": [
       "HBox(children=(FloatProgress(value=0.0, description='Epoch', style=ProgressStyle(description_width='initial'))…"
      ]
     },
     "metadata": {},
     "output_type": "display_data"
    },
    {
     "data": {
      "application/vnd.jupyter.widget-view+json": {
       "model_id": "",
       "version_major": 2,
       "version_minor": 0
      },
      "text/plain": [
       "HBox(children=(FloatProgress(value=0.0, description='Decoding', style=ProgressStyle(description_width='initial…"
      ]
     },
     "metadata": {},
     "output_type": "display_data"
    },
    {
     "name": "stdout",
     "output_type": "stream",
     "text": [
      "Epoch: 19 Train Accuracy: 0.989841 Validation Accuracy: 0.883364\n",
      "No increase in validation for 2 consecutive epochs\n"
     ]
    },
    {
     "data": {
      "application/vnd.jupyter.widget-view+json": {
       "model_id": "",
       "version_major": 2,
       "version_minor": 0
      },
      "text/plain": [
       "HBox(children=(FloatProgress(value=0.0, description='Epoch', style=ProgressStyle(description_width='initial'))…"
      ]
     },
     "metadata": {},
     "output_type": "display_data"
    },
    {
     "data": {
      "application/vnd.jupyter.widget-view+json": {
       "model_id": "",
       "version_major": 2,
       "version_minor": 0
      },
      "text/plain": [
       "HBox(children=(FloatProgress(value=0.0, description='Decoding', style=ProgressStyle(description_width='initial…"
      ]
     },
     "metadata": {},
     "output_type": "display_data"
    },
    {
     "name": "stdout",
     "output_type": "stream",
     "text": [
      "Epoch: 20 Train Accuracy: 0.986749 Validation Accuracy: 0.875465\n",
      "No increase in validation for 3 consecutive epochs\n"
     ]
    },
    {
     "data": {
      "application/vnd.jupyter.widget-view+json": {
       "model_id": "",
       "version_major": 2,
       "version_minor": 0
      },
      "text/plain": [
       "HBox(children=(FloatProgress(value=0.0, description='Epoch', style=ProgressStyle(description_width='initial'))…"
      ]
     },
     "metadata": {},
     "output_type": "display_data"
    },
    {
     "data": {
      "application/vnd.jupyter.widget-view+json": {
       "model_id": "",
       "version_major": 2,
       "version_minor": 0
      },
      "text/plain": [
       "HBox(children=(FloatProgress(value=0.0, description='Decoding', style=ProgressStyle(description_width='initial…"
      ]
     },
     "metadata": {},
     "output_type": "display_data"
    },
    {
     "name": "stdout",
     "output_type": "stream",
     "text": [
      "Epoch: 21 Train Accuracy: 0.992049 Validation Accuracy: 0.887546\n",
      "No increase in validation for 4 consecutive epochs\n"
     ]
    },
    {
     "data": {
      "application/vnd.jupyter.widget-view+json": {
       "model_id": "",
       "version_major": 2,
       "version_minor": 0
      },
      "text/plain": [
       "HBox(children=(FloatProgress(value=0.0, description='Epoch', style=ProgressStyle(description_width='initial'))…"
      ]
     },
     "metadata": {},
     "output_type": "display_data"
    },
    {
     "data": {
      "application/vnd.jupyter.widget-view+json": {
       "model_id": "",
       "version_major": 2,
       "version_minor": 0
      },
      "text/plain": [
       "HBox(children=(FloatProgress(value=0.0, description='Decoding', style=ProgressStyle(description_width='initial…"
      ]
     },
     "metadata": {},
     "output_type": "display_data"
    },
    {
     "name": "stdout",
     "output_type": "stream",
     "text": [
      "Epoch: 22 Train Accuracy: 0.985866 Validation Accuracy: 0.881970\n",
      "No increase in validation for 5 consecutive epochs\n",
      "\n",
      "Early stopping performed at epoch 22, saved model at epoch 17\n",
      "Train Accuracy for saved model: 0.968640\n",
      "Validation Accuracy for saved model: 0.888011\n",
      "\n",
      "Best model successfully loaded\n",
      "Wall time: 1min 6s\n"
     ]
    }
   ],
   "source": [
    "num_epochs = 50\n",
    "epochs_before_stopping = 5\n",
    "train_perceptron(load_no_fit=False, num_epochs = num_epochs, epochs_before_stopping = epochs_before_stopping)\n",
    "\n",
    "# evaluate_perceptron()"
   ]
  },
  {
   "cell_type": "code",
   "execution_count": 54,
   "metadata": {},
   "outputs": [
    {
     "data": {
      "application/vnd.jupyter.widget-view+json": {
       "model_id": "",
       "version_major": 2,
       "version_minor": 0
      },
      "text/plain": [
       "HBox(children=(FloatProgress(value=0.0, description='Decoding', style=ProgressStyle(description_width='initial…"
      ]
     },
     "metadata": {},
     "output_type": "display_data"
    },
    {
     "name": "stdout",
     "output_type": "stream",
     "text": [
      "0.888011\n"
     ]
    }
   ],
   "source": [
    "val_acc = sp.evaluate_corpus(val_seq_list.seq_list, sp.viterbi_decode_corpus(val_seq_list))\n",
    "print('Checking same Validation Accuracy: %f' % (val_acc))"
   ]
  },
  {
   "cell_type": "code",
   "execution_count": 108,
   "metadata": {},
   "outputs": [
    {
     "name": "stdout",
     "output_type": "stream",
     "text": [
      "Jack/B-per London/I-per went/O to/O Paris/B-geo\n"
     ]
    },
    {
     "data": {
      "text/html": [
       "<style  type=\"text/css\" >\n",
       "</style><table id=\"T_e0dcc166_ae25_11ea_8ee6_0242ac160003\" ><thead>    <tr>        <th class=\"blank level0\" ></th>        <th class=\"col_heading level0 col0\" >W_00</th>        <th class=\"col_heading level0 col1\" >W_01</th>        <th class=\"col_heading level0 col2\" >W_02</th>        <th class=\"col_heading level0 col3\" >W_03</th>        <th class=\"col_heading level0 col4\" >W_04</th>    </tr></thead><tbody>\n",
       "                <tr>\n",
       "                        <th id=\"T_e0dcc166_ae25_11ea_8ee6_0242ac160003level0_row0\" class=\"row_heading level0 row0\" >Words</th>\n",
       "                        <td id=\"T_e0dcc166_ae25_11ea_8ee6_0242ac160003row0_col0\" class=\"data row0 col0\" >Jack</td>\n",
       "                        <td id=\"T_e0dcc166_ae25_11ea_8ee6_0242ac160003row0_col1\" class=\"data row0 col1\" >London</td>\n",
       "                        <td id=\"T_e0dcc166_ae25_11ea_8ee6_0242ac160003row0_col2\" class=\"data row0 col2\" >went</td>\n",
       "                        <td id=\"T_e0dcc166_ae25_11ea_8ee6_0242ac160003row0_col3\" class=\"data row0 col3\" >to</td>\n",
       "                        <td id=\"T_e0dcc166_ae25_11ea_8ee6_0242ac160003row0_col4\" class=\"data row0 col4\" >Paris</td>\n",
       "            </tr>\n",
       "            <tr>\n",
       "                        <th id=\"T_e0dcc166_ae25_11ea_8ee6_0242ac160003level0_row1\" class=\"row_heading level0 row1\" >Tags</th>\n",
       "                        <td id=\"T_e0dcc166_ae25_11ea_8ee6_0242ac160003row1_col0\" class=\"data row1 col0\" >B-per</td>\n",
       "                        <td id=\"T_e0dcc166_ae25_11ea_8ee6_0242ac160003row1_col1\" class=\"data row1 col1\" >I-per</td>\n",
       "                        <td id=\"T_e0dcc166_ae25_11ea_8ee6_0242ac160003row1_col2\" class=\"data row1 col2\" >O</td>\n",
       "                        <td id=\"T_e0dcc166_ae25_11ea_8ee6_0242ac160003row1_col3\" class=\"data row1 col3\" >O</td>\n",
       "                        <td id=\"T_e0dcc166_ae25_11ea_8ee6_0242ac160003row1_col4\" class=\"data row1 col4\" >B-geo</td>\n",
       "            </tr>\n",
       "    </tbody></table>"
      ],
      "text/plain": [
       "<pandas.io.formats.style.Styler at 0x7fe57ffc13d0>"
      ]
     },
     "metadata": {},
     "output_type": "display_data"
    }
   ],
   "source": [
    "predict_text_tags(\"Jack London went to Paris\".split())\n",
    "predict_text_tags(\"Jack London went to Paris\".split(), nice_format=True)"
   ]
  },
  {
   "cell_type": "code",
   "execution_count": 49,
   "metadata": {},
   "outputs": [
    {
     "name": "stdout",
     "output_type": "stream",
     "text": [
      "The/O programmers/O from/O Barcelona/B-geo might/O write/O a/O sentence/O without/O a/O spell/B-per checker./I-per\n",
      "The/O programmers/O from/O Barchelona/B-org cannot/I-org write/I-org a/O sentence/O without/O a/O spell/B-per checker./I-per\n",
      "Jack/B-per London/I-per went/O to/O Parris./O\n",
      "Jack/B-per London/I-per went/O to/O Paris./O\n",
      "We/O never/O though/O Microsoft/B-org would/O become/O such/O a/O big/O company./O\n",
      "We/O never/O though/O Microsof/O would/O become/O such/O a/O big/O company./O\n",
      "The/O president/O of/O U.S.A/B-org though/O they/O could/O win/O the/O war/O\n",
      "The/O president/O of/O the/O United/B-geo States/I-geo of/I-geo America/I-geo though/O they/O could/O win/O the/O war/O\n",
      "The/O king/O of/O Saudi/B-geo Arabia/I-geo wanted/O total/O control./O\n",
      "Robin/O does/O not/O want/O to/O go/O to/O Saudi/B-per Arabia./I-per\n",
      "Apple/B-org is/O a/O great/O company./O\n",
      "I/O really/O love/O apples/O and/O oranges./O\n"
     ]
    }
   ],
   "source": [
    "predict_batch_text_tags([\"The programmers from Barcelona might write a sentence without a spell checker.\",\n",
    "\"The programmers from Barchelona cannot write a sentence without a spell checker.\",\n",
    "\"Jack London went to Parris.\",\n",
    "\"Jack London went to Paris.\",\n",
    "\"We never though Microsoft would become such a big company.\",\n",
    "\"We never though Microsof would become such a big company.\",\n",
    "\"The president of U.S.A though they could win the war\",\n",
    "\"The president of the United States of America though they could win the war\",\n",
    "\"The king of Saudi Arabia wanted total control.\",\n",
    "\"Robin does not want to go to Saudi Arabia.\",\n",
    "\"Apple is a great company.\",\n",
    "\"I really love apples and oranges.\"])"
   ]
  },
  {
   "cell_type": "code",
   "execution_count": 109,
   "metadata": {},
   "outputs": [
    {
     "data": {
      "text/html": [
       "<style  type=\"text/css\" >\n",
       "</style><table id=\"T_eaf65be4_ae25_11ea_8ee6_0242ac160003\" ><thead>    <tr>        <th class=\"blank level0\" ></th>        <th class=\"col_heading level0 col0\" >W_00</th>        <th class=\"col_heading level0 col1\" >W_01</th>        <th class=\"col_heading level0 col2\" >W_02</th>        <th class=\"col_heading level0 col3\" >W_03</th>        <th class=\"col_heading level0 col4\" >W_04</th>        <th class=\"col_heading level0 col5\" >W_05</th>        <th class=\"col_heading level0 col6\" >W_06</th>        <th class=\"col_heading level0 col7\" >W_07</th>        <th class=\"col_heading level0 col8\" >W_08</th>        <th class=\"col_heading level0 col9\" >W_09</th>        <th class=\"col_heading level0 col10\" >W_10</th>        <th class=\"col_heading level0 col11\" >W_11</th>    </tr></thead><tbody>\n",
       "                <tr>\n",
       "                        <th id=\"T_eaf65be4_ae25_11ea_8ee6_0242ac160003level0_row0\" class=\"row_heading level0 row0\" >Words</th>\n",
       "                        <td id=\"T_eaf65be4_ae25_11ea_8ee6_0242ac160003row0_col0\" class=\"data row0 col0\" >The</td>\n",
       "                        <td id=\"T_eaf65be4_ae25_11ea_8ee6_0242ac160003row0_col1\" class=\"data row0 col1\" >programmers</td>\n",
       "                        <td id=\"T_eaf65be4_ae25_11ea_8ee6_0242ac160003row0_col2\" class=\"data row0 col2\" >from</td>\n",
       "                        <td id=\"T_eaf65be4_ae25_11ea_8ee6_0242ac160003row0_col3\" class=\"data row0 col3\" >Barcelona</td>\n",
       "                        <td id=\"T_eaf65be4_ae25_11ea_8ee6_0242ac160003row0_col4\" class=\"data row0 col4\" >might</td>\n",
       "                        <td id=\"T_eaf65be4_ae25_11ea_8ee6_0242ac160003row0_col5\" class=\"data row0 col5\" >write</td>\n",
       "                        <td id=\"T_eaf65be4_ae25_11ea_8ee6_0242ac160003row0_col6\" class=\"data row0 col6\" >a</td>\n",
       "                        <td id=\"T_eaf65be4_ae25_11ea_8ee6_0242ac160003row0_col7\" class=\"data row0 col7\" >sentence</td>\n",
       "                        <td id=\"T_eaf65be4_ae25_11ea_8ee6_0242ac160003row0_col8\" class=\"data row0 col8\" >without</td>\n",
       "                        <td id=\"T_eaf65be4_ae25_11ea_8ee6_0242ac160003row0_col9\" class=\"data row0 col9\" >a</td>\n",
       "                        <td id=\"T_eaf65be4_ae25_11ea_8ee6_0242ac160003row0_col10\" class=\"data row0 col10\" >spell</td>\n",
       "                        <td id=\"T_eaf65be4_ae25_11ea_8ee6_0242ac160003row0_col11\" class=\"data row0 col11\" >checker.</td>\n",
       "            </tr>\n",
       "            <tr>\n",
       "                        <th id=\"T_eaf65be4_ae25_11ea_8ee6_0242ac160003level0_row1\" class=\"row_heading level0 row1\" >Tags</th>\n",
       "                        <td id=\"T_eaf65be4_ae25_11ea_8ee6_0242ac160003row1_col0\" class=\"data row1 col0\" >O</td>\n",
       "                        <td id=\"T_eaf65be4_ae25_11ea_8ee6_0242ac160003row1_col1\" class=\"data row1 col1\" >O</td>\n",
       "                        <td id=\"T_eaf65be4_ae25_11ea_8ee6_0242ac160003row1_col2\" class=\"data row1 col2\" >O</td>\n",
       "                        <td id=\"T_eaf65be4_ae25_11ea_8ee6_0242ac160003row1_col3\" class=\"data row1 col3\" >B-geo</td>\n",
       "                        <td id=\"T_eaf65be4_ae25_11ea_8ee6_0242ac160003row1_col4\" class=\"data row1 col4\" >O</td>\n",
       "                        <td id=\"T_eaf65be4_ae25_11ea_8ee6_0242ac160003row1_col5\" class=\"data row1 col5\" >O</td>\n",
       "                        <td id=\"T_eaf65be4_ae25_11ea_8ee6_0242ac160003row1_col6\" class=\"data row1 col6\" >O</td>\n",
       "                        <td id=\"T_eaf65be4_ae25_11ea_8ee6_0242ac160003row1_col7\" class=\"data row1 col7\" >O</td>\n",
       "                        <td id=\"T_eaf65be4_ae25_11ea_8ee6_0242ac160003row1_col8\" class=\"data row1 col8\" >O</td>\n",
       "                        <td id=\"T_eaf65be4_ae25_11ea_8ee6_0242ac160003row1_col9\" class=\"data row1 col9\" >O</td>\n",
       "                        <td id=\"T_eaf65be4_ae25_11ea_8ee6_0242ac160003row1_col10\" class=\"data row1 col10\" >B-per</td>\n",
       "                        <td id=\"T_eaf65be4_ae25_11ea_8ee6_0242ac160003row1_col11\" class=\"data row1 col11\" >I-per</td>\n",
       "            </tr>\n",
       "    </tbody></table>"
      ],
      "text/plain": [
       "<pandas.io.formats.style.Styler at 0x7fe58410cdd0>"
      ]
     },
     "metadata": {},
     "output_type": "display_data"
    },
    {
     "data": {
      "text/html": [
       "<style  type=\"text/css\" >\n",
       "</style><table id=\"T_eaf8490e_ae25_11ea_8ee6_0242ac160003\" ><thead>    <tr>        <th class=\"blank level0\" ></th>        <th class=\"col_heading level0 col0\" >W_00</th>        <th class=\"col_heading level0 col1\" >W_01</th>        <th class=\"col_heading level0 col2\" >W_02</th>        <th class=\"col_heading level0 col3\" >W_03</th>        <th class=\"col_heading level0 col4\" >W_04</th>        <th class=\"col_heading level0 col5\" >W_05</th>        <th class=\"col_heading level0 col6\" >W_06</th>        <th class=\"col_heading level0 col7\" >W_07</th>        <th class=\"col_heading level0 col8\" >W_08</th>        <th class=\"col_heading level0 col9\" >W_09</th>        <th class=\"col_heading level0 col10\" >W_10</th>        <th class=\"col_heading level0 col11\" >W_11</th>    </tr></thead><tbody>\n",
       "                <tr>\n",
       "                        <th id=\"T_eaf8490e_ae25_11ea_8ee6_0242ac160003level0_row0\" class=\"row_heading level0 row0\" >Words</th>\n",
       "                        <td id=\"T_eaf8490e_ae25_11ea_8ee6_0242ac160003row0_col0\" class=\"data row0 col0\" >The</td>\n",
       "                        <td id=\"T_eaf8490e_ae25_11ea_8ee6_0242ac160003row0_col1\" class=\"data row0 col1\" >programmers</td>\n",
       "                        <td id=\"T_eaf8490e_ae25_11ea_8ee6_0242ac160003row0_col2\" class=\"data row0 col2\" >from</td>\n",
       "                        <td id=\"T_eaf8490e_ae25_11ea_8ee6_0242ac160003row0_col3\" class=\"data row0 col3\" >Barchelona</td>\n",
       "                        <td id=\"T_eaf8490e_ae25_11ea_8ee6_0242ac160003row0_col4\" class=\"data row0 col4\" >cannot</td>\n",
       "                        <td id=\"T_eaf8490e_ae25_11ea_8ee6_0242ac160003row0_col5\" class=\"data row0 col5\" >write</td>\n",
       "                        <td id=\"T_eaf8490e_ae25_11ea_8ee6_0242ac160003row0_col6\" class=\"data row0 col6\" >a</td>\n",
       "                        <td id=\"T_eaf8490e_ae25_11ea_8ee6_0242ac160003row0_col7\" class=\"data row0 col7\" >sentence</td>\n",
       "                        <td id=\"T_eaf8490e_ae25_11ea_8ee6_0242ac160003row0_col8\" class=\"data row0 col8\" >without</td>\n",
       "                        <td id=\"T_eaf8490e_ae25_11ea_8ee6_0242ac160003row0_col9\" class=\"data row0 col9\" >a</td>\n",
       "                        <td id=\"T_eaf8490e_ae25_11ea_8ee6_0242ac160003row0_col10\" class=\"data row0 col10\" >spell</td>\n",
       "                        <td id=\"T_eaf8490e_ae25_11ea_8ee6_0242ac160003row0_col11\" class=\"data row0 col11\" >checker.</td>\n",
       "            </tr>\n",
       "            <tr>\n",
       "                        <th id=\"T_eaf8490e_ae25_11ea_8ee6_0242ac160003level0_row1\" class=\"row_heading level0 row1\" >Tags</th>\n",
       "                        <td id=\"T_eaf8490e_ae25_11ea_8ee6_0242ac160003row1_col0\" class=\"data row1 col0\" >O</td>\n",
       "                        <td id=\"T_eaf8490e_ae25_11ea_8ee6_0242ac160003row1_col1\" class=\"data row1 col1\" >O</td>\n",
       "                        <td id=\"T_eaf8490e_ae25_11ea_8ee6_0242ac160003row1_col2\" class=\"data row1 col2\" >O</td>\n",
       "                        <td id=\"T_eaf8490e_ae25_11ea_8ee6_0242ac160003row1_col3\" class=\"data row1 col3\" >B-org</td>\n",
       "                        <td id=\"T_eaf8490e_ae25_11ea_8ee6_0242ac160003row1_col4\" class=\"data row1 col4\" >I-org</td>\n",
       "                        <td id=\"T_eaf8490e_ae25_11ea_8ee6_0242ac160003row1_col5\" class=\"data row1 col5\" >I-org</td>\n",
       "                        <td id=\"T_eaf8490e_ae25_11ea_8ee6_0242ac160003row1_col6\" class=\"data row1 col6\" >O</td>\n",
       "                        <td id=\"T_eaf8490e_ae25_11ea_8ee6_0242ac160003row1_col7\" class=\"data row1 col7\" >O</td>\n",
       "                        <td id=\"T_eaf8490e_ae25_11ea_8ee6_0242ac160003row1_col8\" class=\"data row1 col8\" >O</td>\n",
       "                        <td id=\"T_eaf8490e_ae25_11ea_8ee6_0242ac160003row1_col9\" class=\"data row1 col9\" >O</td>\n",
       "                        <td id=\"T_eaf8490e_ae25_11ea_8ee6_0242ac160003row1_col10\" class=\"data row1 col10\" >B-per</td>\n",
       "                        <td id=\"T_eaf8490e_ae25_11ea_8ee6_0242ac160003row1_col11\" class=\"data row1 col11\" >I-per</td>\n",
       "            </tr>\n",
       "    </tbody></table>"
      ],
      "text/plain": [
       "<pandas.io.formats.style.Styler at 0x7fe57ffd0d10>"
      ]
     },
     "metadata": {},
     "output_type": "display_data"
    },
    {
     "data": {
      "text/html": [
       "<style  type=\"text/css\" >\n",
       "</style><table id=\"T_eaf9421e_ae25_11ea_8ee6_0242ac160003\" ><thead>    <tr>        <th class=\"blank level0\" ></th>        <th class=\"col_heading level0 col0\" >W_00</th>        <th class=\"col_heading level0 col1\" >W_01</th>        <th class=\"col_heading level0 col2\" >W_02</th>        <th class=\"col_heading level0 col3\" >W_03</th>        <th class=\"col_heading level0 col4\" >W_04</th>    </tr></thead><tbody>\n",
       "                <tr>\n",
       "                        <th id=\"T_eaf9421e_ae25_11ea_8ee6_0242ac160003level0_row0\" class=\"row_heading level0 row0\" >Words</th>\n",
       "                        <td id=\"T_eaf9421e_ae25_11ea_8ee6_0242ac160003row0_col0\" class=\"data row0 col0\" >Jack</td>\n",
       "                        <td id=\"T_eaf9421e_ae25_11ea_8ee6_0242ac160003row0_col1\" class=\"data row0 col1\" >London</td>\n",
       "                        <td id=\"T_eaf9421e_ae25_11ea_8ee6_0242ac160003row0_col2\" class=\"data row0 col2\" >went</td>\n",
       "                        <td id=\"T_eaf9421e_ae25_11ea_8ee6_0242ac160003row0_col3\" class=\"data row0 col3\" >to</td>\n",
       "                        <td id=\"T_eaf9421e_ae25_11ea_8ee6_0242ac160003row0_col4\" class=\"data row0 col4\" >Parris.</td>\n",
       "            </tr>\n",
       "            <tr>\n",
       "                        <th id=\"T_eaf9421e_ae25_11ea_8ee6_0242ac160003level0_row1\" class=\"row_heading level0 row1\" >Tags</th>\n",
       "                        <td id=\"T_eaf9421e_ae25_11ea_8ee6_0242ac160003row1_col0\" class=\"data row1 col0\" >B-per</td>\n",
       "                        <td id=\"T_eaf9421e_ae25_11ea_8ee6_0242ac160003row1_col1\" class=\"data row1 col1\" >I-per</td>\n",
       "                        <td id=\"T_eaf9421e_ae25_11ea_8ee6_0242ac160003row1_col2\" class=\"data row1 col2\" >O</td>\n",
       "                        <td id=\"T_eaf9421e_ae25_11ea_8ee6_0242ac160003row1_col3\" class=\"data row1 col3\" >O</td>\n",
       "                        <td id=\"T_eaf9421e_ae25_11ea_8ee6_0242ac160003row1_col4\" class=\"data row1 col4\" >O</td>\n",
       "            </tr>\n",
       "    </tbody></table>"
      ],
      "text/plain": [
       "<pandas.io.formats.style.Styler at 0x7fe584104490>"
      ]
     },
     "metadata": {},
     "output_type": "display_data"
    },
    {
     "data": {
      "text/html": [
       "<style  type=\"text/css\" >\n",
       "</style><table id=\"T_eafa230a_ae25_11ea_8ee6_0242ac160003\" ><thead>    <tr>        <th class=\"blank level0\" ></th>        <th class=\"col_heading level0 col0\" >W_00</th>        <th class=\"col_heading level0 col1\" >W_01</th>        <th class=\"col_heading level0 col2\" >W_02</th>        <th class=\"col_heading level0 col3\" >W_03</th>        <th class=\"col_heading level0 col4\" >W_04</th>    </tr></thead><tbody>\n",
       "                <tr>\n",
       "                        <th id=\"T_eafa230a_ae25_11ea_8ee6_0242ac160003level0_row0\" class=\"row_heading level0 row0\" >Words</th>\n",
       "                        <td id=\"T_eafa230a_ae25_11ea_8ee6_0242ac160003row0_col0\" class=\"data row0 col0\" >Jack</td>\n",
       "                        <td id=\"T_eafa230a_ae25_11ea_8ee6_0242ac160003row0_col1\" class=\"data row0 col1\" >London</td>\n",
       "                        <td id=\"T_eafa230a_ae25_11ea_8ee6_0242ac160003row0_col2\" class=\"data row0 col2\" >went</td>\n",
       "                        <td id=\"T_eafa230a_ae25_11ea_8ee6_0242ac160003row0_col3\" class=\"data row0 col3\" >to</td>\n",
       "                        <td id=\"T_eafa230a_ae25_11ea_8ee6_0242ac160003row0_col4\" class=\"data row0 col4\" >Paris.</td>\n",
       "            </tr>\n",
       "            <tr>\n",
       "                        <th id=\"T_eafa230a_ae25_11ea_8ee6_0242ac160003level0_row1\" class=\"row_heading level0 row1\" >Tags</th>\n",
       "                        <td id=\"T_eafa230a_ae25_11ea_8ee6_0242ac160003row1_col0\" class=\"data row1 col0\" >B-per</td>\n",
       "                        <td id=\"T_eafa230a_ae25_11ea_8ee6_0242ac160003row1_col1\" class=\"data row1 col1\" >I-per</td>\n",
       "                        <td id=\"T_eafa230a_ae25_11ea_8ee6_0242ac160003row1_col2\" class=\"data row1 col2\" >O</td>\n",
       "                        <td id=\"T_eafa230a_ae25_11ea_8ee6_0242ac160003row1_col3\" class=\"data row1 col3\" >O</td>\n",
       "                        <td id=\"T_eafa230a_ae25_11ea_8ee6_0242ac160003row1_col4\" class=\"data row1 col4\" >O</td>\n",
       "            </tr>\n",
       "    </tbody></table>"
      ],
      "text/plain": [
       "<pandas.io.formats.style.Styler at 0x7fe584055650>"
      ]
     },
     "metadata": {},
     "output_type": "display_data"
    },
    {
     "data": {
      "text/html": [
       "<style  type=\"text/css\" >\n",
       "</style><table id=\"T_eafba950_ae25_11ea_8ee6_0242ac160003\" ><thead>    <tr>        <th class=\"blank level0\" ></th>        <th class=\"col_heading level0 col0\" >W_00</th>        <th class=\"col_heading level0 col1\" >W_01</th>        <th class=\"col_heading level0 col2\" >W_02</th>        <th class=\"col_heading level0 col3\" >W_03</th>        <th class=\"col_heading level0 col4\" >W_04</th>        <th class=\"col_heading level0 col5\" >W_05</th>        <th class=\"col_heading level0 col6\" >W_06</th>        <th class=\"col_heading level0 col7\" >W_07</th>        <th class=\"col_heading level0 col8\" >W_08</th>        <th class=\"col_heading level0 col9\" >W_09</th>    </tr></thead><tbody>\n",
       "                <tr>\n",
       "                        <th id=\"T_eafba950_ae25_11ea_8ee6_0242ac160003level0_row0\" class=\"row_heading level0 row0\" >Words</th>\n",
       "                        <td id=\"T_eafba950_ae25_11ea_8ee6_0242ac160003row0_col0\" class=\"data row0 col0\" >We</td>\n",
       "                        <td id=\"T_eafba950_ae25_11ea_8ee6_0242ac160003row0_col1\" class=\"data row0 col1\" >never</td>\n",
       "                        <td id=\"T_eafba950_ae25_11ea_8ee6_0242ac160003row0_col2\" class=\"data row0 col2\" >though</td>\n",
       "                        <td id=\"T_eafba950_ae25_11ea_8ee6_0242ac160003row0_col3\" class=\"data row0 col3\" >Microsoft</td>\n",
       "                        <td id=\"T_eafba950_ae25_11ea_8ee6_0242ac160003row0_col4\" class=\"data row0 col4\" >would</td>\n",
       "                        <td id=\"T_eafba950_ae25_11ea_8ee6_0242ac160003row0_col5\" class=\"data row0 col5\" >become</td>\n",
       "                        <td id=\"T_eafba950_ae25_11ea_8ee6_0242ac160003row0_col6\" class=\"data row0 col6\" >such</td>\n",
       "                        <td id=\"T_eafba950_ae25_11ea_8ee6_0242ac160003row0_col7\" class=\"data row0 col7\" >a</td>\n",
       "                        <td id=\"T_eafba950_ae25_11ea_8ee6_0242ac160003row0_col8\" class=\"data row0 col8\" >big</td>\n",
       "                        <td id=\"T_eafba950_ae25_11ea_8ee6_0242ac160003row0_col9\" class=\"data row0 col9\" >company.</td>\n",
       "            </tr>\n",
       "            <tr>\n",
       "                        <th id=\"T_eafba950_ae25_11ea_8ee6_0242ac160003level0_row1\" class=\"row_heading level0 row1\" >Tags</th>\n",
       "                        <td id=\"T_eafba950_ae25_11ea_8ee6_0242ac160003row1_col0\" class=\"data row1 col0\" >O</td>\n",
       "                        <td id=\"T_eafba950_ae25_11ea_8ee6_0242ac160003row1_col1\" class=\"data row1 col1\" >O</td>\n",
       "                        <td id=\"T_eafba950_ae25_11ea_8ee6_0242ac160003row1_col2\" class=\"data row1 col2\" >O</td>\n",
       "                        <td id=\"T_eafba950_ae25_11ea_8ee6_0242ac160003row1_col3\" class=\"data row1 col3\" >B-org</td>\n",
       "                        <td id=\"T_eafba950_ae25_11ea_8ee6_0242ac160003row1_col4\" class=\"data row1 col4\" >O</td>\n",
       "                        <td id=\"T_eafba950_ae25_11ea_8ee6_0242ac160003row1_col5\" class=\"data row1 col5\" >O</td>\n",
       "                        <td id=\"T_eafba950_ae25_11ea_8ee6_0242ac160003row1_col6\" class=\"data row1 col6\" >O</td>\n",
       "                        <td id=\"T_eafba950_ae25_11ea_8ee6_0242ac160003row1_col7\" class=\"data row1 col7\" >O</td>\n",
       "                        <td id=\"T_eafba950_ae25_11ea_8ee6_0242ac160003row1_col8\" class=\"data row1 col8\" >O</td>\n",
       "                        <td id=\"T_eafba950_ae25_11ea_8ee6_0242ac160003row1_col9\" class=\"data row1 col9\" >O</td>\n",
       "            </tr>\n",
       "    </tbody></table>"
      ],
      "text/plain": [
       "<pandas.io.formats.style.Styler at 0x7fe5840550d0>"
      ]
     },
     "metadata": {},
     "output_type": "display_data"
    },
    {
     "data": {
      "text/html": [
       "<style  type=\"text/css\" >\n",
       "</style><table id=\"T_eafd1506_ae25_11ea_8ee6_0242ac160003\" ><thead>    <tr>        <th class=\"blank level0\" ></th>        <th class=\"col_heading level0 col0\" >W_00</th>        <th class=\"col_heading level0 col1\" >W_01</th>        <th class=\"col_heading level0 col2\" >W_02</th>        <th class=\"col_heading level0 col3\" >W_03</th>        <th class=\"col_heading level0 col4\" >W_04</th>        <th class=\"col_heading level0 col5\" >W_05</th>        <th class=\"col_heading level0 col6\" >W_06</th>        <th class=\"col_heading level0 col7\" >W_07</th>        <th class=\"col_heading level0 col8\" >W_08</th>        <th class=\"col_heading level0 col9\" >W_09</th>    </tr></thead><tbody>\n",
       "                <tr>\n",
       "                        <th id=\"T_eafd1506_ae25_11ea_8ee6_0242ac160003level0_row0\" class=\"row_heading level0 row0\" >Words</th>\n",
       "                        <td id=\"T_eafd1506_ae25_11ea_8ee6_0242ac160003row0_col0\" class=\"data row0 col0\" >We</td>\n",
       "                        <td id=\"T_eafd1506_ae25_11ea_8ee6_0242ac160003row0_col1\" class=\"data row0 col1\" >never</td>\n",
       "                        <td id=\"T_eafd1506_ae25_11ea_8ee6_0242ac160003row0_col2\" class=\"data row0 col2\" >though</td>\n",
       "                        <td id=\"T_eafd1506_ae25_11ea_8ee6_0242ac160003row0_col3\" class=\"data row0 col3\" >Microsof</td>\n",
       "                        <td id=\"T_eafd1506_ae25_11ea_8ee6_0242ac160003row0_col4\" class=\"data row0 col4\" >would</td>\n",
       "                        <td id=\"T_eafd1506_ae25_11ea_8ee6_0242ac160003row0_col5\" class=\"data row0 col5\" >become</td>\n",
       "                        <td id=\"T_eafd1506_ae25_11ea_8ee6_0242ac160003row0_col6\" class=\"data row0 col6\" >such</td>\n",
       "                        <td id=\"T_eafd1506_ae25_11ea_8ee6_0242ac160003row0_col7\" class=\"data row0 col7\" >a</td>\n",
       "                        <td id=\"T_eafd1506_ae25_11ea_8ee6_0242ac160003row0_col8\" class=\"data row0 col8\" >big</td>\n",
       "                        <td id=\"T_eafd1506_ae25_11ea_8ee6_0242ac160003row0_col9\" class=\"data row0 col9\" >company.</td>\n",
       "            </tr>\n",
       "            <tr>\n",
       "                        <th id=\"T_eafd1506_ae25_11ea_8ee6_0242ac160003level0_row1\" class=\"row_heading level0 row1\" >Tags</th>\n",
       "                        <td id=\"T_eafd1506_ae25_11ea_8ee6_0242ac160003row1_col0\" class=\"data row1 col0\" >O</td>\n",
       "                        <td id=\"T_eafd1506_ae25_11ea_8ee6_0242ac160003row1_col1\" class=\"data row1 col1\" >O</td>\n",
       "                        <td id=\"T_eafd1506_ae25_11ea_8ee6_0242ac160003row1_col2\" class=\"data row1 col2\" >O</td>\n",
       "                        <td id=\"T_eafd1506_ae25_11ea_8ee6_0242ac160003row1_col3\" class=\"data row1 col3\" >O</td>\n",
       "                        <td id=\"T_eafd1506_ae25_11ea_8ee6_0242ac160003row1_col4\" class=\"data row1 col4\" >O</td>\n",
       "                        <td id=\"T_eafd1506_ae25_11ea_8ee6_0242ac160003row1_col5\" class=\"data row1 col5\" >O</td>\n",
       "                        <td id=\"T_eafd1506_ae25_11ea_8ee6_0242ac160003row1_col6\" class=\"data row1 col6\" >O</td>\n",
       "                        <td id=\"T_eafd1506_ae25_11ea_8ee6_0242ac160003row1_col7\" class=\"data row1 col7\" >O</td>\n",
       "                        <td id=\"T_eafd1506_ae25_11ea_8ee6_0242ac160003row1_col8\" class=\"data row1 col8\" >O</td>\n",
       "                        <td id=\"T_eafd1506_ae25_11ea_8ee6_0242ac160003row1_col9\" class=\"data row1 col9\" >O</td>\n",
       "            </tr>\n",
       "    </tbody></table>"
      ],
      "text/plain": [
       "<pandas.io.formats.style.Styler at 0x7fe57ffd0490>"
      ]
     },
     "metadata": {},
     "output_type": "display_data"
    },
    {
     "data": {
      "text/html": [
       "<style  type=\"text/css\" >\n",
       "</style><table id=\"T_eafe8b5c_ae25_11ea_8ee6_0242ac160003\" ><thead>    <tr>        <th class=\"blank level0\" ></th>        <th class=\"col_heading level0 col0\" >W_00</th>        <th class=\"col_heading level0 col1\" >W_01</th>        <th class=\"col_heading level0 col2\" >W_02</th>        <th class=\"col_heading level0 col3\" >W_03</th>        <th class=\"col_heading level0 col4\" >W_04</th>        <th class=\"col_heading level0 col5\" >W_05</th>        <th class=\"col_heading level0 col6\" >W_06</th>        <th class=\"col_heading level0 col7\" >W_07</th>        <th class=\"col_heading level0 col8\" >W_08</th>        <th class=\"col_heading level0 col9\" >W_09</th>    </tr></thead><tbody>\n",
       "                <tr>\n",
       "                        <th id=\"T_eafe8b5c_ae25_11ea_8ee6_0242ac160003level0_row0\" class=\"row_heading level0 row0\" >Words</th>\n",
       "                        <td id=\"T_eafe8b5c_ae25_11ea_8ee6_0242ac160003row0_col0\" class=\"data row0 col0\" >The</td>\n",
       "                        <td id=\"T_eafe8b5c_ae25_11ea_8ee6_0242ac160003row0_col1\" class=\"data row0 col1\" >president</td>\n",
       "                        <td id=\"T_eafe8b5c_ae25_11ea_8ee6_0242ac160003row0_col2\" class=\"data row0 col2\" >of</td>\n",
       "                        <td id=\"T_eafe8b5c_ae25_11ea_8ee6_0242ac160003row0_col3\" class=\"data row0 col3\" >U.S.A</td>\n",
       "                        <td id=\"T_eafe8b5c_ae25_11ea_8ee6_0242ac160003row0_col4\" class=\"data row0 col4\" >though</td>\n",
       "                        <td id=\"T_eafe8b5c_ae25_11ea_8ee6_0242ac160003row0_col5\" class=\"data row0 col5\" >they</td>\n",
       "                        <td id=\"T_eafe8b5c_ae25_11ea_8ee6_0242ac160003row0_col6\" class=\"data row0 col6\" >could</td>\n",
       "                        <td id=\"T_eafe8b5c_ae25_11ea_8ee6_0242ac160003row0_col7\" class=\"data row0 col7\" >win</td>\n",
       "                        <td id=\"T_eafe8b5c_ae25_11ea_8ee6_0242ac160003row0_col8\" class=\"data row0 col8\" >the</td>\n",
       "                        <td id=\"T_eafe8b5c_ae25_11ea_8ee6_0242ac160003row0_col9\" class=\"data row0 col9\" >war</td>\n",
       "            </tr>\n",
       "            <tr>\n",
       "                        <th id=\"T_eafe8b5c_ae25_11ea_8ee6_0242ac160003level0_row1\" class=\"row_heading level0 row1\" >Tags</th>\n",
       "                        <td id=\"T_eafe8b5c_ae25_11ea_8ee6_0242ac160003row1_col0\" class=\"data row1 col0\" >O</td>\n",
       "                        <td id=\"T_eafe8b5c_ae25_11ea_8ee6_0242ac160003row1_col1\" class=\"data row1 col1\" >O</td>\n",
       "                        <td id=\"T_eafe8b5c_ae25_11ea_8ee6_0242ac160003row1_col2\" class=\"data row1 col2\" >O</td>\n",
       "                        <td id=\"T_eafe8b5c_ae25_11ea_8ee6_0242ac160003row1_col3\" class=\"data row1 col3\" >B-org</td>\n",
       "                        <td id=\"T_eafe8b5c_ae25_11ea_8ee6_0242ac160003row1_col4\" class=\"data row1 col4\" >O</td>\n",
       "                        <td id=\"T_eafe8b5c_ae25_11ea_8ee6_0242ac160003row1_col5\" class=\"data row1 col5\" >O</td>\n",
       "                        <td id=\"T_eafe8b5c_ae25_11ea_8ee6_0242ac160003row1_col6\" class=\"data row1 col6\" >O</td>\n",
       "                        <td id=\"T_eafe8b5c_ae25_11ea_8ee6_0242ac160003row1_col7\" class=\"data row1 col7\" >O</td>\n",
       "                        <td id=\"T_eafe8b5c_ae25_11ea_8ee6_0242ac160003row1_col8\" class=\"data row1 col8\" >O</td>\n",
       "                        <td id=\"T_eafe8b5c_ae25_11ea_8ee6_0242ac160003row1_col9\" class=\"data row1 col9\" >O</td>\n",
       "            </tr>\n",
       "    </tbody></table>"
      ],
      "text/plain": [
       "<pandas.io.formats.style.Styler at 0x7fe57ffd18d0>"
      ]
     },
     "metadata": {},
     "output_type": "display_data"
    },
    {
     "data": {
      "text/html": [
       "<style  type=\"text/css\" >\n",
       "</style><table id=\"T_eb006f76_ae25_11ea_8ee6_0242ac160003\" ><thead>    <tr>        <th class=\"blank level0\" ></th>        <th class=\"col_heading level0 col0\" >W_00</th>        <th class=\"col_heading level0 col1\" >W_01</th>        <th class=\"col_heading level0 col2\" >W_02</th>        <th class=\"col_heading level0 col3\" >W_03</th>        <th class=\"col_heading level0 col4\" >W_04</th>        <th class=\"col_heading level0 col5\" >W_05</th>        <th class=\"col_heading level0 col6\" >W_06</th>        <th class=\"col_heading level0 col7\" >W_07</th>        <th class=\"col_heading level0 col8\" >W_08</th>        <th class=\"col_heading level0 col9\" >W_09</th>        <th class=\"col_heading level0 col10\" >W_10</th>        <th class=\"col_heading level0 col11\" >W_11</th>        <th class=\"col_heading level0 col12\" >W_12</th>        <th class=\"col_heading level0 col13\" >W_13</th>    </tr></thead><tbody>\n",
       "                <tr>\n",
       "                        <th id=\"T_eb006f76_ae25_11ea_8ee6_0242ac160003level0_row0\" class=\"row_heading level0 row0\" >Words</th>\n",
       "                        <td id=\"T_eb006f76_ae25_11ea_8ee6_0242ac160003row0_col0\" class=\"data row0 col0\" >The</td>\n",
       "                        <td id=\"T_eb006f76_ae25_11ea_8ee6_0242ac160003row0_col1\" class=\"data row0 col1\" >president</td>\n",
       "                        <td id=\"T_eb006f76_ae25_11ea_8ee6_0242ac160003row0_col2\" class=\"data row0 col2\" >of</td>\n",
       "                        <td id=\"T_eb006f76_ae25_11ea_8ee6_0242ac160003row0_col3\" class=\"data row0 col3\" >the</td>\n",
       "                        <td id=\"T_eb006f76_ae25_11ea_8ee6_0242ac160003row0_col4\" class=\"data row0 col4\" >United</td>\n",
       "                        <td id=\"T_eb006f76_ae25_11ea_8ee6_0242ac160003row0_col5\" class=\"data row0 col5\" >States</td>\n",
       "                        <td id=\"T_eb006f76_ae25_11ea_8ee6_0242ac160003row0_col6\" class=\"data row0 col6\" >of</td>\n",
       "                        <td id=\"T_eb006f76_ae25_11ea_8ee6_0242ac160003row0_col7\" class=\"data row0 col7\" >America</td>\n",
       "                        <td id=\"T_eb006f76_ae25_11ea_8ee6_0242ac160003row0_col8\" class=\"data row0 col8\" >though</td>\n",
       "                        <td id=\"T_eb006f76_ae25_11ea_8ee6_0242ac160003row0_col9\" class=\"data row0 col9\" >they</td>\n",
       "                        <td id=\"T_eb006f76_ae25_11ea_8ee6_0242ac160003row0_col10\" class=\"data row0 col10\" >could</td>\n",
       "                        <td id=\"T_eb006f76_ae25_11ea_8ee6_0242ac160003row0_col11\" class=\"data row0 col11\" >win</td>\n",
       "                        <td id=\"T_eb006f76_ae25_11ea_8ee6_0242ac160003row0_col12\" class=\"data row0 col12\" >the</td>\n",
       "                        <td id=\"T_eb006f76_ae25_11ea_8ee6_0242ac160003row0_col13\" class=\"data row0 col13\" >war</td>\n",
       "            </tr>\n",
       "            <tr>\n",
       "                        <th id=\"T_eb006f76_ae25_11ea_8ee6_0242ac160003level0_row1\" class=\"row_heading level0 row1\" >Tags</th>\n",
       "                        <td id=\"T_eb006f76_ae25_11ea_8ee6_0242ac160003row1_col0\" class=\"data row1 col0\" >O</td>\n",
       "                        <td id=\"T_eb006f76_ae25_11ea_8ee6_0242ac160003row1_col1\" class=\"data row1 col1\" >O</td>\n",
       "                        <td id=\"T_eb006f76_ae25_11ea_8ee6_0242ac160003row1_col2\" class=\"data row1 col2\" >O</td>\n",
       "                        <td id=\"T_eb006f76_ae25_11ea_8ee6_0242ac160003row1_col3\" class=\"data row1 col3\" >O</td>\n",
       "                        <td id=\"T_eb006f76_ae25_11ea_8ee6_0242ac160003row1_col4\" class=\"data row1 col4\" >B-geo</td>\n",
       "                        <td id=\"T_eb006f76_ae25_11ea_8ee6_0242ac160003row1_col5\" class=\"data row1 col5\" >I-geo</td>\n",
       "                        <td id=\"T_eb006f76_ae25_11ea_8ee6_0242ac160003row1_col6\" class=\"data row1 col6\" >I-geo</td>\n",
       "                        <td id=\"T_eb006f76_ae25_11ea_8ee6_0242ac160003row1_col7\" class=\"data row1 col7\" >I-geo</td>\n",
       "                        <td id=\"T_eb006f76_ae25_11ea_8ee6_0242ac160003row1_col8\" class=\"data row1 col8\" >O</td>\n",
       "                        <td id=\"T_eb006f76_ae25_11ea_8ee6_0242ac160003row1_col9\" class=\"data row1 col9\" >O</td>\n",
       "                        <td id=\"T_eb006f76_ae25_11ea_8ee6_0242ac160003row1_col10\" class=\"data row1 col10\" >O</td>\n",
       "                        <td id=\"T_eb006f76_ae25_11ea_8ee6_0242ac160003row1_col11\" class=\"data row1 col11\" >O</td>\n",
       "                        <td id=\"T_eb006f76_ae25_11ea_8ee6_0242ac160003row1_col12\" class=\"data row1 col12\" >O</td>\n",
       "                        <td id=\"T_eb006f76_ae25_11ea_8ee6_0242ac160003row1_col13\" class=\"data row1 col13\" >O</td>\n",
       "            </tr>\n",
       "    </tbody></table>"
      ],
      "text/plain": [
       "<pandas.io.formats.style.Styler at 0x7fe57ffd0d90>"
      ]
     },
     "metadata": {},
     "output_type": "display_data"
    },
    {
     "data": {
      "text/html": [
       "<style  type=\"text/css\" >\n",
       "</style><table id=\"T_eb01cfa6_ae25_11ea_8ee6_0242ac160003\" ><thead>    <tr>        <th class=\"blank level0\" ></th>        <th class=\"col_heading level0 col0\" >W_00</th>        <th class=\"col_heading level0 col1\" >W_01</th>        <th class=\"col_heading level0 col2\" >W_02</th>        <th class=\"col_heading level0 col3\" >W_03</th>        <th class=\"col_heading level0 col4\" >W_04</th>        <th class=\"col_heading level0 col5\" >W_05</th>        <th class=\"col_heading level0 col6\" >W_06</th>        <th class=\"col_heading level0 col7\" >W_07</th>    </tr></thead><tbody>\n",
       "                <tr>\n",
       "                        <th id=\"T_eb01cfa6_ae25_11ea_8ee6_0242ac160003level0_row0\" class=\"row_heading level0 row0\" >Words</th>\n",
       "                        <td id=\"T_eb01cfa6_ae25_11ea_8ee6_0242ac160003row0_col0\" class=\"data row0 col0\" >The</td>\n",
       "                        <td id=\"T_eb01cfa6_ae25_11ea_8ee6_0242ac160003row0_col1\" class=\"data row0 col1\" >king</td>\n",
       "                        <td id=\"T_eb01cfa6_ae25_11ea_8ee6_0242ac160003row0_col2\" class=\"data row0 col2\" >of</td>\n",
       "                        <td id=\"T_eb01cfa6_ae25_11ea_8ee6_0242ac160003row0_col3\" class=\"data row0 col3\" >Saudi</td>\n",
       "                        <td id=\"T_eb01cfa6_ae25_11ea_8ee6_0242ac160003row0_col4\" class=\"data row0 col4\" >Arabia</td>\n",
       "                        <td id=\"T_eb01cfa6_ae25_11ea_8ee6_0242ac160003row0_col5\" class=\"data row0 col5\" >wanted</td>\n",
       "                        <td id=\"T_eb01cfa6_ae25_11ea_8ee6_0242ac160003row0_col6\" class=\"data row0 col6\" >total</td>\n",
       "                        <td id=\"T_eb01cfa6_ae25_11ea_8ee6_0242ac160003row0_col7\" class=\"data row0 col7\" >control.</td>\n",
       "            </tr>\n",
       "            <tr>\n",
       "                        <th id=\"T_eb01cfa6_ae25_11ea_8ee6_0242ac160003level0_row1\" class=\"row_heading level0 row1\" >Tags</th>\n",
       "                        <td id=\"T_eb01cfa6_ae25_11ea_8ee6_0242ac160003row1_col0\" class=\"data row1 col0\" >O</td>\n",
       "                        <td id=\"T_eb01cfa6_ae25_11ea_8ee6_0242ac160003row1_col1\" class=\"data row1 col1\" >O</td>\n",
       "                        <td id=\"T_eb01cfa6_ae25_11ea_8ee6_0242ac160003row1_col2\" class=\"data row1 col2\" >O</td>\n",
       "                        <td id=\"T_eb01cfa6_ae25_11ea_8ee6_0242ac160003row1_col3\" class=\"data row1 col3\" >B-geo</td>\n",
       "                        <td id=\"T_eb01cfa6_ae25_11ea_8ee6_0242ac160003row1_col4\" class=\"data row1 col4\" >I-geo</td>\n",
       "                        <td id=\"T_eb01cfa6_ae25_11ea_8ee6_0242ac160003row1_col5\" class=\"data row1 col5\" >O</td>\n",
       "                        <td id=\"T_eb01cfa6_ae25_11ea_8ee6_0242ac160003row1_col6\" class=\"data row1 col6\" >O</td>\n",
       "                        <td id=\"T_eb01cfa6_ae25_11ea_8ee6_0242ac160003row1_col7\" class=\"data row1 col7\" >O</td>\n",
       "            </tr>\n",
       "    </tbody></table>"
      ],
      "text/plain": [
       "<pandas.io.formats.style.Styler at 0x7fe584100e90>"
      ]
     },
     "metadata": {},
     "output_type": "display_data"
    },
    {
     "data": {
      "text/html": [
       "<style  type=\"text/css\" >\n",
       "</style><table id=\"T_eb0317b2_ae25_11ea_8ee6_0242ac160003\" ><thead>    <tr>        <th class=\"blank level0\" ></th>        <th class=\"col_heading level0 col0\" >W_00</th>        <th class=\"col_heading level0 col1\" >W_01</th>        <th class=\"col_heading level0 col2\" >W_02</th>        <th class=\"col_heading level0 col3\" >W_03</th>        <th class=\"col_heading level0 col4\" >W_04</th>        <th class=\"col_heading level0 col5\" >W_05</th>        <th class=\"col_heading level0 col6\" >W_06</th>        <th class=\"col_heading level0 col7\" >W_07</th>        <th class=\"col_heading level0 col8\" >W_08</th>    </tr></thead><tbody>\n",
       "                <tr>\n",
       "                        <th id=\"T_eb0317b2_ae25_11ea_8ee6_0242ac160003level0_row0\" class=\"row_heading level0 row0\" >Words</th>\n",
       "                        <td id=\"T_eb0317b2_ae25_11ea_8ee6_0242ac160003row0_col0\" class=\"data row0 col0\" >Robin</td>\n",
       "                        <td id=\"T_eb0317b2_ae25_11ea_8ee6_0242ac160003row0_col1\" class=\"data row0 col1\" >does</td>\n",
       "                        <td id=\"T_eb0317b2_ae25_11ea_8ee6_0242ac160003row0_col2\" class=\"data row0 col2\" >not</td>\n",
       "                        <td id=\"T_eb0317b2_ae25_11ea_8ee6_0242ac160003row0_col3\" class=\"data row0 col3\" >want</td>\n",
       "                        <td id=\"T_eb0317b2_ae25_11ea_8ee6_0242ac160003row0_col4\" class=\"data row0 col4\" >to</td>\n",
       "                        <td id=\"T_eb0317b2_ae25_11ea_8ee6_0242ac160003row0_col5\" class=\"data row0 col5\" >go</td>\n",
       "                        <td id=\"T_eb0317b2_ae25_11ea_8ee6_0242ac160003row0_col6\" class=\"data row0 col6\" >to</td>\n",
       "                        <td id=\"T_eb0317b2_ae25_11ea_8ee6_0242ac160003row0_col7\" class=\"data row0 col7\" >Saudi</td>\n",
       "                        <td id=\"T_eb0317b2_ae25_11ea_8ee6_0242ac160003row0_col8\" class=\"data row0 col8\" >Arabia.</td>\n",
       "            </tr>\n",
       "            <tr>\n",
       "                        <th id=\"T_eb0317b2_ae25_11ea_8ee6_0242ac160003level0_row1\" class=\"row_heading level0 row1\" >Tags</th>\n",
       "                        <td id=\"T_eb0317b2_ae25_11ea_8ee6_0242ac160003row1_col0\" class=\"data row1 col0\" >O</td>\n",
       "                        <td id=\"T_eb0317b2_ae25_11ea_8ee6_0242ac160003row1_col1\" class=\"data row1 col1\" >O</td>\n",
       "                        <td id=\"T_eb0317b2_ae25_11ea_8ee6_0242ac160003row1_col2\" class=\"data row1 col2\" >O</td>\n",
       "                        <td id=\"T_eb0317b2_ae25_11ea_8ee6_0242ac160003row1_col3\" class=\"data row1 col3\" >O</td>\n",
       "                        <td id=\"T_eb0317b2_ae25_11ea_8ee6_0242ac160003row1_col4\" class=\"data row1 col4\" >O</td>\n",
       "                        <td id=\"T_eb0317b2_ae25_11ea_8ee6_0242ac160003row1_col5\" class=\"data row1 col5\" >O</td>\n",
       "                        <td id=\"T_eb0317b2_ae25_11ea_8ee6_0242ac160003row1_col6\" class=\"data row1 col6\" >O</td>\n",
       "                        <td id=\"T_eb0317b2_ae25_11ea_8ee6_0242ac160003row1_col7\" class=\"data row1 col7\" >B-per</td>\n",
       "                        <td id=\"T_eb0317b2_ae25_11ea_8ee6_0242ac160003row1_col8\" class=\"data row1 col8\" >I-per</td>\n",
       "            </tr>\n",
       "    </tbody></table>"
      ],
      "text/plain": [
       "<pandas.io.formats.style.Styler at 0x7fe5841043d0>"
      ]
     },
     "metadata": {},
     "output_type": "display_data"
    },
    {
     "data": {
      "text/html": [
       "<style  type=\"text/css\" >\n",
       "</style><table id=\"T_eb03fd44_ae25_11ea_8ee6_0242ac160003\" ><thead>    <tr>        <th class=\"blank level0\" ></th>        <th class=\"col_heading level0 col0\" >W_00</th>        <th class=\"col_heading level0 col1\" >W_01</th>        <th class=\"col_heading level0 col2\" >W_02</th>        <th class=\"col_heading level0 col3\" >W_03</th>        <th class=\"col_heading level0 col4\" >W_04</th>    </tr></thead><tbody>\n",
       "                <tr>\n",
       "                        <th id=\"T_eb03fd44_ae25_11ea_8ee6_0242ac160003level0_row0\" class=\"row_heading level0 row0\" >Words</th>\n",
       "                        <td id=\"T_eb03fd44_ae25_11ea_8ee6_0242ac160003row0_col0\" class=\"data row0 col0\" >Apple</td>\n",
       "                        <td id=\"T_eb03fd44_ae25_11ea_8ee6_0242ac160003row0_col1\" class=\"data row0 col1\" >is</td>\n",
       "                        <td id=\"T_eb03fd44_ae25_11ea_8ee6_0242ac160003row0_col2\" class=\"data row0 col2\" >a</td>\n",
       "                        <td id=\"T_eb03fd44_ae25_11ea_8ee6_0242ac160003row0_col3\" class=\"data row0 col3\" >great</td>\n",
       "                        <td id=\"T_eb03fd44_ae25_11ea_8ee6_0242ac160003row0_col4\" class=\"data row0 col4\" >company.</td>\n",
       "            </tr>\n",
       "            <tr>\n",
       "                        <th id=\"T_eb03fd44_ae25_11ea_8ee6_0242ac160003level0_row1\" class=\"row_heading level0 row1\" >Tags</th>\n",
       "                        <td id=\"T_eb03fd44_ae25_11ea_8ee6_0242ac160003row1_col0\" class=\"data row1 col0\" >B-org</td>\n",
       "                        <td id=\"T_eb03fd44_ae25_11ea_8ee6_0242ac160003row1_col1\" class=\"data row1 col1\" >O</td>\n",
       "                        <td id=\"T_eb03fd44_ae25_11ea_8ee6_0242ac160003row1_col2\" class=\"data row1 col2\" >O</td>\n",
       "                        <td id=\"T_eb03fd44_ae25_11ea_8ee6_0242ac160003row1_col3\" class=\"data row1 col3\" >O</td>\n",
       "                        <td id=\"T_eb03fd44_ae25_11ea_8ee6_0242ac160003row1_col4\" class=\"data row1 col4\" >O</td>\n",
       "            </tr>\n",
       "    </tbody></table>"
      ],
      "text/plain": [
       "<pandas.io.formats.style.Styler at 0x7fe5840f9950>"
      ]
     },
     "metadata": {},
     "output_type": "display_data"
    },
    {
     "data": {
      "text/html": [
       "<style  type=\"text/css\" >\n",
       "</style><table id=\"T_eb04e74a_ae25_11ea_8ee6_0242ac160003\" ><thead>    <tr>        <th class=\"blank level0\" ></th>        <th class=\"col_heading level0 col0\" >W_00</th>        <th class=\"col_heading level0 col1\" >W_01</th>        <th class=\"col_heading level0 col2\" >W_02</th>        <th class=\"col_heading level0 col3\" >W_03</th>        <th class=\"col_heading level0 col4\" >W_04</th>        <th class=\"col_heading level0 col5\" >W_05</th>    </tr></thead><tbody>\n",
       "                <tr>\n",
       "                        <th id=\"T_eb04e74a_ae25_11ea_8ee6_0242ac160003level0_row0\" class=\"row_heading level0 row0\" >Words</th>\n",
       "                        <td id=\"T_eb04e74a_ae25_11ea_8ee6_0242ac160003row0_col0\" class=\"data row0 col0\" >I</td>\n",
       "                        <td id=\"T_eb04e74a_ae25_11ea_8ee6_0242ac160003row0_col1\" class=\"data row0 col1\" >really</td>\n",
       "                        <td id=\"T_eb04e74a_ae25_11ea_8ee6_0242ac160003row0_col2\" class=\"data row0 col2\" >love</td>\n",
       "                        <td id=\"T_eb04e74a_ae25_11ea_8ee6_0242ac160003row0_col3\" class=\"data row0 col3\" >apples</td>\n",
       "                        <td id=\"T_eb04e74a_ae25_11ea_8ee6_0242ac160003row0_col4\" class=\"data row0 col4\" >and</td>\n",
       "                        <td id=\"T_eb04e74a_ae25_11ea_8ee6_0242ac160003row0_col5\" class=\"data row0 col5\" >oranges.</td>\n",
       "            </tr>\n",
       "            <tr>\n",
       "                        <th id=\"T_eb04e74a_ae25_11ea_8ee6_0242ac160003level0_row1\" class=\"row_heading level0 row1\" >Tags</th>\n",
       "                        <td id=\"T_eb04e74a_ae25_11ea_8ee6_0242ac160003row1_col0\" class=\"data row1 col0\" >O</td>\n",
       "                        <td id=\"T_eb04e74a_ae25_11ea_8ee6_0242ac160003row1_col1\" class=\"data row1 col1\" >O</td>\n",
       "                        <td id=\"T_eb04e74a_ae25_11ea_8ee6_0242ac160003row1_col2\" class=\"data row1 col2\" >O</td>\n",
       "                        <td id=\"T_eb04e74a_ae25_11ea_8ee6_0242ac160003row1_col3\" class=\"data row1 col3\" >O</td>\n",
       "                        <td id=\"T_eb04e74a_ae25_11ea_8ee6_0242ac160003row1_col4\" class=\"data row1 col4\" >O</td>\n",
       "                        <td id=\"T_eb04e74a_ae25_11ea_8ee6_0242ac160003row1_col5\" class=\"data row1 col5\" >O</td>\n",
       "            </tr>\n",
       "    </tbody></table>"
      ],
      "text/plain": [
       "<pandas.io.formats.style.Styler at 0x7fe57ffd0510>"
      ]
     },
     "metadata": {},
     "output_type": "display_data"
    }
   ],
   "source": [
    "predict_batch_text_tags([\"The programmers from Barcelona might write a sentence without a spell checker.\",\n",
    "\"The programmers from Barchelona cannot write a sentence without a spell checker.\",\n",
    "\"Jack London went to Parris.\",\n",
    "\"Jack London went to Paris.\",\n",
    "\"We never though Microsoft would become such a big company.\",\n",
    "\"We never though Microsof would become such a big company.\",\n",
    "\"The president of U.S.A though they could win the war\",\n",
    "\"The president of the United States of America though they could win the war\",\n",
    "\"The king of Saudi Arabia wanted total control.\",\n",
    "\"Robin does not want to go to Saudi Arabia.\",\n",
    "\"Apple is a great company.\",\n",
    "\"I really love apples and oranges.\"], nice_format=True)"
   ]
  },
  {
   "cell_type": "code",
   "execution_count": null,
   "metadata": {},
   "outputs": [],
   "source": []
  }
 ],
 "metadata": {
  "kernelspec": {
   "display_name": "Python 3",
   "language": "python",
   "name": "python3"
  },
  "language_info": {
   "codemirror_mode": {
    "name": "ipython",
    "version": 3
   },
   "file_extension": ".py",
   "mimetype": "text/x-python",
   "name": "python",
   "nbconvert_exporter": "python",
   "pygments_lexer": "ipython3",
   "version": "3.7.6"
  }
 },
 "nbformat": 4,
 "nbformat_minor": 4
}
