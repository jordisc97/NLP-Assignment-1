{
 "cells": [
  {
   "cell_type": "code",
   "execution_count": 18,
   "metadata": {
    "Collapsed": "false"
   },
   "outputs": [
    {
     "name": "stderr",
     "output_type": "stream",
     "text": [
      "[nltk_data] Downloading package averaged_perceptron_tagger to\n",
      "[nltk_data]     /root/nltk_data...\n",
      "[nltk_data]   Unzipping taggers/averaged_perceptron_tagger.zip.\n"
     ]
    }
   ],
   "source": [
    "import nltk\n",
    "# nltk.download('stopwords')\n",
    "# nltk.download('wordnet')\n",
    "# nltk.download('universal_tagset')\n",
    "# nltk.download('averaged_perceptron_tagger')\n",
    "\n",
    "from nltk.corpus import stopwords\n",
    "\n",
    "import pandas as pd\n",
    "import scipy\n",
    "from sklearn import *\n",
    "import re\n",
    "\n",
    "from SimpleCountVectorizer import *\n",
    "from SimpleCountVectorizerAMC import *\n",
    "\n",
    "from TFIDFVectorizer import *\n",
    "from utils import *\n",
    "\n",
    "from nltk.stem import WordNetLemmatizer, SnowballStemmer\n",
    "\n",
    "import xgboost as xgb"
   ]
  },
  {
   "cell_type": "markdown",
   "metadata": {
    "Collapsed": "false"
   },
   "source": [
    "# Count Vectorizer"
   ]
  },
  {
   "cell_type": "code",
   "execution_count": 19,
   "metadata": {
    "Collapsed": "false"
   },
   "outputs": [],
   "source": [
    "train_df = pd.read_csv(\"./data/quora_train_data.csv\")\n",
    "test_df = pd.read_csv('./data/quora_test_data.csv')"
   ]
  },
  {
   "cell_type": "code",
   "execution_count": 20,
   "metadata": {
    "Collapsed": "false"
   },
   "outputs": [
    {
     "data": {
      "text/plain": [
       "((323432, 6), (80858, 6))"
      ]
     },
     "execution_count": 20,
     "metadata": {},
     "output_type": "execute_result"
    }
   ],
   "source": [
    "train_df.shape, test_df.shape"
   ]
  },
  {
   "cell_type": "code",
   "execution_count": 21,
   "metadata": {
    "Collapsed": "false"
   },
   "outputs": [
    {
     "name": "stdout",
     "output_type": "stream",
     "text": [
      "{'str'}\n"
     ]
    }
   ],
   "source": [
    "all_questions = cast_list_as_strings(list(train_df.loc[:, 'question1'])+list(train_df.loc[:, 'question2']))\n",
    "print(set(type(x).__name__ for x in all_questions))"
   ]
  },
  {
   "cell_type": "markdown",
   "metadata": {
    "Collapsed": "false"
   },
   "source": [
    "### Document cleaner"
   ]
  },
  {
   "cell_type": "markdown",
   "metadata": {
    "Collapsed": "false"
   },
   "source": [
    "This function manages the cleaning of a document. After trying several things, we decided to simply filter by alphanumeric characters and replace the upper case with lower case."
   ]
  },
  {
   "cell_type": "code",
   "execution_count": 22,
   "metadata": {
    "Collapsed": "false"
   },
   "outputs": [],
   "source": [
    "def my_doc_cleaner(doc,\n",
    "                  pat=r\"[^a-zA-Z0-9]\"):\n",
    "    \"\"\"\n",
    "    Document cleaner. We allow alphanumeric characters.\n",
    "    \"\"\"\n",
    "    \n",
    "    # Allow alphanumeric characters\n",
    "    doc_cleaner_pattern=pat\n",
    "    clean_doc_pattern = re.compile(doc_cleaner_pattern)\n",
    "    doc_clean = clean_doc_pattern.sub(\" \", doc)\n",
    "    return doc.lower()"
   ]
  },
  {
   "cell_type": "markdown",
   "metadata": {
    "Collapsed": "false"
   },
   "source": [
    "### Tokenizer function"
   ]
  },
  {
   "cell_type": "markdown",
   "metadata": {
    "Collapsed": "false"
   },
   "source": [
    "The tokenization function is the most important function of our CountVectorizer. It is in charge of deciding which tokens will represent a document (or phrase). As we can see, multiple functionalities have been added, which we will detail below:\n",
    "\n",
    "* **Stopwords**: deactivated by default, it removes the most common English words. \n",
    "    This functionality made us reduce the evaluation metrics in that specific problem but it is a good functionality to take into account in future projects.\n",
    "\n",
    "\n",
    "* **Numbers to words**: allows to solve problems like:\n",
    "    * Q1: How much is 2+2?\n",
    "    * Q2: What is the sum of two plus two?\n",
    "    \n",
    "    In this case the numbers are converted to their string representation thanks to a function implemented in the utils library.\n",
    "\n",
    "\n",
    "* **Stemmer and Lemmatizer**: Two great allies of any text model, they serve to standardize the words by converting them to their root word, remove the 's' from the plurals...\n",
    "\n",
    "\n",
    "* **N-grams**: To improve prediction and not use only tokens, we have introduced tuples of tokens. As in sklearn, we can specify the size of the N-grams with a function parameter.\n",
    "\n",
    "* **N-tokens**: We added an extra field to indicate the number of tokens of that document. This feature helps to improve accuracy.\n",
    "\n",
    "* **Duplicate question words**: In order to enhance the type of the question, we duplicate the keyword.\n",
    "\n",
    "* **Duplicate verbs**: Verbs are extremely important in deciphering the underlying meaning of a sentence. Therefore, we attributed more importance to them via duplication. \n",
    "\n",
    "* **Duplicate nouns**: Nouns are extremely important in deciphering the underlying meaning of a sentence. Therefore, we attributed more importance to them via duplication.\n"
   ]
  },
  {
   "cell_type": "code",
   "execution_count": 23,
   "metadata": {
    "Collapsed": "false"
   },
   "outputs": [],
   "source": [
    "# stpw = set(stopwords.words(\"english\"))\n",
    "stpw = []\n",
    "question_words = ['who','what','when','where','why','how','which']\n",
    "stemmer =  SnowballStemmer(language='english')\n",
    "lemmatizer = WordNetLemmatizer()"
   ]
  },
  {
   "cell_type": "code",
   "execution_count": 24,
   "metadata": {
    "Collapsed": "false"
   },
   "outputs": [],
   "source": [
    "def my_tokenizer_func(doc, \n",
    "                      ngrams=(1,3), \n",
    "                      numbers_to_words=True,\n",
    "                      stop_words=stpw,\n",
    "                      duplicate_question_words=question_words,\n",
    "                      duplicate_verbs=False,\n",
    "                      duplicate_nouns=True,\n",
    "                      pat=r\"(?u)\\b\\w\\S*\\w*\\b\",\n",
    "                      lem=True,\n",
    "                      stem=True,\n",
    "                      add_num_tokens=True):\n",
    "    \n",
    "    # Split using a pattern\n",
    "    # Notice that the pattern has been changed and now it accepts a wider\n",
    "    # range of words. \n",
    "    \n",
    "    # Example: V2.3.4 (A version of a program) will be transformed into 'v2.3.4'\n",
    "    token_pattern = re.compile(pat)\n",
    "    lst = token_pattern.findall(doc)\n",
    "    \n",
    "    # Transform numbers into words\n",
    "    if numbers_to_words:\n",
    "        lst = list(map(lambda x: num_conv(x), lst))\n",
    "        \n",
    "    # Drop stopwords \n",
    "    lst = list(filter(lambda x : x not in stop_words, lst))\n",
    "    \n",
    "    # Duplicate key_words\n",
    "    if len(duplicate_question_words)>0:\n",
    "        lst += [value for value in lst if value.lower() in duplicate_question_words]\n",
    "    \n",
    "     # Duplicate verbs\n",
    "    if duplicate_verbs:\n",
    "        lst += [x[0] for x in nltk.pos_tag(lst,tagset='universal') if x[1] == 'VERB' and len(x[0]) > 1]\n",
    "        \n",
    "    # Duplicate nouns\n",
    "    if duplicate_nouns:\n",
    "        lst += [x[0] for x in nltk.pos_tag(lst,tagset='universal') if x[1] == 'NOUN' and len(x[0]) > 1]\n",
    "    \n",
    "    #Stemmer\n",
    "    if stem:\n",
    "        lst = list(map(lambda x: stemmer.stem(x), lst))\n",
    "    \n",
    "    #Lemmatizer \n",
    "    if lem:\n",
    "        lst = list(map(lambda x: lemmatizer.lemmatize(x), lst))\n",
    "    \n",
    "    # N-tokens\n",
    "    ntoks = []\n",
    "    if add_num_tokens:\n",
    "        ntoks = [num_conv(str(len(lst))) + '_tokens']\n",
    "    \n",
    "    if ngrams==(1,1):\n",
    "        return lst+ntoks\n",
    "    \n",
    "    # Generate ngrams\n",
    "    lstRet = []\n",
    "    for a in range(ngrams[0], ngrams[1]+1):\n",
    "        if a!=1:\n",
    "            lstRet+=list(zip(*[lst[i:] for i in range(a)]))\n",
    "    return lstRet+ntoks if ngrams[0]!=1 else lst+lstRet+ntoks"
   ]
  },
  {
   "cell_type": "markdown",
   "metadata": {
    "Collapsed": "false"
   },
   "source": [
    "### Fitting the improved SimpleCountVectorizer"
   ]
  },
  {
   "cell_type": "code",
   "execution_count": 25,
   "metadata": {
    "Collapsed": "false"
   },
   "outputs": [
    {
     "data": {
      "application/vnd.jupyter.widget-view+json": {
       "model_id": "0b4fd434e3af45c692768d73139d9dfb",
       "version_major": 2,
       "version_minor": 0
      },
      "text/plain": [
       "HBox(children=(IntProgress(value=0, max=646864), HTML(value='')))"
      ]
     },
     "metadata": {},
     "output_type": "display_data"
    },
    {
     "name": "stdout",
     "output_type": "stream",
     "text": [
      "\n"
     ]
    },
    {
     "data": {
      "text/plain": [
       "SimpleCountVectorizerAMC(doc_cleaner_func=<function my_doc_cleaner at 0x7efdfd2b66a8>,\n",
       "                         doc_cleaner_pattern='[^a-zA-Z]',\n",
       "                         dtype=<class 'numpy.float32'>, min_word_counts=1,\n",
       "                         token_pattern='(?u)\\\\b\\\\w\\\\w+\\\\b',\n",
       "                         tokenizer_func=<function my_tokenizer_func at 0x7efdfd2b67b8>,\n",
       "                         word_transformer_func=None)"
      ]
     },
     "execution_count": 25,
     "metadata": {},
     "output_type": "execute_result"
    }
   ],
   "source": [
    "count_vect = SimpleCountVectorizerAMC(\n",
    "    doc_cleaner_func=my_doc_cleaner,\n",
    "    tokenizer_func=my_tokenizer_func\n",
    ")\n",
    "count_vect.fit(all_questions)"
   ]
  },
  {
   "cell_type": "markdown",
   "metadata": {
    "Collapsed": "false"
   },
   "source": [
    "### Transforming the datasets into sparse matrices"
   ]
  },
  {
   "cell_type": "code",
   "execution_count": 26,
   "metadata": {
    "Collapsed": "false"
   },
   "outputs": [],
   "source": [
    "def get_features_from_df(df, vectorizer):\n",
    "    \"\"\"\n",
    "    returns a sparse matrix containing the features build by the count vectorizer.\n",
    "    Each row should contain features from question1 and question2.\n",
    "    \"\"\"\n",
    "    q1_casted =  cast_list_as_strings(list(df[\"question1\"]))\n",
    "    q2_casted =  cast_list_as_strings(list(df[\"question2\"]))\n",
    "    \n",
    "    q1 = vectorizer.transform(q1_casted)\n",
    "    q2 = vectorizer.transform(q2_casted)\n",
    "    \n",
    "    X_q1q2 = scipy.sparse.hstack((q1,q2))\n",
    "        \n",
    "    return X_q1q2"
   ]
  },
  {
   "cell_type": "code",
   "execution_count": 27,
   "metadata": {
    "Collapsed": "false"
   },
   "outputs": [
    {
     "name": "stdout",
     "output_type": "stream",
     "text": [
      "CPU times: user 10min 18s, sys: 4.81 s, total: 10min 23s\n",
      "Wall time: 10min 17s\n",
      "CPU times: user 2min 33s, sys: 924 ms, total: 2min 34s\n",
      "Wall time: 2min 32s\n"
     ]
    },
    {
     "data": {
      "text/plain": [
       "((323432, 9425768), (323432, 6), (80858, 6), (80858, 9425768))"
      ]
     },
     "execution_count": 27,
     "metadata": {},
     "output_type": "execute_result"
    }
   ],
   "source": [
    "%time X_tr_q1q2 = get_features_from_df(train_df,count_vect)\n",
    "%time X_te_q1q2  = get_features_from_df(test_df, count_vect)\n",
    "\n",
    "X_tr_q1q2.shape, train_df.shape, test_df.shape, X_te_q1q2.shape"
   ]
  },
  {
   "cell_type": "code",
   "execution_count": 28,
   "metadata": {
    "Collapsed": "false"
   },
   "outputs": [],
   "source": [
    "y_train = train_df[\"is_duplicate\"].values\n",
    "y_test = test_df['is_duplicate'].values"
   ]
  },
  {
   "cell_type": "markdown",
   "metadata": {
    "Collapsed": "false"
   },
   "source": [
    "## Trying with a simple model (Linear Regression)"
   ]
  },
  {
   "cell_type": "code",
   "execution_count": 29,
   "metadata": {
    "Collapsed": "false"
   },
   "outputs": [
    {
     "name": "stdout",
     "output_type": "stream",
     "text": [
      "[LibLinear]"
     ]
    },
    {
     "data": {
      "text/plain": [
       "LogisticRegression(C=1.0, class_weight=None, dual=False, fit_intercept=True,\n",
       "                   intercept_scaling=1, l1_ratio=None, max_iter=1000,\n",
       "                   multi_class='warn', n_jobs=None, penalty='l2',\n",
       "                   random_state=None, solver='liblinear', tol=0.0001, verbose=1,\n",
       "                   warm_start=False)"
      ]
     },
     "execution_count": 29,
     "metadata": {},
     "output_type": "execute_result"
    }
   ],
   "source": [
    "logistic = sklearn.linear_model.LogisticRegression(solver=\"liblinear\", verbose=1, max_iter=1000)\n",
    "logistic.fit(X_tr_q1q2, y_train)"
   ]
  },
  {
   "cell_type": "code",
   "execution_count": 30,
   "metadata": {
    "Collapsed": "false"
   },
   "outputs": [
    {
     "data": {
      "text/plain": [
       "(0.9990075193549185, 0.8131662915234115)"
      ]
     },
     "execution_count": 30,
     "metadata": {},
     "output_type": "execute_result"
    }
   ],
   "source": [
    "logistic.score(X_tr_q1q2, y_train), logistic.score(X_te_q1q2, y_test)"
   ]
  },
  {
   "cell_type": "markdown",
   "metadata": {
    "Collapsed": "false"
   },
   "source": [
    "### Save the model"
   ]
  },
  {
   "cell_type": "code",
   "execution_count": 31,
   "metadata": {
    "Collapsed": "false"
   },
   "outputs": [],
   "source": [
    "import pickle \n",
    "pickle.dump(logistic, open('models/model_lr_count.pkl', 'wb'))"
   ]
  },
  {
   "cell_type": "markdown",
   "metadata": {
    "Collapsed": "false"
   },
   "source": [
    "## Improving results (XGBoost)"
   ]
  },
  {
   "cell_type": "code",
   "execution_count": 32,
   "metadata": {
    "Collapsed": "false",
    "scrolled": true
   },
   "outputs": [
    {
     "name": "stdout",
     "output_type": "stream",
     "text": [
      "[0]\tvalidation_0-auc:0.67782\tvalidation_0-logloss:0.64980\tvalidation_1-auc:0.67809\tvalidation_1-logloss:0.65002\n",
      "Multiple eval metrics have been passed: 'validation_1-logloss' will be used for early stopping.\n",
      "\n",
      "Will train until validation_1-logloss hasn't improved in 10 rounds.\n",
      "[10]\tvalidation_0-auc:0.75658\tvalidation_0-logloss:0.56728\tvalidation_1-auc:0.75471\tvalidation_1-logloss:0.56883\n",
      "[20]\tvalidation_0-auc:0.78326\tvalidation_0-logloss:0.54510\tvalidation_1-auc:0.77918\tvalidation_1-logloss:0.54829\n",
      "[30]\tvalidation_0-auc:0.79960\tvalidation_0-logloss:0.52907\tvalidation_1-auc:0.79427\tvalidation_1-logloss:0.53340\n",
      "[40]\tvalidation_0-auc:0.80817\tvalidation_0-logloss:0.51977\tvalidation_1-auc:0.80184\tvalidation_1-logloss:0.52499\n",
      "[50]\tvalidation_0-auc:0.81515\tvalidation_0-logloss:0.51247\tvalidation_1-auc:0.80794\tvalidation_1-logloss:0.51846\n",
      "[60]\tvalidation_0-auc:0.82020\tvalidation_0-logloss:0.50659\tvalidation_1-auc:0.81192\tvalidation_1-logloss:0.51351\n",
      "[70]\tvalidation_0-auc:0.82610\tvalidation_0-logloss:0.49997\tvalidation_1-auc:0.81724\tvalidation_1-logloss:0.50758\n",
      "[80]\tvalidation_0-auc:0.82970\tvalidation_0-logloss:0.49559\tvalidation_1-auc:0.82006\tvalidation_1-logloss:0.50403\n",
      "[90]\tvalidation_0-auc:0.83311\tvalidation_0-logloss:0.49172\tvalidation_1-auc:0.82280\tvalidation_1-logloss:0.50083\n",
      "[100]\tvalidation_0-auc:0.83642\tvalidation_0-logloss:0.48790\tvalidation_1-auc:0.82491\tvalidation_1-logloss:0.49799\n",
      "[110]\tvalidation_0-auc:0.83917\tvalidation_0-logloss:0.48405\tvalidation_1-auc:0.82723\tvalidation_1-logloss:0.49479\n",
      "[120]\tvalidation_0-auc:0.84291\tvalidation_0-logloss:0.47890\tvalidation_1-auc:0.83058\tvalidation_1-logloss:0.49030\n",
      "[130]\tvalidation_0-auc:0.84547\tvalidation_0-logloss:0.47616\tvalidation_1-auc:0.83261\tvalidation_1-logloss:0.48813\n",
      "[140]\tvalidation_0-auc:0.84791\tvalidation_0-logloss:0.47335\tvalidation_1-auc:0.83438\tvalidation_1-logloss:0.48603\n",
      "[150]\tvalidation_0-auc:0.84993\tvalidation_0-logloss:0.47081\tvalidation_1-auc:0.83569\tvalidation_1-logloss:0.48423\n",
      "[160]\tvalidation_0-auc:0.85163\tvalidation_0-logloss:0.46864\tvalidation_1-auc:0.83703\tvalidation_1-logloss:0.48248\n",
      "[170]\tvalidation_0-auc:0.85379\tvalidation_0-logloss:0.46608\tvalidation_1-auc:0.83854\tvalidation_1-logloss:0.48070\n",
      "[180]\tvalidation_0-auc:0.85553\tvalidation_0-logloss:0.46381\tvalidation_1-auc:0.83961\tvalidation_1-logloss:0.47915\n",
      "[190]\tvalidation_0-auc:0.85810\tvalidation_0-logloss:0.46071\tvalidation_1-auc:0.84147\tvalidation_1-logloss:0.47685\n",
      "[200]\tvalidation_0-auc:0.85974\tvalidation_0-logloss:0.45800\tvalidation_1-auc:0.84276\tvalidation_1-logloss:0.47471\n",
      "[210]\tvalidation_0-auc:0.86193\tvalidation_0-logloss:0.45527\tvalidation_1-auc:0.84450\tvalidation_1-logloss:0.47259\n",
      "[220]\tvalidation_0-auc:0.86340\tvalidation_0-logloss:0.45341\tvalidation_1-auc:0.84536\tvalidation_1-logloss:0.47141\n",
      "[230]\tvalidation_0-auc:0.86533\tvalidation_0-logloss:0.45094\tvalidation_1-auc:0.84674\tvalidation_1-logloss:0.46959\n",
      "[240]\tvalidation_0-auc:0.86677\tvalidation_0-logloss:0.44937\tvalidation_1-auc:0.84769\tvalidation_1-logloss:0.46854\n",
      "[250]\tvalidation_0-auc:0.86781\tvalidation_0-logloss:0.44800\tvalidation_1-auc:0.84828\tvalidation_1-logloss:0.46770\n",
      "[260]\tvalidation_0-auc:0.86895\tvalidation_0-logloss:0.44652\tvalidation_1-auc:0.84906\tvalidation_1-logloss:0.46669\n",
      "[270]\tvalidation_0-auc:0.87004\tvalidation_0-logloss:0.44512\tvalidation_1-auc:0.84962\tvalidation_1-logloss:0.46587\n",
      "[280]\tvalidation_0-auc:0.87174\tvalidation_0-logloss:0.44308\tvalidation_1-auc:0.85062\tvalidation_1-logloss:0.46457\n",
      "[290]\tvalidation_0-auc:0.87288\tvalidation_0-logloss:0.44157\tvalidation_1-auc:0.85137\tvalidation_1-logloss:0.46351\n",
      "[300]\tvalidation_0-auc:0.87368\tvalidation_0-logloss:0.44045\tvalidation_1-auc:0.85187\tvalidation_1-logloss:0.46280\n",
      "[310]\tvalidation_0-auc:0.87477\tvalidation_0-logloss:0.43910\tvalidation_1-auc:0.85256\tvalidation_1-logloss:0.46189\n",
      "[320]\tvalidation_0-auc:0.87574\tvalidation_0-logloss:0.43783\tvalidation_1-auc:0.85316\tvalidation_1-logloss:0.46105\n",
      "[330]\tvalidation_0-auc:0.87680\tvalidation_0-logloss:0.43637\tvalidation_1-auc:0.85384\tvalidation_1-logloss:0.46009\n",
      "[340]\tvalidation_0-auc:0.87798\tvalidation_0-logloss:0.43483\tvalidation_1-auc:0.85458\tvalidation_1-logloss:0.45908\n",
      "[350]\tvalidation_0-auc:0.87931\tvalidation_0-logloss:0.43305\tvalidation_1-auc:0.85537\tvalidation_1-logloss:0.45793\n",
      "[360]\tvalidation_0-auc:0.88024\tvalidation_0-logloss:0.43190\tvalidation_1-auc:0.85579\tvalidation_1-logloss:0.45730\n",
      "[370]\tvalidation_0-auc:0.88107\tvalidation_0-logloss:0.43085\tvalidation_1-auc:0.85635\tvalidation_1-logloss:0.45661\n",
      "[380]\tvalidation_0-auc:0.88211\tvalidation_0-logloss:0.42955\tvalidation_1-auc:0.85693\tvalidation_1-logloss:0.45582\n",
      "[390]\tvalidation_0-auc:0.88306\tvalidation_0-logloss:0.42806\tvalidation_1-auc:0.85760\tvalidation_1-logloss:0.45477\n",
      "[400]\tvalidation_0-auc:0.88380\tvalidation_0-logloss:0.42715\tvalidation_1-auc:0.85807\tvalidation_1-logloss:0.45419\n",
      "[410]\tvalidation_0-auc:0.88521\tvalidation_0-logloss:0.42527\tvalidation_1-auc:0.85891\tvalidation_1-logloss:0.45297\n",
      "[420]\tvalidation_0-auc:0.88605\tvalidation_0-logloss:0.42417\tvalidation_1-auc:0.85940\tvalidation_1-logloss:0.45230\n",
      "[430]\tvalidation_0-auc:0.88701\tvalidation_0-logloss:0.42286\tvalidation_1-auc:0.85999\tvalidation_1-logloss:0.45147\n",
      "[440]\tvalidation_0-auc:0.88810\tvalidation_0-logloss:0.42143\tvalidation_1-auc:0.86054\tvalidation_1-logloss:0.45067\n",
      "[450]\tvalidation_0-auc:0.88884\tvalidation_0-logloss:0.42047\tvalidation_1-auc:0.86096\tvalidation_1-logloss:0.45009\n",
      "[460]\tvalidation_0-auc:0.88956\tvalidation_0-logloss:0.41955\tvalidation_1-auc:0.86135\tvalidation_1-logloss:0.44960\n",
      "[470]\tvalidation_0-auc:0.89035\tvalidation_0-logloss:0.41826\tvalidation_1-auc:0.86181\tvalidation_1-logloss:0.44884\n",
      "[480]\tvalidation_0-auc:0.89099\tvalidation_0-logloss:0.41740\tvalidation_1-auc:0.86226\tvalidation_1-logloss:0.44830\n",
      "[490]\tvalidation_0-auc:0.89168\tvalidation_0-logloss:0.41650\tvalidation_1-auc:0.86250\tvalidation_1-logloss:0.44795\n",
      "[500]\tvalidation_0-auc:0.89225\tvalidation_0-logloss:0.41575\tvalidation_1-auc:0.86269\tvalidation_1-logloss:0.44766\n",
      "[510]\tvalidation_0-auc:0.89288\tvalidation_0-logloss:0.41497\tvalidation_1-auc:0.86292\tvalidation_1-logloss:0.44734\n",
      "[520]\tvalidation_0-auc:0.89338\tvalidation_0-logloss:0.41433\tvalidation_1-auc:0.86312\tvalidation_1-logloss:0.44704\n",
      "[530]\tvalidation_0-auc:0.89389\tvalidation_0-logloss:0.41365\tvalidation_1-auc:0.86334\tvalidation_1-logloss:0.44669\n",
      "[540]\tvalidation_0-auc:0.89456\tvalidation_0-logloss:0.41260\tvalidation_1-auc:0.86376\tvalidation_1-logloss:0.44604\n",
      "[550]\tvalidation_0-auc:0.89521\tvalidation_0-logloss:0.41175\tvalidation_1-auc:0.86406\tvalidation_1-logloss:0.44565\n",
      "[560]\tvalidation_0-auc:0.89589\tvalidation_0-logloss:0.41083\tvalidation_1-auc:0.86444\tvalidation_1-logloss:0.44511\n",
      "[570]\tvalidation_0-auc:0.89636\tvalidation_0-logloss:0.41014\tvalidation_1-auc:0.86473\tvalidation_1-logloss:0.44467\n",
      "[580]\tvalidation_0-auc:0.89694\tvalidation_0-logloss:0.40924\tvalidation_1-auc:0.86509\tvalidation_1-logloss:0.44411\n",
      "[590]\tvalidation_0-auc:0.89772\tvalidation_0-logloss:0.40807\tvalidation_1-auc:0.86555\tvalidation_1-logloss:0.44339\n",
      "[600]\tvalidation_0-auc:0.89828\tvalidation_0-logloss:0.40737\tvalidation_1-auc:0.86582\tvalidation_1-logloss:0.44306\n",
      "[610]\tvalidation_0-auc:0.89894\tvalidation_0-logloss:0.40648\tvalidation_1-auc:0.86628\tvalidation_1-logloss:0.44248\n",
      "[620]\tvalidation_0-auc:0.89956\tvalidation_0-logloss:0.40562\tvalidation_1-auc:0.86655\tvalidation_1-logloss:0.44209\n",
      "[630]\tvalidation_0-auc:0.90035\tvalidation_0-logloss:0.40413\tvalidation_1-auc:0.86707\tvalidation_1-logloss:0.44113\n",
      "[640]\tvalidation_0-auc:0.90125\tvalidation_0-logloss:0.40257\tvalidation_1-auc:0.86775\tvalidation_1-logloss:0.44005\n",
      "[650]\tvalidation_0-auc:0.90177\tvalidation_0-logloss:0.40184\tvalidation_1-auc:0.86801\tvalidation_1-logloss:0.43967\n",
      "[660]\tvalidation_0-auc:0.90218\tvalidation_0-logloss:0.40119\tvalidation_1-auc:0.86824\tvalidation_1-logloss:0.43928\n",
      "[670]\tvalidation_0-auc:0.90271\tvalidation_0-logloss:0.40042\tvalidation_1-auc:0.86852\tvalidation_1-logloss:0.43889\n",
      "[680]\tvalidation_0-auc:0.90326\tvalidation_0-logloss:0.39968\tvalidation_1-auc:0.86882\tvalidation_1-logloss:0.43849\n",
      "[690]\tvalidation_0-auc:0.90391\tvalidation_0-logloss:0.39863\tvalidation_1-auc:0.86917\tvalidation_1-logloss:0.43790\n",
      "[700]\tvalidation_0-auc:0.90449\tvalidation_0-logloss:0.39787\tvalidation_1-auc:0.86940\tvalidation_1-logloss:0.43759\n"
     ]
    },
    {
     "name": "stdout",
     "output_type": "stream",
     "text": [
      "[710]\tvalidation_0-auc:0.90493\tvalidation_0-logloss:0.39721\tvalidation_1-auc:0.86958\tvalidation_1-logloss:0.43729\n",
      "[720]\tvalidation_0-auc:0.90546\tvalidation_0-logloss:0.39645\tvalidation_1-auc:0.86976\tvalidation_1-logloss:0.43698\n",
      "[730]\tvalidation_0-auc:0.90591\tvalidation_0-logloss:0.39583\tvalidation_1-auc:0.86989\tvalidation_1-logloss:0.43675\n",
      "[740]\tvalidation_0-auc:0.90633\tvalidation_0-logloss:0.39524\tvalidation_1-auc:0.87007\tvalidation_1-logloss:0.43648\n",
      "[750]\tvalidation_0-auc:0.90677\tvalidation_0-logloss:0.39452\tvalidation_1-auc:0.87036\tvalidation_1-logloss:0.43602\n",
      "[760]\tvalidation_0-auc:0.90715\tvalidation_0-logloss:0.39391\tvalidation_1-auc:0.87053\tvalidation_1-logloss:0.43571\n",
      "[770]\tvalidation_0-auc:0.90761\tvalidation_0-logloss:0.39323\tvalidation_1-auc:0.87074\tvalidation_1-logloss:0.43536\n",
      "[780]\tvalidation_0-auc:0.90799\tvalidation_0-logloss:0.39270\tvalidation_1-auc:0.87096\tvalidation_1-logloss:0.43507\n",
      "[790]\tvalidation_0-auc:0.90847\tvalidation_0-logloss:0.39200\tvalidation_1-auc:0.87121\tvalidation_1-logloss:0.43470\n",
      "[800]\tvalidation_0-auc:0.90893\tvalidation_0-logloss:0.39138\tvalidation_1-auc:0.87149\tvalidation_1-logloss:0.43434\n",
      "[810]\tvalidation_0-auc:0.90935\tvalidation_0-logloss:0.39077\tvalidation_1-auc:0.87158\tvalidation_1-logloss:0.43416\n",
      "[820]\tvalidation_0-auc:0.90975\tvalidation_0-logloss:0.39017\tvalidation_1-auc:0.87174\tvalidation_1-logloss:0.43389\n",
      "[830]\tvalidation_0-auc:0.91009\tvalidation_0-logloss:0.38966\tvalidation_1-auc:0.87179\tvalidation_1-logloss:0.43377\n",
      "[840]\tvalidation_0-auc:0.91057\tvalidation_0-logloss:0.38895\tvalidation_1-auc:0.87196\tvalidation_1-logloss:0.43349\n",
      "[850]\tvalidation_0-auc:0.91095\tvalidation_0-logloss:0.38838\tvalidation_1-auc:0.87210\tvalidation_1-logloss:0.43323\n",
      "[860]\tvalidation_0-auc:0.91132\tvalidation_0-logloss:0.38786\tvalidation_1-auc:0.87221\tvalidation_1-logloss:0.43304\n",
      "[870]\tvalidation_0-auc:0.91172\tvalidation_0-logloss:0.38728\tvalidation_1-auc:0.87235\tvalidation_1-logloss:0.43279\n",
      "[880]\tvalidation_0-auc:0.91207\tvalidation_0-logloss:0.38672\tvalidation_1-auc:0.87250\tvalidation_1-logloss:0.43254\n",
      "[890]\tvalidation_0-auc:0.91246\tvalidation_0-logloss:0.38615\tvalidation_1-auc:0.87267\tvalidation_1-logloss:0.43229\n",
      "[900]\tvalidation_0-auc:0.91278\tvalidation_0-logloss:0.38562\tvalidation_1-auc:0.87277\tvalidation_1-logloss:0.43207\n",
      "[910]\tvalidation_0-auc:0.91317\tvalidation_0-logloss:0.38502\tvalidation_1-auc:0.87294\tvalidation_1-logloss:0.43179\n",
      "[920]\tvalidation_0-auc:0.91367\tvalidation_0-logloss:0.38424\tvalidation_1-auc:0.87321\tvalidation_1-logloss:0.43135\n",
      "[930]\tvalidation_0-auc:0.91404\tvalidation_0-logloss:0.38368\tvalidation_1-auc:0.87337\tvalidation_1-logloss:0.43107\n",
      "[940]\tvalidation_0-auc:0.91446\tvalidation_0-logloss:0.38312\tvalidation_1-auc:0.87353\tvalidation_1-logloss:0.43083\n",
      "[950]\tvalidation_0-auc:0.91490\tvalidation_0-logloss:0.38246\tvalidation_1-auc:0.87375\tvalidation_1-logloss:0.43051\n",
      "[960]\tvalidation_0-auc:0.91532\tvalidation_0-logloss:0.38186\tvalidation_1-auc:0.87388\tvalidation_1-logloss:0.43028\n",
      "[970]\tvalidation_0-auc:0.91562\tvalidation_0-logloss:0.38133\tvalidation_1-auc:0.87404\tvalidation_1-logloss:0.43004\n",
      "[980]\tvalidation_0-auc:0.91601\tvalidation_0-logloss:0.38079\tvalidation_1-auc:0.87415\tvalidation_1-logloss:0.42988\n",
      "[990]\tvalidation_0-auc:0.91641\tvalidation_0-logloss:0.38014\tvalidation_1-auc:0.87434\tvalidation_1-logloss:0.42956\n",
      "[1000]\tvalidation_0-auc:0.91673\tvalidation_0-logloss:0.37966\tvalidation_1-auc:0.87448\tvalidation_1-logloss:0.42933\n",
      "[1010]\tvalidation_0-auc:0.91713\tvalidation_0-logloss:0.37904\tvalidation_1-auc:0.87464\tvalidation_1-logloss:0.42906\n",
      "[1020]\tvalidation_0-auc:0.91752\tvalidation_0-logloss:0.37839\tvalidation_1-auc:0.87488\tvalidation_1-logloss:0.42865\n",
      "[1030]\tvalidation_0-auc:0.91786\tvalidation_0-logloss:0.37790\tvalidation_1-auc:0.87504\tvalidation_1-logloss:0.42845\n",
      "[1040]\tvalidation_0-auc:0.91815\tvalidation_0-logloss:0.37742\tvalidation_1-auc:0.87511\tvalidation_1-logloss:0.42830\n",
      "[1050]\tvalidation_0-auc:0.91850\tvalidation_0-logloss:0.37683\tvalidation_1-auc:0.87526\tvalidation_1-logloss:0.42805\n",
      "[1060]\tvalidation_0-auc:0.91885\tvalidation_0-logloss:0.37634\tvalidation_1-auc:0.87535\tvalidation_1-logloss:0.42787\n",
      "[1070]\tvalidation_0-auc:0.91915\tvalidation_0-logloss:0.37592\tvalidation_1-auc:0.87543\tvalidation_1-logloss:0.42776\n",
      "[1080]\tvalidation_0-auc:0.91945\tvalidation_0-logloss:0.37541\tvalidation_1-auc:0.87553\tvalidation_1-logloss:0.42760\n",
      "[1090]\tvalidation_0-auc:0.91977\tvalidation_0-logloss:0.37487\tvalidation_1-auc:0.87567\tvalidation_1-logloss:0.42737\n",
      "[1100]\tvalidation_0-auc:0.92004\tvalidation_0-logloss:0.37446\tvalidation_1-auc:0.87576\tvalidation_1-logloss:0.42720\n",
      "[1110]\tvalidation_0-auc:0.92036\tvalidation_0-logloss:0.37387\tvalidation_1-auc:0.87593\tvalidation_1-logloss:0.42688\n",
      "[1120]\tvalidation_0-auc:0.92071\tvalidation_0-logloss:0.37335\tvalidation_1-auc:0.87609\tvalidation_1-logloss:0.42664\n",
      "[1130]\tvalidation_0-auc:0.92107\tvalidation_0-logloss:0.37282\tvalidation_1-auc:0.87625\tvalidation_1-logloss:0.42642\n",
      "[1140]\tvalidation_0-auc:0.92141\tvalidation_0-logloss:0.37225\tvalidation_1-auc:0.87644\tvalidation_1-logloss:0.42609\n",
      "[1150]\tvalidation_0-auc:0.92178\tvalidation_0-logloss:0.37166\tvalidation_1-auc:0.87657\tvalidation_1-logloss:0.42586\n",
      "[1160]\tvalidation_0-auc:0.92218\tvalidation_0-logloss:0.37098\tvalidation_1-auc:0.87678\tvalidation_1-logloss:0.42552\n",
      "[1170]\tvalidation_0-auc:0.92250\tvalidation_0-logloss:0.37053\tvalidation_1-auc:0.87688\tvalidation_1-logloss:0.42535\n",
      "[1180]\tvalidation_0-auc:0.92277\tvalidation_0-logloss:0.37009\tvalidation_1-auc:0.87698\tvalidation_1-logloss:0.42518\n",
      "[1190]\tvalidation_0-auc:0.92306\tvalidation_0-logloss:0.36966\tvalidation_1-auc:0.87711\tvalidation_1-logloss:0.42498\n",
      "[1200]\tvalidation_0-auc:0.92355\tvalidation_0-logloss:0.36886\tvalidation_1-auc:0.87742\tvalidation_1-logloss:0.42449\n",
      "[1210]\tvalidation_0-auc:0.92385\tvalidation_0-logloss:0.36840\tvalidation_1-auc:0.87753\tvalidation_1-logloss:0.42432\n",
      "[1220]\tvalidation_0-auc:0.92408\tvalidation_0-logloss:0.36804\tvalidation_1-auc:0.87764\tvalidation_1-logloss:0.42415\n",
      "[1230]\tvalidation_0-auc:0.92436\tvalidation_0-logloss:0.36761\tvalidation_1-auc:0.87777\tvalidation_1-logloss:0.42397\n",
      "[1240]\tvalidation_0-auc:0.92462\tvalidation_0-logloss:0.36719\tvalidation_1-auc:0.87786\tvalidation_1-logloss:0.42382\n",
      "[1250]\tvalidation_0-auc:0.92488\tvalidation_0-logloss:0.36677\tvalidation_1-auc:0.87796\tvalidation_1-logloss:0.42363\n",
      "[1260]\tvalidation_0-auc:0.92515\tvalidation_0-logloss:0.36635\tvalidation_1-auc:0.87799\tvalidation_1-logloss:0.42353\n",
      "[1270]\tvalidation_0-auc:0.92541\tvalidation_0-logloss:0.36594\tvalidation_1-auc:0.87807\tvalidation_1-logloss:0.42338\n",
      "[1280]\tvalidation_0-auc:0.92577\tvalidation_0-logloss:0.36541\tvalidation_1-auc:0.87819\tvalidation_1-logloss:0.42317\n",
      "[1290]\tvalidation_0-auc:0.92598\tvalidation_0-logloss:0.36507\tvalidation_1-auc:0.87827\tvalidation_1-logloss:0.42304\n",
      "[1300]\tvalidation_0-auc:0.92624\tvalidation_0-logloss:0.36457\tvalidation_1-auc:0.87840\tvalidation_1-logloss:0.42283\n",
      "[1310]\tvalidation_0-auc:0.92651\tvalidation_0-logloss:0.36413\tvalidation_1-auc:0.87855\tvalidation_1-logloss:0.42259\n",
      "[1320]\tvalidation_0-auc:0.92680\tvalidation_0-logloss:0.36364\tvalidation_1-auc:0.87862\tvalidation_1-logloss:0.42244\n",
      "[1330]\tvalidation_0-auc:0.92704\tvalidation_0-logloss:0.36321\tvalidation_1-auc:0.87864\tvalidation_1-logloss:0.42233\n",
      "[1340]\tvalidation_0-auc:0.92725\tvalidation_0-logloss:0.36287\tvalidation_1-auc:0.87875\tvalidation_1-logloss:0.42215\n",
      "[1350]\tvalidation_0-auc:0.92763\tvalidation_0-logloss:0.36227\tvalidation_1-auc:0.87888\tvalidation_1-logloss:0.42192\n",
      "[1360]\tvalidation_0-auc:0.92788\tvalidation_0-logloss:0.36185\tvalidation_1-auc:0.87901\tvalidation_1-logloss:0.42170\n",
      "[1370]\tvalidation_0-auc:0.92829\tvalidation_0-logloss:0.36087\tvalidation_1-auc:0.87937\tvalidation_1-logloss:0.42106\n",
      "[1380]\tvalidation_0-auc:0.92856\tvalidation_0-logloss:0.36046\tvalidation_1-auc:0.87940\tvalidation_1-logloss:0.42098\n",
      "[1390]\tvalidation_0-auc:0.92880\tvalidation_0-logloss:0.36007\tvalidation_1-auc:0.87951\tvalidation_1-logloss:0.42081\n",
      "[1400]\tvalidation_0-auc:0.92912\tvalidation_0-logloss:0.35960\tvalidation_1-auc:0.87968\tvalidation_1-logloss:0.42057\n",
      "[1410]\tvalidation_0-auc:0.92939\tvalidation_0-logloss:0.35913\tvalidation_1-auc:0.87979\tvalidation_1-logloss:0.42036\n",
      "[1420]\tvalidation_0-auc:0.92959\tvalidation_0-logloss:0.35878\tvalidation_1-auc:0.87992\tvalidation_1-logloss:0.42017\n"
     ]
    },
    {
     "name": "stdout",
     "output_type": "stream",
     "text": [
      "[1430]\tvalidation_0-auc:0.92978\tvalidation_0-logloss:0.35847\tvalidation_1-auc:0.87997\tvalidation_1-logloss:0.42008\n",
      "[1440]\tvalidation_0-auc:0.93000\tvalidation_0-logloss:0.35810\tvalidation_1-auc:0.88006\tvalidation_1-logloss:0.41993\n",
      "[1450]\tvalidation_0-auc:0.93021\tvalidation_0-logloss:0.35773\tvalidation_1-auc:0.88013\tvalidation_1-logloss:0.41982\n",
      "[1460]\tvalidation_0-auc:0.93041\tvalidation_0-logloss:0.35744\tvalidation_1-auc:0.88021\tvalidation_1-logloss:0.41972\n",
      "[1470]\tvalidation_0-auc:0.93067\tvalidation_0-logloss:0.35704\tvalidation_1-auc:0.88030\tvalidation_1-logloss:0.41957\n",
      "[1480]\tvalidation_0-auc:0.93084\tvalidation_0-logloss:0.35673\tvalidation_1-auc:0.88038\tvalidation_1-logloss:0.41944\n",
      "[1490]\tvalidation_0-auc:0.93105\tvalidation_0-logloss:0.35639\tvalidation_1-auc:0.88045\tvalidation_1-logloss:0.41934\n",
      "[1500]\tvalidation_0-auc:0.93132\tvalidation_0-logloss:0.35591\tvalidation_1-auc:0.88052\tvalidation_1-logloss:0.41918\n",
      "[1510]\tvalidation_0-auc:0.93152\tvalidation_0-logloss:0.35558\tvalidation_1-auc:0.88059\tvalidation_1-logloss:0.41904\n",
      "[1520]\tvalidation_0-auc:0.93173\tvalidation_0-logloss:0.35521\tvalidation_1-auc:0.88065\tvalidation_1-logloss:0.41891\n",
      "[1530]\tvalidation_0-auc:0.93205\tvalidation_0-logloss:0.35465\tvalidation_1-auc:0.88078\tvalidation_1-logloss:0.41870\n",
      "[1540]\tvalidation_0-auc:0.93224\tvalidation_0-logloss:0.35431\tvalidation_1-auc:0.88083\tvalidation_1-logloss:0.41858\n",
      "[1550]\tvalidation_0-auc:0.93246\tvalidation_0-logloss:0.35396\tvalidation_1-auc:0.88085\tvalidation_1-logloss:0.41852\n",
      "[1560]\tvalidation_0-auc:0.93267\tvalidation_0-logloss:0.35359\tvalidation_1-auc:0.88095\tvalidation_1-logloss:0.41835\n",
      "[1570]\tvalidation_0-auc:0.93287\tvalidation_0-logloss:0.35313\tvalidation_1-auc:0.88105\tvalidation_1-logloss:0.41812\n",
      "[1580]\tvalidation_0-auc:0.93313\tvalidation_0-logloss:0.35273\tvalidation_1-auc:0.88116\tvalidation_1-logloss:0.41795\n",
      "[1590]\tvalidation_0-auc:0.93334\tvalidation_0-logloss:0.35237\tvalidation_1-auc:0.88126\tvalidation_1-logloss:0.41779\n",
      "[1600]\tvalidation_0-auc:0.93354\tvalidation_0-logloss:0.35202\tvalidation_1-auc:0.88129\tvalidation_1-logloss:0.41770\n",
      "[1610]\tvalidation_0-auc:0.93371\tvalidation_0-logloss:0.35169\tvalidation_1-auc:0.88132\tvalidation_1-logloss:0.41763\n",
      "[1620]\tvalidation_0-auc:0.93391\tvalidation_0-logloss:0.35130\tvalidation_1-auc:0.88144\tvalidation_1-logloss:0.41743\n",
      "[1630]\tvalidation_0-auc:0.93412\tvalidation_0-logloss:0.35096\tvalidation_1-auc:0.88156\tvalidation_1-logloss:0.41725\n",
      "[1640]\tvalidation_0-auc:0.93430\tvalidation_0-logloss:0.35064\tvalidation_1-auc:0.88160\tvalidation_1-logloss:0.41715\n",
      "[1650]\tvalidation_0-auc:0.93452\tvalidation_0-logloss:0.35029\tvalidation_1-auc:0.88167\tvalidation_1-logloss:0.41705\n",
      "[1660]\tvalidation_0-auc:0.93472\tvalidation_0-logloss:0.34997\tvalidation_1-auc:0.88176\tvalidation_1-logloss:0.41692\n",
      "[1670]\tvalidation_0-auc:0.93491\tvalidation_0-logloss:0.34965\tvalidation_1-auc:0.88181\tvalidation_1-logloss:0.41682\n",
      "[1680]\tvalidation_0-auc:0.93527\tvalidation_0-logloss:0.34893\tvalidation_1-auc:0.88206\tvalidation_1-logloss:0.41639\n",
      "[1690]\tvalidation_0-auc:0.93547\tvalidation_0-logloss:0.34860\tvalidation_1-auc:0.88212\tvalidation_1-logloss:0.41628\n",
      "[1700]\tvalidation_0-auc:0.93562\tvalidation_0-logloss:0.34831\tvalidation_1-auc:0.88218\tvalidation_1-logloss:0.41615\n",
      "[1710]\tvalidation_0-auc:0.93581\tvalidation_0-logloss:0.34799\tvalidation_1-auc:0.88221\tvalidation_1-logloss:0.41609\n",
      "[1720]\tvalidation_0-auc:0.93603\tvalidation_0-logloss:0.34760\tvalidation_1-auc:0.88229\tvalidation_1-logloss:0.41594\n",
      "[1730]\tvalidation_0-auc:0.93623\tvalidation_0-logloss:0.34725\tvalidation_1-auc:0.88234\tvalidation_1-logloss:0.41583\n",
      "[1740]\tvalidation_0-auc:0.93652\tvalidation_0-logloss:0.34677\tvalidation_1-auc:0.88248\tvalidation_1-logloss:0.41559\n",
      "[1750]\tvalidation_0-auc:0.93669\tvalidation_0-logloss:0.34647\tvalidation_1-auc:0.88257\tvalidation_1-logloss:0.41546\n",
      "[1760]\tvalidation_0-auc:0.93685\tvalidation_0-logloss:0.34619\tvalidation_1-auc:0.88258\tvalidation_1-logloss:0.41540\n",
      "[1770]\tvalidation_0-auc:0.93701\tvalidation_0-logloss:0.34584\tvalidation_1-auc:0.88266\tvalidation_1-logloss:0.41524\n",
      "[1780]\tvalidation_0-auc:0.93720\tvalidation_0-logloss:0.34549\tvalidation_1-auc:0.88273\tvalidation_1-logloss:0.41512\n",
      "[1790]\tvalidation_0-auc:0.93737\tvalidation_0-logloss:0.34518\tvalidation_1-auc:0.88277\tvalidation_1-logloss:0.41502\n",
      "[1800]\tvalidation_0-auc:0.93762\tvalidation_0-logloss:0.34474\tvalidation_1-auc:0.88282\tvalidation_1-logloss:0.41490\n",
      "[1810]\tvalidation_0-auc:0.93778\tvalidation_0-logloss:0.34448\tvalidation_1-auc:0.88287\tvalidation_1-logloss:0.41482\n",
      "[1820]\tvalidation_0-auc:0.93793\tvalidation_0-logloss:0.34421\tvalidation_1-auc:0.88292\tvalidation_1-logloss:0.41473\n",
      "[1830]\tvalidation_0-auc:0.93807\tvalidation_0-logloss:0.34396\tvalidation_1-auc:0.88299\tvalidation_1-logloss:0.41460\n",
      "[1840]\tvalidation_0-auc:0.93826\tvalidation_0-logloss:0.34363\tvalidation_1-auc:0.88302\tvalidation_1-logloss:0.41454\n",
      "[1850]\tvalidation_0-auc:0.93843\tvalidation_0-logloss:0.34331\tvalidation_1-auc:0.88301\tvalidation_1-logloss:0.41449\n",
      "[1860]\tvalidation_0-auc:0.93866\tvalidation_0-logloss:0.34286\tvalidation_1-auc:0.88314\tvalidation_1-logloss:0.41426\n",
      "[1870]\tvalidation_0-auc:0.93886\tvalidation_0-logloss:0.34205\tvalidation_1-auc:0.88333\tvalidation_1-logloss:0.41381\n",
      "[1880]\tvalidation_0-auc:0.93902\tvalidation_0-logloss:0.34177\tvalidation_1-auc:0.88337\tvalidation_1-logloss:0.41374\n",
      "[1890]\tvalidation_0-auc:0.93924\tvalidation_0-logloss:0.34140\tvalidation_1-auc:0.88347\tvalidation_1-logloss:0.41358\n",
      "[1900]\tvalidation_0-auc:0.93940\tvalidation_0-logloss:0.34112\tvalidation_1-auc:0.88353\tvalidation_1-logloss:0.41347\n",
      "[1910]\tvalidation_0-auc:0.93960\tvalidation_0-logloss:0.34076\tvalidation_1-auc:0.88359\tvalidation_1-logloss:0.41336\n",
      "[1920]\tvalidation_0-auc:0.93977\tvalidation_0-logloss:0.34037\tvalidation_1-auc:0.88365\tvalidation_1-logloss:0.41321\n",
      "[1930]\tvalidation_0-auc:0.93993\tvalidation_0-logloss:0.34008\tvalidation_1-auc:0.88370\tvalidation_1-logloss:0.41311\n",
      "[1940]\tvalidation_0-auc:0.94010\tvalidation_0-logloss:0.33979\tvalidation_1-auc:0.88379\tvalidation_1-logloss:0.41297\n",
      "[1950]\tvalidation_0-auc:0.94035\tvalidation_0-logloss:0.33934\tvalidation_1-auc:0.88387\tvalidation_1-logloss:0.41280\n",
      "[1960]\tvalidation_0-auc:0.94051\tvalidation_0-logloss:0.33905\tvalidation_1-auc:0.88393\tvalidation_1-logloss:0.41269\n",
      "[1970]\tvalidation_0-auc:0.94065\tvalidation_0-logloss:0.33877\tvalidation_1-auc:0.88398\tvalidation_1-logloss:0.41260\n",
      "[1980]\tvalidation_0-auc:0.94083\tvalidation_0-logloss:0.33845\tvalidation_1-auc:0.88403\tvalidation_1-logloss:0.41252\n",
      "[1990]\tvalidation_0-auc:0.94101\tvalidation_0-logloss:0.33812\tvalidation_1-auc:0.88410\tvalidation_1-logloss:0.41238\n",
      "[2000]\tvalidation_0-auc:0.94115\tvalidation_0-logloss:0.33782\tvalidation_1-auc:0.88421\tvalidation_1-logloss:0.41220\n",
      "[2010]\tvalidation_0-auc:0.94135\tvalidation_0-logloss:0.33749\tvalidation_1-auc:0.88428\tvalidation_1-logloss:0.41211\n",
      "[2020]\tvalidation_0-auc:0.94158\tvalidation_0-logloss:0.33707\tvalidation_1-auc:0.88436\tvalidation_1-logloss:0.41197\n",
      "[2030]\tvalidation_0-auc:0.94175\tvalidation_0-logloss:0.33677\tvalidation_1-auc:0.88440\tvalidation_1-logloss:0.41190\n",
      "[2040]\tvalidation_0-auc:0.94189\tvalidation_0-logloss:0.33649\tvalidation_1-auc:0.88447\tvalidation_1-logloss:0.41177\n",
      "[2050]\tvalidation_0-auc:0.94201\tvalidation_0-logloss:0.33619\tvalidation_1-auc:0.88449\tvalidation_1-logloss:0.41168\n",
      "[2060]\tvalidation_0-auc:0.94218\tvalidation_0-logloss:0.33587\tvalidation_1-auc:0.88452\tvalidation_1-logloss:0.41162\n",
      "[2070]\tvalidation_0-auc:0.94232\tvalidation_0-logloss:0.33562\tvalidation_1-auc:0.88453\tvalidation_1-logloss:0.41159\n",
      "[2080]\tvalidation_0-auc:0.94247\tvalidation_0-logloss:0.33531\tvalidation_1-auc:0.88458\tvalidation_1-logloss:0.41147\n",
      "[2090]\tvalidation_0-auc:0.94260\tvalidation_0-logloss:0.33508\tvalidation_1-auc:0.88460\tvalidation_1-logloss:0.41141\n",
      "[2100]\tvalidation_0-auc:0.94276\tvalidation_0-logloss:0.33476\tvalidation_1-auc:0.88467\tvalidation_1-logloss:0.41128\n",
      "[2110]\tvalidation_0-auc:0.94305\tvalidation_0-logloss:0.33424\tvalidation_1-auc:0.88490\tvalidation_1-logloss:0.41094\n",
      "[2120]\tvalidation_0-auc:0.94323\tvalidation_0-logloss:0.33388\tvalidation_1-auc:0.88500\tvalidation_1-logloss:0.41079\n",
      "[2130]\tvalidation_0-auc:0.94343\tvalidation_0-logloss:0.33344\tvalidation_1-auc:0.88510\tvalidation_1-logloss:0.41058\n",
      "[2140]\tvalidation_0-auc:0.94363\tvalidation_0-logloss:0.33311\tvalidation_1-auc:0.88522\tvalidation_1-logloss:0.41041\n"
     ]
    },
    {
     "name": "stdout",
     "output_type": "stream",
     "text": [
      "[2150]\tvalidation_0-auc:0.94379\tvalidation_0-logloss:0.33280\tvalidation_1-auc:0.88526\tvalidation_1-logloss:0.41032\n",
      "[2160]\tvalidation_0-auc:0.94396\tvalidation_0-logloss:0.33248\tvalidation_1-auc:0.88533\tvalidation_1-logloss:0.41019\n",
      "[2170]\tvalidation_0-auc:0.94413\tvalidation_0-logloss:0.33216\tvalidation_1-auc:0.88540\tvalidation_1-logloss:0.41008\n",
      "[2180]\tvalidation_0-auc:0.94436\tvalidation_0-logloss:0.33175\tvalidation_1-auc:0.88553\tvalidation_1-logloss:0.40989\n",
      "[2190]\tvalidation_0-auc:0.94451\tvalidation_0-logloss:0.33145\tvalidation_1-auc:0.88559\tvalidation_1-logloss:0.40978\n",
      "[2200]\tvalidation_0-auc:0.94466\tvalidation_0-logloss:0.33119\tvalidation_1-auc:0.88566\tvalidation_1-logloss:0.40967\n",
      "[2210]\tvalidation_0-auc:0.94486\tvalidation_0-logloss:0.33085\tvalidation_1-auc:0.88570\tvalidation_1-logloss:0.40958\n",
      "[2220]\tvalidation_0-auc:0.94501\tvalidation_0-logloss:0.33054\tvalidation_1-auc:0.88575\tvalidation_1-logloss:0.40949\n",
      "[2230]\tvalidation_0-auc:0.94513\tvalidation_0-logloss:0.33030\tvalidation_1-auc:0.88576\tvalidation_1-logloss:0.40944\n",
      "[2240]\tvalidation_0-auc:0.94530\tvalidation_0-logloss:0.32998\tvalidation_1-auc:0.88582\tvalidation_1-logloss:0.40933\n",
      "[2250]\tvalidation_0-auc:0.94542\tvalidation_0-logloss:0.32977\tvalidation_1-auc:0.88582\tvalidation_1-logloss:0.40931\n",
      "[2260]\tvalidation_0-auc:0.94557\tvalidation_0-logloss:0.32947\tvalidation_1-auc:0.88591\tvalidation_1-logloss:0.40915\n",
      "[2270]\tvalidation_0-auc:0.94575\tvalidation_0-logloss:0.32911\tvalidation_1-auc:0.88594\tvalidation_1-logloss:0.40907\n",
      "[2280]\tvalidation_0-auc:0.94588\tvalidation_0-logloss:0.32887\tvalidation_1-auc:0.88605\tvalidation_1-logloss:0.40891\n",
      "[2290]\tvalidation_0-auc:0.94605\tvalidation_0-logloss:0.32853\tvalidation_1-auc:0.88613\tvalidation_1-logloss:0.40877\n",
      "[2300]\tvalidation_0-auc:0.94622\tvalidation_0-logloss:0.32820\tvalidation_1-auc:0.88617\tvalidation_1-logloss:0.40869\n",
      "[2310]\tvalidation_0-auc:0.94635\tvalidation_0-logloss:0.32794\tvalidation_1-auc:0.88618\tvalidation_1-logloss:0.40864\n",
      "[2320]\tvalidation_0-auc:0.94646\tvalidation_0-logloss:0.32773\tvalidation_1-auc:0.88621\tvalidation_1-logloss:0.40857\n",
      "[2330]\tvalidation_0-auc:0.94660\tvalidation_0-logloss:0.32746\tvalidation_1-auc:0.88623\tvalidation_1-logloss:0.40852\n",
      "[2340]\tvalidation_0-auc:0.94676\tvalidation_0-logloss:0.32712\tvalidation_1-auc:0.88628\tvalidation_1-logloss:0.40841\n",
      "[2350]\tvalidation_0-auc:0.94689\tvalidation_0-logloss:0.32684\tvalidation_1-auc:0.88631\tvalidation_1-logloss:0.40833\n",
      "[2360]\tvalidation_0-auc:0.94708\tvalidation_0-logloss:0.32649\tvalidation_1-auc:0.88639\tvalidation_1-logloss:0.40818\n",
      "[2370]\tvalidation_0-auc:0.94720\tvalidation_0-logloss:0.32623\tvalidation_1-auc:0.88641\tvalidation_1-logloss:0.40812\n",
      "[2380]\tvalidation_0-auc:0.94734\tvalidation_0-logloss:0.32595\tvalidation_1-auc:0.88645\tvalidation_1-logloss:0.40803\n",
      "[2390]\tvalidation_0-auc:0.94746\tvalidation_0-logloss:0.32567\tvalidation_1-auc:0.88653\tvalidation_1-logloss:0.40790\n",
      "[2400]\tvalidation_0-auc:0.94761\tvalidation_0-logloss:0.32539\tvalidation_1-auc:0.88659\tvalidation_1-logloss:0.40780\n",
      "[2410]\tvalidation_0-auc:0.94775\tvalidation_0-logloss:0.32516\tvalidation_1-auc:0.88661\tvalidation_1-logloss:0.40775\n",
      "[2420]\tvalidation_0-auc:0.94789\tvalidation_0-logloss:0.32487\tvalidation_1-auc:0.88663\tvalidation_1-logloss:0.40768\n",
      "[2430]\tvalidation_0-auc:0.94804\tvalidation_0-logloss:0.32459\tvalidation_1-auc:0.88665\tvalidation_1-logloss:0.40765\n",
      "[2440]\tvalidation_0-auc:0.94817\tvalidation_0-logloss:0.32430\tvalidation_1-auc:0.88673\tvalidation_1-logloss:0.40750\n",
      "[2450]\tvalidation_0-auc:0.94831\tvalidation_0-logloss:0.32403\tvalidation_1-auc:0.88677\tvalidation_1-logloss:0.40742\n",
      "[2460]\tvalidation_0-auc:0.94842\tvalidation_0-logloss:0.32381\tvalidation_1-auc:0.88680\tvalidation_1-logloss:0.40735\n",
      "[2470]\tvalidation_0-auc:0.94857\tvalidation_0-logloss:0.32350\tvalidation_1-auc:0.88682\tvalidation_1-logloss:0.40729\n",
      "[2480]\tvalidation_0-auc:0.94871\tvalidation_0-logloss:0.32325\tvalidation_1-auc:0.88684\tvalidation_1-logloss:0.40725\n",
      "[2490]\tvalidation_0-auc:0.94885\tvalidation_0-logloss:0.32299\tvalidation_1-auc:0.88692\tvalidation_1-logloss:0.40714\n",
      "[2500]\tvalidation_0-auc:0.94897\tvalidation_0-logloss:0.32274\tvalidation_1-auc:0.88691\tvalidation_1-logloss:0.40711\n",
      "[2510]\tvalidation_0-auc:0.94910\tvalidation_0-logloss:0.32247\tvalidation_1-auc:0.88693\tvalidation_1-logloss:0.40706\n",
      "[2520]\tvalidation_0-auc:0.94922\tvalidation_0-logloss:0.32222\tvalidation_1-auc:0.88694\tvalidation_1-logloss:0.40703\n",
      "[2530]\tvalidation_0-auc:0.94934\tvalidation_0-logloss:0.32199\tvalidation_1-auc:0.88694\tvalidation_1-logloss:0.40699\n",
      "[2540]\tvalidation_0-auc:0.94951\tvalidation_0-logloss:0.32167\tvalidation_1-auc:0.88702\tvalidation_1-logloss:0.40686\n",
      "[2550]\tvalidation_0-auc:0.94966\tvalidation_0-logloss:0.32135\tvalidation_1-auc:0.88708\tvalidation_1-logloss:0.40674\n",
      "[2560]\tvalidation_0-auc:0.94983\tvalidation_0-logloss:0.32098\tvalidation_1-auc:0.88716\tvalidation_1-logloss:0.40660\n",
      "[2570]\tvalidation_0-auc:0.94996\tvalidation_0-logloss:0.32071\tvalidation_1-auc:0.88720\tvalidation_1-logloss:0.40651\n",
      "[2580]\tvalidation_0-auc:0.95010\tvalidation_0-logloss:0.32042\tvalidation_1-auc:0.88726\tvalidation_1-logloss:0.40639\n",
      "[2590]\tvalidation_0-auc:0.95021\tvalidation_0-logloss:0.32020\tvalidation_1-auc:0.88726\tvalidation_1-logloss:0.40635\n",
      "[2600]\tvalidation_0-auc:0.95037\tvalidation_0-logloss:0.31973\tvalidation_1-auc:0.88745\tvalidation_1-logloss:0.40602\n",
      "[2610]\tvalidation_0-auc:0.95060\tvalidation_0-logloss:0.31923\tvalidation_1-auc:0.88756\tvalidation_1-logloss:0.40583\n",
      "[2620]\tvalidation_0-auc:0.95075\tvalidation_0-logloss:0.31897\tvalidation_1-auc:0.88760\tvalidation_1-logloss:0.40577\n",
      "[2630]\tvalidation_0-auc:0.95091\tvalidation_0-logloss:0.31858\tvalidation_1-auc:0.88773\tvalidation_1-logloss:0.40555\n",
      "[2640]\tvalidation_0-auc:0.95105\tvalidation_0-logloss:0.31828\tvalidation_1-auc:0.88778\tvalidation_1-logloss:0.40547\n",
      "[2650]\tvalidation_0-auc:0.95116\tvalidation_0-logloss:0.31808\tvalidation_1-auc:0.88776\tvalidation_1-logloss:0.40547\n",
      "Stopping. Best iteration:\n",
      "[2641]\tvalidation_0-auc:0.95106\tvalidation_0-logloss:0.31826\tvalidation_1-auc:0.88778\tvalidation_1-logloss:0.40547\n",
      "\n"
     ]
    },
    {
     "data": {
      "text/plain": [
       "XGBClassifier(base_score=0.5, booster=None, colsample_bylevel=1,\n",
       "              colsample_bynode=1, colsample_bytree=1, gamma=0, gpu_id=-1,\n",
       "              importance_type='gain', interaction_constraints=None,\n",
       "              learning_rate=0.300000012, max_delta_step=0, max_depth=6,\n",
       "              min_child_weight=1, missing=nan, monotone_constraints=None,\n",
       "              n_estimators=10000, n_jobs=0, num_parallel_tree=1,\n",
       "              objective='binary:logistic', random_state=0, reg_alpha=0,\n",
       "              reg_lambda=1, scale_pos_weight=1, subsample=1, tree_method=None,\n",
       "              validate_parameters=False, verbosity=None)"
      ]
     },
     "execution_count": 32,
     "metadata": {},
     "output_type": "execute_result"
    }
   ],
   "source": [
    "import xgboost as xgb\n",
    "\n",
    "N = 10000 # With early stopping\n",
    "xgb_model = xgb.XGBClassifier(n_estimators=N)\n",
    "xgb_model.fit(X_tr_q1q2, y_train, \n",
    "              verbose=10, \n",
    "              eval_set=[(X_tr_q1q2, y_train),(X_te_q1q2, y_test)], \n",
    "              early_stopping_rounds =10,\n",
    "              eval_metric=['auc','logloss'],\n",
    "              )"
   ]
  },
  {
   "cell_type": "markdown",
   "metadata": {
    "Collapsed": "false"
   },
   "source": [
    "## Training curves"
   ]
  },
  {
   "cell_type": "code",
   "execution_count": 33,
   "metadata": {
    "Collapsed": "false"
   },
   "outputs": [
    {
     "data": {
      "image/png": "[encoded data removed]",
      "text/plain": [
       "<Figure size 1440x432 with 2 Axes>"
      ]
     },
     "metadata": {
      "needs_background": "light"
     },
     "output_type": "display_data"
    }
   ],
   "source": [
    "from matplotlib import pyplot as plt\n",
    "%matplotlib inline\n",
    "\n",
    "results = xgb_model.evals_result()\n",
    "epochs = len(results['validation_0']['logloss'])\n",
    "x_axis = range(0, epochs)\n",
    "\n",
    "fig = plt.figure(figsize=(20,6))\n",
    "\n",
    "# plot log loss\n",
    "ax = fig.add_subplot(121)\n",
    "ax.plot(x_axis, results['validation_0']['logloss'], label='Train')\n",
    "ax.plot(x_axis, results['validation_1']['logloss'], label='Test')\n",
    "ax.legend()\n",
    "ax.set_ylabel('Log Loss')\n",
    "ax.set_title('XGBoost Log Loss')\n",
    "\n",
    "# plot classification AUC\n",
    "ax = fig.add_subplot(122)\n",
    "ax.plot(x_axis, results['validation_0']['auc'], label='Train')\n",
    "ax.plot(x_axis, results['validation_1']['auc'], label='Test')\n",
    "ax.legend()\n",
    "ax.set_ylabel('Classification AUC')\n",
    "ax.set_title('XGBoost Classification AUC')\n",
    "plt.show()"
   ]
  },
  {
   "cell_type": "markdown",
   "metadata": {
    "Collapsed": "false"
   },
   "source": [
    "### Save the model"
   ]
  },
  {
   "cell_type": "code",
   "execution_count": 34,
   "metadata": {
    "Collapsed": "false"
   },
   "outputs": [],
   "source": [
    "pickle.dump(xgb_model, open('models/model_xgb_count.pkl', 'wb'))"
   ]
  },
  {
   "cell_type": "markdown",
   "metadata": {
    "Collapsed": "false"
   },
   "source": [
    "# TFIDF"
   ]
  },
  {
   "cell_type": "markdown",
   "metadata": {
    "Collapsed": "false"
   },
   "source": [
    "In our case, TFIDF has a lower performance than SimpleCountVectorizer (with the default parameters it already had it). We have managed to raise the score a little bit although we only use the CountVectorizer implemented at the beginning to predict."
   ]
  },
  {
   "cell_type": "code",
   "execution_count": null,
   "metadata": {
    "Collapsed": "false"
   },
   "outputs": [],
   "source": [
    "tfidf_vectorizer = TFIDFVectorizer(count_vect.vocabulary, count_vect.word_to_ind, count_vect.tokenize)\n",
    "tfidf_vectorizer.fit(all_questions)"
   ]
  },
  {
   "cell_type": "code",
   "execution_count": null,
   "metadata": {
    "Collapsed": "false"
   },
   "outputs": [],
   "source": [
    "X_tfidf_tr_q1q2 = get_features_from_df(train_df, tfidf_vectorizer)\n",
    "X_tfidf_te_q1q2  = get_features_from_df(test_df, tfidf_vectorizer)\n",
    "\n",
    "X_tfidf_tr_q1q2.shape, train_df.shape, test_df.shape, X_tfidf_te_q1q2.shape"
   ]
  },
  {
   "cell_type": "code",
   "execution_count": null,
   "metadata": {
    "Collapsed": "false"
   },
   "outputs": [],
   "source": [
    "logistic = sklearn.linear_model.LogisticRegression(solver=\"liblinear\", verbose=1, max_iter=1000)\n",
    "logistic.fit(X_tfidf_tr_q1q2, y_train)\n",
    "\n",
    "logistic.score(X_tfidf_tr_q1q2, y_train), logistic.score(X_tfidf_te_q1q2, y_test)"
   ]
  },
  {
   "cell_type": "code",
   "execution_count": null,
   "metadata": {
    "Collapsed": "false",
    "scrolled": true
   },
   "outputs": [],
   "source": [
    "N = 10000 # With early stopping\n",
    "xgb_model = xgb.XGBClassifier(n_estimators=N)\n",
    "xgb_model.fit(X_tfidf_tr_q1q2, y_train, \n",
    "              verbose=10, \n",
    "              eval_set=[(X_tfidf_tr_q1q2, y_train),(X_tfidf_te_q1q2, y_test)], \n",
    "              early_stopping_rounds =10,\n",
    "              eval_metric=['auc','logloss'],\n",
    "              )"
   ]
  },
  {
   "cell_type": "code",
   "execution_count": null,
   "metadata": {
    "Collapsed": "false"
   },
   "outputs": [],
   "source": [
    "pickle.dump(xgb_model, open('models/model_xgb_tfidf.pkl', 'wb'))"
   ]
  }
 ],
 "metadata": {
  "kernelspec": {
   "display_name": "Python 3",
   "language": "python",
   "name": "python3"
  },
  "language_info": {
   "codemirror_mode": {
    "name": "ipython",
    "version": 3
   },
   "file_extension": ".py",
   "mimetype": "text/x-python",
   "name": "python",
   "nbconvert_exporter": "python",
   "pygments_lexer": "ipython3",
   "version": "3.6.10"
  },
  "toc": {
   "base_numbering": 1,
   "nav_menu": {},
   "number_sections": true,
   "sideBar": true,
   "skip_h1_title": false,
   "title_cell": "Table of Contents",
   "title_sidebar": "Contents",
   "toc_cell": false,
   "toc_position": {},
   "toc_section_display": true,
   "toc_window_display": false
  }
 },
 "nbformat": 4,
 "nbformat_minor": 4
}
