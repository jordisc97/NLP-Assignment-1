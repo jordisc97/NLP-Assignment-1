{
 "cells": [
  {
   "cell_type": "code",
   "execution_count": 1,
   "metadata": {},
   "outputs": [],
   "source": [
    "import pandas as pd\n",
    "import scipy\n",
    "from sklearn import *\n",
    "from matplotlib import pyplot as plt\n",
    "from SimpleCountVectorizer import *\n",
    "from TFIDFVectorizer import *\n",
    "from sklearn.metrics import log_loss\n",
    "import sklearn.pipeline\n"
   ]
  },
  {
   "cell_type": "markdown",
   "metadata": {},
   "source": [
    "# Count Vectorizer"
   ]
  },
  {
   "cell_type": "code",
   "execution_count": 2,
   "metadata": {},
   "outputs": [],
   "source": [
    "train_df = pd.read_csv(\"./data/quora_train_data.csv\")\n",
    "test_df = pd.read_csv('./data/quora_test_data.csv')\n",
    "\n",
    "train_df, test_df = sklearn.model_selection.train_test_split(train_df, test_size=0.1, random_state=123)"
   ]
  },
  {
   "cell_type": "code",
   "execution_count": 3,
   "metadata": {},
   "outputs": [
    {
     "data": {
      "text/plain": [
       "((291088, 6), (32344, 6))"
      ]
     },
     "execution_count": 3,
     "metadata": {},
     "output_type": "execute_result"
    }
   ],
   "source": [
    "train_df.shape, test_df.shape"
   ]
  },
  {
   "cell_type": "code",
   "execution_count": 4,
   "metadata": {},
   "outputs": [],
   "source": [
    "train_df['question1'] = train_df['question1'].str.lower()\n",
    "train_df['question2'] = train_df['question2'].str.lower()"
   ]
  },
  {
   "cell_type": "code",
   "execution_count": 5,
   "metadata": {},
   "outputs": [],
   "source": [
    "def cast_list_as_strings(mylist):\n",
    "    \"\"\"\n",
    "    return a list of strings\n",
    "    \"\"\"\n",
    "    assert isinstance(mylist, list), f\"the input mylist should be a list it is {type(mylist)}\"\n",
    "    \n",
    "    # return list(map(lambda x: str(x), all_questions)) # Slower\n",
    "    return [str(s) for s in mylist]"
   ]
  },
  {
   "cell_type": "code",
   "execution_count": 6,
   "metadata": {},
   "outputs": [
    {
     "name": "stdout",
     "output_type": "stream",
     "text": [
      "{'str'}\n"
     ]
    }
   ],
   "source": [
    "all_questions = cast_list_as_strings(list(train_df.loc[:, 'question1'])+list(train_df.loc[:, 'question2']))\n",
    "print(set(type(x).__name__ for x in all_questions))"
   ]
  },
  {
   "cell_type": "code",
   "execution_count": 7,
   "metadata": {},
   "outputs": [
    {
     "data": {
      "application/vnd.jupyter.widget-view+json": {
       "model_id": "54482158823c4925b1e6696105b98327",
       "version_major": 2,
       "version_minor": 0
      },
      "text/plain": [
       "HBox(children=(IntProgress(value=0, max=582176), HTML(value='')))"
      ]
     },
     "metadata": {},
     "output_type": "display_data"
    },
    {
     "name": "stdout",
     "output_type": "stream",
     "text": [
      "\n"
     ]
    },
    {
     "data": {
      "text/plain": [
       "SimpleCountVectorizer(doc_cleaner_func=None, doc_cleaner_pattern='[^a-zA-Z]',\n",
       "           dtype=<class 'numpy.float32'>, min_word_counts=1,\n",
       "           token_pattern='(?u)\\\\b\\\\w\\\\w+\\\\b', tokenizer_func=None,\n",
       "           word_transformer_func=None)"
      ]
     },
     "execution_count": 7,
     "metadata": {},
     "output_type": "execute_result"
    }
   ],
   "source": [
    "count_vect = SimpleCountVectorizer()\n",
    "count_vect.fit(all_questions)"
   ]
  },
  {
   "cell_type": "code",
   "execution_count": 8,
   "metadata": {},
   "outputs": [],
   "source": [
    "def get_features_from_df(df, count_vectorizer):\n",
    "    \"\"\"\n",
    "    returns a sparse matrix containing the features build by the count vectorizer.\n",
    "    Each row should contain features from question1 and question2.\n",
    "    \"\"\"\n",
    "    q1_casted =  cast_list_as_strings(list(df[\"question1\"]))\n",
    "    q2_casted =  cast_list_as_strings(list(df[\"question2\"]))\n",
    "        \n",
    "    q1 = count_vectorizer.transform(q1_casted)\n",
    "    q2 = count_vectorizer.transform(q2_casted)\n",
    "    \n",
    "    X_q1q2 = scipy.sparse.hstack((q1,q2))\n",
    "        \n",
    "    return X_q1q2"
   ]
  },
  {
   "cell_type": "code",
   "execution_count": 9,
   "metadata": {},
   "outputs": [
    {
     "data": {
      "text/plain": [
       "((291088, 137980), (291088, 6), (32344, 6), (32344, 137980))"
      ]
     },
     "execution_count": 9,
     "metadata": {},
     "output_type": "execute_result"
    }
   ],
   "source": [
    "X_tr_q1q2 = get_features_from_df(train_df,count_vect)\n",
    "X_te_q1q2  = get_features_from_df(test_df, count_vect)\n",
    "\n",
    "X_tr_q1q2.shape, train_df.shape, test_df.shape, X_te_q1q2.shape"
   ]
  },
  {
   "cell_type": "code",
   "execution_count": 10,
   "metadata": {},
   "outputs": [
    {
     "data": {
      "text/plain": [
       "291088"
      ]
     },
     "execution_count": 10,
     "metadata": {},
     "output_type": "execute_result"
    }
   ],
   "source": [
    "y_train = train_df[\"is_duplicate\"].values\n",
    "y_test = test_df[\"is_duplicate\"].values\n",
    "len(y_train)"
   ]
  },
  {
   "cell_type": "code",
   "execution_count": 11,
   "metadata": {},
   "outputs": [],
   "source": [
    "def get_mistakes(clf, df, X_q1q2, y):\n",
    "\n",
    "    predictions = clf.predict(X_q1q2) \n",
    "    predictions = np.where(predictions > 0.5, 1, 0)\n",
    "    incorrect_predictions = predictions!=y\n",
    "    incorrect_indices = np.where(incorrect_predictions)[0]\n",
    "    \n",
    "    if np.sum(incorrect_predictions)==0:\n",
    "        print(\"no mistakes in this df\")\n",
    "    else:\n",
    "        return incorrect_indices, predictions\n",
    "    \n",
    "def print_mistake_k(k, mistake_indices, predictions):\n",
    "    print(train_df.iloc[mistake_indices[k]].question1)\n",
    "    print(train_df.iloc[mistake_indices[k]].question2)\n",
    "    print(\"true class:\", train_df.iloc[mistake_indices[k]].is_duplicate)\n",
    "    print(\"prediction:\", predictions[mistake_indices[k]])\n",
    "    \n",
    "def print_mistake_k_and_tokens(k, mistake_indices, predictions,\n",
    "                               X_q1q2, count_vect, clf):\n",
    "    q1 = train_df.iloc[mistake_indices[k]].question1\n",
    "    q2 = train_df.iloc[mistake_indices[k]].question2\n",
    "    \n",
    "    print(q1)\n",
    "    print(sorted(count_vect.tokenize(q1)))\n",
    "    print(\"\")\n",
    "    print(q2)\n",
    "    print(sorted(count_vect.tokenize(q2)))\n",
    "    print(\"\")\n",
    "    print(\"true class:\", train_df.iloc[mistake_indices[k]].is_duplicate)\n",
    "    print(\"prediction:\", predictions[mistake_indices[k]])\n",
    "    print(\"\")\n",
    "    print(\"Probability vector: [P(0|x), P(1|x)]:\")\n",
    "    print(clf.predict(X_q1q2)[mistake_indices[k],:])\n"
   ]
  },
  {
   "cell_type": "markdown",
   "metadata": {},
   "source": [
    "# TFIDF"
   ]
  },
  {
   "cell_type": "code",
   "execution_count": 37,
   "metadata": {},
   "outputs": [
    {
     "name": "stdout",
     "output_type": "stream",
     "text": [
      "TFIDF fit finished in 9.82 seconds\n"
     ]
    }
   ],
   "source": [
    "tfidf_vectorizer = TFIDFVectorizer(count_vect.vocabulary, count_vect.word_to_ind, count_vect.tokenize)\n",
    "tfidf_vectorizer.fit(all_questions)"
   ]
  },
  {
   "cell_type": "code",
   "execution_count": 38,
   "metadata": {},
   "outputs": [
    {
     "name": "stdout",
     "output_type": "stream",
     "text": [
      "TFIDF transform finished in 6.57 seconds\n",
      "TFIDF transform finished in 6.78 seconds\n",
      "TFIDF transform finished in 0.74 seconds\n",
      "TFIDF transform finished in 0.79 seconds\n"
     ]
    },
    {
     "data": {
      "text/plain": [
       "((291088, 137980), (291088, 6), (32344, 6), (32344, 137980))"
      ]
     },
     "execution_count": 38,
     "metadata": {},
     "output_type": "execute_result"
    }
   ],
   "source": [
    "X_tfidf_tr_q1q2 = get_features_from_df(train_df, tfidf_vectorizer)\n",
    "X_tfidf_te_q1q2  = get_features_from_df(test_df, tfidf_vectorizer)\n",
    "\n",
    "X_tfidf_tr_q1q2.shape, train_df.shape, test_df.shape, X_tfidf_te_q1q2.shape"
   ]
  },
  {
   "cell_type": "markdown",
   "metadata": {},
   "source": [
    "### Xgboost"
   ]
  },
  {
   "cell_type": "code",
   "execution_count": 54,
   "metadata": {},
   "outputs": [
    {
     "name": "stdout",
     "output_type": "stream",
     "text": [
      "[0]\ttrain-auc:0.657194\ttrain-logloss:0.690061\tvalid-auc:0.655265\tvalid-logloss:0.689945\n",
      "Multiple eval metrics have been passed: 'valid-logloss' will be used for early stopping.\n",
      "\n",
      "Will train until valid-logloss hasn't improved in 50 rounds.\n",
      "[25]\ttrain-auc:0.711955\ttrain-logloss:0.636014\tvalid-auc:0.707644\tvalid-logloss:0.636853\n",
      "[50]\ttrain-auc:0.741775\ttrain-logloss:0.608835\tvalid-auc:0.734113\tvalid-logloss:0.611128\n",
      "[75]\ttrain-auc:0.760416\ttrain-logloss:0.591464\tvalid-auc:0.750003\tvalid-logloss:0.595166\n",
      "[100]\ttrain-auc:0.772393\ttrain-logloss:0.578186\tvalid-auc:0.760752\tvalid-logloss:0.583033\n",
      "[125]\ttrain-auc:0.781855\ttrain-logloss:0.568135\tvalid-auc:0.769198\tvalid-logloss:0.573895\n",
      "[150]\ttrain-auc:0.790791\ttrain-logloss:0.559518\tvalid-auc:0.777192\tvalid-logloss:0.56613\n",
      "[175]\ttrain-auc:0.797886\ttrain-logloss:0.552163\tvalid-auc:0.783239\tvalid-logloss:0.559622\n",
      "[200]\ttrain-auc:0.802936\ttrain-logloss:0.546385\tvalid-auc:0.787655\tvalid-logloss:0.554458\n",
      "[225]\ttrain-auc:0.807772\ttrain-logloss:0.540425\tvalid-auc:0.791887\tvalid-logloss:0.549182\n",
      "[250]\ttrain-auc:0.811874\ttrain-logloss:0.535745\tvalid-auc:0.795488\tvalid-logloss:0.545029\n",
      "[275]\ttrain-auc:0.815315\ttrain-logloss:0.53156\tvalid-auc:0.798462\tvalid-logloss:0.541373\n",
      "[299]\ttrain-auc:0.818362\ttrain-logloss:0.527855\tvalid-auc:0.801083\tvalid-logloss:0.53815\n"
     ]
    }
   ],
   "source": [
    "import xgboost as xgb\n",
    "from sklearn.model_selection import GridSearchCV\n",
    "from sklearn.metrics import accuracy_score\n",
    "\n",
    "# PARAM GRID\n",
    "param_grid = {}\n",
    "param_grid['objective'] = 'binary:logistic'\n",
    "param_grid['eval_metric'] = ['auc', 'logloss']   #error: (wrong cases)/#(all cases)\n",
    "param_grid['eta'] = 0.02\n",
    "param_grid['max_depth'] = 10\n",
    "param_grid['n_estimators'] = 300\n",
    "\n",
    "d_train = xgb.DMatrix(X_tr_q1q2, label=y_train)  # For sparse matrices\n",
    "d_valid = xgb.DMatrix(X_te_q1q2, label=y_test)\n",
    "\n",
    "watchlist = [(d_train, 'train'), (d_valid, 'valid')]\n",
    "\n",
    "bst = xgb.train(param_grid, d_train, 300, watchlist, early_stopping_rounds=50, verbose_eval=25, )\n",
    "#300 # train-auc:0.818362\ttrain-logloss:0.527855\tvalid-auc:0.801083\tvalid-logloss:0.53815"
   ]
  },
  {
   "cell_type": "code",
   "execution_count": 55,
   "metadata": {
    "scrolled": true
   },
   "outputs": [
    {
     "name": "stdout",
     "output_type": "stream",
     "text": [
      "[0.5083925  0.22813556 0.3240189  ... 0.41875947 0.4998089  0.19342262]\n",
      "how do i get home tutors?\n",
      "how can i trust a home tutor?\n",
      "true class: 0\n",
      "prediction: 1\n"
     ]
    }
   ],
   "source": [
    "mistake_indices, predictions = get_mistakes(bst, train_df, d_train, y_train)\n",
    "print_mistake_k(0, mistake_indices, predictions)"
   ]
  },
  {
   "cell_type": "code",
   "execution_count": 58,
   "metadata": {},
   "outputs": [
    {
     "name": "stdout",
     "output_type": "stream",
     "text": [
      "what are good ideas to help fall asleep quickly?\n",
      "['are', 'asleep', 'fall', 'good', 'help', 'ideas', 'quickly', 'to', 'what']\n",
      "\n",
      "what are some ways to fall asleep faster?\n",
      "['are', 'asleep', 'fall', 'faster', 'some', 'to', 'ways', 'what']\n",
      "\n",
      "true class: 1\n",
      "prediction: 0\n",
      "\n",
      "Probability vector: [P(0|x), P(1|x)]:\n"
     ]
    },
    {
     "ename": "IndexError",
     "evalue": "too many indices for array",
     "output_type": "error",
     "traceback": [
      "\u001b[1;31m---------------------------------------------------------------------------\u001b[0m",
      "\u001b[1;31mIndexError\u001b[0m                                Traceback (most recent call last)",
      "\u001b[1;32m<ipython-input-58-085d9bd2f570>\u001b[0m in \u001b[0;36m<module>\u001b[1;34m\u001b[0m\n\u001b[0;32m      1\u001b[0m print_mistake_k_and_tokens(3, mistake_indices, predictions,\n\u001b[1;32m----> 2\u001b[1;33m                            d_train, count_vect, bst)\n\u001b[0m",
      "\u001b[1;32m<ipython-input-50-902b12ab698f>\u001b[0m in \u001b[0;36mprint_mistake_k_and_tokens\u001b[1;34m(k, mistake_indices, predictions, X_q1q2, count_vect, clf)\u001b[0m\n\u001b[0;32m     33\u001b[0m     \u001b[0mprint\u001b[0m\u001b[1;33m(\u001b[0m\u001b[1;34m\"\"\u001b[0m\u001b[1;33m)\u001b[0m\u001b[1;33m\u001b[0m\u001b[1;33m\u001b[0m\u001b[0m\n\u001b[0;32m     34\u001b[0m     \u001b[0mprint\u001b[0m\u001b[1;33m(\u001b[0m\u001b[1;34m\"Probability vector: [P(0|x), P(1|x)]:\"\u001b[0m\u001b[1;33m)\u001b[0m\u001b[1;33m\u001b[0m\u001b[1;33m\u001b[0m\u001b[0m\n\u001b[1;32m---> 35\u001b[1;33m     \u001b[0mprint\u001b[0m\u001b[1;33m(\u001b[0m\u001b[0mclf\u001b[0m\u001b[1;33m.\u001b[0m\u001b[0mpredict\u001b[0m\u001b[1;33m(\u001b[0m\u001b[0mX_q1q2\u001b[0m\u001b[1;33m)\u001b[0m\u001b[1;33m[\u001b[0m\u001b[0mmistake_indices\u001b[0m\u001b[1;33m[\u001b[0m\u001b[0mk\u001b[0m\u001b[1;33m]\u001b[0m\u001b[1;33m,\u001b[0m\u001b[1;33m:\u001b[0m\u001b[1;33m]\u001b[0m\u001b[1;33m)\u001b[0m\u001b[1;33m\u001b[0m\u001b[1;33m\u001b[0m\u001b[0m\n\u001b[0m",
      "\u001b[1;31mIndexError\u001b[0m: too many indices for array"
     ]
    }
   ],
   "source": [
    "print_mistake_k_and_tokens(3, mistake_indices, predictions,\n",
    "                           d_train, count_vect, bst)"
   ]
  },
  {
   "cell_type": "markdown",
   "metadata": {},
   "source": [
    "## Pipeline"
   ]
  },
  {
   "cell_type": "markdown",
   "metadata": {},
   "source": [
    "+ Work in Progress"
   ]
  },
  {
   "cell_type": "code",
   "execution_count": 53,
   "metadata": {},
   "outputs": [],
   "source": [
    "model_pipeline = sklearn.pipeline.Pipeline([(\"countvectorizer\", count_vect),\n",
    "                                            (\"tfidf\", tfidf_vectorizer),\n",
    "                                            (\"xgboost\", bst)]\n",
    "                                            )"
   ]
  },
  {
   "cell_type": "code",
   "execution_count": null,
   "metadata": {},
   "outputs": [],
   "source": [
    "from sklearn.model_selection import GridSearchCV\n",
    "\n",
    "param_grid = {\n",
    "    \"xgbrg__n_estimators\": [10, 50, 100, 500],\n",
    "    \"xgbrg__learning_rate\": [0.1, 0.2],\n",
    "}\n",
    "\n",
    "fit_params = {\"xgbrg__eval_set\": [(d_valid)], \n",
    "              \"xgbrg__early_stopping_rounds\": 10, \n",
    "              \"xgbrg__verbose\": False} \n",
    "\n",
    "searchCV = GridSearchCV(model_pipeline, cv=5, param_grid=param_grid, fit_params=fit_params)\n",
    "searchCV.fit(train_X, train_y)"
   ]
  },
  {
   "cell_type": "code",
   "execution_count": null,
   "metadata": {},
   "outputs": [],
   "source": []
  },
  {
   "cell_type": "code",
   "execution_count": null,
   "metadata": {},
   "outputs": [],
   "source": []
  },
  {
   "cell_type": "code",
   "execution_count": null,
   "metadata": {},
   "outputs": [],
   "source": []
  },
  {
   "cell_type": "code",
   "execution_count": null,
   "metadata": {},
   "outputs": [],
   "source": []
  },
  {
   "cell_type": "code",
   "execution_count": null,
   "metadata": {},
   "outputs": [],
   "source": [
    "def hist_errors(mistake_indices, predictions,\n",
    "                               X_q1q2, count_vect, clf):\n",
    "    qs = train_df.iloc[mistake_indices][['question1', 'question2']]\n",
    "    qs['true_class']=train_df.iloc[mistake_indices].is_duplicate\n",
    "    qs['prediction']=predictions[mistake_indices]\n",
    "#     qs['P(1|x)']=clf.predict(X_q1q2)[mistake_indices,:][:,1]\n",
    "    qs = qs.reset_index(drop=True)\n",
    "    return qs\n"
   ]
  },
  {
   "cell_type": "code",
   "execution_count": null,
   "metadata": {},
   "outputs": [],
   "source": [
    "qs = hist_errors(mistake_indices, predictions,\n",
    "                           X_tr_q1q2, count_vect, bst)\n",
    "qs\n",
    "# qs.sort_values(by='P(1|x)', ascending=False)"
   ]
  },
  {
   "cell_type": "markdown",
   "metadata": {},
   "source": [
    "### GradientBoostingClassifier\n",
    "+ No funciona con matrices sparse. Warning, peta el ordenador."
   ]
  },
  {
   "cell_type": "code",
   "execution_count": null,
   "metadata": {},
   "outputs": [],
   "source": [
    "# from sklearn.ensemble import GradientBoostingClassifier\n",
    "\n",
    "# parameters = {\n",
    "#     \"loss\":[\"deviance\"],\n",
    "#     'n_estimators':[32, 100],\n",
    "#     \"learning_rate\": [0.010, 0.05, 0.1],\n",
    "# #     \"max_depth\":[8,10,12, 15, 18, 20, 25],\n",
    "# #     \"max_features\":[8, 12, 14, 15, 18, 20, 25, 30, 35],\n",
    "# #     \"criterion\": [\"friedman_mse\",  \"mae\"],\n",
    "# #     \"subsample\":[0.5, 0.618, 0.8, 0.85, 0.9, 0.95, 1.0],\n",
    "#     }\n",
    "\n",
    "# clf_gradboost2 = GridSearchCV(GradientBoostingClassifier(), parameters, cv=5, n_jobs=-1, verbose=1, scoring='accuracy')\n",
    "# clf_gradboost2.fit(X_tr_q1q2, y_train)\n",
    "\n",
    "# print(\"Best parameters found: \",clf_gradboost2.best_params_)\n",
    "# print(\"Accuracy score (training): {0:.3f}\".format(clf_gradboost2.score(X_tr_q1q2, y_train)))\n",
    "# print(\"Accuracy score (validation): {0:.3f}\".format(clf_gradboost2.score(X_te_q1q2,y_test)))"
   ]
  },
  {
   "cell_type": "markdown",
   "metadata": {},
   "source": [
    "### Logistic"
   ]
  },
  {
   "cell_type": "code",
   "execution_count": null,
   "metadata": {},
   "outputs": [],
   "source": [
    "logistic = sklearn.linear_model.LogisticRegression(solver=\"liblinear\")\n",
    "logistic.fit(X_tr_q1q2, y_train)"
   ]
  },
  {
   "cell_type": "code",
   "execution_count": null,
   "metadata": {},
   "outputs": [],
   "source": [
    "pred_X_te_q1q2 = logistic.predict(X_te_q1q2)\n",
    "logloss = log_loss(pred_X_te_q1q2, y_test)\n",
    "print('Valid-logloss:', logloss)\n",
    "# Valid-logloss: 8.501325433826551"
   ]
  },
  {
   "cell_type": "code",
   "execution_count": null,
   "metadata": {},
   "outputs": [],
   "source": [
    "mistake_indices, predictions = get_mistakes(logistic,train_df, X_tr_q1q2, y_train)"
   ]
  },
  {
   "cell_type": "code",
   "execution_count": null,
   "metadata": {},
   "outputs": [],
   "source": [
    "print_mistake_k(1, mistake_indices, predictions)"
   ]
  },
  {
   "cell_type": "code",
   "execution_count": null,
   "metadata": {},
   "outputs": [],
   "source": [
    "print_mistake_k_and_tokens(10, mistake_indices, predictions,\n",
    "                           X_tr_q1q2, count_vect, logistic)"
   ]
  }
 ],
 "metadata": {
  "kernelspec": {
   "display_name": "Python 3",
   "language": "python",
   "name": "python3"
  },
  "language_info": {
   "codemirror_mode": {
    "name": "ipython",
    "version": 3
   },
   "file_extension": ".py",
   "mimetype": "text/x-python",
   "name": "python",
   "nbconvert_exporter": "python",
   "pygments_lexer": "ipython3",
   "version": "3.7.4"
  },
  "toc": {
   "base_numbering": 1,
   "nav_menu": {},
   "number_sections": true,
   "sideBar": true,
   "skip_h1_title": false,
   "title_cell": "Table of Contents",
   "title_sidebar": "Contents",
   "toc_cell": false,
   "toc_position": {},
   "toc_section_display": true,
   "toc_window_display": false
  }
 },
 "nbformat": 4,
 "nbformat_minor": 2
}
